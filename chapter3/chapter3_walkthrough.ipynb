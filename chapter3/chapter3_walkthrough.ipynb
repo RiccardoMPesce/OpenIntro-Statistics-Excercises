{
 "cells": [
  {
   "cell_type": "markdown",
   "source": [
    "# Chapter 3: Probability"
   ],
   "metadata": {}
  },
  {
   "cell_type": "markdown",
   "source": [
    "### Guided Practice 3.6\n",
    "\n",
    "Another random process can be random selecting a winner from a set of partecipants of a TV show. If we suppose the process if purely random, the probability of selecting a generic individual numbered $k$ is $P(k) = \\frac{1}{n}$ where $n$ is the number of partecipants."
   ],
   "metadata": {}
  },
  {
   "cell_type": "markdown",
   "source": [
    "### Guided Practice 3.7\n",
    "\n",
    "* (a) They are disjoint cause when we roll a dice we only get one face and not multiple faces at the same time.\n",
    "* (b) The addition rule tells us that $P(1) + P(4) + P(5) = \\frac{1}{3}$."
   ],
   "metadata": {}
  },
  {
   "cell_type": "markdown",
   "source": [
    "### Guided Practice 3.8\n",
    "\n",
    "To answer these questions it is best if we use a script."
   ],
   "metadata": {}
  },
  {
   "cell_type": "code",
   "execution_count": 2,
   "source": [
    "import pandas as pd\n",
    "from pathlib import Path\n",
    "\n",
    "loans_path = Path(\"../datasets/loans_full_schema.csv\")\n",
    "loans_df = pd.read_csv(loans_path)"
   ],
   "outputs": [],
   "metadata": {}
  },
  {
   "cell_type": "markdown",
   "source": [
    "Let's now see the variable `homeownership`."
   ],
   "metadata": {}
  },
  {
   "cell_type": "code",
   "execution_count": 3,
   "source": [
    "loans_df[\"homeownership\"].unique()"
   ],
   "outputs": [
    {
     "output_type": "execute_result",
     "data": {
      "text/plain": [
       "array(['MORTGAGE', 'RENT', 'OWN'], dtype=object)"
      ]
     },
     "metadata": {},
     "execution_count": 3
    }
   ],
   "metadata": {}
  },
  {
   "cell_type": "markdown",
   "source": [
    "* (a) Of course we can say they are disjoint (they can't happen at the same time).\n",
    "\n",
    "Now let's define the proportions."
   ],
   "metadata": {}
  },
  {
   "cell_type": "code",
   "execution_count": 4,
   "source": [
    "print(loans_df[loans_df[\"homeownership\"] == \"MORTGAGE\"].shape[0] / loans_df.shape[0])\n",
    "print(loans_df[loans_df[\"homeownership\"] == \"OWN\"].shape[0] / loans_df.shape[0])\n",
    "print(loans_df[loans_df[\"homeownership\"] == \"MORTGAGE\"].shape[0] / loans_df.shape[0] + loans_df[loans_df[\"homeownership\"] == \"OWN\"].shape[0] / loans_df.shape[0])"
   ],
   "outputs": [
    {
     "output_type": "stream",
     "name": "stdout",
     "text": [
      "0.4789\n",
      "0.1353\n",
      "0.6142\n"
     ]
    }
   ],
   "metadata": {}
  },
  {
   "cell_type": "markdown",
   "source": [
    "* (b) We have `MORTGAGE` proportion equal to 0.4789 and `OWN` proportion equal to 0.1353.\n",
    "* (c) For the addition rule we have the probability of random selecting one of the `homeownership` above as 0.6142.\n",
    "\n",
    "Let's test point (c) by sampling 1000 random loans and see the proportion of those who are either one or the other."
   ],
   "metadata": {}
  },
  {
   "cell_type": "markdown",
   "source": [],
   "metadata": {}
  },
  {
   "cell_type": "code",
   "execution_count": 5,
   "source": [
    "rand_sample = loans_df.sample(n=1000)\n",
    "print(rand_sample[rand_sample[\"homeownership\"].isin([\"MORTGAGE\", \"OWN\"])].shape[0] / rand_sample.shape[0])"
   ],
   "outputs": [
    {
     "output_type": "stream",
     "name": "stdout",
     "text": [
      "0.62\n"
     ]
    }
   ],
   "metadata": {}
  },
  {
   "cell_type": "markdown",
   "source": [
    "The result is pretty coherent with the computed probability."
   ],
   "metadata": {}
  },
  {
   "cell_type": "markdown",
   "source": [
    "### Guided Practice 3.9 \n",
    "\n",
    "* (a) Since $P(A) = P(1\\ or\\ 2)$ we have $P(A) = P(1) + P(2) = \\frac{1}{6} + \\frac{1}{6} = \\frac{1}{3}$.\n",
    "* (b) For the same reason as above, $P(B) = P(4) + P(6) = \\frac{1}{3}$."
   ],
   "metadata": {}
  },
  {
   "cell_type": "markdown",
   "source": [
    "### Guided Practice 3.10\n",
    "\n",
    "* (a) Event D represent the outcome of getting either 2 or 3. \n",
    "* (b) Yes.\n",
    "* (c) No."
   ],
   "metadata": {}
  },
  {
   "cell_type": "markdown",
   "source": [
    "### Guided Practice 3.11\n",
    "\n",
    "We can compute the probability of A or B occurring as:\n",
    "$$\n",
    "P(A\\ or\\ B) = P(A) + P(B) = P(1) + P(2) + P(4) + P(6) = \\frac{4}{6} = 0.67\n",
    "$$"
   ],
   "metadata": {}
  },
  {
   "cell_type": "markdown",
   "source": [
    "### Guided Practice 3.12\n",
    "\n",
    "* (a) $\\frac{13}{52} = \\frac{1}{4} = 0.25$\n",
    "* (b) $\\frac{12}{52} = 0.231$"
   ],
   "metadata": {}
  },
  {
   "cell_type": "markdown",
   "source": [
    "### Guided Practice 3.13\n",
    "\n",
    "* (a) There would not be overlapping between the two Venn Diagrams representing A and B. \n",
    "* (b) If $P(A\\ and\\ B) = 0$ then $P(A\\ or\\ B) = P(A) + P(B)$."
   ],
   "metadata": {}
  },
  {
   "cell_type": "markdown",
   "source": [
    "### Guided Practice 3.14"
   ],
   "metadata": {}
  },
  {
   "cell_type": "code",
   "execution_count": 6,
   "source": [
    "from matplotlib_venn import venn2\n",
    "\n",
    "joint = loans_df[loans_df[\"application_type\"] == \"joint\"]\n",
    "mortgage = loans_df[loans_df[\"homeownership\"] == \"MORTGAGE\"]\n",
    "\n",
    "j_set = set(joint.index.values.tolist())\n",
    "m_set = set(mortgage.index.values.tolist())\n",
    "\n",
    "ax = venn2([j_set, m_set], [\"joint\", \"MORTGAGE\"])"
   ],
   "outputs": [
    {
     "output_type": "display_data",
     "data": {
      "text/plain": [
       "<Figure size 432x288 with 1 Axes>"
      ],
      "image/svg+xml": "<?xml version=\"1.0\" encoding=\"utf-8\" standalone=\"no\"?>\n<!DOCTYPE svg PUBLIC \"-//W3C//DTD SVG 1.1//EN\"\n  \"http://www.w3.org/Graphics/SVG/1.1/DTD/svg11.dtd\">\n<svg height=\"233.459434pt\" version=\"1.1\" viewBox=\"0 0 267.106719 233.459434\" width=\"267.106719pt\" xmlns=\"http://www.w3.org/2000/svg\" xmlns:xlink=\"http://www.w3.org/1999/xlink\">\n <metadata>\n  <rdf:RDF xmlns:cc=\"http://creativecommons.org/ns#\" xmlns:dc=\"http://purl.org/dc/elements/1.1/\" xmlns:rdf=\"http://www.w3.org/1999/02/22-rdf-syntax-ns#\">\n   <cc:Work>\n    <dc:type rdf:resource=\"http://purl.org/dc/dcmitype/StillImage\"/>\n    <dc:date>2021-08-09T08:15:21.704858</dc:date>\n    <dc:format>image/svg+xml</dc:format>\n    <dc:creator>\n     <cc:Agent>\n      <dc:title>Matplotlib v3.4.2, https://matplotlib.org/</dc:title>\n     </cc:Agent>\n    </dc:creator>\n   </cc:Work>\n  </rdf:RDF>\n </metadata>\n <defs>\n  <style type=\"text/css\">*{stroke-linecap:butt;stroke-linejoin:round;}</style>\n </defs>\n <g id=\"figure_1\">\n  <g id=\"patch_1\">\n   <path d=\"M 0 233.459434 \nL 267.106719 233.459434 \nL 267.106719 0 \nL 0 0 \nz\n\" style=\"fill:none;\"/>\n  </g>\n  <g id=\"axes_1\">\n   <g id=\"patch_2\">\n    <path clip-path=\"url(#p90e2c3d2ad)\" d=\"M 75.227702 167.091588 \nC 65.042103 151.972102 59.599036 134.150339 59.599036 115.92 \nC 59.599036 97.689661 65.042103 79.867898 75.227702 64.748412 \nC 61.709245 64.821577 48.755791 70.248779 39.222562 79.833744 \nC 29.689333 89.418709 24.332317 102.401346 24.332317 115.92 \nC 24.332317 129.438654 29.689333 142.421291 39.222562 152.006256 \nC 48.755791 161.591221 61.709245 167.018423 75.227702 167.091588 \n\" style=\"fill:#ff0000;opacity:0.4;\"/>\n   </g>\n   <g id=\"patch_3\">\n    <path clip-path=\"url(#p90e2c3d2ad)\" d=\"M 75.227702 64.748412 \nC 81.970794 64.711917 88.655075 66.008627 94.895395 68.563826 \nC 101.135714 71.119024 106.809868 74.882673 111.59091 79.637908 \nC 116.371952 84.393144 120.166254 90.046845 122.755189 96.273244 \nC 125.344123 102.499643 126.676991 109.176809 126.676991 115.92 \nC 126.676991 122.663191 125.344123 129.340357 122.755189 135.566756 \nC 120.166254 141.793155 116.371952 147.446856 111.59091 152.202092 \nC 106.809868 156.957327 101.135714 160.720976 94.895395 163.276174 \nC 88.655075 165.831373 81.970794 167.128083 75.227702 167.091588 \nC 80.673494 175.175312 87.374968 182.338125 95.07879 188.309253 \nC 102.782612 194.280381 111.390468 198.983622 120.576956 202.24118 \nC 129.763444 205.498738 139.411329 207.26904 149.155893 207.485165 \nC 158.900458 207.70129 168.617344 206.360479 177.939226 203.513419 \nC 187.261109 200.666359 196.069024 196.349383 204.030008 190.725685 \nC 211.990992 185.101987 219.003449 178.243335 224.802288 170.409006 \nC 230.601127 162.574677 235.112344 153.86465 238.165404 144.608189 \nC 241.218463 135.351728 242.774402 125.666961 242.774402 115.92 \nC 242.774402 106.173039 241.218463 96.488272 238.165404 87.231811 \nC 235.112344 77.97535 230.601127 69.265323 224.802288 61.430994 \nC 219.003449 53.596665 211.990992 46.738013 204.030008 41.114315 \nC 196.069024 35.490617 187.261109 31.173641 177.939226 28.326581 \nC 168.617344 25.479521 158.900458 24.13871 149.155893 24.354835 \nC 139.411329 24.57096 129.763444 26.341262 120.576956 29.59882 \nC 111.390468 32.856378 102.782612 37.559619 95.07879 43.530747 \nC 87.374968 49.501875 80.673494 56.664688 75.227702 64.748412 \n\" style=\"fill:#008000;opacity:0.4;\"/>\n   </g>\n   <g id=\"patch_4\">\n    <path clip-path=\"url(#p90e2c3d2ad)\" d=\"M 75.227702 167.091588 \nC 81.970794 167.128083 88.655075 165.831373 94.895395 163.276174 \nC 101.135714 160.720976 106.809868 156.957327 111.59091 152.202092 \nC 116.371952 147.446856 120.166254 141.793155 122.755189 135.566756 \nC 125.344123 129.340357 126.676991 122.663191 126.676991 115.92 \nC 126.676991 109.176809 125.344123 102.499643 122.755189 96.273244 \nC 120.166254 90.046845 116.371952 84.393144 111.59091 79.637908 \nC 106.809868 74.882673 101.135714 71.119024 94.895395 68.563826 \nC 88.655075 66.008627 81.970794 64.711917 75.227702 64.748412 \nC 65.042103 79.867898 59.599036 97.689661 59.599036 115.92 \nC 59.599036 134.150339 65.042103 151.972102 75.227702 167.091588 \n\" style=\"fill:#b25900;opacity:0.4;\"/>\n   </g>\n   <g id=\"text_1\">\n    <!-- 545 -->\n    <g transform=\"translate(32.421926 118.679375)scale(0.1 -0.1)\">\n     <defs>\n      <path d=\"M 691 4666 \nL 3169 4666 \nL 3169 4134 \nL 1269 4134 \nL 1269 2991 \nQ 1406 3038 1543 3061 \nQ 1681 3084 1819 3084 \nQ 2600 3084 3056 2656 \nQ 3513 2228 3513 1497 \nQ 3513 744 3044 326 \nQ 2575 -91 1722 -91 \nQ 1428 -91 1123 -41 \nQ 819 9 494 109 \nL 494 744 \nQ 775 591 1075 516 \nQ 1375 441 1709 441 \nQ 2250 441 2565 725 \nQ 2881 1009 2881 1497 \nQ 2881 1984 2565 2268 \nQ 2250 2553 1709 2553 \nQ 1456 2553 1204 2497 \nQ 953 2441 691 2322 \nL 691 4666 \nz\n\" id=\"DejaVuSans-35\" transform=\"scale(0.015625)\"/>\n      <path d=\"M 2419 4116 \nL 825 1625 \nL 2419 1625 \nL 2419 4116 \nz\nM 2253 4666 \nL 3047 4666 \nL 3047 1625 \nL 3713 1625 \nL 3713 1100 \nL 3047 1100 \nL 3047 0 \nL 2419 0 \nL 2419 1100 \nL 313 1100 \nL 313 1709 \nL 2253 4666 \nz\n\" id=\"DejaVuSans-34\" transform=\"scale(0.015625)\"/>\n     </defs>\n     <use xlink:href=\"#DejaVuSans-35\"/>\n     <use x=\"63.623047\" xlink:href=\"#DejaVuSans-34\"/>\n     <use x=\"127.246094\" xlink:href=\"#DejaVuSans-35\"/>\n    </g>\n   </g>\n   <g id=\"text_2\">\n    <!-- 3839 -->\n    <g transform=\"translate(172.000697 118.679375)scale(0.1 -0.1)\">\n     <defs>\n      <path d=\"M 2597 2516 \nQ 3050 2419 3304 2112 \nQ 3559 1806 3559 1356 \nQ 3559 666 3084 287 \nQ 2609 -91 1734 -91 \nQ 1441 -91 1130 -33 \nQ 819 25 488 141 \nL 488 750 \nQ 750 597 1062 519 \nQ 1375 441 1716 441 \nQ 2309 441 2620 675 \nQ 2931 909 2931 1356 \nQ 2931 1769 2642 2001 \nQ 2353 2234 1838 2234 \nL 1294 2234 \nL 1294 2753 \nL 1863 2753 \nQ 2328 2753 2575 2939 \nQ 2822 3125 2822 3475 \nQ 2822 3834 2567 4026 \nQ 2313 4219 1838 4219 \nQ 1578 4219 1281 4162 \nQ 984 4106 628 3988 \nL 628 4550 \nQ 988 4650 1302 4700 \nQ 1616 4750 1894 4750 \nQ 2613 4750 3031 4423 \nQ 3450 4097 3450 3541 \nQ 3450 3153 3228 2886 \nQ 3006 2619 2597 2516 \nz\n\" id=\"DejaVuSans-33\" transform=\"scale(0.015625)\"/>\n      <path d=\"M 2034 2216 \nQ 1584 2216 1326 1975 \nQ 1069 1734 1069 1313 \nQ 1069 891 1326 650 \nQ 1584 409 2034 409 \nQ 2484 409 2743 651 \nQ 3003 894 3003 1313 \nQ 3003 1734 2745 1975 \nQ 2488 2216 2034 2216 \nz\nM 1403 2484 \nQ 997 2584 770 2862 \nQ 544 3141 544 3541 \nQ 544 4100 942 4425 \nQ 1341 4750 2034 4750 \nQ 2731 4750 3128 4425 \nQ 3525 4100 3525 3541 \nQ 3525 3141 3298 2862 \nQ 3072 2584 2669 2484 \nQ 3125 2378 3379 2068 \nQ 3634 1759 3634 1313 \nQ 3634 634 3220 271 \nQ 2806 -91 2034 -91 \nQ 1263 -91 848 271 \nQ 434 634 434 1313 \nQ 434 1759 690 2068 \nQ 947 2378 1403 2484 \nz\nM 1172 3481 \nQ 1172 3119 1398 2916 \nQ 1625 2713 2034 2713 \nQ 2441 2713 2670 2916 \nQ 2900 3119 2900 3481 \nQ 2900 3844 2670 4047 \nQ 2441 4250 2034 4250 \nQ 1625 4250 1398 4047 \nQ 1172 3844 1172 3481 \nz\n\" id=\"DejaVuSans-38\" transform=\"scale(0.015625)\"/>\n      <path d=\"M 703 97 \nL 703 672 \nQ 941 559 1184 500 \nQ 1428 441 1663 441 \nQ 2288 441 2617 861 \nQ 2947 1281 2994 2138 \nQ 2813 1869 2534 1725 \nQ 2256 1581 1919 1581 \nQ 1219 1581 811 2004 \nQ 403 2428 403 3163 \nQ 403 3881 828 4315 \nQ 1253 4750 1959 4750 \nQ 2769 4750 3195 4129 \nQ 3622 3509 3622 2328 \nQ 3622 1225 3098 567 \nQ 2575 -91 1691 -91 \nQ 1453 -91 1209 -44 \nQ 966 3 703 97 \nz\nM 1959 2075 \nQ 2384 2075 2632 2365 \nQ 2881 2656 2881 3163 \nQ 2881 3666 2632 3958 \nQ 2384 4250 1959 4250 \nQ 1534 4250 1286 3958 \nQ 1038 3666 1038 3163 \nQ 1038 2656 1286 2365 \nQ 1534 2075 1959 2075 \nz\n\" id=\"DejaVuSans-39\" transform=\"scale(0.015625)\"/>\n     </defs>\n     <use xlink:href=\"#DejaVuSans-33\"/>\n     <use x=\"63.623047\" xlink:href=\"#DejaVuSans-38\"/>\n     <use x=\"127.246094\" xlink:href=\"#DejaVuSans-33\"/>\n     <use x=\"190.869141\" xlink:href=\"#DejaVuSans-39\"/>\n    </g>\n   </g>\n   <g id=\"text_3\">\n    <!-- 950 -->\n    <g transform=\"translate(83.594263 118.679375)scale(0.1 -0.1)\">\n     <defs>\n      <path d=\"M 2034 4250 \nQ 1547 4250 1301 3770 \nQ 1056 3291 1056 2328 \nQ 1056 1369 1301 889 \nQ 1547 409 2034 409 \nQ 2525 409 2770 889 \nQ 3016 1369 3016 2328 \nQ 3016 3291 2770 3770 \nQ 2525 4250 2034 4250 \nz\nM 2034 4750 \nQ 2819 4750 3233 4129 \nQ 3647 3509 3647 2328 \nQ 3647 1150 3233 529 \nQ 2819 -91 2034 -91 \nQ 1250 -91 836 529 \nQ 422 1150 422 2328 \nQ 422 3509 836 4129 \nQ 1250 4750 2034 4750 \nz\n\" id=\"DejaVuSans-30\" transform=\"scale(0.015625)\"/>\n     </defs>\n     <use xlink:href=\"#DejaVuSans-39\"/>\n     <use x=\"63.623047\" xlink:href=\"#DejaVuSans-35\"/>\n     <use x=\"127.246094\" xlink:href=\"#DejaVuSans-30\"/>\n    </g>\n   </g>\n   <g id=\"text_4\">\n    <!-- joint -->\n    <g transform=\"translate(49.185279 183.348463)scale(0.12 -0.12)\">\n     <defs>\n      <path d=\"M 603 3500 \nL 1178 3500 \nL 1178 -63 \nQ 1178 -731 923 -1031 \nQ 669 -1331 103 -1331 \nL -116 -1331 \nL -116 -844 \nL 38 -844 \nQ 366 -844 484 -692 \nQ 603 -541 603 -63 \nL 603 3500 \nz\nM 603 4863 \nL 1178 4863 \nL 1178 4134 \nL 603 4134 \nL 603 4863 \nz\n\" id=\"DejaVuSans-6a\" transform=\"scale(0.015625)\"/>\n      <path d=\"M 1959 3097 \nQ 1497 3097 1228 2736 \nQ 959 2375 959 1747 \nQ 959 1119 1226 758 \nQ 1494 397 1959 397 \nQ 2419 397 2687 759 \nQ 2956 1122 2956 1747 \nQ 2956 2369 2687 2733 \nQ 2419 3097 1959 3097 \nz\nM 1959 3584 \nQ 2709 3584 3137 3096 \nQ 3566 2609 3566 1747 \nQ 3566 888 3137 398 \nQ 2709 -91 1959 -91 \nQ 1206 -91 779 398 \nQ 353 888 353 1747 \nQ 353 2609 779 3096 \nQ 1206 3584 1959 3584 \nz\n\" id=\"DejaVuSans-6f\" transform=\"scale(0.015625)\"/>\n      <path d=\"M 603 3500 \nL 1178 3500 \nL 1178 0 \nL 603 0 \nL 603 3500 \nz\nM 603 4863 \nL 1178 4863 \nL 1178 4134 \nL 603 4134 \nL 603 4863 \nz\n\" id=\"DejaVuSans-69\" transform=\"scale(0.015625)\"/>\n      <path d=\"M 3513 2113 \nL 3513 0 \nL 2938 0 \nL 2938 2094 \nQ 2938 2591 2744 2837 \nQ 2550 3084 2163 3084 \nQ 1697 3084 1428 2787 \nQ 1159 2491 1159 1978 \nL 1159 0 \nL 581 0 \nL 581 3500 \nL 1159 3500 \nL 1159 2956 \nQ 1366 3272 1645 3428 \nQ 1925 3584 2291 3584 \nQ 2894 3584 3203 3211 \nQ 3513 2838 3513 2113 \nz\n\" id=\"DejaVuSans-6e\" transform=\"scale(0.015625)\"/>\n      <path d=\"M 1172 4494 \nL 1172 3500 \nL 2356 3500 \nL 2356 3053 \nL 1172 3053 \nL 1172 1153 \nQ 1172 725 1289 603 \nQ 1406 481 1766 481 \nL 2356 481 \nL 2356 0 \nL 1766 0 \nQ 1100 0 847 248 \nQ 594 497 594 1153 \nL 594 3053 \nL 172 3053 \nL 172 3500 \nL 594 3500 \nL 594 4494 \nL 1172 4494 \nz\n\" id=\"DejaVuSans-74\" transform=\"scale(0.015625)\"/>\n     </defs>\n     <use xlink:href=\"#DejaVuSans-6a\"/>\n     <use x=\"27.783203\" xlink:href=\"#DejaVuSans-6f\"/>\n     <use x=\"88.964844\" xlink:href=\"#DejaVuSans-69\"/>\n     <use x=\"116.748047\" xlink:href=\"#DejaVuSans-6e\"/>\n     <use x=\"180.126953\" xlink:href=\"#DejaVuSans-74\"/>\n    </g>\n   </g>\n   <g id=\"text_5\">\n    <!-- MORTGAGE -->\n    <g transform=\"translate(151.186719 223.763809)scale(0.12 -0.12)\">\n     <defs>\n      <path d=\"M 628 4666 \nL 1569 4666 \nL 2759 1491 \nL 3956 4666 \nL 4897 4666 \nL 4897 0 \nL 4281 0 \nL 4281 4097 \nL 3078 897 \nL 2444 897 \nL 1241 4097 \nL 1241 0 \nL 628 0 \nL 628 4666 \nz\n\" id=\"DejaVuSans-4d\" transform=\"scale(0.015625)\"/>\n      <path d=\"M 2522 4238 \nQ 1834 4238 1429 3725 \nQ 1025 3213 1025 2328 \nQ 1025 1447 1429 934 \nQ 1834 422 2522 422 \nQ 3209 422 3611 934 \nQ 4013 1447 4013 2328 \nQ 4013 3213 3611 3725 \nQ 3209 4238 2522 4238 \nz\nM 2522 4750 \nQ 3503 4750 4090 4092 \nQ 4678 3434 4678 2328 \nQ 4678 1225 4090 567 \nQ 3503 -91 2522 -91 \nQ 1538 -91 948 565 \nQ 359 1222 359 2328 \nQ 359 3434 948 4092 \nQ 1538 4750 2522 4750 \nz\n\" id=\"DejaVuSans-4f\" transform=\"scale(0.015625)\"/>\n      <path d=\"M 2841 2188 \nQ 3044 2119 3236 1894 \nQ 3428 1669 3622 1275 \nL 4263 0 \nL 3584 0 \nL 2988 1197 \nQ 2756 1666 2539 1819 \nQ 2322 1972 1947 1972 \nL 1259 1972 \nL 1259 0 \nL 628 0 \nL 628 4666 \nL 2053 4666 \nQ 2853 4666 3247 4331 \nQ 3641 3997 3641 3322 \nQ 3641 2881 3436 2590 \nQ 3231 2300 2841 2188 \nz\nM 1259 4147 \nL 1259 2491 \nL 2053 2491 \nQ 2509 2491 2742 2702 \nQ 2975 2913 2975 3322 \nQ 2975 3731 2742 3939 \nQ 2509 4147 2053 4147 \nL 1259 4147 \nz\n\" id=\"DejaVuSans-52\" transform=\"scale(0.015625)\"/>\n      <path d=\"M -19 4666 \nL 3928 4666 \nL 3928 4134 \nL 2272 4134 \nL 2272 0 \nL 1638 0 \nL 1638 4134 \nL -19 4134 \nL -19 4666 \nz\n\" id=\"DejaVuSans-54\" transform=\"scale(0.015625)\"/>\n      <path d=\"M 3809 666 \nL 3809 1919 \nL 2778 1919 \nL 2778 2438 \nL 4434 2438 \nL 4434 434 \nQ 4069 175 3628 42 \nQ 3188 -91 2688 -91 \nQ 1594 -91 976 548 \nQ 359 1188 359 2328 \nQ 359 3472 976 4111 \nQ 1594 4750 2688 4750 \nQ 3144 4750 3555 4637 \nQ 3966 4525 4313 4306 \nL 4313 3634 \nQ 3963 3931 3569 4081 \nQ 3175 4231 2741 4231 \nQ 1884 4231 1454 3753 \nQ 1025 3275 1025 2328 \nQ 1025 1384 1454 906 \nQ 1884 428 2741 428 \nQ 3075 428 3337 486 \nQ 3600 544 3809 666 \nz\n\" id=\"DejaVuSans-47\" transform=\"scale(0.015625)\"/>\n      <path d=\"M 2188 4044 \nL 1331 1722 \nL 3047 1722 \nL 2188 4044 \nz\nM 1831 4666 \nL 2547 4666 \nL 4325 0 \nL 3669 0 \nL 3244 1197 \nL 1141 1197 \nL 716 0 \nL 50 0 \nL 1831 4666 \nz\n\" id=\"DejaVuSans-41\" transform=\"scale(0.015625)\"/>\n      <path d=\"M 628 4666 \nL 3578 4666 \nL 3578 4134 \nL 1259 4134 \nL 1259 2753 \nL 3481 2753 \nL 3481 2222 \nL 1259 2222 \nL 1259 531 \nL 3634 531 \nL 3634 0 \nL 628 0 \nL 628 4666 \nz\n\" id=\"DejaVuSans-45\" transform=\"scale(0.015625)\"/>\n     </defs>\n     <use xlink:href=\"#DejaVuSans-4d\"/>\n     <use x=\"86.279297\" xlink:href=\"#DejaVuSans-4f\"/>\n     <use x=\"164.990234\" xlink:href=\"#DejaVuSans-52\"/>\n     <use x=\"227.222656\" xlink:href=\"#DejaVuSans-54\"/>\n     <use x=\"288.306641\" xlink:href=\"#DejaVuSans-47\"/>\n     <use x=\"365.796875\" xlink:href=\"#DejaVuSans-41\"/>\n     <use x=\"432.455078\" xlink:href=\"#DejaVuSans-47\"/>\n     <use x=\"509.945312\" xlink:href=\"#DejaVuSans-45\"/>\n    </g>\n   </g>\n  </g>\n </g>\n <defs>\n  <clipPath id=\"p90e2c3d2ad\">\n   <rect height=\"217.44\" width=\"252.706719\" x=\"7.2\" y=\"7.2\"/>\n  </clipPath>\n </defs>\n</svg>\n",
      "image/png": "[encoded data removed]"
     },
     "metadata": {}
    }
   ],
   "metadata": {}
  },
  {
   "cell_type": "markdown",
   "source": [
    "### Guided Practice 3.16\n",
    "\n",
    "Distribution (c) seems the correct one. Distribution (a) does not sum to 1, while distribution (b) has a negative value (-0.27) which does not represent any probability."
   ],
   "metadata": {}
  },
  {
   "cell_type": "markdown",
   "source": [
    "### Guided Practice 3.17\n",
    "\n",
    "* (a) $P(D^{c}) = P(1\\ or\\ 4\\ or\\ 5\\ or\\ 6) = 0.667$\n",
    "* (b) $P(D^{c}) + P(D) = 1$"
   ],
   "metadata": {}
  },
  {
   "cell_type": "markdown",
   "source": [
    "### Guided Practice 3.18\n",
    "\n",
    "* (a) $A^{c} = \\{3, 4, 5, 6\\}$ and $B^{c} = \\{1, 2, 3, 5\\}$.\n",
    "* (b) $P(A^{c}) = P(B^{c}) = 0.667$.\n",
    "* (c) They both are 1."
   ],
   "metadata": {}
  },
  {
   "cell_type": "markdown",
   "source": [
    "### Guided Practice 3.19\n",
    "\n",
    "* (a) Event $A^{c}$ is the event that both dice give 6 ($6 + 6 = 12$). It is $P(6\\ and\\ 6)$.\n",
    "* (b) $P(A^{c}) = 0.028$.\n",
    "* (c) $P(A) = 1 - P(A^{c}) = 0.972$."
   ],
   "metadata": {}
  },
  {
   "cell_type": "markdown",
   "source": [
    "### Guided Practice 3.22\n",
    "\n",
    "* (a) The probability follows the definition of independent probability $0.09 * 0.09 = 0.081$.\n",
    "* (b) $(1 - 0.09) * (1 - 0.09) = 0.83$."
   ],
   "metadata": {}
  },
  {
   "cell_type": "markdown",
   "source": [
    "### Guided Practice 3.23\n",
    "\n",
    "* (a) $(1 - 0.09)^{5} = 0.62$\n",
    "* (b) $0.09^{5} = 0.000009$\n",
    "* (c) $1 - (1 - 0.09)^{5} = 0.38$"
   ],
   "metadata": {}
  },
  {
   "cell_type": "markdown",
   "source": [
    "### Guided Practice 3.24\n",
    "\n",
    "* (a) It is still $0.455$.\n",
    "* (b) It is $0.455^{2} = 0.207$\n",
    "* (c) It is $0.045$.\n",
    "* (d) It is $0.045 * 0.207 = 0.009$"
   ],
   "metadata": {}
  }
 ],
 "metadata": {
  "orig_nbformat": 4,
  "language_info": {
   "name": "python",
   "version": "3.9.6",
   "mimetype": "text/x-python",
   "codemirror_mode": {
    "name": "ipython",
    "version": 3
   },
   "pygments_lexer": "ipython3",
   "nbconvert_exporter": "python",
   "file_extension": ".py"
  },
  "kernelspec": {
   "name": "python3",
   "display_name": "Python 3.9.6 64-bit ('base': conda)"
  },
  "interpreter": {
   "hash": "a473aa0524f7e71cff5bf41ad0f6e637ac4e671de457aeaaf8dd3e29779b2e94"
  }
 },
 "nbformat": 4,
 "nbformat_minor": 2
}