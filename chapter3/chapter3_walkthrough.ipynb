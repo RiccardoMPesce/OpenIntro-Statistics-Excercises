{
 "cells": [
  {
   "cell_type": "markdown",
   "source": [
    "# Chapter 3: Probability"
   ],
   "metadata": {}
  },
  {
   "cell_type": "markdown",
   "source": [
    "### Guided Practice 3.6\n",
    "\n",
    "Another random process can be random selecting a winner from a set of partecipants of a TV show. If we suppose the process if purely random, the probability of selecting a generic individual numbered $k$ is $P(k) = \\frac{1}{n}$ where $n$ is the number of partecipants."
   ],
   "metadata": {}
  },
  {
   "cell_type": "markdown",
   "source": [
    "### Guided Practice 3.7\n",
    "\n",
    "* (a) They are disjoint cause when we roll a dice we only get one face and not multiple faces at the same time.\n",
    "* (b) The addition rule tells us that $P(1) + P(4) + P(5) = \\frac{1}{3}$."
   ],
   "metadata": {}
  },
  {
   "cell_type": "markdown",
   "source": [
    "### Guided Practice 3.8\n",
    "\n",
    "To answer these questions it is best if we use a script."
   ],
   "metadata": {}
  },
  {
   "cell_type": "code",
   "execution_count": 1,
   "source": [
    "import pandas as pd\n",
    "from pathlib import Path\n",
    "\n",
    "loans_path = Path(\"../datasets/loans_full_schema.csv\")\n",
    "loans_df = pd.read_csv(loans_path)"
   ],
   "outputs": [],
   "metadata": {}
  },
  {
   "cell_type": "markdown",
   "source": [
    "Let's now see the variable `homeownership`."
   ],
   "metadata": {}
  },
  {
   "cell_type": "code",
   "execution_count": 2,
   "source": [
    "loans_df[\"homeownership\"].unique()"
   ],
   "outputs": [
    {
     "output_type": "execute_result",
     "data": {
      "text/plain": [
       "array(['MORTGAGE', 'RENT', 'OWN'], dtype=object)"
      ]
     },
     "metadata": {},
     "execution_count": 2
    }
   ],
   "metadata": {}
  },
  {
   "cell_type": "markdown",
   "source": [
    "* (a) Of course we can say they are disjoint (they can't happen at the same time).\n",
    "\n",
    "Now let's define the proportions."
   ],
   "metadata": {}
  },
  {
   "cell_type": "code",
   "execution_count": 3,
   "source": [
    "print(loans_df[loans_df[\"homeownership\"] == \"MORTGAGE\"].shape[0] / loans_df.shape[0])\n",
    "print(loans_df[loans_df[\"homeownership\"] == \"OWN\"].shape[0] / loans_df.shape[0])\n",
    "print(loans_df[loans_df[\"homeownership\"] == \"MORTGAGE\"].shape[0] / loans_df.shape[0] + loans_df[loans_df[\"homeownership\"] == \"OWN\"].shape[0] / loans_df.shape[0])"
   ],
   "outputs": [
    {
     "output_type": "stream",
     "name": "stdout",
     "text": [
      "0.4789\n",
      "0.1353\n",
      "0.6142\n"
     ]
    }
   ],
   "metadata": {}
  },
  {
   "cell_type": "markdown",
   "source": [
    "* (b) We have `MORTGAGE` proportion equal to 0.4789 and `OWN` proportion equal to 0.1353.\n",
    "* (c) For the addition rule we have the probability of random selecting one of the `homeownership` above as 0.6142.\n",
    "\n",
    "Let's test point (c) by sampling 1000 random loans and see the proportion of those who are either one or the other."
   ],
   "metadata": {}
  },
  {
   "cell_type": "markdown",
   "source": [],
   "metadata": {}
  },
  {
   "cell_type": "code",
   "execution_count": 4,
   "source": [
    "rand_sample = loans_df.sample(n=1000)\n",
    "print(rand_sample[rand_sample[\"homeownership\"].isin([\"MORTGAGE\", \"OWN\"])].shape[0] / rand_sample.shape[0])"
   ],
   "outputs": [
    {
     "output_type": "stream",
     "name": "stdout",
     "text": [
      "0.583\n"
     ]
    }
   ],
   "metadata": {}
  },
  {
   "cell_type": "markdown",
   "source": [
    "The result is pretty coherent with the computed probability."
   ],
   "metadata": {}
  },
  {
   "cell_type": "markdown",
   "source": [
    "### Guided Practice 3.9 \n",
    "\n",
    "* (a) Since $P(A) = P(1\\ or\\ 2)$ we have $P(A) = P(1) + P(2) = \\frac{1}{6} + \\frac{1}{6} = \\frac{1}{3}$.\n",
    "* (b) For the same reason as above, $P(B) = P(4) + P(6) = \\frac{1}{3}$."
   ],
   "metadata": {}
  },
  {
   "cell_type": "markdown",
   "source": [
    "### Guided Practice 3.10\n",
    "\n",
    "* (a) Event D represent the outcome of getting either 2 or 3. \n",
    "* (b) Yes.\n",
    "* (c) No."
   ],
   "metadata": {}
  },
  {
   "cell_type": "markdown",
   "source": [
    "### Guided Practice 3.11\n",
    "\n",
    "We can compute the probability of A or B occurring as:\n",
    "$$\n",
    "P(A\\ or\\ B) = P(A) + P(B) = P(1) + P(2) + P(4) + P(6) = \\frac{4}{6} = 0.67\n",
    "$$"
   ],
   "metadata": {}
  },
  {
   "cell_type": "markdown",
   "source": [
    "### Guided Practice 3.12\n",
    "\n",
    "* (a) $\\frac{13}{52} = \\frac{1}{4} = 0.25$\n",
    "* (b) $\\frac{12}{52} = 0.231$"
   ],
   "metadata": {}
  },
  {
   "cell_type": "markdown",
   "source": [
    "### Guided Practice 3.13\n",
    "\n",
    "* (a) There would not be overlapping between the two Venn Diagrams representing A and B. \n",
    "* (b) If $P(A\\ and\\ B) = 0$ then $P(A\\ or\\ B) = P(A) + P(B)$."
   ],
   "metadata": {}
  },
  {
   "cell_type": "markdown",
   "source": [
    "### Guided Practice 3.14"
   ],
   "metadata": {}
  },
  {
   "cell_type": "code",
   "execution_count": 5,
   "source": [
    "from matplotlib_venn import venn2\n",
    "\n",
    "joint = loans_df[loans_df[\"application_type\"] == \"joint\"]\n",
    "mortgage = loans_df[loans_df[\"homeownership\"] == \"MORTGAGE\"]\n",
    "\n",
    "j_set = set(joint.index.values.tolist())\n",
    "m_set = set(mortgage.index.values.tolist())\n",
    "\n",
    "ax = venn2([j_set, m_set], [\"joint\", \"MORTGAGE\"])"
   ],
   "outputs": [
    {
     "output_type": "display_data",
     "data": {
      "text/plain": [
       "<Figure size 432x288 with 1 Axes>"
      ],
      "image/svg+xml": "<?xml version=\"1.0\" encoding=\"utf-8\" standalone=\"no\"?>\n<!DOCTYPE svg PUBLIC \"-//W3C//DTD SVG 1.1//EN\"\n  \"http://www.w3.org/Graphics/SVG/1.1/DTD/svg11.dtd\">\n<svg height=\"233.459434pt\" version=\"1.1\" viewBox=\"0 0 267.106719 233.459434\" width=\"267.106719pt\" xmlns=\"http://www.w3.org/2000/svg\" xmlns:xlink=\"http://www.w3.org/1999/xlink\">\n <metadata>\n  <rdf:RDF xmlns:cc=\"http://creativecommons.org/ns#\" xmlns:dc=\"http://purl.org/dc/elements/1.1/\" xmlns:rdf=\"http://www.w3.org/1999/02/22-rdf-syntax-ns#\">\n   <cc:Work>\n    <dc:type rdf:resource=\"http://purl.org/dc/dcmitype/StillImage\"/>\n    <dc:date>2021-08-15T20:21:33.347585</dc:date>\n    <dc:format>image/svg+xml</dc:format>\n    <dc:creator>\n     <cc:Agent>\n      <dc:title>Matplotlib v3.4.3, https://matplotlib.org/</dc:title>\n     </cc:Agent>\n    </dc:creator>\n   </cc:Work>\n  </rdf:RDF>\n </metadata>\n <defs>\n  <style type=\"text/css\">*{stroke-linecap:butt;stroke-linejoin:round;}</style>\n </defs>\n <g id=\"figure_1\">\n  <g id=\"patch_1\">\n   <path d=\"M 0 233.459434 \nL 267.106719 233.459434 \nL 267.106719 0 \nL 0 0 \nz\n\" style=\"fill:none;\"/>\n  </g>\n  <g id=\"axes_1\">\n   <g id=\"patch_2\">\n    <path clip-path=\"url(#pb762124a47)\" d=\"M 75.227702 167.091588 \nC 65.042103 151.972102 59.599036 134.150339 59.599036 115.92 \nC 59.599036 97.689661 65.042103 79.867898 75.227702 64.748412 \nC 61.709245 64.821577 48.755791 70.248779 39.222562 79.833744 \nC 29.689333 89.418709 24.332317 102.401346 24.332317 115.92 \nC 24.332317 129.438654 29.689333 142.421291 39.222562 152.006256 \nC 48.755791 161.591221 61.709245 167.018423 75.227702 167.091588 \n\" style=\"fill:#ff0000;opacity:0.4;\"/>\n   </g>\n   <g id=\"patch_3\">\n    <path clip-path=\"url(#pb762124a47)\" d=\"M 75.227702 64.748412 \nC 81.970794 64.711917 88.655075 66.008627 94.895395 68.563826 \nC 101.135714 71.119024 106.809868 74.882673 111.59091 79.637908 \nC 116.371952 84.393144 120.166254 90.046845 122.755189 96.273244 \nC 125.344123 102.499643 126.676991 109.176809 126.676991 115.92 \nC 126.676991 122.663191 125.344123 129.340357 122.755189 135.566756 \nC 120.166254 141.793155 116.371952 147.446856 111.59091 152.202092 \nC 106.809868 156.957327 101.135714 160.720976 94.895395 163.276174 \nC 88.655075 165.831373 81.970794 167.128083 75.227702 167.091588 \nC 80.673494 175.175312 87.374968 182.338125 95.07879 188.309253 \nC 102.782612 194.280381 111.390468 198.983622 120.576956 202.24118 \nC 129.763444 205.498738 139.411329 207.26904 149.155893 207.485165 \nC 158.900458 207.70129 168.617344 206.360479 177.939226 203.513419 \nC 187.261109 200.666359 196.069024 196.349383 204.030008 190.725685 \nC 211.990992 185.101987 219.003449 178.243335 224.802288 170.409006 \nC 230.601127 162.574677 235.112344 153.86465 238.165404 144.608189 \nC 241.218463 135.351728 242.774402 125.666961 242.774402 115.92 \nC 242.774402 106.173039 241.218463 96.488272 238.165404 87.231811 \nC 235.112344 77.97535 230.601127 69.265323 224.802288 61.430994 \nC 219.003449 53.596665 211.990992 46.738013 204.030008 41.114315 \nC 196.069024 35.490617 187.261109 31.173641 177.939226 28.326581 \nC 168.617344 25.479521 158.900458 24.13871 149.155893 24.354835 \nC 139.411329 24.57096 129.763444 26.341262 120.576956 29.59882 \nC 111.390468 32.856378 102.782612 37.559619 95.07879 43.530747 \nC 87.374968 49.501875 80.673494 56.664688 75.227702 64.748412 \n\" style=\"fill:#008000;opacity:0.4;\"/>\n   </g>\n   <g id=\"patch_4\">\n    <path clip-path=\"url(#pb762124a47)\" d=\"M 75.227702 167.091588 \nC 81.970794 167.128083 88.655075 165.831373 94.895395 163.276174 \nC 101.135714 160.720976 106.809868 156.957327 111.59091 152.202092 \nC 116.371952 147.446856 120.166254 141.793155 122.755189 135.566756 \nC 125.344123 129.340357 126.676991 122.663191 126.676991 115.92 \nC 126.676991 109.176809 125.344123 102.499643 122.755189 96.273244 \nC 120.166254 90.046845 116.371952 84.393144 111.59091 79.637908 \nC 106.809868 74.882673 101.135714 71.119024 94.895395 68.563826 \nC 88.655075 66.008627 81.970794 64.711917 75.227702 64.748412 \nC 65.042103 79.867898 59.599036 97.689661 59.599036 115.92 \nC 59.599036 134.150339 65.042103 151.972102 75.227702 167.091588 \n\" style=\"fill:#b25900;opacity:0.4;\"/>\n   </g>\n   <g id=\"text_1\">\n    <!-- 545 -->\n    <g transform=\"translate(32.421926 118.679375)scale(0.1 -0.1)\">\n     <defs>\n      <path d=\"M 691 4666 \nL 3169 4666 \nL 3169 4134 \nL 1269 4134 \nL 1269 2991 \nQ 1406 3038 1543 3061 \nQ 1681 3084 1819 3084 \nQ 2600 3084 3056 2656 \nQ 3513 2228 3513 1497 \nQ 3513 744 3044 326 \nQ 2575 -91 1722 -91 \nQ 1428 -91 1123 -41 \nQ 819 9 494 109 \nL 494 744 \nQ 775 591 1075 516 \nQ 1375 441 1709 441 \nQ 2250 441 2565 725 \nQ 2881 1009 2881 1497 \nQ 2881 1984 2565 2268 \nQ 2250 2553 1709 2553 \nQ 1456 2553 1204 2497 \nQ 953 2441 691 2322 \nL 691 4666 \nz\n\" id=\"DejaVuSans-35\" transform=\"scale(0.015625)\"/>\n      <path d=\"M 2419 4116 \nL 825 1625 \nL 2419 1625 \nL 2419 4116 \nz\nM 2253 4666 \nL 3047 4666 \nL 3047 1625 \nL 3713 1625 \nL 3713 1100 \nL 3047 1100 \nL 3047 0 \nL 2419 0 \nL 2419 1100 \nL 313 1100 \nL 313 1709 \nL 2253 4666 \nz\n\" id=\"DejaVuSans-34\" transform=\"scale(0.015625)\"/>\n     </defs>\n     <use xlink:href=\"#DejaVuSans-35\"/>\n     <use x=\"63.623047\" xlink:href=\"#DejaVuSans-34\"/>\n     <use x=\"127.246094\" xlink:href=\"#DejaVuSans-35\"/>\n    </g>\n   </g>\n   <g id=\"text_2\">\n    <!-- 3839 -->\n    <g transform=\"translate(172.000697 118.679375)scale(0.1 -0.1)\">\n     <defs>\n      <path d=\"M 2597 2516 \nQ 3050 2419 3304 2112 \nQ 3559 1806 3559 1356 \nQ 3559 666 3084 287 \nQ 2609 -91 1734 -91 \nQ 1441 -91 1130 -33 \nQ 819 25 488 141 \nL 488 750 \nQ 750 597 1062 519 \nQ 1375 441 1716 441 \nQ 2309 441 2620 675 \nQ 2931 909 2931 1356 \nQ 2931 1769 2642 2001 \nQ 2353 2234 1838 2234 \nL 1294 2234 \nL 1294 2753 \nL 1863 2753 \nQ 2328 2753 2575 2939 \nQ 2822 3125 2822 3475 \nQ 2822 3834 2567 4026 \nQ 2313 4219 1838 4219 \nQ 1578 4219 1281 4162 \nQ 984 4106 628 3988 \nL 628 4550 \nQ 988 4650 1302 4700 \nQ 1616 4750 1894 4750 \nQ 2613 4750 3031 4423 \nQ 3450 4097 3450 3541 \nQ 3450 3153 3228 2886 \nQ 3006 2619 2597 2516 \nz\n\" id=\"DejaVuSans-33\" transform=\"scale(0.015625)\"/>\n      <path d=\"M 2034 2216 \nQ 1584 2216 1326 1975 \nQ 1069 1734 1069 1313 \nQ 1069 891 1326 650 \nQ 1584 409 2034 409 \nQ 2484 409 2743 651 \nQ 3003 894 3003 1313 \nQ 3003 1734 2745 1975 \nQ 2488 2216 2034 2216 \nz\nM 1403 2484 \nQ 997 2584 770 2862 \nQ 544 3141 544 3541 \nQ 544 4100 942 4425 \nQ 1341 4750 2034 4750 \nQ 2731 4750 3128 4425 \nQ 3525 4100 3525 3541 \nQ 3525 3141 3298 2862 \nQ 3072 2584 2669 2484 \nQ 3125 2378 3379 2068 \nQ 3634 1759 3634 1313 \nQ 3634 634 3220 271 \nQ 2806 -91 2034 -91 \nQ 1263 -91 848 271 \nQ 434 634 434 1313 \nQ 434 1759 690 2068 \nQ 947 2378 1403 2484 \nz\nM 1172 3481 \nQ 1172 3119 1398 2916 \nQ 1625 2713 2034 2713 \nQ 2441 2713 2670 2916 \nQ 2900 3119 2900 3481 \nQ 2900 3844 2670 4047 \nQ 2441 4250 2034 4250 \nQ 1625 4250 1398 4047 \nQ 1172 3844 1172 3481 \nz\n\" id=\"DejaVuSans-38\" transform=\"scale(0.015625)\"/>\n      <path d=\"M 703 97 \nL 703 672 \nQ 941 559 1184 500 \nQ 1428 441 1663 441 \nQ 2288 441 2617 861 \nQ 2947 1281 2994 2138 \nQ 2813 1869 2534 1725 \nQ 2256 1581 1919 1581 \nQ 1219 1581 811 2004 \nQ 403 2428 403 3163 \nQ 403 3881 828 4315 \nQ 1253 4750 1959 4750 \nQ 2769 4750 3195 4129 \nQ 3622 3509 3622 2328 \nQ 3622 1225 3098 567 \nQ 2575 -91 1691 -91 \nQ 1453 -91 1209 -44 \nQ 966 3 703 97 \nz\nM 1959 2075 \nQ 2384 2075 2632 2365 \nQ 2881 2656 2881 3163 \nQ 2881 3666 2632 3958 \nQ 2384 4250 1959 4250 \nQ 1534 4250 1286 3958 \nQ 1038 3666 1038 3163 \nQ 1038 2656 1286 2365 \nQ 1534 2075 1959 2075 \nz\n\" id=\"DejaVuSans-39\" transform=\"scale(0.015625)\"/>\n     </defs>\n     <use xlink:href=\"#DejaVuSans-33\"/>\n     <use x=\"63.623047\" xlink:href=\"#DejaVuSans-38\"/>\n     <use x=\"127.246094\" xlink:href=\"#DejaVuSans-33\"/>\n     <use x=\"190.869141\" xlink:href=\"#DejaVuSans-39\"/>\n    </g>\n   </g>\n   <g id=\"text_3\">\n    <!-- 950 -->\n    <g transform=\"translate(83.594263 118.679375)scale(0.1 -0.1)\">\n     <defs>\n      <path d=\"M 2034 4250 \nQ 1547 4250 1301 3770 \nQ 1056 3291 1056 2328 \nQ 1056 1369 1301 889 \nQ 1547 409 2034 409 \nQ 2525 409 2770 889 \nQ 3016 1369 3016 2328 \nQ 3016 3291 2770 3770 \nQ 2525 4250 2034 4250 \nz\nM 2034 4750 \nQ 2819 4750 3233 4129 \nQ 3647 3509 3647 2328 \nQ 3647 1150 3233 529 \nQ 2819 -91 2034 -91 \nQ 1250 -91 836 529 \nQ 422 1150 422 2328 \nQ 422 3509 836 4129 \nQ 1250 4750 2034 4750 \nz\n\" id=\"DejaVuSans-30\" transform=\"scale(0.015625)\"/>\n     </defs>\n     <use xlink:href=\"#DejaVuSans-39\"/>\n     <use x=\"63.623047\" xlink:href=\"#DejaVuSans-35\"/>\n     <use x=\"127.246094\" xlink:href=\"#DejaVuSans-30\"/>\n    </g>\n   </g>\n   <g id=\"text_4\">\n    <!-- joint -->\n    <g transform=\"translate(49.185279 183.348463)scale(0.12 -0.12)\">\n     <defs>\n      <path d=\"M 603 3500 \nL 1178 3500 \nL 1178 -63 \nQ 1178 -731 923 -1031 \nQ 669 -1331 103 -1331 \nL -116 -1331 \nL -116 -844 \nL 38 -844 \nQ 366 -844 484 -692 \nQ 603 -541 603 -63 \nL 603 3500 \nz\nM 603 4863 \nL 1178 4863 \nL 1178 4134 \nL 603 4134 \nL 603 4863 \nz\n\" id=\"DejaVuSans-6a\" transform=\"scale(0.015625)\"/>\n      <path d=\"M 1959 3097 \nQ 1497 3097 1228 2736 \nQ 959 2375 959 1747 \nQ 959 1119 1226 758 \nQ 1494 397 1959 397 \nQ 2419 397 2687 759 \nQ 2956 1122 2956 1747 \nQ 2956 2369 2687 2733 \nQ 2419 3097 1959 3097 \nz\nM 1959 3584 \nQ 2709 3584 3137 3096 \nQ 3566 2609 3566 1747 \nQ 3566 888 3137 398 \nQ 2709 -91 1959 -91 \nQ 1206 -91 779 398 \nQ 353 888 353 1747 \nQ 353 2609 779 3096 \nQ 1206 3584 1959 3584 \nz\n\" id=\"DejaVuSans-6f\" transform=\"scale(0.015625)\"/>\n      <path d=\"M 603 3500 \nL 1178 3500 \nL 1178 0 \nL 603 0 \nL 603 3500 \nz\nM 603 4863 \nL 1178 4863 \nL 1178 4134 \nL 603 4134 \nL 603 4863 \nz\n\" id=\"DejaVuSans-69\" transform=\"scale(0.015625)\"/>\n      <path d=\"M 3513 2113 \nL 3513 0 \nL 2938 0 \nL 2938 2094 \nQ 2938 2591 2744 2837 \nQ 2550 3084 2163 3084 \nQ 1697 3084 1428 2787 \nQ 1159 2491 1159 1978 \nL 1159 0 \nL 581 0 \nL 581 3500 \nL 1159 3500 \nL 1159 2956 \nQ 1366 3272 1645 3428 \nQ 1925 3584 2291 3584 \nQ 2894 3584 3203 3211 \nQ 3513 2838 3513 2113 \nz\n\" id=\"DejaVuSans-6e\" transform=\"scale(0.015625)\"/>\n      <path d=\"M 1172 4494 \nL 1172 3500 \nL 2356 3500 \nL 2356 3053 \nL 1172 3053 \nL 1172 1153 \nQ 1172 725 1289 603 \nQ 1406 481 1766 481 \nL 2356 481 \nL 2356 0 \nL 1766 0 \nQ 1100 0 847 248 \nQ 594 497 594 1153 \nL 594 3053 \nL 172 3053 \nL 172 3500 \nL 594 3500 \nL 594 4494 \nL 1172 4494 \nz\n\" id=\"DejaVuSans-74\" transform=\"scale(0.015625)\"/>\n     </defs>\n     <use xlink:href=\"#DejaVuSans-6a\"/>\n     <use x=\"27.783203\" xlink:href=\"#DejaVuSans-6f\"/>\n     <use x=\"88.964844\" xlink:href=\"#DejaVuSans-69\"/>\n     <use x=\"116.748047\" xlink:href=\"#DejaVuSans-6e\"/>\n     <use x=\"180.126953\" xlink:href=\"#DejaVuSans-74\"/>\n    </g>\n   </g>\n   <g id=\"text_5\">\n    <!-- MORTGAGE -->\n    <g transform=\"translate(151.186719 223.763809)scale(0.12 -0.12)\">\n     <defs>\n      <path d=\"M 628 4666 \nL 1569 4666 \nL 2759 1491 \nL 3956 4666 \nL 4897 4666 \nL 4897 0 \nL 4281 0 \nL 4281 4097 \nL 3078 897 \nL 2444 897 \nL 1241 4097 \nL 1241 0 \nL 628 0 \nL 628 4666 \nz\n\" id=\"DejaVuSans-4d\" transform=\"scale(0.015625)\"/>\n      <path d=\"M 2522 4238 \nQ 1834 4238 1429 3725 \nQ 1025 3213 1025 2328 \nQ 1025 1447 1429 934 \nQ 1834 422 2522 422 \nQ 3209 422 3611 934 \nQ 4013 1447 4013 2328 \nQ 4013 3213 3611 3725 \nQ 3209 4238 2522 4238 \nz\nM 2522 4750 \nQ 3503 4750 4090 4092 \nQ 4678 3434 4678 2328 \nQ 4678 1225 4090 567 \nQ 3503 -91 2522 -91 \nQ 1538 -91 948 565 \nQ 359 1222 359 2328 \nQ 359 3434 948 4092 \nQ 1538 4750 2522 4750 \nz\n\" id=\"DejaVuSans-4f\" transform=\"scale(0.015625)\"/>\n      <path d=\"M 2841 2188 \nQ 3044 2119 3236 1894 \nQ 3428 1669 3622 1275 \nL 4263 0 \nL 3584 0 \nL 2988 1197 \nQ 2756 1666 2539 1819 \nQ 2322 1972 1947 1972 \nL 1259 1972 \nL 1259 0 \nL 628 0 \nL 628 4666 \nL 2053 4666 \nQ 2853 4666 3247 4331 \nQ 3641 3997 3641 3322 \nQ 3641 2881 3436 2590 \nQ 3231 2300 2841 2188 \nz\nM 1259 4147 \nL 1259 2491 \nL 2053 2491 \nQ 2509 2491 2742 2702 \nQ 2975 2913 2975 3322 \nQ 2975 3731 2742 3939 \nQ 2509 4147 2053 4147 \nL 1259 4147 \nz\n\" id=\"DejaVuSans-52\" transform=\"scale(0.015625)\"/>\n      <path d=\"M -19 4666 \nL 3928 4666 \nL 3928 4134 \nL 2272 4134 \nL 2272 0 \nL 1638 0 \nL 1638 4134 \nL -19 4134 \nL -19 4666 \nz\n\" id=\"DejaVuSans-54\" transform=\"scale(0.015625)\"/>\n      <path d=\"M 3809 666 \nL 3809 1919 \nL 2778 1919 \nL 2778 2438 \nL 4434 2438 \nL 4434 434 \nQ 4069 175 3628 42 \nQ 3188 -91 2688 -91 \nQ 1594 -91 976 548 \nQ 359 1188 359 2328 \nQ 359 3472 976 4111 \nQ 1594 4750 2688 4750 \nQ 3144 4750 3555 4637 \nQ 3966 4525 4313 4306 \nL 4313 3634 \nQ 3963 3931 3569 4081 \nQ 3175 4231 2741 4231 \nQ 1884 4231 1454 3753 \nQ 1025 3275 1025 2328 \nQ 1025 1384 1454 906 \nQ 1884 428 2741 428 \nQ 3075 428 3337 486 \nQ 3600 544 3809 666 \nz\n\" id=\"DejaVuSans-47\" transform=\"scale(0.015625)\"/>\n      <path d=\"M 2188 4044 \nL 1331 1722 \nL 3047 1722 \nL 2188 4044 \nz\nM 1831 4666 \nL 2547 4666 \nL 4325 0 \nL 3669 0 \nL 3244 1197 \nL 1141 1197 \nL 716 0 \nL 50 0 \nL 1831 4666 \nz\n\" id=\"DejaVuSans-41\" transform=\"scale(0.015625)\"/>\n      <path d=\"M 628 4666 \nL 3578 4666 \nL 3578 4134 \nL 1259 4134 \nL 1259 2753 \nL 3481 2753 \nL 3481 2222 \nL 1259 2222 \nL 1259 531 \nL 3634 531 \nL 3634 0 \nL 628 0 \nL 628 4666 \nz\n\" id=\"DejaVuSans-45\" transform=\"scale(0.015625)\"/>\n     </defs>\n     <use xlink:href=\"#DejaVuSans-4d\"/>\n     <use x=\"86.279297\" xlink:href=\"#DejaVuSans-4f\"/>\n     <use x=\"164.990234\" xlink:href=\"#DejaVuSans-52\"/>\n     <use x=\"227.222656\" xlink:href=\"#DejaVuSans-54\"/>\n     <use x=\"288.306641\" xlink:href=\"#DejaVuSans-47\"/>\n     <use x=\"365.796875\" xlink:href=\"#DejaVuSans-41\"/>\n     <use x=\"432.455078\" xlink:href=\"#DejaVuSans-47\"/>\n     <use x=\"509.945312\" xlink:href=\"#DejaVuSans-45\"/>\n    </g>\n   </g>\n  </g>\n </g>\n <defs>\n  <clipPath id=\"pb762124a47\">\n   <rect height=\"217.44\" width=\"252.706719\" x=\"7.2\" y=\"7.2\"/>\n  </clipPath>\n </defs>\n</svg>\n",
      "image/png": "[encoded data removed]"
     },
     "metadata": {}
    }
   ],
   "metadata": {}
  },
  {
   "cell_type": "markdown",
   "source": [
    "### Guided Practice 3.16\n",
    "\n",
    "Distribution (c) seems the correct one. Distribution (a) does not sum to 1, while distribution (b) has a negative value (-0.27) which does not represent any probability."
   ],
   "metadata": {}
  },
  {
   "cell_type": "markdown",
   "source": [
    "### Guided Practice 3.17\n",
    "\n",
    "* (a) $P(D^{c}) = P(1\\ or\\ 4\\ or\\ 5\\ or\\ 6) = 0.667$\n",
    "* (b) $P(D^{c}) + P(D) = 1$"
   ],
   "metadata": {}
  },
  {
   "cell_type": "markdown",
   "source": [
    "### Guided Practice 3.18\n",
    "\n",
    "* (a) $A^{c} = \\{3, 4, 5, 6\\}$ and $B^{c} = \\{1, 2, 3, 5\\}$.\n",
    "* (b) $P(A^{c}) = P(B^{c}) = 0.667$.\n",
    "* (c) They both are 1."
   ],
   "metadata": {}
  },
  {
   "cell_type": "markdown",
   "source": [
    "### Guided Practice 3.19\n",
    "\n",
    "* (a) Event $A^{c}$ is the event that both dice give 6 ($6 + 6 = 12$). It is $P(6\\ and\\ 6)$.\n",
    "* (b) $P(A^{c}) = 0.028$.\n",
    "* (c) $P(A) = 1 - P(A^{c}) = 0.972$."
   ],
   "metadata": {}
  },
  {
   "cell_type": "markdown",
   "source": [
    "### Guided Practice 3.22\n",
    "\n",
    "* (a) The probability follows the definition of independent probability $0.09 * 0.09 = 0.081$.\n",
    "* (b) $(1 - 0.09) * (1 - 0.09) = 0.83$."
   ],
   "metadata": {}
  },
  {
   "cell_type": "markdown",
   "source": [
    "### Guided Practice 3.23\n",
    "\n",
    "* (a) $(1 - 0.09)^{5} = 0.62$\n",
    "* (b) $0.09^{5} = 0.000009$\n",
    "* (c) $1 - (1 - 0.09)^{5} = 0.38$"
   ],
   "metadata": {}
  },
  {
   "cell_type": "markdown",
   "source": [
    "### Guided Practice 3.24\n",
    "\n",
    "* (a) It is still $0.455$.\n",
    "* (b) It is $0.455^{2} = 0.207$\n",
    "* (c) It is $0.045$.\n",
    "* (d) It is $0.045 * 0.207 = 0.009$"
   ],
   "metadata": {}
  },
  {
   "cell_type": "markdown",
   "source": [
    "### Exercise 3.1 - True or false.\n",
    "\n",
    "* (a) The probability won't change even if the sequence of events seen is ver unlike.\n",
    "* (b) They're not mutually exclusive since a face card can be red.\n",
    "* (c) They are indeed disjoint since ace is a type, like the three face cards are different types."
   ],
   "metadata": {}
  },
  {
   "cell_type": "markdown",
   "source": [
    "### Exercise 3.2 - Roulette wheel.\n",
    "\n",
    "* (a) The probability is still $\\frac{18}{38} = 0.474$.\n",
    "* (b) Same as above.\n",
    "* (c) I am very confident since each spin is independent from the other spins, and therefore in way probability will change."
   ],
   "metadata": {}
  },
  {
   "cell_type": "markdown",
   "source": [
    "### Exercise 3.3 - Four games, one winner.\n",
    "\n",
    "* (a) In this version, I would flip a coin 10 times, since I don't want to reach the stationary proportion of heads (around 0.5), which will be reached when we flip a coin 100 times. At 10 flips the proportion of heads is still fluctuating and if we get 6 heads and 4 tails, we have reached the minimum amount to win. It's clearly easier than reaching 60 heads and 40 tails.\n",
    "* (b) Here I will flip the coin 100 times, since we know that the probability of tossing a head is 0.5. At 100 flips, we will definitely reach a value greater than 0.40.\n",
    "* (c) As above, I would flip 100 coins, so I will reach a proportion very close to 0.5, and thus in our range.\n",
    "* (d) Here I will flip only 10 coins and if I am lucky I will only get 3 or less heads, which will make me win."
   ],
   "metadata": {}
  },
  {
   "cell_type": "markdown",
   "source": [
    "### Exercise 3.4 - Backgammon.\n",
    "\n",
    "This comes from the probability of two disjoint events happening. Since the single outcome of each dice in independent from the outcome of the other, we have two disjoint events. Any combination is equally possible, with a probability of $\\frac{1}{36}$, so the combinations gotten by the two players are equally possible, and purely random."
   ],
   "metadata": {}
  },
  {
   "cell_type": "markdown",
   "source": [
    "### Exercise 3.5 - Coin flips.\n",
    "\n",
    "* (a) The probability of getting all tails is $(\\frac{1}{2})^{10} = 0.000976$\n",
    "* (b) Same as above.\n",
    "* (c) The probability of getting at least one tail is $1 - (\\frac{1}{2})^{10} = 0.9990$"
   ],
   "metadata": {}
  },
  {
   "cell_type": "markdown",
   "source": [
    "### Exercise 3.6 - Dice rolls.\n",
    "\n",
    "* (a) Since the minimum value in a dice is 1, rolling two dices will always give a number from 2 to 12, so the probability of getting the sum of the two to 1 is 0. However let's create a script to automate the calculation."
   ],
   "metadata": {}
  },
  {
   "cell_type": "code",
   "execution_count": 6,
   "source": [
    "from itertools import product \n",
    "\n",
    "def calculate_prob_sum(s):\n",
    "    comb = list(product(range(1, 7), repeat=2))\n",
    "    return len([p for p in comb if p[0] + p[1] == s]) / len(comb)\n",
    "\n",
    "for num in [1, 5, 12]:\n",
    "    print(f\"The probability of getting a sum of {num} is {calculate_prob_sum(num)}!\")"
   ],
   "outputs": [
    {
     "output_type": "stream",
     "name": "stdout",
     "text": [
      "The probability of getting a sum of 1 is 0.0!\n",
      "The probability of getting a sum of 5 is 0.1111111111111111!\n",
      "The probability of getting a sum of 12 is 0.027777777777777776!\n"
     ]
    }
   ],
   "metadata": {}
  },
  {
   "cell_type": "markdown",
   "source": [
    "* (b) 0.111.\n",
    "* (c) 0.028."
   ],
   "metadata": {}
  },
  {
   "cell_type": "markdown",
   "source": [
    "### Exercise 3.7 - Swing voters.\n",
    "\n",
    "* (a) They are not mutually exclusive events, since there is overlapping between the two categories.\n",
    "* (b) To answer this question, we better do the analysis ourself with the original dataset which can be found [here](https://www.pewresearch.org/politics/dataset/april-2012-values-survey/)."
   ],
   "metadata": {}
  },
  {
   "cell_type": "code",
   "execution_count": 7,
   "source": [
    "from matplotlib_venn import venn2\n",
    "\n",
    "values12_path = Path(\"../datasets/values12public.sav\")\n",
    "values12_df = pd.read_spss(values12_path)\n",
    "\n",
    "registered = values12_df[values12_df[\"RV\"] == \"YES\"]\n",
    "registered = registered[[\"int_date\", \"swing\", \"swingdet\", \"party\"]]\n",
    "\n",
    "registered[\"swinger\"] = ~registered[\"swingdet\"].str.contains(\"no chance\")\n",
    "\n",
    "independent = set(registered[registered[\"party\"] == \"Independent\"].index.values)\n",
    "swingers = set(registered[registered[\"swinger\"]].index.values)\n",
    "\n",
    "ax = venn2([independent, swingers], [\"Independent\", \"Swing Voter\"])"
   ],
   "outputs": [
    {
     "output_type": "display_data",
     "data": {
      "text/plain": [
       "<Figure size 432x288 with 1 Axes>"
      ],
      "image/svg+xml": "<?xml version=\"1.0\" encoding=\"utf-8\" standalone=\"no\"?>\n<!DOCTYPE svg PUBLIC \"-//W3C//DTD SVG 1.1//EN\"\n  \"http://www.w3.org/Graphics/SVG/1.1/DTD/svg11.dtd\">\n<svg height=\"233.210172pt\" version=\"1.1\" viewBox=\"0 0 292.883259 233.210172\" width=\"292.883259pt\" xmlns=\"http://www.w3.org/2000/svg\" xmlns:xlink=\"http://www.w3.org/1999/xlink\">\n <metadata>\n  <rdf:RDF xmlns:cc=\"http://creativecommons.org/ns#\" xmlns:dc=\"http://purl.org/dc/elements/1.1/\" xmlns:rdf=\"http://www.w3.org/1999/02/22-rdf-syntax-ns#\">\n   <cc:Work>\n    <dc:type rdf:resource=\"http://purl.org/dc/dcmitype/StillImage\"/>\n    <dc:date>2021-08-15T20:21:34.534010</dc:date>\n    <dc:format>image/svg+xml</dc:format>\n    <dc:creator>\n     <cc:Agent>\n      <dc:title>Matplotlib v3.4.3, https://matplotlib.org/</dc:title>\n     </cc:Agent>\n    </dc:creator>\n   </cc:Work>\n  </rdf:RDF>\n </metadata>\n <defs>\n  <style type=\"text/css\">*{stroke-linecap:butt;stroke-linejoin:round;}</style>\n </defs>\n <g id=\"figure_1\">\n  <g id=\"patch_1\">\n   <path d=\"M 0 233.210172 \nL 292.883259 233.210172 \nL 292.883259 0 \nL 0 0 \nz\n\" style=\"fill:none;\"/>\n  </g>\n  <g id=\"axes_1\">\n   <g id=\"patch_2\">\n    <path clip-path=\"url(#p385e041618)\" d=\"M 174.413305 184.791989 \nC 159.645887 180.304665 146.706118 171.184539 137.514962 158.785532 \nC 128.323805 146.386526 123.35976 131.354142 123.35976 115.92 \nC 123.35976 100.485858 128.323805 85.453474 137.514962 73.054468 \nC 146.706118 60.655461 159.645887 51.535335 174.413305 47.048011 \nC 161.269644 35.885037 145.201101 28.71448 128.114502 26.387259 \nC 111.027904 24.060037 93.626966 26.671997 77.976629 33.913182 \nC 62.326292 41.154367 49.071119 52.726547 39.784078 67.256471 \nC 30.497038 81.786395 25.560619 98.675644 25.560619 115.92 \nC 25.560619 133.164356 30.497038 150.053605 39.784078 164.583529 \nC 49.071119 179.113453 62.326292 190.685633 77.976629 197.926818 \nC 93.626966 205.168003 111.027904 207.779963 128.114502 205.452741 \nC 145.201101 203.12552 161.269644 195.954963 174.413305 184.791989 \n\" style=\"fill:#ff0000;opacity:0.4;\"/>\n   </g>\n   <g id=\"patch_3\">\n    <path clip-path=\"url(#p385e041618)\" d=\"M 174.413305 47.048011 \nC 184.400693 55.530346 192.424507 66.08451 197.926818 77.976629 \nC 203.42913 89.868748 206.279381 102.816645 206.279381 115.92 \nC 206.279381 129.023355 203.42913 141.971252 197.926818 153.863371 \nC 192.424507 165.75549 184.400693 176.309654 174.413305 184.791989 \nC 185.170034 188.060599 196.544415 188.764155 207.621963 186.846092 \nC 218.699511 184.928029 229.175177 180.441165 238.206732 173.746238 \nC 247.238287 167.051312 254.577024 158.332684 259.632919 148.291322 \nC 264.688814 138.249959 267.322639 127.162377 267.322639 115.92 \nC 267.322639 104.677623 264.688814 93.590041 259.632919 83.548678 \nC 254.577024 73.507316 247.238287 64.788688 238.206732 58.093762 \nC 229.175177 51.398835 218.699511 46.911971 207.621963 44.993908 \nC 196.544415 43.075845 185.170034 43.779401 174.413305 47.048011 \n\" style=\"fill:#008000;opacity:0.4;\"/>\n   </g>\n   <g id=\"patch_4\">\n    <path clip-path=\"url(#p385e041618)\" d=\"M 174.413305 184.791989 \nC 184.400693 176.309654 192.424507 165.75549 197.926818 153.863371 \nC 203.42913 141.971252 206.279381 129.023355 206.279381 115.92 \nC 206.279381 102.816645 203.42913 89.868748 197.926818 77.976629 \nC 192.424507 66.08451 184.400693 55.530346 174.413305 47.048011 \nC 159.645887 51.535335 146.706118 60.655461 137.514962 73.054468 \nC 128.323805 85.453474 123.35976 100.485858 123.35976 115.92 \nC 123.35976 131.354142 128.323805 146.386526 137.514962 158.785532 \nC 146.706118 171.184539 159.645887 180.304665 174.413305 184.791989 \n\" style=\"fill:#b25900;opacity:0.4;\"/>\n   </g>\n   <g id=\"text_1\">\n    <!-- 558 -->\n    <g transform=\"translate(64.91644 118.679375)scale(0.1 -0.1)\">\n     <defs>\n      <path d=\"M 691 4666 \nL 3169 4666 \nL 3169 4134 \nL 1269 4134 \nL 1269 2991 \nQ 1406 3038 1543 3061 \nQ 1681 3084 1819 3084 \nQ 2600 3084 3056 2656 \nQ 3513 2228 3513 1497 \nQ 3513 744 3044 326 \nQ 2575 -91 1722 -91 \nQ 1428 -91 1123 -41 \nQ 819 9 494 109 \nL 494 744 \nQ 775 591 1075 516 \nQ 1375 441 1709 441 \nQ 2250 441 2565 725 \nQ 2881 1009 2881 1497 \nQ 2881 1984 2565 2268 \nQ 2250 2553 1709 2553 \nQ 1456 2553 1204 2497 \nQ 953 2441 691 2322 \nL 691 4666 \nz\n\" id=\"DejaVuSans-35\" transform=\"scale(0.015625)\"/>\n      <path d=\"M 2034 2216 \nQ 1584 2216 1326 1975 \nQ 1069 1734 1069 1313 \nQ 1069 891 1326 650 \nQ 1584 409 2034 409 \nQ 2484 409 2743 651 \nQ 3003 894 3003 1313 \nQ 3003 1734 2745 1975 \nQ 2488 2216 2034 2216 \nz\nM 1403 2484 \nQ 997 2584 770 2862 \nQ 544 3141 544 3541 \nQ 544 4100 942 4425 \nQ 1341 4750 2034 4750 \nQ 2731 4750 3128 4425 \nQ 3525 4100 3525 3541 \nQ 3525 3141 3298 2862 \nQ 3072 2584 2669 2484 \nQ 3125 2378 3379 2068 \nQ 3634 1759 3634 1313 \nQ 3634 634 3220 271 \nQ 2806 -91 2034 -91 \nQ 1263 -91 848 271 \nQ 434 634 434 1313 \nQ 434 1759 690 2068 \nQ 947 2378 1403 2484 \nz\nM 1172 3481 \nQ 1172 3119 1398 2916 \nQ 1625 2713 2034 2713 \nQ 2441 2713 2670 2916 \nQ 2900 3119 2900 3481 \nQ 2900 3844 2670 4047 \nQ 2441 4250 2034 4250 \nQ 1625 4250 1398 4047 \nQ 1172 3844 1172 3481 \nz\n\" id=\"DejaVuSans-38\" transform=\"scale(0.015625)\"/>\n     </defs>\n     <use xlink:href=\"#DejaVuSans-35\"/>\n     <use x=\"63.623047\" xlink:href=\"#DejaVuSans-35\"/>\n     <use x=\"127.246094\" xlink:href=\"#DejaVuSans-38\"/>\n    </g>\n   </g>\n   <g id=\"text_2\">\n    <!-- 258 -->\n    <g transform=\"translate(227.25726 118.679375)scale(0.1 -0.1)\">\n     <defs>\n      <path d=\"M 1228 531 \nL 3431 531 \nL 3431 0 \nL 469 0 \nL 469 531 \nQ 828 903 1448 1529 \nQ 2069 2156 2228 2338 \nQ 2531 2678 2651 2914 \nQ 2772 3150 2772 3378 \nQ 2772 3750 2511 3984 \nQ 2250 4219 1831 4219 \nQ 1534 4219 1204 4116 \nQ 875 4013 500 3803 \nL 500 4441 \nQ 881 4594 1212 4672 \nQ 1544 4750 1819 4750 \nQ 2544 4750 2975 4387 \nQ 3406 4025 3406 3419 \nQ 3406 3131 3298 2873 \nQ 3191 2616 2906 2266 \nQ 2828 2175 2409 1742 \nQ 1991 1309 1228 531 \nz\n\" id=\"DejaVuSans-32\" transform=\"scale(0.015625)\"/>\n     </defs>\n     <use xlink:href=\"#DejaVuSans-32\"/>\n     <use x=\"63.623047\" xlink:href=\"#DejaVuSans-35\"/>\n     <use x=\"127.246094\" xlink:href=\"#DejaVuSans-38\"/>\n    </g>\n   </g>\n   <g id=\"text_3\">\n    <!-- 263 -->\n    <g transform=\"translate(155.27582 118.679375)scale(0.1 -0.1)\">\n     <defs>\n      <path d=\"M 2113 2584 \nQ 1688 2584 1439 2293 \nQ 1191 2003 1191 1497 \nQ 1191 994 1439 701 \nQ 1688 409 2113 409 \nQ 2538 409 2786 701 \nQ 3034 994 3034 1497 \nQ 3034 2003 2786 2293 \nQ 2538 2584 2113 2584 \nz\nM 3366 4563 \nL 3366 3988 \nQ 3128 4100 2886 4159 \nQ 2644 4219 2406 4219 \nQ 1781 4219 1451 3797 \nQ 1122 3375 1075 2522 \nQ 1259 2794 1537 2939 \nQ 1816 3084 2150 3084 \nQ 2853 3084 3261 2657 \nQ 3669 2231 3669 1497 \nQ 3669 778 3244 343 \nQ 2819 -91 2113 -91 \nQ 1303 -91 875 529 \nQ 447 1150 447 2328 \nQ 447 3434 972 4092 \nQ 1497 4750 2381 4750 \nQ 2619 4750 2861 4703 \nQ 3103 4656 3366 4563 \nz\n\" id=\"DejaVuSans-36\" transform=\"scale(0.015625)\"/>\n      <path d=\"M 2597 2516 \nQ 3050 2419 3304 2112 \nQ 3559 1806 3559 1356 \nQ 3559 666 3084 287 \nQ 2609 -91 1734 -91 \nQ 1441 -91 1130 -33 \nQ 819 25 488 141 \nL 488 750 \nQ 750 597 1062 519 \nQ 1375 441 1716 441 \nQ 2309 441 2620 675 \nQ 2931 909 2931 1356 \nQ 2931 1769 2642 2001 \nQ 2353 2234 1838 2234 \nL 1294 2234 \nL 1294 2753 \nL 1863 2753 \nQ 2328 2753 2575 2939 \nQ 2822 3125 2822 3475 \nQ 2822 3834 2567 4026 \nQ 2313 4219 1838 4219 \nQ 1578 4219 1281 4162 \nQ 984 4106 628 3988 \nL 628 4550 \nQ 988 4650 1302 4700 \nQ 1616 4750 1894 4750 \nQ 2613 4750 3031 4423 \nQ 3450 4097 3450 3541 \nQ 3450 3153 3228 2886 \nQ 3006 2619 2597 2516 \nz\n\" id=\"DejaVuSans-33\" transform=\"scale(0.015625)\"/>\n     </defs>\n     <use xlink:href=\"#DejaVuSans-32\"/>\n     <use x=\"63.623047\" xlink:href=\"#DejaVuSans-36\"/>\n     <use x=\"127.246094\" xlink:href=\"#DejaVuSans-33\"/>\n    </g>\n   </g>\n   <g id=\"text_4\">\n    <!-- Independent -->\n    <g transform=\"translate(39.855 223.514547)scale(0.12 -0.12)\">\n     <defs>\n      <path d=\"M 628 4666 \nL 1259 4666 \nL 1259 0 \nL 628 0 \nL 628 4666 \nz\n\" id=\"DejaVuSans-49\" transform=\"scale(0.015625)\"/>\n      <path d=\"M 3513 2113 \nL 3513 0 \nL 2938 0 \nL 2938 2094 \nQ 2938 2591 2744 2837 \nQ 2550 3084 2163 3084 \nQ 1697 3084 1428 2787 \nQ 1159 2491 1159 1978 \nL 1159 0 \nL 581 0 \nL 581 3500 \nL 1159 3500 \nL 1159 2956 \nQ 1366 3272 1645 3428 \nQ 1925 3584 2291 3584 \nQ 2894 3584 3203 3211 \nQ 3513 2838 3513 2113 \nz\n\" id=\"DejaVuSans-6e\" transform=\"scale(0.015625)\"/>\n      <path d=\"M 2906 2969 \nL 2906 4863 \nL 3481 4863 \nL 3481 0 \nL 2906 0 \nL 2906 525 \nQ 2725 213 2448 61 \nQ 2172 -91 1784 -91 \nQ 1150 -91 751 415 \nQ 353 922 353 1747 \nQ 353 2572 751 3078 \nQ 1150 3584 1784 3584 \nQ 2172 3584 2448 3432 \nQ 2725 3281 2906 2969 \nz\nM 947 1747 \nQ 947 1113 1208 752 \nQ 1469 391 1925 391 \nQ 2381 391 2643 752 \nQ 2906 1113 2906 1747 \nQ 2906 2381 2643 2742 \nQ 2381 3103 1925 3103 \nQ 1469 3103 1208 2742 \nQ 947 2381 947 1747 \nz\n\" id=\"DejaVuSans-64\" transform=\"scale(0.015625)\"/>\n      <path d=\"M 3597 1894 \nL 3597 1613 \nL 953 1613 \nQ 991 1019 1311 708 \nQ 1631 397 2203 397 \nQ 2534 397 2845 478 \nQ 3156 559 3463 722 \nL 3463 178 \nQ 3153 47 2828 -22 \nQ 2503 -91 2169 -91 \nQ 1331 -91 842 396 \nQ 353 884 353 1716 \nQ 353 2575 817 3079 \nQ 1281 3584 2069 3584 \nQ 2775 3584 3186 3129 \nQ 3597 2675 3597 1894 \nz\nM 3022 2063 \nQ 3016 2534 2758 2815 \nQ 2500 3097 2075 3097 \nQ 1594 3097 1305 2825 \nQ 1016 2553 972 2059 \nL 3022 2063 \nz\n\" id=\"DejaVuSans-65\" transform=\"scale(0.015625)\"/>\n      <path d=\"M 1159 525 \nL 1159 -1331 \nL 581 -1331 \nL 581 3500 \nL 1159 3500 \nL 1159 2969 \nQ 1341 3281 1617 3432 \nQ 1894 3584 2278 3584 \nQ 2916 3584 3314 3078 \nQ 3713 2572 3713 1747 \nQ 3713 922 3314 415 \nQ 2916 -91 2278 -91 \nQ 1894 -91 1617 61 \nQ 1341 213 1159 525 \nz\nM 3116 1747 \nQ 3116 2381 2855 2742 \nQ 2594 3103 2138 3103 \nQ 1681 3103 1420 2742 \nQ 1159 2381 1159 1747 \nQ 1159 1113 1420 752 \nQ 1681 391 2138 391 \nQ 2594 391 2855 752 \nQ 3116 1113 3116 1747 \nz\n\" id=\"DejaVuSans-70\" transform=\"scale(0.015625)\"/>\n      <path d=\"M 1172 4494 \nL 1172 3500 \nL 2356 3500 \nL 2356 3053 \nL 1172 3053 \nL 1172 1153 \nQ 1172 725 1289 603 \nQ 1406 481 1766 481 \nL 2356 481 \nL 2356 0 \nL 1766 0 \nQ 1100 0 847 248 \nQ 594 497 594 1153 \nL 594 3053 \nL 172 3053 \nL 172 3500 \nL 594 3500 \nL 594 4494 \nL 1172 4494 \nz\n\" id=\"DejaVuSans-74\" transform=\"scale(0.015625)\"/>\n     </defs>\n     <use xlink:href=\"#DejaVuSans-49\"/>\n     <use x=\"29.492188\" xlink:href=\"#DejaVuSans-6e\"/>\n     <use x=\"92.871094\" xlink:href=\"#DejaVuSans-64\"/>\n     <use x=\"156.347656\" xlink:href=\"#DejaVuSans-65\"/>\n     <use x=\"217.871094\" xlink:href=\"#DejaVuSans-70\"/>\n     <use x=\"281.347656\" xlink:href=\"#DejaVuSans-65\"/>\n     <use x=\"342.871094\" xlink:href=\"#DejaVuSans-6e\"/>\n     <use x=\"406.25\" xlink:href=\"#DejaVuSans-64\"/>\n     <use x=\"469.726562\" xlink:href=\"#DejaVuSans-65\"/>\n     <use x=\"531.25\" xlink:href=\"#DejaVuSans-6e\"/>\n     <use x=\"594.628906\" xlink:href=\"#DejaVuSans-74\"/>\n    </g>\n   </g>\n   <g id=\"text_5\">\n    <!-- Swing Voter -->\n    <g transform=\"translate(195.3412 205.136606)scale(0.12 -0.12)\">\n     <defs>\n      <path d=\"M 3425 4513 \nL 3425 3897 \nQ 3066 4069 2747 4153 \nQ 2428 4238 2131 4238 \nQ 1616 4238 1336 4038 \nQ 1056 3838 1056 3469 \nQ 1056 3159 1242 3001 \nQ 1428 2844 1947 2747 \nL 2328 2669 \nQ 3034 2534 3370 2195 \nQ 3706 1856 3706 1288 \nQ 3706 609 3251 259 \nQ 2797 -91 1919 -91 \nQ 1588 -91 1214 -16 \nQ 841 59 441 206 \nL 441 856 \nQ 825 641 1194 531 \nQ 1563 422 1919 422 \nQ 2459 422 2753 634 \nQ 3047 847 3047 1241 \nQ 3047 1584 2836 1778 \nQ 2625 1972 2144 2069 \nL 1759 2144 \nQ 1053 2284 737 2584 \nQ 422 2884 422 3419 \nQ 422 4038 858 4394 \nQ 1294 4750 2059 4750 \nQ 2388 4750 2728 4690 \nQ 3069 4631 3425 4513 \nz\n\" id=\"DejaVuSans-53\" transform=\"scale(0.015625)\"/>\n      <path d=\"M 269 3500 \nL 844 3500 \nL 1563 769 \nL 2278 3500 \nL 2956 3500 \nL 3675 769 \nL 4391 3500 \nL 4966 3500 \nL 4050 0 \nL 3372 0 \nL 2619 2869 \nL 1863 0 \nL 1184 0 \nL 269 3500 \nz\n\" id=\"DejaVuSans-77\" transform=\"scale(0.015625)\"/>\n      <path d=\"M 603 3500 \nL 1178 3500 \nL 1178 0 \nL 603 0 \nL 603 3500 \nz\nM 603 4863 \nL 1178 4863 \nL 1178 4134 \nL 603 4134 \nL 603 4863 \nz\n\" id=\"DejaVuSans-69\" transform=\"scale(0.015625)\"/>\n      <path d=\"M 2906 1791 \nQ 2906 2416 2648 2759 \nQ 2391 3103 1925 3103 \nQ 1463 3103 1205 2759 \nQ 947 2416 947 1791 \nQ 947 1169 1205 825 \nQ 1463 481 1925 481 \nQ 2391 481 2648 825 \nQ 2906 1169 2906 1791 \nz\nM 3481 434 \nQ 3481 -459 3084 -895 \nQ 2688 -1331 1869 -1331 \nQ 1566 -1331 1297 -1286 \nQ 1028 -1241 775 -1147 \nL 775 -588 \nQ 1028 -725 1275 -790 \nQ 1522 -856 1778 -856 \nQ 2344 -856 2625 -561 \nQ 2906 -266 2906 331 \nL 2906 616 \nQ 2728 306 2450 153 \nQ 2172 0 1784 0 \nQ 1141 0 747 490 \nQ 353 981 353 1791 \nQ 353 2603 747 3093 \nQ 1141 3584 1784 3584 \nQ 2172 3584 2450 3431 \nQ 2728 3278 2906 2969 \nL 2906 3500 \nL 3481 3500 \nL 3481 434 \nz\n\" id=\"DejaVuSans-67\" transform=\"scale(0.015625)\"/>\n      <path id=\"DejaVuSans-20\" transform=\"scale(0.015625)\"/>\n      <path d=\"M 1831 0 \nL 50 4666 \nL 709 4666 \nL 2188 738 \nL 3669 4666 \nL 4325 4666 \nL 2547 0 \nL 1831 0 \nz\n\" id=\"DejaVuSans-56\" transform=\"scale(0.015625)\"/>\n      <path d=\"M 1959 3097 \nQ 1497 3097 1228 2736 \nQ 959 2375 959 1747 \nQ 959 1119 1226 758 \nQ 1494 397 1959 397 \nQ 2419 397 2687 759 \nQ 2956 1122 2956 1747 \nQ 2956 2369 2687 2733 \nQ 2419 3097 1959 3097 \nz\nM 1959 3584 \nQ 2709 3584 3137 3096 \nQ 3566 2609 3566 1747 \nQ 3566 888 3137 398 \nQ 2709 -91 1959 -91 \nQ 1206 -91 779 398 \nQ 353 888 353 1747 \nQ 353 2609 779 3096 \nQ 1206 3584 1959 3584 \nz\n\" id=\"DejaVuSans-6f\" transform=\"scale(0.015625)\"/>\n      <path d=\"M 2631 2963 \nQ 2534 3019 2420 3045 \nQ 2306 3072 2169 3072 \nQ 1681 3072 1420 2755 \nQ 1159 2438 1159 1844 \nL 1159 0 \nL 581 0 \nL 581 3500 \nL 1159 3500 \nL 1159 2956 \nQ 1341 3275 1631 3429 \nQ 1922 3584 2338 3584 \nQ 2397 3584 2469 3576 \nQ 2541 3569 2628 3553 \nL 2631 2963 \nz\n\" id=\"DejaVuSans-72\" transform=\"scale(0.015625)\"/>\n     </defs>\n     <use xlink:href=\"#DejaVuSans-53\"/>\n     <use x=\"63.476562\" xlink:href=\"#DejaVuSans-77\"/>\n     <use x=\"145.263672\" xlink:href=\"#DejaVuSans-69\"/>\n     <use x=\"173.046875\" xlink:href=\"#DejaVuSans-6e\"/>\n     <use x=\"236.425781\" xlink:href=\"#DejaVuSans-67\"/>\n     <use x=\"299.902344\" xlink:href=\"#DejaVuSans-20\"/>\n     <use x=\"331.689453\" xlink:href=\"#DejaVuSans-56\"/>\n     <use x=\"392.347656\" xlink:href=\"#DejaVuSans-6f\"/>\n     <use x=\"453.529297\" xlink:href=\"#DejaVuSans-74\"/>\n     <use x=\"492.738281\" xlink:href=\"#DejaVuSans-65\"/>\n     <use x=\"554.261719\" xlink:href=\"#DejaVuSans-72\"/>\n    </g>\n   </g>\n  </g>\n </g>\n <defs>\n  <clipPath id=\"p385e041618\">\n   <rect height=\"217.44\" width=\"278.483259\" x=\"7.2\" y=\"7.2\"/>\n  </clipPath>\n </defs>\n</svg>\n",
      "image/png": "[encoded data removed]"
     },
     "metadata": {}
    }
   ],
   "metadata": {}
  },
  {
   "cell_type": "markdown",
   "source": [
    "* (c) Since 35% of voters identify themselves as independent and only 11% are both swing voters and independent, then 24% are independent but not swing voters. Let's see if this is true by querying directly into the data."
   ],
   "metadata": {}
  },
  {
   "cell_type": "code",
   "execution_count": 8,
   "source": [
    "registered[(~registered[\"swinger\"]) & (registered[\"party\"] == \"Independent\")].shape[0] / registered.shape[0]"
   ],
   "outputs": [
    {
     "output_type": "execute_result",
     "data": {
      "text/plain": [
       "0.23514538558786346"
      ]
     },
     "metadata": {},
     "execution_count": 8
    }
   ],
   "metadata": {}
  },
  {
   "cell_type": "markdown",
   "source": [
    "* (d) We can calculate the probability of either one of the two events and/or the other happening using the following formula.\n",
    "$$\n",
    "P(swing\\ voter\\ or\\ independent) = P(swing\\ voter) + P(independent) - P(swing\\ voter\\ and\\ independent) = 0.35 + 0.23 - 0.11 = 0.47 = 47\\%\n",
    "$$\n",
    "\n",
    "We can test this result directly with the data."
   ],
   "metadata": {}
  },
  {
   "cell_type": "code",
   "execution_count": 9,
   "source": [
    "registered[(registered[\"swinger\"]) | (registered[\"party\"] == \"Independent\")].shape[0] / registered.shape[0]"
   ],
   "outputs": [
    {
     "output_type": "execute_result",
     "data": {
      "text/plain": [
       "0.45469869363674675"
      ]
     },
     "metadata": {},
     "execution_count": 9
    }
   ],
   "metadata": {}
  },
  {
   "cell_type": "markdown",
   "source": [
    "* (e) This probability is the complement of the above calculated probability, therefore 53% of the people are neither independent nor swing voters.\n",
    "* (f) Let's calculate the probability of both the two events happening in the hypothesis they are independent.\n",
    "$$\n",
    "P(swing\\ voter) * P(independent) = 0.35 * 0.23 = 0.08\n",
    "$$\n",
    "This does not equal the probability of the two events happening together, which is 0.11, therefore they are dependent. As a generale rule if $P(A) * P(B) \\neq P(A\\ and\\ B)$ then the two events are dependent."
   ],
   "metadata": {}
  },
  {
   "cell_type": "markdown",
   "source": [
    "### Exercise 3.8 - Poverty and language.\n",
    "\n",
    "* (a) No, both events can happen together.\n",
    "* (b) We use synthetic data which replicates the true proportions. The probabilities are 0.146 for being below the poverty line, 0.207 for speaking a language other than English and 0.042 for both the two events happening at the same time."
   ],
   "metadata": {}
  },
  {
   "cell_type": "code",
   "execution_count": 10,
   "source": [
    "sample = set([i for i in range(1, 1001)])\n",
    "poverty_line = set([i for i in range(1, 146)])\n",
    "foreign_language = set([i for i in range(1, 43)] + [i for i in range(400, 566)])\n",
    "\n",
    "ax = venn2([poverty_line, foreign_language], [\"Below Poverty Line\", \"Foreign Language\"], )"
   ],
   "outputs": [
    {
     "output_type": "display_data",
     "data": {
      "text/plain": [
       "<Figure size 432x288 with 1 Axes>"
      ],
      "image/svg+xml": "<?xml version=\"1.0\" encoding=\"utf-8\" standalone=\"no\"?>\n<!DOCTYPE svg PUBLIC \"-//W3C//DTD SVG 1.1//EN\"\n  \"http://www.w3.org/Graphics/SVG/1.1/DTD/svg11.dtd\">\n<svg height=\"232.285785pt\" version=\"1.1\" viewBox=\"0 0 342.715923 232.285785\" width=\"342.715923pt\" xmlns=\"http://www.w3.org/2000/svg\" xmlns:xlink=\"http://www.w3.org/1999/xlink\">\n <metadata>\n  <rdf:RDF xmlns:cc=\"http://creativecommons.org/ns#\" xmlns:dc=\"http://purl.org/dc/elements/1.1/\" xmlns:rdf=\"http://www.w3.org/1999/02/22-rdf-syntax-ns#\">\n   <cc:Work>\n    <dc:type rdf:resource=\"http://purl.org/dc/dcmitype/StillImage\"/>\n    <dc:date>2021-08-15T20:21:34.852381</dc:date>\n    <dc:format>image/svg+xml</dc:format>\n    <dc:creator>\n     <cc:Agent>\n      <dc:title>Matplotlib v3.4.3, https://matplotlib.org/</dc:title>\n     </cc:Agent>\n    </dc:creator>\n   </cc:Work>\n  </rdf:RDF>\n </metadata>\n <defs>\n  <style type=\"text/css\">*{stroke-linecap:butt;stroke-linejoin:round;}</style>\n </defs>\n <g id=\"figure_1\">\n  <g id=\"patch_1\">\n   <path d=\"M 0 232.285785 \nL 342.715923 232.285785 \nL 342.715923 0 \nL 0 0 \nz\n\" style=\"fill:none;\"/>\n  </g>\n  <g id=\"axes_1\">\n   <g id=\"patch_2\">\n    <path clip-path=\"url(#p5818258b5c)\" d=\"M 162.591381 178.06443 \nC 146.466138 161.40463 137.441832 139.105608 137.441832 115.92 \nC 137.441832 92.734392 146.466138 70.43537 162.591381 53.77557 \nC 151.353073 46.310624 138.297502 42.032174 124.820765 41.397733 \nC 111.344027 40.763292 97.944256 43.796312 86.054355 50.172457 \nC 74.164454 56.548602 64.223903 66.032193 57.295693 77.609105 \nC 50.367484 89.186017 46.7077 102.428337 46.7077 115.92 \nC 46.7077 129.411663 50.367484 142.653983 57.295693 154.230895 \nC 64.223903 165.807807 74.164454 175.291398 86.054355 181.667543 \nC 97.944256 188.043688 111.344027 191.076708 124.820765 190.442267 \nC 138.297502 189.807826 151.353073 185.529376 162.591381 178.06443 \n\" style=\"fill:#ff0000;opacity:0.4;\"/>\n   </g>\n   <g id=\"patch_3\">\n    <path clip-path=\"url(#p5818258b5c)\" d=\"M 162.591381 53.77557 \nC 172.839176 60.582576 181.245874 69.819896 187.060043 80.661855 \nC 192.874212 91.503814 195.9173 103.617454 195.9173 115.92 \nC 195.9173 128.222546 192.874212 140.336186 187.060043 151.178145 \nC 181.245874 162.020104 172.839176 171.257424 162.591381 178.06443 \nC 168.745845 184.422918 175.810877 189.832018 183.554848 194.114392 \nC 191.298818 198.396765 199.636163 201.505096 208.293541 203.337477 \nC 216.950918 205.169858 225.832671 205.706042 234.647611 204.928452 \nC 243.46255 204.150861 252.113278 202.068086 260.316178 198.748413 \nC 268.519078 195.428739 276.183515 190.908846 283.05821 185.336918 \nC 289.932905 179.76499 295.941897 173.202594 300.888181 165.864877 \nC 305.834465 158.527161 309.663388 150.495201 312.249418 142.032326 \nC 314.835449 133.569451 316.150013 124.76917 316.150013 115.92 \nC 316.150013 107.07083 314.835449 98.270549 312.249418 89.807674 \nC 309.663388 81.344799 305.834465 73.312839 300.888181 65.975123 \nC 295.941897 58.637406 289.932905 52.07501 283.05821 46.503082 \nC 276.183515 40.931154 268.519078 36.411261 260.316178 33.091587 \nC 252.113278 29.771914 243.46255 27.689139 234.647611 26.911548 \nC 225.832671 26.133958 216.950918 26.670142 208.293541 28.502523 \nC 199.636163 30.334904 191.298818 33.443235 183.554848 37.725608 \nC 175.810877 42.007982 168.745845 47.417082 162.591381 53.77557 \n\" style=\"fill:#008000;opacity:0.4;\"/>\n   </g>\n   <g id=\"patch_4\">\n    <path clip-path=\"url(#p5818258b5c)\" d=\"M 162.591381 178.06443 \nC 172.839176 171.257424 181.245874 162.020104 187.060043 151.178145 \nC 192.874212 140.336186 195.9173 128.222546 195.9173 115.92 \nC 195.9173 103.617454 192.874212 91.503814 187.060043 80.661855 \nC 181.245874 69.819896 172.839176 60.582576 162.591381 53.77557 \nC 146.466138 70.43537 137.441832 92.734392 137.441832 115.92 \nC 137.441832 139.105608 146.466138 161.40463 162.591381 178.06443 \n\" style=\"fill:#b25900;opacity:0.4;\"/>\n   </g>\n   <g id=\"text_1\">\n    <!-- 103 -->\n    <g transform=\"translate(82.531016 118.679375)scale(0.1 -0.1)\">\n     <defs>\n      <path d=\"M 794 531 \nL 1825 531 \nL 1825 4091 \nL 703 3866 \nL 703 4441 \nL 1819 4666 \nL 2450 4666 \nL 2450 531 \nL 3481 531 \nL 3481 0 \nL 794 0 \nL 794 531 \nz\n\" id=\"DejaVuSans-31\" transform=\"scale(0.015625)\"/>\n      <path d=\"M 2034 4250 \nQ 1547 4250 1301 3770 \nQ 1056 3291 1056 2328 \nQ 1056 1369 1301 889 \nQ 1547 409 2034 409 \nQ 2525 409 2770 889 \nQ 3016 1369 3016 2328 \nQ 3016 3291 2770 3770 \nQ 2525 4250 2034 4250 \nz\nM 2034 4750 \nQ 2819 4750 3233 4129 \nQ 3647 3509 3647 2328 \nQ 3647 1150 3233 529 \nQ 2819 -91 2034 -91 \nQ 1250 -91 836 529 \nQ 422 1150 422 2328 \nQ 422 3509 836 4129 \nQ 1250 4750 2034 4750 \nz\n\" id=\"DejaVuSans-30\" transform=\"scale(0.015625)\"/>\n      <path d=\"M 2597 2516 \nQ 3050 2419 3304 2112 \nQ 3559 1806 3559 1356 \nQ 3559 666 3084 287 \nQ 2609 -91 1734 -91 \nQ 1441 -91 1130 -33 \nQ 819 25 488 141 \nL 488 750 \nQ 750 597 1062 519 \nQ 1375 441 1716 441 \nQ 2309 441 2620 675 \nQ 2931 909 2931 1356 \nQ 2931 1769 2642 2001 \nQ 2353 2234 1838 2234 \nL 1294 2234 \nL 1294 2753 \nL 1863 2753 \nQ 2328 2753 2575 2939 \nQ 2822 3125 2822 3475 \nQ 2822 3834 2567 4026 \nQ 2313 4219 1838 4219 \nQ 1578 4219 1281 4162 \nQ 984 4106 628 3988 \nL 628 4550 \nQ 988 4650 1302 4700 \nQ 1616 4750 1894 4750 \nQ 2613 4750 3031 4423 \nQ 3450 4097 3450 3541 \nQ 3450 3153 3228 2886 \nQ 3006 2619 2597 2516 \nz\n\" id=\"DejaVuSans-33\" transform=\"scale(0.015625)\"/>\n     </defs>\n     <use xlink:href=\"#DejaVuSans-31\"/>\n     <use x=\"63.623047\" xlink:href=\"#DejaVuSans-30\"/>\n     <use x=\"127.246094\" xlink:href=\"#DejaVuSans-33\"/>\n    </g>\n   </g>\n   <g id=\"text_2\">\n    <!-- 166 -->\n    <g transform=\"translate(246.489907 118.679375)scale(0.1 -0.1)\">\n     <defs>\n      <path d=\"M 2113 2584 \nQ 1688 2584 1439 2293 \nQ 1191 2003 1191 1497 \nQ 1191 994 1439 701 \nQ 1688 409 2113 409 \nQ 2538 409 2786 701 \nQ 3034 994 3034 1497 \nQ 3034 2003 2786 2293 \nQ 2538 2584 2113 2584 \nz\nM 3366 4563 \nL 3366 3988 \nQ 3128 4100 2886 4159 \nQ 2644 4219 2406 4219 \nQ 1781 4219 1451 3797 \nQ 1122 3375 1075 2522 \nQ 1259 2794 1537 2939 \nQ 1816 3084 2150 3084 \nQ 2853 3084 3261 2657 \nQ 3669 2231 3669 1497 \nQ 3669 778 3244 343 \nQ 2819 -91 2113 -91 \nQ 1303 -91 875 529 \nQ 447 1150 447 2328 \nQ 447 3434 972 4092 \nQ 1497 4750 2381 4750 \nQ 2619 4750 2861 4703 \nQ 3103 4656 3366 4563 \nz\n\" id=\"DejaVuSans-36\" transform=\"scale(0.015625)\"/>\n     </defs>\n     <use xlink:href=\"#DejaVuSans-31\"/>\n     <use x=\"63.623047\" xlink:href=\"#DejaVuSans-36\"/>\n     <use x=\"127.246094\" xlink:href=\"#DejaVuSans-36\"/>\n    </g>\n   </g>\n   <g id=\"text_3\">\n    <!-- 42 -->\n    <g transform=\"translate(160.317066 118.679375)scale(0.1 -0.1)\">\n     <defs>\n      <path d=\"M 2419 4116 \nL 825 1625 \nL 2419 1625 \nL 2419 4116 \nz\nM 2253 4666 \nL 3047 4666 \nL 3047 1625 \nL 3713 1625 \nL 3713 1100 \nL 3047 1100 \nL 3047 0 \nL 2419 0 \nL 2419 1100 \nL 313 1100 \nL 313 1709 \nL 2253 4666 \nz\n\" id=\"DejaVuSans-34\" transform=\"scale(0.015625)\"/>\n      <path d=\"M 1228 531 \nL 3431 531 \nL 3431 0 \nL 469 0 \nL 469 531 \nQ 828 903 1448 1529 \nQ 2069 2156 2228 2338 \nQ 2531 2678 2651 2914 \nQ 2772 3150 2772 3378 \nQ 2772 3750 2511 3984 \nQ 2250 4219 1831 4219 \nQ 1534 4219 1204 4116 \nQ 875 4013 500 3803 \nL 500 4441 \nQ 881 4594 1212 4672 \nQ 1544 4750 1819 4750 \nQ 2544 4750 2975 4387 \nQ 3406 4025 3406 3419 \nQ 3406 3131 3298 2873 \nQ 3191 2616 2906 2266 \nQ 2828 2175 2409 1742 \nQ 1991 1309 1228 531 \nz\n\" id=\"DejaVuSans-32\" transform=\"scale(0.015625)\"/>\n     </defs>\n     <use xlink:href=\"#DejaVuSans-34\"/>\n     <use x=\"63.623047\" xlink:href=\"#DejaVuSans-32\"/>\n    </g>\n   </g>\n   <g id=\"text_4\">\n    <!-- Below Poverty Line -->\n    <g transform=\"translate(7.2 207.84087)scale(0.12 -0.12)\">\n     <defs>\n      <path d=\"M 1259 2228 \nL 1259 519 \nL 2272 519 \nQ 2781 519 3026 730 \nQ 3272 941 3272 1375 \nQ 3272 1813 3026 2020 \nQ 2781 2228 2272 2228 \nL 1259 2228 \nz\nM 1259 4147 \nL 1259 2741 \nL 2194 2741 \nQ 2656 2741 2882 2914 \nQ 3109 3088 3109 3444 \nQ 3109 3797 2882 3972 \nQ 2656 4147 2194 4147 \nL 1259 4147 \nz\nM 628 4666 \nL 2241 4666 \nQ 2963 4666 3353 4366 \nQ 3744 4066 3744 3513 \nQ 3744 3084 3544 2831 \nQ 3344 2578 2956 2516 \nQ 3422 2416 3680 2098 \nQ 3938 1781 3938 1306 \nQ 3938 681 3513 340 \nQ 3088 0 2303 0 \nL 628 0 \nL 628 4666 \nz\n\" id=\"DejaVuSans-42\" transform=\"scale(0.015625)\"/>\n      <path d=\"M 3597 1894 \nL 3597 1613 \nL 953 1613 \nQ 991 1019 1311 708 \nQ 1631 397 2203 397 \nQ 2534 397 2845 478 \nQ 3156 559 3463 722 \nL 3463 178 \nQ 3153 47 2828 -22 \nQ 2503 -91 2169 -91 \nQ 1331 -91 842 396 \nQ 353 884 353 1716 \nQ 353 2575 817 3079 \nQ 1281 3584 2069 3584 \nQ 2775 3584 3186 3129 \nQ 3597 2675 3597 1894 \nz\nM 3022 2063 \nQ 3016 2534 2758 2815 \nQ 2500 3097 2075 3097 \nQ 1594 3097 1305 2825 \nQ 1016 2553 972 2059 \nL 3022 2063 \nz\n\" id=\"DejaVuSans-65\" transform=\"scale(0.015625)\"/>\n      <path d=\"M 603 4863 \nL 1178 4863 \nL 1178 0 \nL 603 0 \nL 603 4863 \nz\n\" id=\"DejaVuSans-6c\" transform=\"scale(0.015625)\"/>\n      <path d=\"M 1959 3097 \nQ 1497 3097 1228 2736 \nQ 959 2375 959 1747 \nQ 959 1119 1226 758 \nQ 1494 397 1959 397 \nQ 2419 397 2687 759 \nQ 2956 1122 2956 1747 \nQ 2956 2369 2687 2733 \nQ 2419 3097 1959 3097 \nz\nM 1959 3584 \nQ 2709 3584 3137 3096 \nQ 3566 2609 3566 1747 \nQ 3566 888 3137 398 \nQ 2709 -91 1959 -91 \nQ 1206 -91 779 398 \nQ 353 888 353 1747 \nQ 353 2609 779 3096 \nQ 1206 3584 1959 3584 \nz\n\" id=\"DejaVuSans-6f\" transform=\"scale(0.015625)\"/>\n      <path d=\"M 269 3500 \nL 844 3500 \nL 1563 769 \nL 2278 3500 \nL 2956 3500 \nL 3675 769 \nL 4391 3500 \nL 4966 3500 \nL 4050 0 \nL 3372 0 \nL 2619 2869 \nL 1863 0 \nL 1184 0 \nL 269 3500 \nz\n\" id=\"DejaVuSans-77\" transform=\"scale(0.015625)\"/>\n      <path id=\"DejaVuSans-20\" transform=\"scale(0.015625)\"/>\n      <path d=\"M 1259 4147 \nL 1259 2394 \nL 2053 2394 \nQ 2494 2394 2734 2622 \nQ 2975 2850 2975 3272 \nQ 2975 3691 2734 3919 \nQ 2494 4147 2053 4147 \nL 1259 4147 \nz\nM 628 4666 \nL 2053 4666 \nQ 2838 4666 3239 4311 \nQ 3641 3956 3641 3272 \nQ 3641 2581 3239 2228 \nQ 2838 1875 2053 1875 \nL 1259 1875 \nL 1259 0 \nL 628 0 \nL 628 4666 \nz\n\" id=\"DejaVuSans-50\" transform=\"scale(0.015625)\"/>\n      <path d=\"M 191 3500 \nL 800 3500 \nL 1894 563 \nL 2988 3500 \nL 3597 3500 \nL 2284 0 \nL 1503 0 \nL 191 3500 \nz\n\" id=\"DejaVuSans-76\" transform=\"scale(0.015625)\"/>\n      <path d=\"M 2631 2963 \nQ 2534 3019 2420 3045 \nQ 2306 3072 2169 3072 \nQ 1681 3072 1420 2755 \nQ 1159 2438 1159 1844 \nL 1159 0 \nL 581 0 \nL 581 3500 \nL 1159 3500 \nL 1159 2956 \nQ 1341 3275 1631 3429 \nQ 1922 3584 2338 3584 \nQ 2397 3584 2469 3576 \nQ 2541 3569 2628 3553 \nL 2631 2963 \nz\n\" id=\"DejaVuSans-72\" transform=\"scale(0.015625)\"/>\n      <path d=\"M 1172 4494 \nL 1172 3500 \nL 2356 3500 \nL 2356 3053 \nL 1172 3053 \nL 1172 1153 \nQ 1172 725 1289 603 \nQ 1406 481 1766 481 \nL 2356 481 \nL 2356 0 \nL 1766 0 \nQ 1100 0 847 248 \nQ 594 497 594 1153 \nL 594 3053 \nL 172 3053 \nL 172 3500 \nL 594 3500 \nL 594 4494 \nL 1172 4494 \nz\n\" id=\"DejaVuSans-74\" transform=\"scale(0.015625)\"/>\n      <path d=\"M 2059 -325 \nQ 1816 -950 1584 -1140 \nQ 1353 -1331 966 -1331 \nL 506 -1331 \nL 506 -850 \nL 844 -850 \nQ 1081 -850 1212 -737 \nQ 1344 -625 1503 -206 \nL 1606 56 \nL 191 3500 \nL 800 3500 \nL 1894 763 \nL 2988 3500 \nL 3597 3500 \nL 2059 -325 \nz\n\" id=\"DejaVuSans-79\" transform=\"scale(0.015625)\"/>\n      <path d=\"M 628 4666 \nL 1259 4666 \nL 1259 531 \nL 3531 531 \nL 3531 0 \nL 628 0 \nL 628 4666 \nz\n\" id=\"DejaVuSans-4c\" transform=\"scale(0.015625)\"/>\n      <path d=\"M 603 3500 \nL 1178 3500 \nL 1178 0 \nL 603 0 \nL 603 3500 \nz\nM 603 4863 \nL 1178 4863 \nL 1178 4134 \nL 603 4134 \nL 603 4863 \nz\n\" id=\"DejaVuSans-69\" transform=\"scale(0.015625)\"/>\n      <path d=\"M 3513 2113 \nL 3513 0 \nL 2938 0 \nL 2938 2094 \nQ 2938 2591 2744 2837 \nQ 2550 3084 2163 3084 \nQ 1697 3084 1428 2787 \nQ 1159 2491 1159 1978 \nL 1159 0 \nL 581 0 \nL 581 3500 \nL 1159 3500 \nL 1159 2956 \nQ 1366 3272 1645 3428 \nQ 1925 3584 2291 3584 \nQ 2894 3584 3203 3211 \nQ 3513 2838 3513 2113 \nz\n\" id=\"DejaVuSans-6e\" transform=\"scale(0.015625)\"/>\n     </defs>\n     <use xlink:href=\"#DejaVuSans-42\"/>\n     <use x=\"68.603516\" xlink:href=\"#DejaVuSans-65\"/>\n     <use x=\"130.126953\" xlink:href=\"#DejaVuSans-6c\"/>\n     <use x=\"157.910156\" xlink:href=\"#DejaVuSans-6f\"/>\n     <use x=\"219.091797\" xlink:href=\"#DejaVuSans-77\"/>\n     <use x=\"300.878906\" xlink:href=\"#DejaVuSans-20\"/>\n     <use x=\"332.666016\" xlink:href=\"#DejaVuSans-50\"/>\n     <use x=\"389.34375\" xlink:href=\"#DejaVuSans-6f\"/>\n     <use x=\"450.525391\" xlink:href=\"#DejaVuSans-76\"/>\n     <use x=\"509.705078\" xlink:href=\"#DejaVuSans-65\"/>\n     <use x=\"571.228516\" xlink:href=\"#DejaVuSans-72\"/>\n     <use x=\"612.341797\" xlink:href=\"#DejaVuSans-74\"/>\n     <use x=\"651.550781\" xlink:href=\"#DejaVuSans-79\"/>\n     <use x=\"710.730469\" xlink:href=\"#DejaVuSans-20\"/>\n     <use x=\"742.517578\" xlink:href=\"#DejaVuSans-4c\"/>\n     <use x=\"798.230469\" xlink:href=\"#DejaVuSans-69\"/>\n     <use x=\"826.013672\" xlink:href=\"#DejaVuSans-6e\"/>\n     <use x=\"889.392578\" xlink:href=\"#DejaVuSans-65\"/>\n    </g>\n   </g>\n   <g id=\"text_5\">\n    <!-- Foreign Language -->\n    <g transform=\"translate(226.795923 222.59016)scale(0.12 -0.12)\">\n     <defs>\n      <path d=\"M 628 4666 \nL 3309 4666 \nL 3309 4134 \nL 1259 4134 \nL 1259 2759 \nL 3109 2759 \nL 3109 2228 \nL 1259 2228 \nL 1259 0 \nL 628 0 \nL 628 4666 \nz\n\" id=\"DejaVuSans-46\" transform=\"scale(0.015625)\"/>\n      <path d=\"M 2906 1791 \nQ 2906 2416 2648 2759 \nQ 2391 3103 1925 3103 \nQ 1463 3103 1205 2759 \nQ 947 2416 947 1791 \nQ 947 1169 1205 825 \nQ 1463 481 1925 481 \nQ 2391 481 2648 825 \nQ 2906 1169 2906 1791 \nz\nM 3481 434 \nQ 3481 -459 3084 -895 \nQ 2688 -1331 1869 -1331 \nQ 1566 -1331 1297 -1286 \nQ 1028 -1241 775 -1147 \nL 775 -588 \nQ 1028 -725 1275 -790 \nQ 1522 -856 1778 -856 \nQ 2344 -856 2625 -561 \nQ 2906 -266 2906 331 \nL 2906 616 \nQ 2728 306 2450 153 \nQ 2172 0 1784 0 \nQ 1141 0 747 490 \nQ 353 981 353 1791 \nQ 353 2603 747 3093 \nQ 1141 3584 1784 3584 \nQ 2172 3584 2450 3431 \nQ 2728 3278 2906 2969 \nL 2906 3500 \nL 3481 3500 \nL 3481 434 \nz\n\" id=\"DejaVuSans-67\" transform=\"scale(0.015625)\"/>\n      <path d=\"M 2194 1759 \nQ 1497 1759 1228 1600 \nQ 959 1441 959 1056 \nQ 959 750 1161 570 \nQ 1363 391 1709 391 \nQ 2188 391 2477 730 \nQ 2766 1069 2766 1631 \nL 2766 1759 \nL 2194 1759 \nz\nM 3341 1997 \nL 3341 0 \nL 2766 0 \nL 2766 531 \nQ 2569 213 2275 61 \nQ 1981 -91 1556 -91 \nQ 1019 -91 701 211 \nQ 384 513 384 1019 \nQ 384 1609 779 1909 \nQ 1175 2209 1959 2209 \nL 2766 2209 \nL 2766 2266 \nQ 2766 2663 2505 2880 \nQ 2244 3097 1772 3097 \nQ 1472 3097 1187 3025 \nQ 903 2953 641 2809 \nL 641 3341 \nQ 956 3463 1253 3523 \nQ 1550 3584 1831 3584 \nQ 2591 3584 2966 3190 \nQ 3341 2797 3341 1997 \nz\n\" id=\"DejaVuSans-61\" transform=\"scale(0.015625)\"/>\n      <path d=\"M 544 1381 \nL 544 3500 \nL 1119 3500 \nL 1119 1403 \nQ 1119 906 1312 657 \nQ 1506 409 1894 409 \nQ 2359 409 2629 706 \nQ 2900 1003 2900 1516 \nL 2900 3500 \nL 3475 3500 \nL 3475 0 \nL 2900 0 \nL 2900 538 \nQ 2691 219 2414 64 \nQ 2138 -91 1772 -91 \nQ 1169 -91 856 284 \nQ 544 659 544 1381 \nz\nM 1991 3584 \nL 1991 3584 \nz\n\" id=\"DejaVuSans-75\" transform=\"scale(0.015625)\"/>\n     </defs>\n     <use xlink:href=\"#DejaVuSans-46\"/>\n     <use x=\"53.894531\" xlink:href=\"#DejaVuSans-6f\"/>\n     <use x=\"115.076172\" xlink:href=\"#DejaVuSans-72\"/>\n     <use x=\"153.939453\" xlink:href=\"#DejaVuSans-65\"/>\n     <use x=\"215.462891\" xlink:href=\"#DejaVuSans-69\"/>\n     <use x=\"243.246094\" xlink:href=\"#DejaVuSans-67\"/>\n     <use x=\"306.722656\" xlink:href=\"#DejaVuSans-6e\"/>\n     <use x=\"370.101562\" xlink:href=\"#DejaVuSans-20\"/>\n     <use x=\"401.888672\" xlink:href=\"#DejaVuSans-4c\"/>\n     <use x=\"457.601562\" xlink:href=\"#DejaVuSans-61\"/>\n     <use x=\"518.880859\" xlink:href=\"#DejaVuSans-6e\"/>\n     <use x=\"582.259766\" xlink:href=\"#DejaVuSans-67\"/>\n     <use x=\"645.736328\" xlink:href=\"#DejaVuSans-75\"/>\n     <use x=\"709.115234\" xlink:href=\"#DejaVuSans-61\"/>\n     <use x=\"770.394531\" xlink:href=\"#DejaVuSans-67\"/>\n     <use x=\"833.871094\" xlink:href=\"#DejaVuSans-65\"/>\n    </g>\n   </g>\n  </g>\n </g>\n <defs>\n  <clipPath id=\"p5818258b5c\">\n   <rect height=\"217.44\" width=\"308.174133\" x=\"27.34179\" y=\"7.2\"/>\n  </clipPath>\n </defs>\n</svg>\n",
      "image/png": "[encoded data removed]"
     },
     "metadata": {}
    }
   ],
   "metadata": {}
  },
  {
   "cell_type": "markdown",
   "source": [
    "* (c) We can derive it from $20.7\\% - 4.2\\% = 16.5\\%$.\n",
    "* (d) $P(poverty\\ or\\ foreign) = P(poverty) + P(foreign) - P(poverty\\ and\\ foreign) = 31.1\\%$.\n",
    "* (e) $20.7\\% - 4.2\\% = 16.5\\%$.\n",
    "* (f) We can verify it by calculating $0.146 * 0.207 = 0.030 \\neq 0.402$. Therefore they're not independent."
   ],
   "metadata": {}
  },
  {
   "cell_type": "markdown",
   "source": [
    "### Exercise 3.9 - Disjoint vs. independent.\n",
    "\n",
    "* (a) Independent. We can both get A, but our outcome won't influence the other in any way.\n",
    "* (b) Neither, we worked together, so it makes it likely that we influence each other grade.\n",
    "* (c) No. If events are disjoint, they are dependent. If they can occur at the same time, they can be either dependent or independent."
   ],
   "metadata": {}
  },
  {
   "cell_type": "markdown",
   "source": [
    "### Exercise 3.10 - Guessing on an exam.\n",
    "\n",
    "* (a) $(\\frac{3}{4})^{4} * \\frac{1}{4} = 0.00293$.\n",
    "* (b) $(\\frac{1}{4})^{5} = 0.000977$.\n",
    "* (c) $1 - (\\frac{3}{4})^{5} = 0.997$."
   ],
   "metadata": {}
  },
  {
   "cell_type": "markdown",
   "source": [
    "### Exercise 3.11 - Educational attainment of couples.\n",
    "\n",
    "* (a) $0.16 + 0.09 = 0.25$.\n",
    "* (b) $0.26$.\n",
    "* (c) Assuming that the two events are independent (i.e. couples are randomly made), $0.25 * 0.26 = 0.065$.\n",
    "* (d) For the sake of simulation yes, although people with the same educations most likely make couples."
   ],
   "metadata": {}
  },
  {
   "cell_type": "markdown",
   "source": [
    "### Exercise 3.12 - School absences.\n",
    "\n",
    "* (a) $1 - 0.68 = 0.32$.\n",
    "* (b) $0.32 + 0.25 = 0.57$.\n",
    "* (c) $0.68$.\n",
    "* (d) Assuming there's no correlation between the two kids' health, $0.32 * 0.32 = 0.1024$.\n",
    "* (e) Same assumptions as above, $0.68 * 0.68 = 0.4624$.\n",
    "* (f) In point (d) assumption is legit since if one kid is healthy, the other will be healthy too. In point (e), no, since if one kid gets flu, the other has a good change of getting it too and so he has a good chance of missing school, too. Therefore, the events are not independent."
   ],
   "metadata": {}
  },
  {
   "cell_type": "markdown",
   "source": [
    "### Guided Practice 3.28\n",
    "\n",
    "Events are disjoint as it can also be deducted from the probability table, probabilities are non negative and sum to 1."
   ],
   "metadata": {}
  },
  {
   "cell_type": "markdown",
   "source": [
    "### Guided Practice 3.29\n",
    "\n",
    "* (a) $P(\\texttt{mach\\_learn is fashion} \\mid \\texttt{truth is fashion})$.\n",
    "* (b) $P(\\texttt{mach\\_learn is fashion} \\mid \\texttt{truth is fashion}) = \\frac{P(\\texttt{mach\\_learn is fashion}\\ and\\ \\texttt{truth is fashion})}{P(\\texttt{truth is fashion})} = 0.6374$."
   ],
   "metadata": {}
  },
  {
   "cell_type": "markdown",
   "source": [
    "### Guided Pracrice 3.30\n",
    "\n",
    "* (a) $P(\\texttt{mach\\_learn is not fashion} \\mid \\texttt{truth is fashion}) = \\frac{P(\\texttt{mach\\_learn is not fashion}\\ and\\ \\texttt{truth is fashion})}{P(\\texttt{truth is fashion})} = 0.3626$. Note that it is the complementary (as guessed) of the above calculated conditional probability.\n",
    "* (b) For the above reason, the sum is 1.\n",
    "* (c) I can say that the probability that the photo is fashion, in the conditional probability setting, becomes the new probability space, and therefore all the outcomes conditioned by this probability must sum to 1."
   ],
   "metadata": {}
  },
  {
   "cell_type": "markdown",
   "source": [
    "### Guided Practice 3.31\n",
    "$$\n",
    "P(died \\mid not\\ inoculated) = \\frac{P(died,\\ not\\ inoculated)}{P(not\\ inoculated)} = 0.1411\n",
    "$$"
   ],
   "metadata": {}
  },
  {
   "cell_type": "markdown",
   "source": [
    "### Guided Practice 3.32\n",
    "$$\n",
    "P(died \\mid inoculated) = \\frac{P(died,\\ inoculated)}{P(inoculated)} = 0.0255\n",
    "$$"
   ],
   "metadata": {}
  },
  {
   "cell_type": "markdown",
   "source": [
    "### Guided Practice 3.33\n",
    "\n",
    "* (a) Observational since we do not have randomization.\n",
    "* (b) We can't because there might be confounding variables.\n",
    "* (c) Those who have been inoculated might be healthier to start with, and then they might also conduct a better lifestyle."
   ],
   "metadata": {}
  },
  {
   "cell_type": "markdown",
   "source": [
    "### Guided Practice 3.35\n",
    "\n",
    "The probability is obtained by multiplying the two probabilities: $0.03824$."
   ],
   "metadata": {}
  },
  {
   "cell_type": "markdown",
   "source": [
    "### Guided Practice 3.36\n",
    "\n",
    "Here it is simply a matter of subtracting the proportion from one, so we get $2.46\\%$."
   ],
   "metadata": {}
  },
  {
   "cell_type": "markdown",
   "source": [
    "### Guided Practice 3.37\n",
    "\n",
    "It seems very effective given the abyssal difference, __but purely based on the probabilities__."
   ],
   "metadata": {}
  },
  {
   "cell_type": "markdown",
   "source": [
    "### Guided Practice 3.38\n",
    "\n",
    "* (a) $\\frac{1}{6}$.\n",
    "* (b) $\\frac{1}{6} * \\frac{1}{6} = \\frac{1}{36}$.\n",
    "* (c) $P(Y = 1 \\mid X = 1) = \\frac{P(Y = 1, X = 1)}{P(X = 1)}$, but since the outcome of Y does not influence the outcome of X in any way, $P(X = 1, Y = 1)$ is simply $P(X = 1) * P(Y = 1)$, and so $P(X = 1 \\mid Y = 1) = P(X = 1) = \\frac{1}{6}$.\n",
    "* (d) It is the same probability, given by the same considerations. The two outcomes are independent so the probability of both happening together is the product of the single probabilities."
   ],
   "metadata": {}
  },
  {
   "cell_type": "markdown",
   "source": [
    "### Guided Practice 3.39\n",
    "\n",
    "The wrong thing lies on the fact that he believes that probability decreases over time, while each spin is independent from the previous one thus the probability is still the same."
   ],
   "metadata": {}
  },
  {
   "cell_type": "markdown",
   "source": [
    "### Guided Practice 3.41\n",
    "\n",
    "* (a) Let's build a tree diagram."
   ],
   "metadata": {}
  },
  {
   "cell_type": "code",
   "execution_count": 11,
   "source": [
    "import graphviz\n",
    "\n",
    "g = graphviz.Digraph(\"G\")\n",
    "\n",
    "g.node(\"A\", \"Tree\")\n",
    "g.node(\"B\", \"Yes\")\n",
    "g.node(\"C\", \"No\")\n",
    "g.node(\"D\", \"Passed\")\n",
    "g.node(\"E\", \"Failed\")\n",
    "g.node(\"F\", \"Passed\")\n",
    "g.node(\"G\", \"Failed\")\n",
    "\n",
    "g.edge(\"A\", \"B\", label=\"78%\")\n",
    "g.edge(\"A\", \"C\", label=\"22%\")\n",
    "g.edge(\"B\", \"D\", label=\"97%\")\n",
    "g.edge(\"B\", \"E\", label=\"3%\")\n",
    "g.edge(\"C\", \"F\", label=\"57%\")\n",
    "g.edge(\"C\", \"G\", label=\"43%\")\n",
    "\n",
    "g"
   ],
   "outputs": [
    {
     "output_type": "execute_result",
     "data": {
      "text/plain": [
       "<graphviz.dot.Digraph at 0x13852f400>"
      ],
      "image/svg+xml": "<?xml version=\"1.0\" encoding=\"UTF-8\" standalone=\"no\"?>\n<!DOCTYPE svg PUBLIC \"-//W3C//DTD SVG 1.1//EN\"\n \"http://www.w3.org/Graphics/SVG/1.1/DTD/svg11.dtd\">\n<!-- Generated by graphviz version 2.48.0 (0)\n -->\n<!-- Title: G Pages: 1 -->\n<svg width=\"338pt\" height=\"218pt\"\n viewBox=\"0.00 0.00 337.89 218.00\" xmlns=\"http://www.w3.org/2000/svg\" xmlns:xlink=\"http://www.w3.org/1999/xlink\">\n<g id=\"graph0\" class=\"graph\" transform=\"scale(1 1) rotate(0) translate(4 214)\">\n<title>G</title>\n<polygon fill=\"white\" stroke=\"transparent\" points=\"-4,4 -4,-214 333.89,-214 333.89,4 -4,4\"/>\n<!-- A -->\n<g id=\"node1\" class=\"node\">\n<title>A</title>\n<ellipse fill=\"none\" stroke=\"black\" cx=\"165.75\" cy=\"-192\" rx=\"27.1\" ry=\"18\"/>\n<text text-anchor=\"middle\" x=\"165.75\" y=\"-188.3\" font-family=\"Times,serif\" font-size=\"14.00\">Tree</text>\n</g>\n<!-- B -->\n<g id=\"node2\" class=\"node\">\n<title>B</title>\n<ellipse fill=\"none\" stroke=\"black\" cx=\"122.75\" cy=\"-105\" rx=\"27\" ry=\"18\"/>\n<text text-anchor=\"middle\" x=\"122.75\" y=\"-101.3\" font-family=\"Times,serif\" font-size=\"14.00\">Yes</text>\n</g>\n<!-- A&#45;&gt;B -->\n<g id=\"edge1\" class=\"edge\">\n<title>A&#45;&gt;B</title>\n<path fill=\"none\" stroke=\"black\" d=\"M157.46,-174.61C151.27,-162.38 142.7,-145.44 135.62,-131.46\"/>\n<polygon fill=\"black\" stroke=\"black\" points=\"138.65,-129.68 131.01,-122.34 132.4,-132.84 138.65,-129.68\"/>\n<text text-anchor=\"middle\" x=\"160.75\" y=\"-144.8\" font-family=\"Times,serif\" font-size=\"14.00\">78%</text>\n</g>\n<!-- C -->\n<g id=\"node3\" class=\"node\">\n<title>C</title>\n<ellipse fill=\"none\" stroke=\"black\" cx=\"209.75\" cy=\"-105\" rx=\"27\" ry=\"18\"/>\n<text text-anchor=\"middle\" x=\"209.75\" y=\"-101.3\" font-family=\"Times,serif\" font-size=\"14.00\">No</text>\n</g>\n<!-- A&#45;&gt;C -->\n<g id=\"edge2\" class=\"edge\">\n<title>A&#45;&gt;C</title>\n<path fill=\"none\" stroke=\"black\" d=\"M174.23,-174.61C180.56,-162.38 189.33,-145.44 196.57,-131.46\"/>\n<polygon fill=\"black\" stroke=\"black\" points=\"199.8,-132.83 201.29,-122.34 193.58,-129.61 199.8,-132.83\"/>\n<text text-anchor=\"middle\" x=\"203.75\" y=\"-144.8\" font-family=\"Times,serif\" font-size=\"14.00\">22%</text>\n</g>\n<!-- D -->\n<g id=\"node4\" class=\"node\">\n<title>D</title>\n<ellipse fill=\"none\" stroke=\"black\" cx=\"35.75\" cy=\"-18\" rx=\"36\" ry=\"18\"/>\n<text text-anchor=\"middle\" x=\"35.75\" y=\"-14.3\" font-family=\"Times,serif\" font-size=\"14.00\">Passed</text>\n</g>\n<!-- B&#45;&gt;D -->\n<g id=\"edge3\" class=\"edge\">\n<title>B&#45;&gt;D</title>\n<path fill=\"none\" stroke=\"black\" d=\"M107.99,-89.58C94.49,-76.39 74.31,-56.67 58.7,-41.43\"/>\n<polygon fill=\"black\" stroke=\"black\" points=\"61.06,-38.84 51.46,-34.35 56.17,-43.84 61.06,-38.84\"/>\n<text text-anchor=\"middle\" x=\"97.75\" y=\"-57.8\" font-family=\"Times,serif\" font-size=\"14.00\">97%</text>\n</g>\n<!-- E -->\n<g id=\"node5\" class=\"node\">\n<title>E</title>\n<ellipse fill=\"none\" stroke=\"black\" cx=\"122.75\" cy=\"-18\" rx=\"33.29\" ry=\"18\"/>\n<text text-anchor=\"middle\" x=\"122.75\" y=\"-14.3\" font-family=\"Times,serif\" font-size=\"14.00\">Failed</text>\n</g>\n<!-- B&#45;&gt;E -->\n<g id=\"edge4\" class=\"edge\">\n<title>B&#45;&gt;E</title>\n<path fill=\"none\" stroke=\"black\" d=\"M122.75,-86.8C122.75,-75.16 122.75,-59.55 122.75,-46.24\"/>\n<polygon fill=\"black\" stroke=\"black\" points=\"126.25,-46.18 122.75,-36.18 119.25,-46.18 126.25,-46.18\"/>\n<text text-anchor=\"middle\" x=\"132.25\" y=\"-57.8\" font-family=\"Times,serif\" font-size=\"14.00\">3%</text>\n</g>\n<!-- F -->\n<g id=\"node6\" class=\"node\">\n<title>F</title>\n<ellipse fill=\"none\" stroke=\"black\" cx=\"209.75\" cy=\"-18\" rx=\"36\" ry=\"18\"/>\n<text text-anchor=\"middle\" x=\"209.75\" y=\"-14.3\" font-family=\"Times,serif\" font-size=\"14.00\">Passed</text>\n</g>\n<!-- C&#45;&gt;F -->\n<g id=\"edge5\" class=\"edge\">\n<title>C&#45;&gt;F</title>\n<path fill=\"none\" stroke=\"black\" d=\"M209.75,-86.8C209.75,-75.16 209.75,-59.55 209.75,-46.24\"/>\n<polygon fill=\"black\" stroke=\"black\" points=\"213.25,-46.18 209.75,-36.18 206.25,-46.18 213.25,-46.18\"/>\n<text text-anchor=\"middle\" x=\"222.75\" y=\"-57.8\" font-family=\"Times,serif\" font-size=\"14.00\">57%</text>\n</g>\n<!-- G -->\n<g id=\"node7\" class=\"node\">\n<title>G</title>\n<ellipse fill=\"none\" stroke=\"black\" cx=\"296.75\" cy=\"-18\" rx=\"33.29\" ry=\"18\"/>\n<text text-anchor=\"middle\" x=\"296.75\" y=\"-14.3\" font-family=\"Times,serif\" font-size=\"14.00\">Failed</text>\n</g>\n<!-- C&#45;&gt;G -->\n<g id=\"edge6\" class=\"edge\">\n<title>C&#45;&gt;G</title>\n<path fill=\"none\" stroke=\"black\" d=\"M224.51,-89.58C238.09,-76.31 258.44,-56.43 274.08,-41.15\"/>\n<polygon fill=\"black\" stroke=\"black\" points=\"276.62,-43.56 281.33,-34.06 271.73,-38.55 276.62,-43.56\"/>\n<text text-anchor=\"middle\" x=\"270.75\" y=\"-57.8\" font-family=\"Times,serif\" font-size=\"14.00\">43%</text>\n</g>\n</g>\n</svg>\n"
     },
     "metadata": {},
     "execution_count": 11
    }
   ],
   "metadata": {}
  },
  {
   "cell_type": "markdown",
   "source": [
    "* (b) We can compute this probability as $P(passed) = P(passed \\mid tree) * P(tree) + P(passed \\mid no\\ tree) * P(no\\ tree) = 0.882 = 88.20\\%$.\n",
    "* (c) $P(tree \\mid passed) = \\frac{P(tree,\\ passed)}{P(passed)} = \\frac{0.97 * 0.78}{0.882} = \\frac{0.7566}{0.882} = 0.8578$."
   ],
   "metadata": {}
  },
  {
   "cell_type": "markdown",
   "source": [
    "### Guided Practice 3.43\n",
    "\n",
    "Let's plot the tree diagram."
   ],
   "metadata": {}
  },
  {
   "cell_type": "code",
   "execution_count": 12,
   "source": [
    "g = graphviz.Digraph(\"G\")\n",
    "\n",
    "g.node(\"A\", \"Event\")\n",
    "g.node(\"B\", \"Academic\")\n",
    "g.node(\"C\", \"Sporting\")\n",
    "g.node(\"D\", \"No Event\")\n",
    "g.node(\"E\", \"Fill up\")\n",
    "g.node(\"F\", \"No fill up\")\n",
    "g.node(\"G\", \"Fill up\")\n",
    "g.node(\"H\", \"No fill up\")\n",
    "g.node(\"I\", \"Fill up\")\n",
    "g.node(\"L\", \"No fill up\")\n",
    "\n",
    "g.edge(\"A\", \"B\", label=\"35%\")\n",
    "g.edge(\"A\", \"C\", label=\"20%\")\n",
    "g.edge(\"A\", \"D\", label=\"45%\")\n",
    "g.edge(\"B\", \"E\", label=\"25%\")\n",
    "g.edge(\"B\", \"F\", label=\"75%\")\n",
    "g.edge(\"C\", \"G\", label=\"70%\")\n",
    "g.edge(\"C\", \"H\", label=\"30%\")\n",
    "g.edge(\"D\", \"I\", label=\"5%\")\n",
    "g.edge(\"D\", \"L\", label=\"95%\")\n",
    "\n",
    "g"
   ],
   "outputs": [
    {
     "output_type": "execute_result",
     "data": {
      "text/plain": [
       "<graphviz.dot.Digraph at 0x13852f880>"
      ],
      "image/svg+xml": "<?xml version=\"1.0\" encoding=\"UTF-8\" standalone=\"no\"?>\n<!DOCTYPE svg PUBLIC \"-//W3C//DTD SVG 1.1//EN\"\n \"http://www.w3.org/Graphics/SVG/1.1/DTD/svg11.dtd\">\n<!-- Generated by graphviz version 2.48.0 (0)\n -->\n<!-- Title: G Pages: 1 -->\n<svg width=\"578pt\" height=\"218pt\"\n viewBox=\"0.00 0.00 577.94 218.00\" xmlns=\"http://www.w3.org/2000/svg\" xmlns:xlink=\"http://www.w3.org/1999/xlink\">\n<g id=\"graph0\" class=\"graph\" transform=\"scale(1 1) rotate(0) translate(4 214)\">\n<title>G</title>\n<polygon fill=\"white\" stroke=\"transparent\" points=\"-4,4 -4,-214 573.94,-214 573.94,4 -4,4\"/>\n<!-- A -->\n<g id=\"node1\" class=\"node\">\n<title>A</title>\n<ellipse fill=\"none\" stroke=\"black\" cx=\"274.45\" cy=\"-192\" rx=\"31.7\" ry=\"18\"/>\n<text text-anchor=\"middle\" x=\"274.45\" y=\"-188.3\" font-family=\"Times,serif\" font-size=\"14.00\">Event</text>\n</g>\n<!-- B -->\n<g id=\"node2\" class=\"node\">\n<title>B</title>\n<ellipse fill=\"none\" stroke=\"black\" cx=\"132.45\" cy=\"-105\" rx=\"47.39\" ry=\"18\"/>\n<text text-anchor=\"middle\" x=\"132.45\" y=\"-101.3\" font-family=\"Times,serif\" font-size=\"14.00\">Academic</text>\n</g>\n<!-- A&#45;&gt;B -->\n<g id=\"edge1\" class=\"edge\">\n<title>A&#45;&gt;B</title>\n<path fill=\"none\" stroke=\"black\" d=\"M253.19,-178.27C229.97,-164.38 192.49,-141.94 165.45,-125.75\"/>\n<polygon fill=\"black\" stroke=\"black\" points=\"167.09,-122.66 156.71,-120.52 163.49,-128.66 167.09,-122.66\"/>\n<text text-anchor=\"middle\" x=\"225.45\" y=\"-144.8\" font-family=\"Times,serif\" font-size=\"14.00\">35%</text>\n</g>\n<!-- C -->\n<g id=\"node3\" class=\"node\">\n<title>C</title>\n<ellipse fill=\"none\" stroke=\"black\" cx=\"274.45\" cy=\"-105\" rx=\"42.49\" ry=\"18\"/>\n<text text-anchor=\"middle\" x=\"274.45\" y=\"-101.3\" font-family=\"Times,serif\" font-size=\"14.00\">Sporting</text>\n</g>\n<!-- A&#45;&gt;C -->\n<g id=\"edge2\" class=\"edge\">\n<title>A&#45;&gt;C</title>\n<path fill=\"none\" stroke=\"black\" d=\"M274.45,-173.8C274.45,-162.16 274.45,-146.55 274.45,-133.24\"/>\n<polygon fill=\"black\" stroke=\"black\" points=\"277.95,-133.18 274.45,-123.18 270.95,-133.18 277.95,-133.18\"/>\n<text text-anchor=\"middle\" x=\"287.45\" y=\"-144.8\" font-family=\"Times,serif\" font-size=\"14.00\">20%</text>\n</g>\n<!-- D -->\n<g id=\"node4\" class=\"node\">\n<title>D</title>\n<ellipse fill=\"none\" stroke=\"black\" cx=\"426.45\" cy=\"-105\" rx=\"45.49\" ry=\"18\"/>\n<text text-anchor=\"middle\" x=\"426.45\" y=\"-101.3\" font-family=\"Times,serif\" font-size=\"14.00\">No Event</text>\n</g>\n<!-- A&#45;&gt;D -->\n<g id=\"edge3\" class=\"edge\">\n<title>A&#45;&gt;D</title>\n<path fill=\"none\" stroke=\"black\" d=\"M296.22,-178.82C321.26,-164.82 362.68,-141.66 392.08,-125.22\"/>\n<polygon fill=\"black\" stroke=\"black\" points=\"394.14,-128.07 401.16,-120.14 390.73,-121.96 394.14,-128.07\"/>\n<text text-anchor=\"middle\" x=\"373.45\" y=\"-144.8\" font-family=\"Times,serif\" font-size=\"14.00\">45%</text>\n</g>\n<!-- E -->\n<g id=\"node5\" class=\"node\">\n<title>E</title>\n<ellipse fill=\"none\" stroke=\"black\" cx=\"34.45\" cy=\"-18\" rx=\"34.39\" ry=\"18\"/>\n<text text-anchor=\"middle\" x=\"34.45\" y=\"-14.3\" font-family=\"Times,serif\" font-size=\"14.00\">Fill up</text>\n</g>\n<!-- B&#45;&gt;E -->\n<g id=\"edge4\" class=\"edge\">\n<title>B&#45;&gt;E</title>\n<path fill=\"none\" stroke=\"black\" d=\"M114.01,-88.01C98.58,-74.62 76.4,-55.39 59.38,-40.62\"/>\n<polygon fill=\"black\" stroke=\"black\" points=\"61.33,-37.69 51.49,-33.78 56.75,-42.97 61.33,-37.69\"/>\n<text text-anchor=\"middle\" x=\"102.45\" y=\"-57.8\" font-family=\"Times,serif\" font-size=\"14.00\">25%</text>\n</g>\n<!-- F -->\n<g id=\"node6\" class=\"node\">\n<title>F</title>\n<ellipse fill=\"none\" stroke=\"black\" cx=\"132.45\" cy=\"-18\" rx=\"45.49\" ry=\"18\"/>\n<text text-anchor=\"middle\" x=\"132.45\" y=\"-14.3\" font-family=\"Times,serif\" font-size=\"14.00\">No fill up</text>\n</g>\n<!-- B&#45;&gt;F -->\n<g id=\"edge5\" class=\"edge\">\n<title>B&#45;&gt;F</title>\n<path fill=\"none\" stroke=\"black\" d=\"M132.45,-86.8C132.45,-75.16 132.45,-59.55 132.45,-46.24\"/>\n<polygon fill=\"black\" stroke=\"black\" points=\"135.95,-46.18 132.45,-36.18 128.95,-46.18 135.95,-46.18\"/>\n<text text-anchor=\"middle\" x=\"145.45\" y=\"-57.8\" font-family=\"Times,serif\" font-size=\"14.00\">75%</text>\n</g>\n<!-- G -->\n<g id=\"node7\" class=\"node\">\n<title>G</title>\n<ellipse fill=\"none\" stroke=\"black\" cx=\"230.45\" cy=\"-18\" rx=\"34.39\" ry=\"18\"/>\n<text text-anchor=\"middle\" x=\"230.45\" y=\"-14.3\" font-family=\"Times,serif\" font-size=\"14.00\">Fill up</text>\n</g>\n<!-- C&#45;&gt;G -->\n<g id=\"edge6\" class=\"edge\">\n<title>C&#45;&gt;G</title>\n<path fill=\"none\" stroke=\"black\" d=\"M265.75,-87.21C259.45,-75.02 250.8,-58.32 243.64,-44.49\"/>\n<polygon fill=\"black\" stroke=\"black\" points=\"246.68,-42.74 238.97,-35.47 240.46,-45.96 246.68,-42.74\"/>\n<text text-anchor=\"middle\" x=\"268.45\" y=\"-57.8\" font-family=\"Times,serif\" font-size=\"14.00\">70%</text>\n</g>\n<!-- H -->\n<g id=\"node8\" class=\"node\">\n<title>H</title>\n<ellipse fill=\"none\" stroke=\"black\" cx=\"328.45\" cy=\"-18\" rx=\"45.49\" ry=\"18\"/>\n<text text-anchor=\"middle\" x=\"328.45\" y=\"-14.3\" font-family=\"Times,serif\" font-size=\"14.00\">No fill up</text>\n</g>\n<!-- C&#45;&gt;H -->\n<g id=\"edge7\" class=\"edge\">\n<title>C&#45;&gt;H</title>\n<path fill=\"none\" stroke=\"black\" d=\"M285.12,-87.21C292.88,-74.98 303.53,-58.21 312.33,-44.36\"/>\n<polygon fill=\"black\" stroke=\"black\" points=\"315.39,-46.08 317.8,-35.76 309.48,-42.32 315.39,-46.08\"/>\n<text text-anchor=\"middle\" x=\"318.45\" y=\"-57.8\" font-family=\"Times,serif\" font-size=\"14.00\">30%</text>\n</g>\n<!-- I -->\n<g id=\"node9\" class=\"node\">\n<title>I</title>\n<ellipse fill=\"none\" stroke=\"black\" cx=\"426.45\" cy=\"-18\" rx=\"34.39\" ry=\"18\"/>\n<text text-anchor=\"middle\" x=\"426.45\" y=\"-14.3\" font-family=\"Times,serif\" font-size=\"14.00\">Fill up</text>\n</g>\n<!-- D&#45;&gt;I -->\n<g id=\"edge8\" class=\"edge\">\n<title>D&#45;&gt;I</title>\n<path fill=\"none\" stroke=\"black\" d=\"M426.45,-86.8C426.45,-75.16 426.45,-59.55 426.45,-46.24\"/>\n<polygon fill=\"black\" stroke=\"black\" points=\"429.95,-46.18 426.45,-36.18 422.95,-46.18 429.95,-46.18\"/>\n<text text-anchor=\"middle\" x=\"435.95\" y=\"-57.8\" font-family=\"Times,serif\" font-size=\"14.00\">5%</text>\n</g>\n<!-- L -->\n<g id=\"node10\" class=\"node\">\n<title>L</title>\n<ellipse fill=\"none\" stroke=\"black\" cx=\"524.45\" cy=\"-18\" rx=\"45.49\" ry=\"18\"/>\n<text text-anchor=\"middle\" x=\"524.45\" y=\"-14.3\" font-family=\"Times,serif\" font-size=\"14.00\">No fill up</text>\n</g>\n<!-- D&#45;&gt;L -->\n<g id=\"edge9\" class=\"edge\">\n<title>D&#45;&gt;L</title>\n<path fill=\"none\" stroke=\"black\" d=\"M444.42,-88.41C459.52,-75.31 481.3,-56.42 498.33,-41.65\"/>\n<polygon fill=\"black\" stroke=\"black\" points=\"500.99,-43.98 506.25,-34.78 496.41,-38.69 500.99,-43.98\"/>\n<text text-anchor=\"middle\" x=\"494.45\" y=\"-57.8\" font-family=\"Times,serif\" font-size=\"14.00\">95%</text>\n</g>\n</g>\n</svg>\n"
     },
     "metadata": {},
     "execution_count": 12
    }
   ],
   "metadata": {}
  },
  {
   "cell_type": "markdown",
   "source": [
    "The probability being asked in the problem is $P(sport \\mid fill\\ up)$.\n",
    "$$\n",
    "P(sport \\mid fillup) = \\frac{P(sport,\\ fill\\ up)}{P(fill\\ up)} = \\frac{P(sport,\\ fill\\ up)}{P(fill\\ up \\mid academic)P(academic) + P(fill\\ up \\mid sport)P(sport) + P(fill\\ up \\mid no\\ event)P(no\\ event)} = \\frac{0.20 * 0.70}{0.35 * 0.25 + 0.20 * 0.70 + 0.45 * 0.05} = 0.56 = 56.00\\%\n",
    "$$"
   ],
   "metadata": {}
  },
  {
   "cell_type": "markdown",
   "source": [
    "### Guided Practice 3.45\n",
    "\n",
    "$$\n",
    "P(A_{2},\\ B) = \\frac{P(B \\mid A_{2}) * P(A_{2})}{P(B \\mid A_{1}) * P(A_{1}) + P(B \\mid A_{2}) * P(A_{2}) + P(B \\mid A_{3}) * P(A_{3})} = \\frac{0.0875}{0.2499} = 0.35 = 35.00\\%\n",
    "$$"
   ],
   "metadata": {}
  },
  {
   "cell_type": "markdown",
   "source": [
    "### Guided Practice 3.46\n",
    "\n",
    "$$\n",
    "P(A_{3},\\ B) = \\frac{P(B \\mid A_{3}) * P(A_{3})}{P(B \\mid A_{1}) * P(A_{1}) + P(B \\mid A_{2}) * P(A_{2}) + P(B \\mid A_{3}) * P(A_{3})} = \\frac{0.0225}{0.2499} = 0.09 = 9.00\\%\n",
    "$$"
   ],
   "metadata": {}
  },
  {
   "cell_type": "markdown",
   "source": [
    "### Exercise 3.13 - Joint and conditional probabilities.\n",
    "\n",
    "* (a) If and only if they are independent, since the joint probability is the product of the marginal probabilities.\n",
    "* (b) \n",
    "    * i. $P(A\\ and\\ B) = P(A) * P(B) = 0.21$.\n",
    "    * ii. $P(A\\ or\\ B) = P(A) + P(B) = 1$.\n",
    "    * iii. $P(A \\mid B) = P(A) = 0.3$.\n",
    "* (c) No, if they were, the joint probability would be as above.\n",
    "* (d) $\\frac{0.1}{0.7} = 0.1429$."
   ],
   "metadata": {}
  },
  {
   "cell_type": "markdown",
   "source": [
    "### Exercise 3.14 - PB & J.\n",
    "\n",
    "$$\n",
    "P(jelly \\mid peanut\\ butter) = \\frac{P(jelly,\\ peanut\\ butter)}{P(peanut\\ butter)} = \\frac{0.78}{0.80} = 0.975\n",
    "$$"
   ],
   "metadata": {}
  },
  {
   "cell_type": "markdown",
   "source": [
    "### Exercise 3.15 - Global warming. \n",
    "\n",
    "* (a) $P(Earth\\ is\\ warming,\\ Liberal\\ Democrat) = 0.18 \\neq P(Earth\\ is\\ warming) * P(Liberal\\ Democrat) = 0.12$, so they're not mutually exclusive.\n",
    "* (b) $P(Earth\\ is\\ warming\\ or\\ Liberal\\ Democrat) = P(Earth\\ is\\ warming) + P(Liberal\\ Democrat) - P(Earth\\ is\\ warming,\\ Liberal\\ Democrat) = 0.60 + 0.20 - 0.18 = 0.62$.\n",
    "* (c) $P(Earth\\ is\\ warming \\mid Liberal\\ Democrat) = \\frac{P(Earth\\ is\\ warming,\\ Liberal\\ Democrat)}{P(Liberal\\ Democrat)} = \\frac{0.18}{0.20} = 0.89$.\n",
    "* (d) $P(Earth\\ is\\ warming \\mid Conservative\\ Republican) = \\frac{P(Earth\\ is\\ warming,\\ Conservative\\ Republican)}{P(Conservative\\ Republican)} = \\frac{0.11}{0.33} = 0.33$.\n",
    "* (e) Given the huge difference between the Democrats and Republicans believing in Global Warming, I would say ideology influences this opinion.\n",
    "* (f) $P(Mod/Lib\\ Republican \\mid Not\\ warming) = \\frac{P(Mod/Lib\\ Republican,\\ Not\\ warming)}{P(Not\\ warming)} = \\frac{0.06}{0.13} = 0.46$."
   ],
   "metadata": {}
  },
  {
   "cell_type": "markdown",
   "source": [
    "### Exercise 3.16 - Health coverage, relative frequencies.\n",
    "\n",
    "* (a) Since $P(Yes, Excellent) = 0.2099 \\approx 0.2035 = P(Yes) * P(Excellent)$, I would say the two are independent events.\n",
    "* (b) $0.2329$.\n",
    "* (c) $P(Excellent \\mid Yes) = \\frac{P(Excellent,\\ Yes)}{P(Yes)} = 0.2402$.\n",
    "* (d) $P(Excellent \\mid No) = \\frac{P(Excellent,\\ No)}{P(No)} = 0.1823$.\n",
    "* (e) Since $P(No, Excellent) = 0.023 \\approx 0.029 = P(No) * P(Excellent)$, I would say the two are independent events."
   ],
   "metadata": {}
  },
  {
   "cell_type": "markdown",
   "source": [
    "### Exercise 3.17 - Burger preferences.\n",
    "\n",
    "* (a) Since $\\frac{6}{500} = 0.012 \\approx 0.011$, we can say they're mutually exclusive.\n",
    "* (b) $\\frac{0.324}{0.686} = 0.4723$.\n",
    "* (c) $\\frac{0.362}{0.504} = 0.7183$.\n",
    "* (d) Assuming they don't date for the shared likings, i.e. their likings are independent (which is quite reasonable), $0.1173$ is the probability.\n",
    "* (e) $0.012 + 0.504 - 0.002 = 0.514$."
   ],
   "metadata": {}
  },
  {
   "cell_type": "markdown",
   "source": [
    "### Exercise 3.18 - Assortative mating.\n",
    "\n",
    "* (a) Let $A_1$ the probability of the male partner having blue eyes and $A_2$ the probability of the female partner having blue eys. Then, $P(A_1\\ or\\ B_1) = P(A_1) + P(B_1) - P(A_1\\ and\\ B_1) = \\frac{114}{204} + \\frac{108}{204} - \\frac{78}{204} = 0.7059$.\n",
    "* (b) This can be deducted from the table $\\frac{78}{114} = 0.6842$.\n",
    "* (c) Same as above, respectively $\\frac{19}{54} = 0.3519$ and $\\frac{11}{36} = 0.3056$.\n",
    "* (d) By looking at the contingency table, it seems that most couple have the same eyes color. Therefore, they're not independent."
   ],
   "metadata": {}
  },
  {
   "cell_type": "markdown",
   "source": [
    "### Exercise 3.19 - Drawing box plots.\n",
    "\n",
    "* (a) Let's draw the tree."
   ],
   "metadata": {}
  },
  {
   "cell_type": "code",
   "execution_count": 16,
   "source": [
    "g = graphviz.Digraph(\"G\")\n",
    "\n",
    "g.node(\"A\", \"Box Plot\")\n",
    "g.node(\"B\", \"Yes\")\n",
    "g.node(\"C\", \"No\")\n",
    "g.node(\"D\", \"Passed\")\n",
    "g.node(\"E\", \"Failed\")\n",
    "g.node(\"F\", \"Passed\")\n",
    "g.node(\"G\", \"Failed\")\n",
    "\n",
    "g.edge(\"A\", \"B\", label=\"80%\")\n",
    "g.edge(\"A\", \"C\", label=\"20%\")\n",
    "g.edge(\"B\", \"D\", label=\"86%\")\n",
    "g.edge(\"B\", \"E\", label=\"14%\")\n",
    "g.edge(\"C\", \"F\", label=\"65%\")\n",
    "g.edge(\"C\", \"G\", label=\"35%\")\n",
    "\n",
    "g"
   ],
   "outputs": [
    {
     "output_type": "execute_result",
     "data": {
      "text/plain": [
       "<graphviz.dot.Digraph at 0x1382854f0>"
      ],
      "image/svg+xml": "<?xml version=\"1.0\" encoding=\"UTF-8\" standalone=\"no\"?>\n<!DOCTYPE svg PUBLIC \"-//W3C//DTD SVG 1.1//EN\"\n \"http://www.w3.org/Graphics/SVG/1.1/DTD/svg11.dtd\">\n<!-- Generated by graphviz version 2.48.0 (0)\n -->\n<!-- Title: G Pages: 1 -->\n<svg width=\"338pt\" height=\"218pt\"\n viewBox=\"0.00 0.00 337.89 218.00\" xmlns=\"http://www.w3.org/2000/svg\" xmlns:xlink=\"http://www.w3.org/1999/xlink\">\n<g id=\"graph0\" class=\"graph\" transform=\"scale(1 1) rotate(0) translate(4 214)\">\n<title>G</title>\n<polygon fill=\"white\" stroke=\"transparent\" points=\"-4,4 -4,-214 333.89,-214 333.89,4 -4,4\"/>\n<!-- A -->\n<g id=\"node1\" class=\"node\">\n<title>A</title>\n<ellipse fill=\"none\" stroke=\"black\" cx=\"165.75\" cy=\"-192\" rx=\"42.79\" ry=\"18\"/>\n<text text-anchor=\"middle\" x=\"165.75\" y=\"-188.3\" font-family=\"Times,serif\" font-size=\"14.00\">Box Plot</text>\n</g>\n<!-- B -->\n<g id=\"node2\" class=\"node\">\n<title>B</title>\n<ellipse fill=\"none\" stroke=\"black\" cx=\"122.75\" cy=\"-105\" rx=\"27\" ry=\"18\"/>\n<text text-anchor=\"middle\" x=\"122.75\" y=\"-101.3\" font-family=\"Times,serif\" font-size=\"14.00\">Yes</text>\n</g>\n<!-- A&#45;&gt;B -->\n<g id=\"edge1\" class=\"edge\">\n<title>A&#45;&gt;B</title>\n<path fill=\"none\" stroke=\"black\" d=\"M157.25,-174.21C151.05,-161.94 142.53,-145.1 135.51,-131.22\"/>\n<polygon fill=\"black\" stroke=\"black\" points=\"138.57,-129.52 130.93,-122.18 132.32,-132.68 138.57,-129.52\"/>\n<text text-anchor=\"middle\" x=\"160.75\" y=\"-144.8\" font-family=\"Times,serif\" font-size=\"14.00\">80%</text>\n</g>\n<!-- C -->\n<g id=\"node3\" class=\"node\">\n<title>C</title>\n<ellipse fill=\"none\" stroke=\"black\" cx=\"209.75\" cy=\"-105\" rx=\"27\" ry=\"18\"/>\n<text text-anchor=\"middle\" x=\"209.75\" y=\"-101.3\" font-family=\"Times,serif\" font-size=\"14.00\">No</text>\n</g>\n<!-- A&#45;&gt;C -->\n<g id=\"edge2\" class=\"edge\">\n<title>A&#45;&gt;C</title>\n<path fill=\"none\" stroke=\"black\" d=\"M174.44,-174.21C180.79,-161.94 189.51,-145.1 196.69,-131.22\"/>\n<polygon fill=\"black\" stroke=\"black\" points=\"199.88,-132.67 201.37,-122.18 193.67,-129.45 199.88,-132.67\"/>\n<text text-anchor=\"middle\" x=\"203.75\" y=\"-144.8\" font-family=\"Times,serif\" font-size=\"14.00\">20%</text>\n</g>\n<!-- D -->\n<g id=\"node4\" class=\"node\">\n<title>D</title>\n<ellipse fill=\"none\" stroke=\"black\" cx=\"35.75\" cy=\"-18\" rx=\"36\" ry=\"18\"/>\n<text text-anchor=\"middle\" x=\"35.75\" y=\"-14.3\" font-family=\"Times,serif\" font-size=\"14.00\">Passed</text>\n</g>\n<!-- B&#45;&gt;D -->\n<g id=\"edge3\" class=\"edge\">\n<title>B&#45;&gt;D</title>\n<path fill=\"none\" stroke=\"black\" d=\"M107.99,-89.58C94.49,-76.39 74.31,-56.67 58.7,-41.43\"/>\n<polygon fill=\"black\" stroke=\"black\" points=\"61.06,-38.84 51.46,-34.35 56.17,-43.84 61.06,-38.84\"/>\n<text text-anchor=\"middle\" x=\"97.75\" y=\"-57.8\" font-family=\"Times,serif\" font-size=\"14.00\">86%</text>\n</g>\n<!-- E -->\n<g id=\"node5\" class=\"node\">\n<title>E</title>\n<ellipse fill=\"none\" stroke=\"black\" cx=\"122.75\" cy=\"-18\" rx=\"33.29\" ry=\"18\"/>\n<text text-anchor=\"middle\" x=\"122.75\" y=\"-14.3\" font-family=\"Times,serif\" font-size=\"14.00\">Failed</text>\n</g>\n<!-- B&#45;&gt;E -->\n<g id=\"edge4\" class=\"edge\">\n<title>B&#45;&gt;E</title>\n<path fill=\"none\" stroke=\"black\" d=\"M122.75,-86.8C122.75,-75.16 122.75,-59.55 122.75,-46.24\"/>\n<polygon fill=\"black\" stroke=\"black\" points=\"126.25,-46.18 122.75,-36.18 119.25,-46.18 126.25,-46.18\"/>\n<text text-anchor=\"middle\" x=\"135.75\" y=\"-57.8\" font-family=\"Times,serif\" font-size=\"14.00\">14%</text>\n</g>\n<!-- F -->\n<g id=\"node6\" class=\"node\">\n<title>F</title>\n<ellipse fill=\"none\" stroke=\"black\" cx=\"209.75\" cy=\"-18\" rx=\"36\" ry=\"18\"/>\n<text text-anchor=\"middle\" x=\"209.75\" y=\"-14.3\" font-family=\"Times,serif\" font-size=\"14.00\">Passed</text>\n</g>\n<!-- C&#45;&gt;F -->\n<g id=\"edge5\" class=\"edge\">\n<title>C&#45;&gt;F</title>\n<path fill=\"none\" stroke=\"black\" d=\"M209.75,-86.8C209.75,-75.16 209.75,-59.55 209.75,-46.24\"/>\n<polygon fill=\"black\" stroke=\"black\" points=\"213.25,-46.18 209.75,-36.18 206.25,-46.18 213.25,-46.18\"/>\n<text text-anchor=\"middle\" x=\"222.75\" y=\"-57.8\" font-family=\"Times,serif\" font-size=\"14.00\">65%</text>\n</g>\n<!-- G -->\n<g id=\"node7\" class=\"node\">\n<title>G</title>\n<ellipse fill=\"none\" stroke=\"black\" cx=\"296.75\" cy=\"-18\" rx=\"33.29\" ry=\"18\"/>\n<text text-anchor=\"middle\" x=\"296.75\" y=\"-14.3\" font-family=\"Times,serif\" font-size=\"14.00\">Failed</text>\n</g>\n<!-- C&#45;&gt;G -->\n<g id=\"edge6\" class=\"edge\">\n<title>C&#45;&gt;G</title>\n<path fill=\"none\" stroke=\"black\" d=\"M224.51,-89.58C238.09,-76.31 258.44,-56.43 274.08,-41.15\"/>\n<polygon fill=\"black\" stroke=\"black\" points=\"276.62,-43.56 281.33,-34.06 271.73,-38.55 276.62,-43.56\"/>\n<text text-anchor=\"middle\" x=\"270.75\" y=\"-57.8\" font-family=\"Times,serif\" font-size=\"14.00\">35%</text>\n</g>\n</g>\n</svg>\n"
     },
     "metadata": {},
     "execution_count": 16
    }
   ],
   "metadata": {}
  },
  {
   "cell_type": "markdown",
   "source": [
    "* (b) From the graph, $P(Box\\ Plot \\mid Passed) = \\frac{0.80 * 0.86}{0.80 * 0.86 + 0.20 * 0.60} = 0.8411 = 84.11\\%$."
   ],
   "metadata": {}
  },
  {
   "cell_type": "markdown",
   "source": [
    "### Exercise 3.20 - Predisposition for thrombosis.\n",
    "\n",
    "Let's denote having the predisposition as event $A$, and resulting positive as event $B$. We know that $P(A) = 3\\% = 0.03$, $P(B \\mid A) = 99\\% = 0.99$ and $P(B \\mid A^C) = 1 - P(B^C \\mid A^C) = 1 - 0.98 = 0.02$. Let's apply Bayes Theorem:\n",
    "$$\n",
    "P(A \\mid B) = \\frac{P(B \\mid A) * P(A)}{P(B \\mid A) * P(A) + P(B \\mid A^C) * P(A^C)} = \\frac{0.99 * 0.03}{0.99 * 0.03 + 0.02 * 0.97} = 0.6049\n",
    "$$"
   ],
   "metadata": {}
  },
  {
   "cell_type": "markdown",
   "source": [
    "### Exercise 3.21 - It’s never lupus.\n",
    "\n",
    "Let's get directly to the numbers, by calculating the probability that a patient has lupus given that he/she resulted positive. Let's denote these two events respectively $A$ and $B$.\n",
    "$$\n",
    "P(A \\mid B) = \\frac{P(B \\mid A) * P(A)}{P(B \\mid A) * P(A) + P(B \\mid A^C) * P(A^C)} = \\frac{0.98 * 0.02}{0.98 * 0.02 + 0.26 * 0.98} = 0.0714.\n",
    "$$\n",
    "Given the low probability we got, the show is right to say it's never lupus."
   ],
   "metadata": {}
  },
  {
   "cell_type": "markdown",
   "source": [
    "### Exercise 3.22 - Exit poll.\n",
    "Let $A$ be the event of sampling a person with a college degree and $B$ the probability of sampling a person who voted for Scott Walker.\n",
    "$$\n",
    "P(B \\mid A) = \\frac{P(A \\mid B) * P(B)}{P(A \\mid B) * P(B) + P(A \\mid B^C) * P(B^C)} = \\frac{0.37 * 0.53}{0.37 * 0.53 + 0.44 * 0.47} = 0.4867 = 48.67\\%\n",
    "$$"
   ],
   "metadata": {}
  },
  {
   "cell_type": "markdown",
   "source": [
    "### Guided Practice 3.49\n",
    "\n",
    "The General Multiplication Rule on the probability of not being picked on $Q_1$, then two conditional probabilities which chains on this first probability and builds a prior probability on it/them."
   ],
   "metadata": {}
  },
  {
   "cell_type": "markdown",
   "source": [
    "### Guided Practice 3.51\n",
    "\n",
    "$(\\frac{1}{15})^3 = 0.000296$."
   ],
   "metadata": {}
  },
  {
   "cell_type": "markdown",
   "source": [
    "### Guided Practice 3.52\n",
    "\n",
    "* (a) First let's calculate the probability of not winning (let the probability of winning be $A$) as $P(A^C) = \\frac{29}{30} * \\frac{28}{29} * ...\\ * \\frac{23}{24} = \\frac{23}{30} = 0.767$. Now $P(A) = 1 - P(A^C) = 1 - 0.767 = 0.233$.\n",
    "* (b) Same as above, but since we are sampling with replacement, each time we sample from all the 30 numbers, and so $P(A^C) = (\\frac{29}{30})^7 = 0.789$. Now $P(A) = 1 - 0.789 = 0.211$."
   ],
   "metadata": {}
  },
  {
   "cell_type": "markdown",
   "source": [
    "### Guided Practice 3.53\n",
    "\n",
    "There's more chance of winning if we sample without replacement."
   ],
   "metadata": {}
  },
  {
   "cell_type": "markdown",
   "source": [
    "### Exercise 3.23 - Marbles in an urn.\n",
    "\n",
    "* (a) The probability to get the first marble blue is $P(Blue) = \\frac{3}{5 + 3 + 2} = \\frac{3}{10} = 0.3$.\n",
    "* (b) The probability is given by drawing two blue marbles in a row: $0.3 * 0.3 = 0.09$.\n",
    "* (c) The probability is given by drawing an orange marble and then a blue marble, under the replacement condition: $\\frac{1}{5} * \\frac{3}{10} = 0.2 * 0.3 = 0.06$.\n",
    "* (d) $\\frac{3}{10} * \\frac{2}{9} = 0.07$.\n",
    "* (e) With replacement we have independence as the current draw is not affected by the previous in any way."
   ],
   "metadata": {}
  },
  {
   "cell_type": "markdown",
   "source": [
    "### Exercise 3.24 - Socks in a drawer.\n",
    "\n",
    "* (a) Here we are sampling without replacement, so $\\frac{4}{12} * \\frac{3}{11} = 0.091$.\n",
    "* (b) $\\frac{7}{12} * \\frac{6}{11} = 0.318$.\n",
    "* (c) $1 - (\\frac{9}{12} * \\frac{8}{11}) = 0.454$\n",
    "* (d) 0.\n",
    "* (e) $0.091 + 0.151 + 0.045 = 0.287$."
   ],
   "metadata": {}
  },
  {
   "cell_type": "markdown",
   "source": [
    "### Exercise 3.25 - Chips in a bag.\n",
    "\n",
    "* (a) $\\frac{2}{9} = 0.222$.\n",
    "* (b) $\\frac{3}{9} = 0.333$.\n",
    "* (c) $\\frac{3}{10} * \\frac{2}{9} = 0.067$.\n",
    "* (d) The draws are not independent anymore since each time we are decreasing the number of possible draws, so the probabilities change."
   ],
   "metadata": {}
  },
  {
   "cell_type": "markdown",
   "source": [
    "### Exercise 3.26 - Books on a bookshelf.\n",
    "\n",
    "* (a) $\\frac{28}{95} * \\frac{59}{94} = 0.185$.\n",
    "* (b) To answer this question, we have to calculate the total probability considering whether or not the fiction book drawn before is hardcover or paperback: $P(second = hardcover \\mid first = fiction) = P(second = hardcover \\mid first = fiction,\\ hardcover) * P(first = fiction,\\ hardcover) + P(second = hardcover \\mid first = fiction,\\ paperback) * P(first = fiction,\\ paperback) = \\frac{27}{94} * \\frac{13}{95} + \\frac{28}{94} * \\frac{59}{95} = 0.224$.\n",
    "* (c) In this case, the two extractions are independent, therefore we calculate such a probability as: $P(second = hardcover \\mid first = fiction) = \\frac{72}{95} * \\frac{28}{95} = 0.223$.\n",
    "* (d) The probability of picking a hardcover fiction book ($0.181$) is much less than picking a paperback fiction book ($0.819$), so the first is pretty insignificant relative to the second. Therefore, it is very likely that the fiction book drawn at first is also paperback.\n"
   ],
   "metadata": {}
  },
  {
   "cell_type": "markdown",
   "source": [
    "### Exercise 3.27 - Student outfits.\n",
    "\n",
    "$$\n",
    "\\frac{5}{24} * \\frac{7}{23} * \\frac{6}{22} = 0.017\n",
    "$$"
   ],
   "metadata": {}
  },
  {
   "cell_type": "markdown",
   "source": [
    "### Exercise 3.28 - The birthday problem. \n",
    "\n",
    "* (a) $\\frac{1}{365} * \\frac{1}{365} = 0.0000007511$.\n",
    "* (b) $1 - \\frac{362}{365} = 0.0082$."
   ],
   "metadata": {}
  },
  {
   "cell_type": "markdown",
   "source": [
    "### Guided Practice 3.55 \n",
    "\n",
    "I wouldn't be surprised as that is just an expected value."
   ],
   "metadata": {}
  },
  {
   "cell_type": "markdown",
   "source": [
    "### Guided Practice 3.59\n",
    "\n",
    "* (a) $100\\% - 25\\% - 60\\% = 15\\%$.\n",
    "* (b) Let's render the table.\n",
    "\n",
    "|_Y_|  0 \t| 159 \t| 200 \t|\n",
    "|- |---\t|---\t|---\t|\n",
    "|P|  0.15 \t| 0.25 \t| 0.60 \t|\n",
    "\n",
    "* (c) $159.75$.\n",
    "* (d) $69.28$."
   ],
   "metadata": {}
  },
  {
   "cell_type": "markdown",
   "source": [],
   "metadata": {}
  }
 ],
 "metadata": {
  "orig_nbformat": 4,
  "language_info": {
   "name": "python",
   "version": "3.9.6",
   "mimetype": "text/x-python",
   "codemirror_mode": {
    "name": "ipython",
    "version": 3
   },
   "pygments_lexer": "ipython3",
   "nbconvert_exporter": "python",
   "file_extension": ".py"
  },
  "kernelspec": {
   "name": "python3",
   "display_name": "Python 3.9.6 64-bit ('base': conda)"
  },
  "interpreter": {
   "hash": "a473aa0524f7e71cff5bf41ad0f6e637ac4e671de457aeaaf8dd3e29779b2e94"
  }
 },
 "nbformat": 4,
 "nbformat_minor": 2
}