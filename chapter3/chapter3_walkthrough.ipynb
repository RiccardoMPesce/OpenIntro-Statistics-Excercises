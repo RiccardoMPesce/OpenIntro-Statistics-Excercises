{
 "cells": [
  {
   "cell_type": "markdown",
   "source": [
    "# Chapter 3: Probability"
   ],
   "metadata": {}
  },
  {
   "cell_type": "markdown",
   "source": [
    "### Guided Practice 3.6\n",
    "\n",
    "Another random process can be random selecting a winner from a set of partecipants of a TV show. If we suppose the process if purely random, the probability of selecting a generic individual numbered $k$ is $P(k) = \\frac{1}{n}$ where $n$ is the number of partecipants."
   ],
   "metadata": {}
  },
  {
   "cell_type": "markdown",
   "source": [
    "### Guided Practice 3.7\n",
    "\n",
    "* (a) They are disjoint cause when we roll a dice we only get one face and not multiple faces at the same time.\n",
    "* (b) The addition rule tells us that $P(1) + P(4) + P(5) = \\frac{1}{3}$."
   ],
   "metadata": {}
  },
  {
   "cell_type": "markdown",
   "source": [
    "### Guided Practice 3.8\n",
    "\n",
    "To answer these questions it is best if we use a script."
   ],
   "metadata": {}
  },
  {
   "cell_type": "code",
   "execution_count": 41,
   "source": [
    "import pandas as pd\n",
    "from pathlib import Path\n",
    "\n",
    "loans_path = Path(\"../datasets/loans_full_schema.csv\")\n",
    "loans_df = pd.read_csv(loans_path)"
   ],
   "outputs": [],
   "metadata": {}
  },
  {
   "cell_type": "markdown",
   "source": [
    "Let's now see the variable `homeownership`."
   ],
   "metadata": {}
  },
  {
   "cell_type": "code",
   "execution_count": 42,
   "source": [
    "loans_df[\"homeownership\"].unique()"
   ],
   "outputs": [
    {
     "output_type": "execute_result",
     "data": {
      "text/plain": [
       "array(['MORTGAGE', 'RENT', 'OWN'], dtype=object)"
      ]
     },
     "metadata": {},
     "execution_count": 42
    }
   ],
   "metadata": {}
  },
  {
   "cell_type": "markdown",
   "source": [
    "* (a) Of course we can say they are disjoint (they can't happen at the same time).\n",
    "\n",
    "Now let's define the proportions."
   ],
   "metadata": {}
  },
  {
   "cell_type": "code",
   "execution_count": 43,
   "source": [
    "print(loans_df[loans_df[\"homeownership\"] == \"MORTGAGE\"].shape[0] / loans_df.shape[0])\n",
    "print(loans_df[loans_df[\"homeownership\"] == \"OWN\"].shape[0] / loans_df.shape[0])\n",
    "print(loans_df[loans_df[\"homeownership\"] == \"MORTGAGE\"].shape[0] / loans_df.shape[0] + loans_df[loans_df[\"homeownership\"] == \"OWN\"].shape[0] / loans_df.shape[0])"
   ],
   "outputs": [
    {
     "output_type": "stream",
     "name": "stdout",
     "text": [
      "0.4789\n",
      "0.1353\n",
      "0.6142\n"
     ]
    }
   ],
   "metadata": {}
  },
  {
   "cell_type": "markdown",
   "source": [
    "* (b) We have `MORTGAGE` proportion equal to 0.4789 and `OWN` proportion equal to 0.1353.\n",
    "* (c) For the addition rule we have the probability of random selecting one of the `homeownership` above as 0.6142.\n",
    "\n",
    "Let's test point (c) by sampling 1000 random loans and see the proportion of those who are either one or the other."
   ],
   "metadata": {}
  },
  {
   "cell_type": "markdown",
   "source": [],
   "metadata": {}
  },
  {
   "cell_type": "code",
   "execution_count": 44,
   "source": [
    "rand_sample = loans_df.sample(n=1000)\n",
    "print(rand_sample[rand_sample[\"homeownership\"].isin([\"MORTGAGE\", \"OWN\"])].shape[0] / rand_sample.shape[0])"
   ],
   "outputs": [
    {
     "output_type": "stream",
     "name": "stdout",
     "text": [
      "0.652\n"
     ]
    }
   ],
   "metadata": {}
  },
  {
   "cell_type": "markdown",
   "source": [
    "The result is pretty coherent with the computed probability."
   ],
   "metadata": {}
  },
  {
   "cell_type": "markdown",
   "source": [
    "### Guided Practice 3.9 \n",
    "\n",
    "* (a) Since $P(A) = P(1\\ or\\ 2)$ we have $P(A) = P(1) + P(2) = \\frac{1}{6} + \\frac{1}{6} = \\frac{1}{3}$.\n",
    "* (b) For the same reason as above, $P(B) = P(4) + P(6) = \\frac{1}{3}$."
   ],
   "metadata": {}
  },
  {
   "cell_type": "markdown",
   "source": [
    "### Guided Practice 3.10\n",
    "\n",
    "* (a) Event D represent the outcome of getting either 2 or 3. \n",
    "* (b) Yes.\n",
    "* (c) No."
   ],
   "metadata": {}
  },
  {
   "cell_type": "markdown",
   "source": [
    "### Guided Practice 3.11\n",
    "\n",
    "We can compute the probability of A or B occurring as:\n",
    "$$\n",
    "P(A\\ or\\ B) = P(A) + P(B) = P(1) + P(2) + P(4) + P(6) = \\frac{4}{6} = 0.67\n",
    "$$"
   ],
   "metadata": {}
  },
  {
   "cell_type": "markdown",
   "source": [
    "### Guided Practice 3.12\n",
    "\n",
    "* (a) $\\frac{13}{52} = \\frac{1}{4} = 0.25$\n",
    "* (b) $\\frac{12}{52} = 0.231$"
   ],
   "metadata": {}
  },
  {
   "cell_type": "markdown",
   "source": [
    "### Guided Practice 3.13\n",
    "\n",
    "* (a) There would not be overlapping between the two Venn Diagrams representing A and B. \n",
    "* (b) If $P(A\\ and\\ B) = 0$ then $P(A\\ or\\ B) = P(A) + P(B)$."
   ],
   "metadata": {}
  },
  {
   "cell_type": "markdown",
   "source": [
    "### Guided Practice 3.14"
   ],
   "metadata": {}
  },
  {
   "cell_type": "code",
   "execution_count": 45,
   "source": [
    "from matplotlib_venn import venn2\n",
    "\n",
    "joint = loans_df[loans_df[\"application_type\"] == \"joint\"]\n",
    "mortgage = loans_df[loans_df[\"homeownership\"] == \"MORTGAGE\"]\n",
    "\n",
    "j_set = set(joint.index.values.tolist())\n",
    "m_set = set(mortgage.index.values.tolist())\n",
    "\n",
    "ax = venn2([j_set, m_set], [\"joint\", \"MORTGAGE\"])"
   ],
   "outputs": [
    {
     "output_type": "display_data",
     "data": {
      "text/plain": [
       "<Figure size 432x288 with 1 Axes>"
      ],
      "image/svg+xml": "<?xml version=\"1.0\" encoding=\"utf-8\" standalone=\"no\"?>\n<!DOCTYPE svg PUBLIC \"-//W3C//DTD SVG 1.1//EN\"\n  \"http://www.w3.org/Graphics/SVG/1.1/DTD/svg11.dtd\">\n<svg height=\"233.459434pt\" version=\"1.1\" viewBox=\"0 0 267.106719 233.459434\" width=\"267.106719pt\" xmlns=\"http://www.w3.org/2000/svg\" xmlns:xlink=\"http://www.w3.org/1999/xlink\">\n <metadata>\n  <rdf:RDF xmlns:cc=\"http://creativecommons.org/ns#\" xmlns:dc=\"http://purl.org/dc/elements/1.1/\" xmlns:rdf=\"http://www.w3.org/1999/02/22-rdf-syntax-ns#\">\n   <cc:Work>\n    <dc:type rdf:resource=\"http://purl.org/dc/dcmitype/StillImage\"/>\n    <dc:date>2021-08-10T10:19:17.975397</dc:date>\n    <dc:format>image/svg+xml</dc:format>\n    <dc:creator>\n     <cc:Agent>\n      <dc:title>Matplotlib v3.4.2, https://matplotlib.org/</dc:title>\n     </cc:Agent>\n    </dc:creator>\n   </cc:Work>\n  </rdf:RDF>\n </metadata>\n <defs>\n  <style type=\"text/css\">*{stroke-linecap:butt;stroke-linejoin:round;}</style>\n </defs>\n <g id=\"figure_1\">\n  <g id=\"patch_1\">\n   <path d=\"M 0 233.459434 \nL 267.106719 233.459434 \nL 267.106719 0 \nL 0 0 \nz\n\" style=\"fill:none;\"/>\n  </g>\n  <g id=\"axes_1\">\n   <g id=\"patch_2\">\n    <path clip-path=\"url(#pdc9259a4aa)\" d=\"M 75.227702 167.091588 \nC 65.042103 151.972102 59.599036 134.150339 59.599036 115.92 \nC 59.599036 97.689661 65.042103 79.867898 75.227702 64.748412 \nC 61.709245 64.821577 48.755791 70.248779 39.222562 79.833744 \nC 29.689333 89.418709 24.332317 102.401346 24.332317 115.92 \nC 24.332317 129.438654 29.689333 142.421291 39.222562 152.006256 \nC 48.755791 161.591221 61.709245 167.018423 75.227702 167.091588 \n\" style=\"fill:#ff0000;opacity:0.4;\"/>\n   </g>\n   <g id=\"patch_3\">\n    <path clip-path=\"url(#pdc9259a4aa)\" d=\"M 75.227702 64.748412 \nC 81.970794 64.711917 88.655075 66.008627 94.895395 68.563826 \nC 101.135714 71.119024 106.809868 74.882673 111.59091 79.637908 \nC 116.371952 84.393144 120.166254 90.046845 122.755189 96.273244 \nC 125.344123 102.499643 126.676991 109.176809 126.676991 115.92 \nC 126.676991 122.663191 125.344123 129.340357 122.755189 135.566756 \nC 120.166254 141.793155 116.371952 147.446856 111.59091 152.202092 \nC 106.809868 156.957327 101.135714 160.720976 94.895395 163.276174 \nC 88.655075 165.831373 81.970794 167.128083 75.227702 167.091588 \nC 80.673494 175.175312 87.374968 182.338125 95.07879 188.309253 \nC 102.782612 194.280381 111.390468 198.983622 120.576956 202.24118 \nC 129.763444 205.498738 139.411329 207.26904 149.155893 207.485165 \nC 158.900458 207.70129 168.617344 206.360479 177.939226 203.513419 \nC 187.261109 200.666359 196.069024 196.349383 204.030008 190.725685 \nC 211.990992 185.101987 219.003449 178.243335 224.802288 170.409006 \nC 230.601127 162.574677 235.112344 153.86465 238.165404 144.608189 \nC 241.218463 135.351728 242.774402 125.666961 242.774402 115.92 \nC 242.774402 106.173039 241.218463 96.488272 238.165404 87.231811 \nC 235.112344 77.97535 230.601127 69.265323 224.802288 61.430994 \nC 219.003449 53.596665 211.990992 46.738013 204.030008 41.114315 \nC 196.069024 35.490617 187.261109 31.173641 177.939226 28.326581 \nC 168.617344 25.479521 158.900458 24.13871 149.155893 24.354835 \nC 139.411329 24.57096 129.763444 26.341262 120.576956 29.59882 \nC 111.390468 32.856378 102.782612 37.559619 95.07879 43.530747 \nC 87.374968 49.501875 80.673494 56.664688 75.227702 64.748412 \n\" style=\"fill:#008000;opacity:0.4;\"/>\n   </g>\n   <g id=\"patch_4\">\n    <path clip-path=\"url(#pdc9259a4aa)\" d=\"M 75.227702 167.091588 \nC 81.970794 167.128083 88.655075 165.831373 94.895395 163.276174 \nC 101.135714 160.720976 106.809868 156.957327 111.59091 152.202092 \nC 116.371952 147.446856 120.166254 141.793155 122.755189 135.566756 \nC 125.344123 129.340357 126.676991 122.663191 126.676991 115.92 \nC 126.676991 109.176809 125.344123 102.499643 122.755189 96.273244 \nC 120.166254 90.046845 116.371952 84.393144 111.59091 79.637908 \nC 106.809868 74.882673 101.135714 71.119024 94.895395 68.563826 \nC 88.655075 66.008627 81.970794 64.711917 75.227702 64.748412 \nC 65.042103 79.867898 59.599036 97.689661 59.599036 115.92 \nC 59.599036 134.150339 65.042103 151.972102 75.227702 167.091588 \n\" style=\"fill:#b25900;opacity:0.4;\"/>\n   </g>\n   <g id=\"text_1\">\n    <!-- 545 -->\n    <g transform=\"translate(32.421926 118.679375)scale(0.1 -0.1)\">\n     <defs>\n      <path d=\"M 691 4666 \nL 3169 4666 \nL 3169 4134 \nL 1269 4134 \nL 1269 2991 \nQ 1406 3038 1543 3061 \nQ 1681 3084 1819 3084 \nQ 2600 3084 3056 2656 \nQ 3513 2228 3513 1497 \nQ 3513 744 3044 326 \nQ 2575 -91 1722 -91 \nQ 1428 -91 1123 -41 \nQ 819 9 494 109 \nL 494 744 \nQ 775 591 1075 516 \nQ 1375 441 1709 441 \nQ 2250 441 2565 725 \nQ 2881 1009 2881 1497 \nQ 2881 1984 2565 2268 \nQ 2250 2553 1709 2553 \nQ 1456 2553 1204 2497 \nQ 953 2441 691 2322 \nL 691 4666 \nz\n\" id=\"DejaVuSans-35\" transform=\"scale(0.015625)\"/>\n      <path d=\"M 2419 4116 \nL 825 1625 \nL 2419 1625 \nL 2419 4116 \nz\nM 2253 4666 \nL 3047 4666 \nL 3047 1625 \nL 3713 1625 \nL 3713 1100 \nL 3047 1100 \nL 3047 0 \nL 2419 0 \nL 2419 1100 \nL 313 1100 \nL 313 1709 \nL 2253 4666 \nz\n\" id=\"DejaVuSans-34\" transform=\"scale(0.015625)\"/>\n     </defs>\n     <use xlink:href=\"#DejaVuSans-35\"/>\n     <use x=\"63.623047\" xlink:href=\"#DejaVuSans-34\"/>\n     <use x=\"127.246094\" xlink:href=\"#DejaVuSans-35\"/>\n    </g>\n   </g>\n   <g id=\"text_2\">\n    <!-- 3839 -->\n    <g transform=\"translate(172.000697 118.679375)scale(0.1 -0.1)\">\n     <defs>\n      <path d=\"M 2597 2516 \nQ 3050 2419 3304 2112 \nQ 3559 1806 3559 1356 \nQ 3559 666 3084 287 \nQ 2609 -91 1734 -91 \nQ 1441 -91 1130 -33 \nQ 819 25 488 141 \nL 488 750 \nQ 750 597 1062 519 \nQ 1375 441 1716 441 \nQ 2309 441 2620 675 \nQ 2931 909 2931 1356 \nQ 2931 1769 2642 2001 \nQ 2353 2234 1838 2234 \nL 1294 2234 \nL 1294 2753 \nL 1863 2753 \nQ 2328 2753 2575 2939 \nQ 2822 3125 2822 3475 \nQ 2822 3834 2567 4026 \nQ 2313 4219 1838 4219 \nQ 1578 4219 1281 4162 \nQ 984 4106 628 3988 \nL 628 4550 \nQ 988 4650 1302 4700 \nQ 1616 4750 1894 4750 \nQ 2613 4750 3031 4423 \nQ 3450 4097 3450 3541 \nQ 3450 3153 3228 2886 \nQ 3006 2619 2597 2516 \nz\n\" id=\"DejaVuSans-33\" transform=\"scale(0.015625)\"/>\n      <path d=\"M 2034 2216 \nQ 1584 2216 1326 1975 \nQ 1069 1734 1069 1313 \nQ 1069 891 1326 650 \nQ 1584 409 2034 409 \nQ 2484 409 2743 651 \nQ 3003 894 3003 1313 \nQ 3003 1734 2745 1975 \nQ 2488 2216 2034 2216 \nz\nM 1403 2484 \nQ 997 2584 770 2862 \nQ 544 3141 544 3541 \nQ 544 4100 942 4425 \nQ 1341 4750 2034 4750 \nQ 2731 4750 3128 4425 \nQ 3525 4100 3525 3541 \nQ 3525 3141 3298 2862 \nQ 3072 2584 2669 2484 \nQ 3125 2378 3379 2068 \nQ 3634 1759 3634 1313 \nQ 3634 634 3220 271 \nQ 2806 -91 2034 -91 \nQ 1263 -91 848 271 \nQ 434 634 434 1313 \nQ 434 1759 690 2068 \nQ 947 2378 1403 2484 \nz\nM 1172 3481 \nQ 1172 3119 1398 2916 \nQ 1625 2713 2034 2713 \nQ 2441 2713 2670 2916 \nQ 2900 3119 2900 3481 \nQ 2900 3844 2670 4047 \nQ 2441 4250 2034 4250 \nQ 1625 4250 1398 4047 \nQ 1172 3844 1172 3481 \nz\n\" id=\"DejaVuSans-38\" transform=\"scale(0.015625)\"/>\n      <path d=\"M 703 97 \nL 703 672 \nQ 941 559 1184 500 \nQ 1428 441 1663 441 \nQ 2288 441 2617 861 \nQ 2947 1281 2994 2138 \nQ 2813 1869 2534 1725 \nQ 2256 1581 1919 1581 \nQ 1219 1581 811 2004 \nQ 403 2428 403 3163 \nQ 403 3881 828 4315 \nQ 1253 4750 1959 4750 \nQ 2769 4750 3195 4129 \nQ 3622 3509 3622 2328 \nQ 3622 1225 3098 567 \nQ 2575 -91 1691 -91 \nQ 1453 -91 1209 -44 \nQ 966 3 703 97 \nz\nM 1959 2075 \nQ 2384 2075 2632 2365 \nQ 2881 2656 2881 3163 \nQ 2881 3666 2632 3958 \nQ 2384 4250 1959 4250 \nQ 1534 4250 1286 3958 \nQ 1038 3666 1038 3163 \nQ 1038 2656 1286 2365 \nQ 1534 2075 1959 2075 \nz\n\" id=\"DejaVuSans-39\" transform=\"scale(0.015625)\"/>\n     </defs>\n     <use xlink:href=\"#DejaVuSans-33\"/>\n     <use x=\"63.623047\" xlink:href=\"#DejaVuSans-38\"/>\n     <use x=\"127.246094\" xlink:href=\"#DejaVuSans-33\"/>\n     <use x=\"190.869141\" xlink:href=\"#DejaVuSans-39\"/>\n    </g>\n   </g>\n   <g id=\"text_3\">\n    <!-- 950 -->\n    <g transform=\"translate(83.594263 118.679375)scale(0.1 -0.1)\">\n     <defs>\n      <path d=\"M 2034 4250 \nQ 1547 4250 1301 3770 \nQ 1056 3291 1056 2328 \nQ 1056 1369 1301 889 \nQ 1547 409 2034 409 \nQ 2525 409 2770 889 \nQ 3016 1369 3016 2328 \nQ 3016 3291 2770 3770 \nQ 2525 4250 2034 4250 \nz\nM 2034 4750 \nQ 2819 4750 3233 4129 \nQ 3647 3509 3647 2328 \nQ 3647 1150 3233 529 \nQ 2819 -91 2034 -91 \nQ 1250 -91 836 529 \nQ 422 1150 422 2328 \nQ 422 3509 836 4129 \nQ 1250 4750 2034 4750 \nz\n\" id=\"DejaVuSans-30\" transform=\"scale(0.015625)\"/>\n     </defs>\n     <use xlink:href=\"#DejaVuSans-39\"/>\n     <use x=\"63.623047\" xlink:href=\"#DejaVuSans-35\"/>\n     <use x=\"127.246094\" xlink:href=\"#DejaVuSans-30\"/>\n    </g>\n   </g>\n   <g id=\"text_4\">\n    <!-- joint -->\n    <g transform=\"translate(49.185279 183.348463)scale(0.12 -0.12)\">\n     <defs>\n      <path d=\"M 603 3500 \nL 1178 3500 \nL 1178 -63 \nQ 1178 -731 923 -1031 \nQ 669 -1331 103 -1331 \nL -116 -1331 \nL -116 -844 \nL 38 -844 \nQ 366 -844 484 -692 \nQ 603 -541 603 -63 \nL 603 3500 \nz\nM 603 4863 \nL 1178 4863 \nL 1178 4134 \nL 603 4134 \nL 603 4863 \nz\n\" id=\"DejaVuSans-6a\" transform=\"scale(0.015625)\"/>\n      <path d=\"M 1959 3097 \nQ 1497 3097 1228 2736 \nQ 959 2375 959 1747 \nQ 959 1119 1226 758 \nQ 1494 397 1959 397 \nQ 2419 397 2687 759 \nQ 2956 1122 2956 1747 \nQ 2956 2369 2687 2733 \nQ 2419 3097 1959 3097 \nz\nM 1959 3584 \nQ 2709 3584 3137 3096 \nQ 3566 2609 3566 1747 \nQ 3566 888 3137 398 \nQ 2709 -91 1959 -91 \nQ 1206 -91 779 398 \nQ 353 888 353 1747 \nQ 353 2609 779 3096 \nQ 1206 3584 1959 3584 \nz\n\" id=\"DejaVuSans-6f\" transform=\"scale(0.015625)\"/>\n      <path d=\"M 603 3500 \nL 1178 3500 \nL 1178 0 \nL 603 0 \nL 603 3500 \nz\nM 603 4863 \nL 1178 4863 \nL 1178 4134 \nL 603 4134 \nL 603 4863 \nz\n\" id=\"DejaVuSans-69\" transform=\"scale(0.015625)\"/>\n      <path d=\"M 3513 2113 \nL 3513 0 \nL 2938 0 \nL 2938 2094 \nQ 2938 2591 2744 2837 \nQ 2550 3084 2163 3084 \nQ 1697 3084 1428 2787 \nQ 1159 2491 1159 1978 \nL 1159 0 \nL 581 0 \nL 581 3500 \nL 1159 3500 \nL 1159 2956 \nQ 1366 3272 1645 3428 \nQ 1925 3584 2291 3584 \nQ 2894 3584 3203 3211 \nQ 3513 2838 3513 2113 \nz\n\" id=\"DejaVuSans-6e\" transform=\"scale(0.015625)\"/>\n      <path d=\"M 1172 4494 \nL 1172 3500 \nL 2356 3500 \nL 2356 3053 \nL 1172 3053 \nL 1172 1153 \nQ 1172 725 1289 603 \nQ 1406 481 1766 481 \nL 2356 481 \nL 2356 0 \nL 1766 0 \nQ 1100 0 847 248 \nQ 594 497 594 1153 \nL 594 3053 \nL 172 3053 \nL 172 3500 \nL 594 3500 \nL 594 4494 \nL 1172 4494 \nz\n\" id=\"DejaVuSans-74\" transform=\"scale(0.015625)\"/>\n     </defs>\n     <use xlink:href=\"#DejaVuSans-6a\"/>\n     <use x=\"27.783203\" xlink:href=\"#DejaVuSans-6f\"/>\n     <use x=\"88.964844\" xlink:href=\"#DejaVuSans-69\"/>\n     <use x=\"116.748047\" xlink:href=\"#DejaVuSans-6e\"/>\n     <use x=\"180.126953\" xlink:href=\"#DejaVuSans-74\"/>\n    </g>\n   </g>\n   <g id=\"text_5\">\n    <!-- MORTGAGE -->\n    <g transform=\"translate(151.186719 223.763809)scale(0.12 -0.12)\">\n     <defs>\n      <path d=\"M 628 4666 \nL 1569 4666 \nL 2759 1491 \nL 3956 4666 \nL 4897 4666 \nL 4897 0 \nL 4281 0 \nL 4281 4097 \nL 3078 897 \nL 2444 897 \nL 1241 4097 \nL 1241 0 \nL 628 0 \nL 628 4666 \nz\n\" id=\"DejaVuSans-4d\" transform=\"scale(0.015625)\"/>\n      <path d=\"M 2522 4238 \nQ 1834 4238 1429 3725 \nQ 1025 3213 1025 2328 \nQ 1025 1447 1429 934 \nQ 1834 422 2522 422 \nQ 3209 422 3611 934 \nQ 4013 1447 4013 2328 \nQ 4013 3213 3611 3725 \nQ 3209 4238 2522 4238 \nz\nM 2522 4750 \nQ 3503 4750 4090 4092 \nQ 4678 3434 4678 2328 \nQ 4678 1225 4090 567 \nQ 3503 -91 2522 -91 \nQ 1538 -91 948 565 \nQ 359 1222 359 2328 \nQ 359 3434 948 4092 \nQ 1538 4750 2522 4750 \nz\n\" id=\"DejaVuSans-4f\" transform=\"scale(0.015625)\"/>\n      <path d=\"M 2841 2188 \nQ 3044 2119 3236 1894 \nQ 3428 1669 3622 1275 \nL 4263 0 \nL 3584 0 \nL 2988 1197 \nQ 2756 1666 2539 1819 \nQ 2322 1972 1947 1972 \nL 1259 1972 \nL 1259 0 \nL 628 0 \nL 628 4666 \nL 2053 4666 \nQ 2853 4666 3247 4331 \nQ 3641 3997 3641 3322 \nQ 3641 2881 3436 2590 \nQ 3231 2300 2841 2188 \nz\nM 1259 4147 \nL 1259 2491 \nL 2053 2491 \nQ 2509 2491 2742 2702 \nQ 2975 2913 2975 3322 \nQ 2975 3731 2742 3939 \nQ 2509 4147 2053 4147 \nL 1259 4147 \nz\n\" id=\"DejaVuSans-52\" transform=\"scale(0.015625)\"/>\n      <path d=\"M -19 4666 \nL 3928 4666 \nL 3928 4134 \nL 2272 4134 \nL 2272 0 \nL 1638 0 \nL 1638 4134 \nL -19 4134 \nL -19 4666 \nz\n\" id=\"DejaVuSans-54\" transform=\"scale(0.015625)\"/>\n      <path d=\"M 3809 666 \nL 3809 1919 \nL 2778 1919 \nL 2778 2438 \nL 4434 2438 \nL 4434 434 \nQ 4069 175 3628 42 \nQ 3188 -91 2688 -91 \nQ 1594 -91 976 548 \nQ 359 1188 359 2328 \nQ 359 3472 976 4111 \nQ 1594 4750 2688 4750 \nQ 3144 4750 3555 4637 \nQ 3966 4525 4313 4306 \nL 4313 3634 \nQ 3963 3931 3569 4081 \nQ 3175 4231 2741 4231 \nQ 1884 4231 1454 3753 \nQ 1025 3275 1025 2328 \nQ 1025 1384 1454 906 \nQ 1884 428 2741 428 \nQ 3075 428 3337 486 \nQ 3600 544 3809 666 \nz\n\" id=\"DejaVuSans-47\" transform=\"scale(0.015625)\"/>\n      <path d=\"M 2188 4044 \nL 1331 1722 \nL 3047 1722 \nL 2188 4044 \nz\nM 1831 4666 \nL 2547 4666 \nL 4325 0 \nL 3669 0 \nL 3244 1197 \nL 1141 1197 \nL 716 0 \nL 50 0 \nL 1831 4666 \nz\n\" id=\"DejaVuSans-41\" transform=\"scale(0.015625)\"/>\n      <path d=\"M 628 4666 \nL 3578 4666 \nL 3578 4134 \nL 1259 4134 \nL 1259 2753 \nL 3481 2753 \nL 3481 2222 \nL 1259 2222 \nL 1259 531 \nL 3634 531 \nL 3634 0 \nL 628 0 \nL 628 4666 \nz\n\" id=\"DejaVuSans-45\" transform=\"scale(0.015625)\"/>\n     </defs>\n     <use xlink:href=\"#DejaVuSans-4d\"/>\n     <use x=\"86.279297\" xlink:href=\"#DejaVuSans-4f\"/>\n     <use x=\"164.990234\" xlink:href=\"#DejaVuSans-52\"/>\n     <use x=\"227.222656\" xlink:href=\"#DejaVuSans-54\"/>\n     <use x=\"288.306641\" xlink:href=\"#DejaVuSans-47\"/>\n     <use x=\"365.796875\" xlink:href=\"#DejaVuSans-41\"/>\n     <use x=\"432.455078\" xlink:href=\"#DejaVuSans-47\"/>\n     <use x=\"509.945312\" xlink:href=\"#DejaVuSans-45\"/>\n    </g>\n   </g>\n  </g>\n </g>\n <defs>\n  <clipPath id=\"pdc9259a4aa\">\n   <rect height=\"217.44\" width=\"252.706719\" x=\"7.2\" y=\"7.2\"/>\n  </clipPath>\n </defs>\n</svg>\n",
      "image/png": "[encoded data removed]"
     },
     "metadata": {}
    }
   ],
   "metadata": {}
  },
  {
   "cell_type": "markdown",
   "source": [
    "### Guided Practice 3.16\n",
    "\n",
    "Distribution (c) seems the correct one. Distribution (a) does not sum to 1, while distribution (b) has a negative value (-0.27) which does not represent any probability."
   ],
   "metadata": {}
  },
  {
   "cell_type": "markdown",
   "source": [
    "### Guided Practice 3.17\n",
    "\n",
    "* (a) $P(D^{c}) = P(1\\ or\\ 4\\ or\\ 5\\ or\\ 6) = 0.667$\n",
    "* (b) $P(D^{c}) + P(D) = 1$"
   ],
   "metadata": {}
  },
  {
   "cell_type": "markdown",
   "source": [
    "### Guided Practice 3.18\n",
    "\n",
    "* (a) $A^{c} = \\{3, 4, 5, 6\\}$ and $B^{c} = \\{1, 2, 3, 5\\}$.\n",
    "* (b) $P(A^{c}) = P(B^{c}) = 0.667$.\n",
    "* (c) They both are 1."
   ],
   "metadata": {}
  },
  {
   "cell_type": "markdown",
   "source": [
    "### Guided Practice 3.19\n",
    "\n",
    "* (a) Event $A^{c}$ is the event that both dice give 6 ($6 + 6 = 12$). It is $P(6\\ and\\ 6)$.\n",
    "* (b) $P(A^{c}) = 0.028$.\n",
    "* (c) $P(A) = 1 - P(A^{c}) = 0.972$."
   ],
   "metadata": {}
  },
  {
   "cell_type": "markdown",
   "source": [
    "### Guided Practice 3.22\n",
    "\n",
    "* (a) The probability follows the definition of independent probability $0.09 * 0.09 = 0.081$.\n",
    "* (b) $(1 - 0.09) * (1 - 0.09) = 0.83$."
   ],
   "metadata": {}
  },
  {
   "cell_type": "markdown",
   "source": [
    "### Guided Practice 3.23\n",
    "\n",
    "* (a) $(1 - 0.09)^{5} = 0.62$\n",
    "* (b) $0.09^{5} = 0.000009$\n",
    "* (c) $1 - (1 - 0.09)^{5} = 0.38$"
   ],
   "metadata": {}
  },
  {
   "cell_type": "markdown",
   "source": [
    "### Guided Practice 3.24\n",
    "\n",
    "* (a) It is still $0.455$.\n",
    "* (b) It is $0.455^{2} = 0.207$\n",
    "* (c) It is $0.045$.\n",
    "* (d) It is $0.045 * 0.207 = 0.009$"
   ],
   "metadata": {}
  },
  {
   "cell_type": "markdown",
   "source": [
    "### Exercise 3.1 - True or false.\n",
    "\n",
    "* (a) The probability won't change even if the sequence of events seen is ver unlike.\n",
    "* (b) They're not mutually exclusive since a face card can be red.\n",
    "* (c) They are indeed disjoint since ace is a type, like the three face cards are different types."
   ],
   "metadata": {}
  },
  {
   "cell_type": "markdown",
   "source": [
    "### Exercise 3.2 - Roulette wheel.\n",
    "\n",
    "* (a) The probability is still $\\frac{18}{38} = 0.474$.\n",
    "* (b) Same as above.\n",
    "* (c) I am very confident since each spin is independent from the other spins, and therefore in way probability will change."
   ],
   "metadata": {}
  },
  {
   "cell_type": "markdown",
   "source": [
    "### Exercise 3.3 - Four games, one winner.\n",
    "\n",
    "* (a) In this version, I would flip a coin 10 times, since I don't want to reach the stationary proportion of heads (around 0.5), which will be reached when we flip a coin 100 times. At 10 flips the proportion of heads is still fluctuating and if we get 6 heads and 4 tails, we have reached the minimum amount to win. It's clearly easier than reaching 60 heads and 40 tails.\n",
    "* (b) Here I will flip the coin 100 times, since we know that the probability of tossing a head is 0.5. At 100 flips, we will definitely reach a value greater than 0.40.\n",
    "* (c) As above, I would flip 100 coins, so I will reach a proportion very close to 0.5, and thus in our range.\n",
    "* (d) Here I will flip only 10 coins and if I am lucky I will only get 3 or less heads, which will make me win."
   ],
   "metadata": {}
  },
  {
   "cell_type": "markdown",
   "source": [
    "### Exercise 3.4 - Backgammon.\n",
    "\n",
    "This comes from the probability of two disjoint events happening. Since the single outcome of each dice in independent from the outcome of the other, we have two disjoint events. Any combination is equally possible, with a probability of $\\frac{1}{36}$, so the combinations gotten by the two players are equally possible, and purely random."
   ],
   "metadata": {}
  },
  {
   "cell_type": "markdown",
   "source": [
    "### Exercise 3.5 - Coin flips.\n",
    "\n",
    "* (a) The probability of getting all tails is $(\\frac{1}{2})^{10} = 0.000976$\n",
    "* (b) Same as above.\n",
    "* (c) The probability of getting at least one tail is $1 - (\\frac{1}{2})^{10} = 0.9990$"
   ],
   "metadata": {}
  },
  {
   "cell_type": "markdown",
   "source": [
    "### Exercise 3.6 - Dice rolls.\n",
    "\n",
    "* (a) Since the minimum value in a dice is 1, rolling two dices will always give a number from 2 to 12, so the probability of getting the sum of the two to 1 is 0. However let's create a script to automate the calculation."
   ],
   "metadata": {}
  },
  {
   "cell_type": "code",
   "execution_count": 46,
   "source": [
    "from itertools import product \n",
    "\n",
    "def calculate_prob_sum(s):\n",
    "    comb = list(product(range(1, 7), repeat=2))\n",
    "    return len([p for p in comb if p[0] + p[1] == s]) / len(comb)\n",
    "\n",
    "for num in [1, 5, 12]:\n",
    "    print(f\"The probability of getting a sum of {num} is {calculate_prob_sum(num)}!\")"
   ],
   "outputs": [
    {
     "output_type": "stream",
     "name": "stdout",
     "text": [
      "The probability of getting a sum of 1 is 0.0!\n",
      "The probability of getting a sum of 5 is 0.1111111111111111!\n",
      "The probability of getting a sum of 12 is 0.027777777777777776!\n"
     ]
    }
   ],
   "metadata": {}
  },
  {
   "cell_type": "markdown",
   "source": [
    "* (b) 0.111.\n",
    "* (c) 0.028."
   ],
   "metadata": {}
  },
  {
   "cell_type": "markdown",
   "source": [
    "### Exercise 3.7 - Swing voters.\n",
    "\n",
    "* (a) They are not mutually exclusive events, since there is overlapping between the two categories.\n",
    "* (b) To answer this question, we better do the analysis ourself with the original dataset which can be found [here](https://www.pewresearch.org/politics/dataset/april-2012-values-survey/)."
   ],
   "metadata": {}
  },
  {
   "cell_type": "code",
   "execution_count": 227,
   "source": [
    "from matplotlib_venn import venn2\n",
    "\n",
    "values12_path = Path(\"../datasets/values12public.sav\")\n",
    "values12_df = pd.read_spss(values12_path)\n",
    "\n",
    "registered = values12_df[values12_df[\"RV\"] == \"YES\"]\n",
    "registered = registered[[\"int_date\", \"swing\", \"swingdet\", \"party\"]]\n",
    "\n",
    "registered[\"swinger\"] = ~registered[\"swingdet\"].str.contains(\"no chance\")\n",
    "registered[registered[\"swinger\"]].shape[0] / registered.shape[0]\n",
    "\n",
    "independent = set(registered[registered[\"party\"] == \"Independent\"].index.values)\n",
    "swingers = set(registered[registered[\"swinger\"]].index.values)\n",
    "\n",
    "ax = venn2([independent, swingers], [\"A\", \"B\"])"
   ],
   "outputs": [
    {
     "output_type": "display_data",
     "data": {
      "text/plain": [
       "<Figure size 432x288 with 1 Axes>"
      ],
      "image/svg+xml": "<?xml version=\"1.0\" encoding=\"utf-8\" standalone=\"no\"?>\n<!DOCTYPE svg PUBLIC \"-//W3C//DTD SVG 1.1//EN\"\n  \"http://www.w3.org/Graphics/SVG/1.1/DTD/svg11.dtd\">\n<svg height=\"233.210172pt\" version=\"1.1\" viewBox=\"0 0 292.883259 233.210172\" width=\"292.883259pt\" xmlns=\"http://www.w3.org/2000/svg\" xmlns:xlink=\"http://www.w3.org/1999/xlink\">\n <metadata>\n  <rdf:RDF xmlns:cc=\"http://creativecommons.org/ns#\" xmlns:dc=\"http://purl.org/dc/elements/1.1/\" xmlns:rdf=\"http://www.w3.org/1999/02/22-rdf-syntax-ns#\">\n   <cc:Work>\n    <dc:type rdf:resource=\"http://purl.org/dc/dcmitype/StillImage\"/>\n    <dc:date>2021-08-10T22:31:30.500560</dc:date>\n    <dc:format>image/svg+xml</dc:format>\n    <dc:creator>\n     <cc:Agent>\n      <dc:title>Matplotlib v3.4.2, https://matplotlib.org/</dc:title>\n     </cc:Agent>\n    </dc:creator>\n   </cc:Work>\n  </rdf:RDF>\n </metadata>\n <defs>\n  <style type=\"text/css\">*{stroke-linecap:butt;stroke-linejoin:round;}</style>\n </defs>\n <g id=\"figure_1\">\n  <g id=\"patch_1\">\n   <path d=\"M 0 233.210172 \nL 292.883259 233.210172 \nL 292.883259 0 \nL 0 0 \nz\n\" style=\"fill:none;\"/>\n  </g>\n  <g id=\"axes_1\">\n   <g id=\"patch_2\">\n    <path clip-path=\"url(#pb41ef958f6)\" d=\"M 174.413305 184.791989 \nC 159.645887 180.304665 146.706118 171.184539 137.514962 158.785532 \nC 128.323805 146.386526 123.35976 131.354142 123.35976 115.92 \nC 123.35976 100.485858 128.323805 85.453474 137.514962 73.054468 \nC 146.706118 60.655461 159.645887 51.535335 174.413305 47.048011 \nC 161.269644 35.885037 145.201101 28.71448 128.114502 26.387259 \nC 111.027904 24.060037 93.626966 26.671997 77.976629 33.913182 \nC 62.326292 41.154367 49.071119 52.726547 39.784078 67.256471 \nC 30.497038 81.786395 25.560619 98.675644 25.560619 115.92 \nC 25.560619 133.164356 30.497038 150.053605 39.784078 164.583529 \nC 49.071119 179.113453 62.326292 190.685633 77.976629 197.926818 \nC 93.626966 205.168003 111.027904 207.779963 128.114502 205.452741 \nC 145.201101 203.12552 161.269644 195.954963 174.413305 184.791989 \n\" style=\"fill:#ff0000;opacity:0.4;\"/>\n   </g>\n   <g id=\"patch_3\">\n    <path clip-path=\"url(#pb41ef958f6)\" d=\"M 174.413305 47.048011 \nC 184.400693 55.530346 192.424507 66.08451 197.926818 77.976629 \nC 203.42913 89.868748 206.279381 102.816645 206.279381 115.92 \nC 206.279381 129.023355 203.42913 141.971252 197.926818 153.863371 \nC 192.424507 165.75549 184.400693 176.309654 174.413305 184.791989 \nC 185.170034 188.060599 196.544415 188.764155 207.621963 186.846092 \nC 218.699511 184.928029 229.175177 180.441165 238.206732 173.746238 \nC 247.238287 167.051312 254.577024 158.332684 259.632919 148.291322 \nC 264.688814 138.249959 267.322639 127.162377 267.322639 115.92 \nC 267.322639 104.677623 264.688814 93.590041 259.632919 83.548678 \nC 254.577024 73.507316 247.238287 64.788688 238.206732 58.093762 \nC 229.175177 51.398835 218.699511 46.911971 207.621963 44.993908 \nC 196.544415 43.075845 185.170034 43.779401 174.413305 47.048011 \n\" style=\"fill:#008000;opacity:0.4;\"/>\n   </g>\n   <g id=\"patch_4\">\n    <path clip-path=\"url(#pb41ef958f6)\" d=\"M 174.413305 184.791989 \nC 184.400693 176.309654 192.424507 165.75549 197.926818 153.863371 \nC 203.42913 141.971252 206.279381 129.023355 206.279381 115.92 \nC 206.279381 102.816645 203.42913 89.868748 197.926818 77.976629 \nC 192.424507 66.08451 184.400693 55.530346 174.413305 47.048011 \nC 159.645887 51.535335 146.706118 60.655461 137.514962 73.054468 \nC 128.323805 85.453474 123.35976 100.485858 123.35976 115.92 \nC 123.35976 131.354142 128.323805 146.386526 137.514962 158.785532 \nC 146.706118 171.184539 159.645887 180.304665 174.413305 184.791989 \n\" style=\"fill:#b25900;opacity:0.4;\"/>\n   </g>\n   <g id=\"text_1\">\n    <!-- 558 -->\n    <g transform=\"translate(64.91644 118.679375)scale(0.1 -0.1)\">\n     <defs>\n      <path d=\"M 691 4666 \nL 3169 4666 \nL 3169 4134 \nL 1269 4134 \nL 1269 2991 \nQ 1406 3038 1543 3061 \nQ 1681 3084 1819 3084 \nQ 2600 3084 3056 2656 \nQ 3513 2228 3513 1497 \nQ 3513 744 3044 326 \nQ 2575 -91 1722 -91 \nQ 1428 -91 1123 -41 \nQ 819 9 494 109 \nL 494 744 \nQ 775 591 1075 516 \nQ 1375 441 1709 441 \nQ 2250 441 2565 725 \nQ 2881 1009 2881 1497 \nQ 2881 1984 2565 2268 \nQ 2250 2553 1709 2553 \nQ 1456 2553 1204 2497 \nQ 953 2441 691 2322 \nL 691 4666 \nz\n\" id=\"DejaVuSans-35\" transform=\"scale(0.015625)\"/>\n      <path d=\"M 2034 2216 \nQ 1584 2216 1326 1975 \nQ 1069 1734 1069 1313 \nQ 1069 891 1326 650 \nQ 1584 409 2034 409 \nQ 2484 409 2743 651 \nQ 3003 894 3003 1313 \nQ 3003 1734 2745 1975 \nQ 2488 2216 2034 2216 \nz\nM 1403 2484 \nQ 997 2584 770 2862 \nQ 544 3141 544 3541 \nQ 544 4100 942 4425 \nQ 1341 4750 2034 4750 \nQ 2731 4750 3128 4425 \nQ 3525 4100 3525 3541 \nQ 3525 3141 3298 2862 \nQ 3072 2584 2669 2484 \nQ 3125 2378 3379 2068 \nQ 3634 1759 3634 1313 \nQ 3634 634 3220 271 \nQ 2806 -91 2034 -91 \nQ 1263 -91 848 271 \nQ 434 634 434 1313 \nQ 434 1759 690 2068 \nQ 947 2378 1403 2484 \nz\nM 1172 3481 \nQ 1172 3119 1398 2916 \nQ 1625 2713 2034 2713 \nQ 2441 2713 2670 2916 \nQ 2900 3119 2900 3481 \nQ 2900 3844 2670 4047 \nQ 2441 4250 2034 4250 \nQ 1625 4250 1398 4047 \nQ 1172 3844 1172 3481 \nz\n\" id=\"DejaVuSans-38\" transform=\"scale(0.015625)\"/>\n     </defs>\n     <use xlink:href=\"#DejaVuSans-35\"/>\n     <use x=\"63.623047\" xlink:href=\"#DejaVuSans-35\"/>\n     <use x=\"127.246094\" xlink:href=\"#DejaVuSans-38\"/>\n    </g>\n   </g>\n   <g id=\"text_2\">\n    <!-- 258 -->\n    <g transform=\"translate(227.25726 118.679375)scale(0.1 -0.1)\">\n     <defs>\n      <path d=\"M 1228 531 \nL 3431 531 \nL 3431 0 \nL 469 0 \nL 469 531 \nQ 828 903 1448 1529 \nQ 2069 2156 2228 2338 \nQ 2531 2678 2651 2914 \nQ 2772 3150 2772 3378 \nQ 2772 3750 2511 3984 \nQ 2250 4219 1831 4219 \nQ 1534 4219 1204 4116 \nQ 875 4013 500 3803 \nL 500 4441 \nQ 881 4594 1212 4672 \nQ 1544 4750 1819 4750 \nQ 2544 4750 2975 4387 \nQ 3406 4025 3406 3419 \nQ 3406 3131 3298 2873 \nQ 3191 2616 2906 2266 \nQ 2828 2175 2409 1742 \nQ 1991 1309 1228 531 \nz\n\" id=\"DejaVuSans-32\" transform=\"scale(0.015625)\"/>\n     </defs>\n     <use xlink:href=\"#DejaVuSans-32\"/>\n     <use x=\"63.623047\" xlink:href=\"#DejaVuSans-35\"/>\n     <use x=\"127.246094\" xlink:href=\"#DejaVuSans-38\"/>\n    </g>\n   </g>\n   <g id=\"text_3\">\n    <!-- 263 -->\n    <g transform=\"translate(155.27582 118.679375)scale(0.1 -0.1)\">\n     <defs>\n      <path d=\"M 2113 2584 \nQ 1688 2584 1439 2293 \nQ 1191 2003 1191 1497 \nQ 1191 994 1439 701 \nQ 1688 409 2113 409 \nQ 2538 409 2786 701 \nQ 3034 994 3034 1497 \nQ 3034 2003 2786 2293 \nQ 2538 2584 2113 2584 \nz\nM 3366 4563 \nL 3366 3988 \nQ 3128 4100 2886 4159 \nQ 2644 4219 2406 4219 \nQ 1781 4219 1451 3797 \nQ 1122 3375 1075 2522 \nQ 1259 2794 1537 2939 \nQ 1816 3084 2150 3084 \nQ 2853 3084 3261 2657 \nQ 3669 2231 3669 1497 \nQ 3669 778 3244 343 \nQ 2819 -91 2113 -91 \nQ 1303 -91 875 529 \nQ 447 1150 447 2328 \nQ 447 3434 972 4092 \nQ 1497 4750 2381 4750 \nQ 2619 4750 2861 4703 \nQ 3103 4656 3366 4563 \nz\n\" id=\"DejaVuSans-36\" transform=\"scale(0.015625)\"/>\n      <path d=\"M 2597 2516 \nQ 3050 2419 3304 2112 \nQ 3559 1806 3559 1356 \nQ 3559 666 3084 287 \nQ 2609 -91 1734 -91 \nQ 1441 -91 1130 -33 \nQ 819 25 488 141 \nL 488 750 \nQ 750 597 1062 519 \nQ 1375 441 1716 441 \nQ 2309 441 2620 675 \nQ 2931 909 2931 1356 \nQ 2931 1769 2642 2001 \nQ 2353 2234 1838 2234 \nL 1294 2234 \nL 1294 2753 \nL 1863 2753 \nQ 2328 2753 2575 2939 \nQ 2822 3125 2822 3475 \nQ 2822 3834 2567 4026 \nQ 2313 4219 1838 4219 \nQ 1578 4219 1281 4162 \nQ 984 4106 628 3988 \nL 628 4550 \nQ 988 4650 1302 4700 \nQ 1616 4750 1894 4750 \nQ 2613 4750 3031 4423 \nQ 3450 4097 3450 3541 \nQ 3450 3153 3228 2886 \nQ 3006 2619 2597 2516 \nz\n\" id=\"DejaVuSans-33\" transform=\"scale(0.015625)\"/>\n     </defs>\n     <use xlink:href=\"#DejaVuSans-32\"/>\n     <use x=\"63.623047\" xlink:href=\"#DejaVuSans-36\"/>\n     <use x=\"127.246094\" xlink:href=\"#DejaVuSans-33\"/>\n    </g>\n   </g>\n   <g id=\"text_4\">\n    <!-- A -->\n    <g transform=\"translate(107.71125 223.514547)scale(0.12 -0.12)\">\n     <defs>\n      <path d=\"M 2188 4044 \nL 1331 1722 \nL 3047 1722 \nL 2188 4044 \nz\nM 1831 4666 \nL 2547 4666 \nL 4325 0 \nL 3669 0 \nL 3244 1197 \nL 1141 1197 \nL 716 0 \nL 50 0 \nL 1831 4666 \nz\n\" id=\"DejaVuSans-41\" transform=\"scale(0.015625)\"/>\n     </defs>\n     <use xlink:href=\"#DejaVuSans-41\"/>\n    </g>\n   </g>\n   <g id=\"text_5\">\n    <!-- B -->\n    <g transform=\"translate(195.3412 205.136606)scale(0.12 -0.12)\">\n     <defs>\n      <path d=\"M 1259 2228 \nL 1259 519 \nL 2272 519 \nQ 2781 519 3026 730 \nQ 3272 941 3272 1375 \nQ 3272 1813 3026 2020 \nQ 2781 2228 2272 2228 \nL 1259 2228 \nz\nM 1259 4147 \nL 1259 2741 \nL 2194 2741 \nQ 2656 2741 2882 2914 \nQ 3109 3088 3109 3444 \nQ 3109 3797 2882 3972 \nQ 2656 4147 2194 4147 \nL 1259 4147 \nz\nM 628 4666 \nL 2241 4666 \nQ 2963 4666 3353 4366 \nQ 3744 4066 3744 3513 \nQ 3744 3084 3544 2831 \nQ 3344 2578 2956 2516 \nQ 3422 2416 3680 2098 \nQ 3938 1781 3938 1306 \nQ 3938 681 3513 340 \nQ 3088 0 2303 0 \nL 628 0 \nL 628 4666 \nz\n\" id=\"DejaVuSans-42\" transform=\"scale(0.015625)\"/>\n     </defs>\n     <use xlink:href=\"#DejaVuSans-42\"/>\n    </g>\n   </g>\n  </g>\n </g>\n <defs>\n  <clipPath id=\"pb41ef958f6\">\n   <rect height=\"217.44\" width=\"278.483259\" x=\"7.2\" y=\"7.2\"/>\n  </clipPath>\n </defs>\n</svg>\n",
      "image/png": "[encoded data removed]"
     },
     "metadata": {}
    }
   ],
   "metadata": {}
  },
  {
   "cell_type": "markdown",
   "source": [
    "* (c) Let's answer this question using our dataset."
   ],
   "metadata": {}
  },
  {
   "cell_type": "code",
   "execution_count": 229,
   "source": [
    "registered[(~registered[\"swinger\"]) & (registered[\"party\"] == \"Independent\")].shape[0]"
   ],
   "outputs": [
    {
     "output_type": "execute_result",
     "data": {
      "text/plain": [
       "558"
      ]
     },
     "metadata": {},
     "execution_count": 229
    }
   ],
   "metadata": {}
  },
  {
   "cell_type": "markdown",
   "source": [
    "* (d) Same as above, we will use the dataset to give us t"
   ],
   "metadata": {}
  },
  {
   "cell_type": "code",
   "execution_count": 232,
   "source": [
    "0.35 * 2373"
   ],
   "outputs": [
    {
     "output_type": "execute_result",
     "data": {
      "text/plain": [
       "830.55"
      ]
     },
     "metadata": {},
     "execution_count": 232
    }
   ],
   "metadata": {}
  },
  {
   "cell_type": "markdown",
   "source": [],
   "metadata": {}
  }
 ],
 "metadata": {
  "orig_nbformat": 4,
  "language_info": {
   "name": "python",
   "version": "3.9.6",
   "mimetype": "text/x-python",
   "codemirror_mode": {
    "name": "ipython",
    "version": 3
   },
   "pygments_lexer": "ipython3",
   "nbconvert_exporter": "python",
   "file_extension": ".py"
  },
  "kernelspec": {
   "name": "python3",
   "display_name": "Python 3.9.6 64-bit ('base': conda)"
  },
  "interpreter": {
   "hash": "a473aa0524f7e71cff5bf41ad0f6e637ac4e671de457aeaaf8dd3e29779b2e94"
  }
 },
 "nbformat": 4,
 "nbformat_minor": 2
}