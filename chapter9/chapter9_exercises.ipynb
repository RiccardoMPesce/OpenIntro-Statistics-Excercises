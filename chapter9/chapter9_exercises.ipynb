{
 "cells": [
  {
   "cell_type": "markdown",
   "metadata": {},
   "source": [
    "# Chapter 9: Multiple and Logistic Regression"
   ]
  },
  {
   "cell_type": "markdown",
   "metadata": {},
   "source": [
    "### Exercise 9.1 - Baby weights, Part I. \n",
    "\n",
    "(a) $weight = 123.05 - 8.94 * smoke$.\n",
    "\n",
    "(b) The slope represents the average change (decrease) in weight when the variable smokes goes from 0 to 1, meaning if the mother is a smoker.\n",
    "$$\n",
    "    weight_{smoker} = 113.11\n",
    "$$\n",
    "$$\n",
    "    weight_{nonsmoker} = 123.05\n",
    "$$\n",
    "\n",
    "(c) Given the above pre conditions, we can assume there is a statistically significant (negative) relationship between smoking and the weight of the baby.\n",
    "\n",
    "### Exercise 9.2 - Baby weights, Part II. "
   ]
  },
  {
   "cell_type": "code",
   "execution_count": 1,
   "metadata": {},
   "outputs": [
    {
     "data": {
      "text/plain": [
       "113.11"
      ]
     },
     "execution_count": 1,
     "metadata": {},
     "output_type": "execute_result"
    }
   ],
   "source": [
    "123.05 - 9.94"
   ]
  },
  {
   "cell_type": "code",
   "execution_count": null,
   "metadata": {},
   "outputs": [],
   "source": []
  }
 ],
 "metadata": {
  "kernelspec": {
   "display_name": "ds",
   "language": "python",
   "name": "python3"
  },
  "language_info": {
   "codemirror_mode": {
    "name": "ipython",
    "version": 3
   },
   "file_extension": ".py",
   "mimetype": "text/x-python",
   "name": "python",
   "nbconvert_exporter": "python",
   "pygments_lexer": "ipython3",
   "version": "3.12.4"
  }
 },
 "nbformat": 4,
 "nbformat_minor": 2
}
