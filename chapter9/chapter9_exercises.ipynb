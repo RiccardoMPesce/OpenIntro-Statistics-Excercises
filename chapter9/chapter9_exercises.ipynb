{
 "cells": [
  {
   "cell_type": "markdown",
   "metadata": {},
   "source": [
    "# Chapter 9: Multiple and Logistic Regression"
   ]
  },
  {
   "cell_type": "markdown",
   "metadata": {},
   "source": [
    "### Exercise 9.1 - Baby weights, Part I. \n",
    "\n",
    "(a) $weight = 123.05 - 8.94 * smoke$.\n",
    "\n",
    "(b) The slope represents the average change (decrease) in weight when the variable smokes goes from 0 to 1, meaning if the mother is a smoker.\n",
    "$$\n",
    "    weight_{smoker} = 113.11\n",
    "$$\n",
    "$$\n",
    "    weight_{nonsmoker} = 123.05\n",
    "$$\n",
    "\n",
    "(c) Given the above pre conditions, we can assume there is a statistically significant (negative) relationship between smoking and the weight of the baby.\n",
    "\n",
    "### Exercise 9.2 - Baby weights, Part II. \n",
    "\n",
    "(a) $weight = 120.07 - 1.93 * parity$.\n",
    "\n",
    "(b) Slope is the average change in weight due to being a first born compared to not being such. \n",
    "$$\n",
    "    weight_{smoker} = 118.14\n",
    "$$\n",
    "$$\n",
    "    weight_{nonsmoker} = 120.07\n",
    "$$\n",
    "\n",
    "(c) From the p-value, we have to accept the null hypothesis, i.e. there is no statistically significant relationship.\n",
    "\n",
    "### Exercise 9.3 - Baby weights, Part III.\n",
    "\n",
    "(a) $weight = -80.41 + 0.44 * gestation - 3.33 * parity - 0.01 * age + 1.15 * height + 0.05 * weight - 8.40 * smoke$.\n",
    "\n",
    "(b) With a unitary increase of gestation days, we have a 0.44 increase in weight of the baby. Same goes for the age, with a unitary increase we have (in this case a decrease) a negative increase of weight by -0.01.\n",
    "\n",
    "(c) The coefficient for `parity` might have been influenced by the addition of the other coefficients. It might be collinear with other variables in the model.\n",
    "\n",
    "(d) $e = y - \\hat{y} = 100 - 115.58 = -15.58$\n",
    "\n",
    "(e) $R^2 = 1 - \\frac{249.28}{332.57} = 0.25$ and $R^2_{adj} = 0.247 \\approx 0.25$\n",
    "\n",
    "### Exercise 9.4 - Absenteeism, Part I.\n",
    "\n",
    "(a) $days = 18.93 - 9.11 * eth + 3.10 * sex + 2.15 * lrn$.\n",
    "\n",
    "(b) Being non aborigenal reduces the absenteeism days by 9.11 days, being male increases them by 3.10 and being a slow learner increases them by 2.15.\n",
    "\n",
    "(c) $e = y - \\hat{y} = 2 - 24.18 = -11.68$\n",
    "\n",
    "(d) $R^2 = 1 - \\frac{240.57}{264.17} = 0.09$ and $R^2_{adj} = 0.07$\n",
    "\n",
    "### Exercise 9.5 - GPA.\n",
    "\n",
    "(a) The confidence interval is $[-0.32,\\ 0.16]$, which means that the average change of GPA when a student is male is between -0.32 and 0.16 compared to when the student is female.\n",
    "\n",
    "(b) I would expect so, as the standard error is pretty high and the values are close to zero indeed.\n",
    "\n",
    "### Exercise 9.6 - Cherry trees.\n",
    "\n",
    "(a) The confidence interval is $[0.07,\\ 0.60]$, which means that the average change of volume and yield associated with an unitary change in height is between 0.07 and 0.60.\n",
    "\n",
    "(b) According to the model, the cubic volume is 22.09 while the actual volume is 24.2, so the model is underestimating the volume by 2.1 cubic feet."
   ]
  },
  {
   "cell_type": "markdown",
   "metadata": {},
   "source": []
  },
  {
   "cell_type": "markdown",
   "metadata": {},
   "source": []
  }
 ],
 "metadata": {
  "kernelspec": {
   "display_name": "ds",
   "language": "python",
   "name": "python3"
  },
  "language_info": {
   "codemirror_mode": {
    "name": "ipython",
    "version": 3
   },
   "file_extension": ".py",
   "mimetype": "text/x-python",
   "name": "python",
   "nbconvert_exporter": "python",
   "pygments_lexer": "ipython3",
   "version": "3.12.4"
  }
 },
 "nbformat": 4,
 "nbformat_minor": 2
}
