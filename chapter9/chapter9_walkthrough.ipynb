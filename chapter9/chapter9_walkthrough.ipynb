{
 "cells": [
  {
   "cell_type": "markdown",
   "metadata": {},
   "source": [
    "# Chapter 9: Multiple and Logistic Regression\n",
    "\n",
    "## Introduction to multiple regression\n",
    "\n",
    "### Guided Practice 9.5 \n",
    "\n",
    "$\\hat{rate} = 14.35$.\n",
    "\n",
    "### Guided Practice 9.6\n",
    "\n",
    "The interest rate for those with the income's source and amount verified is on average 14.35% higher than those not verified.\n",
    "\n",
    "### Guided Practice 9.7\n",
    "\n",
    "The interest rate would be 2.83% higher.\n",
    "\n",
    "### Guided Practice 9.10\n",
    "\n",
    "The `credit_util`'s coefficient $\\beta_4$ is the average increase in `rate` when `credit_util` (credit_utilized) goes from 0 to 1. So the point of estimating it is to explain of this predictor influences the outcome in this model, held the other variables constant.\n",
    "\n",
    "### Guided Practice 9.13\n",
    "\n",
    "It depends on the variables: some variables can be reasonably assumed to be zero under certain circumstances, so the intercept meaning is reasonable. There's no insightful interpretation of it.\n",
    "\n",
    "### Guided Practice 9.14\n",
    "\n",
    "$1 - \\frac{18.53}{25.01} = 0.26$.\n",
    "\n",
    "### Guided Practice 9.15\n",
    "\n",
    "$1 - \\frac{18.53}{25.01} * \\frac{9999}{9990} = 0.26$.\n",
    "\n",
    "### Guided Practice 9.16\n",
    "\n",
    "If we had a new predictor, $R^2$ would stay the same while adjusted-$R^2$ would go down as a new predictor would penalize the score.\n",
    "\n",
    "### Guided Practice 9.20\n",
    "The variable `bankruptcy` would be up for elimination, but we would keep it as the p-value associated is still less than 0.05.\n"
   ]
  },
  {
   "cell_type": "code",
   "execution_count": 2,
   "metadata": {},
   "outputs": [
    {
     "data": {
      "text/plain": [
       "0.26023423423423425"
      ]
     },
     "execution_count": 2,
     "metadata": {},
     "output_type": "execute_result"
    }
   ],
   "source": [
    "9999 / 9990 * 0.26"
   ]
  },
  {
   "cell_type": "code",
   "execution_count": null,
   "metadata": {},
   "outputs": [],
   "source": []
  }
 ],
 "metadata": {
  "kernelspec": {
   "display_name": "ds",
   "language": "python",
   "name": "python3"
  },
  "language_info": {
   "codemirror_mode": {
    "name": "ipython",
    "version": 3
   },
   "file_extension": ".py",
   "mimetype": "text/x-python",
   "name": "python",
   "nbconvert_exporter": "python",
   "pygments_lexer": "ipython3",
   "version": "3.12.4"
  }
 },
 "nbformat": 4,
 "nbformat_minor": 2
}
