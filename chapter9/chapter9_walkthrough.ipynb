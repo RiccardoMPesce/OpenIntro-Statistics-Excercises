{
 "cells": [
  {
   "cell_type": "markdown",
   "metadata": {},
   "source": [
    "# Chapter 9: Multiple and Logistic Regression\n",
    "\n",
    "## Introduction to multiple regression\n",
    "\n",
    "### Guided Practice 9.5 \n",
    "\n",
    "$\\hat{rate} = 14.35$.\n",
    "\n",
    "### Guided Practice 9.6\n",
    "\n",
    "The interest rate for those with the income's source and amount verified is on average 14.35% higher than those not verified.\n",
    "\n",
    "### Guided Practice 9.7\n",
    "\n",
    "The interest rate would be 2.83% higher."
   ]
  },
  {
   "cell_type": "code",
   "execution_count": null,
   "metadata": {},
   "outputs": [],
   "source": []
  }
 ],
 "metadata": {
  "language_info": {
   "name": "python"
  }
 },
 "nbformat": 4,
 "nbformat_minor": 2
}
