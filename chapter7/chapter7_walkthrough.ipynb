{
 "cells": [
  {
   "cell_type": "markdown",
   "metadata": {},
   "source": [
    "# Chapter 7: Inference for numerical data"
   ]
  },
  {
   "cell_type": "markdown",
   "metadata": {},
   "source": [
    "### Guided Practice 7.5"
   ]
  },
  {
   "cell_type": "code",
   "execution_count": 3,
   "metadata": {},
   "outputs": [
    {
     "data": {
      "text/plain": [
       "0.9552977656658079"
      ]
     },
     "execution_count": 3,
     "metadata": {},
     "output_type": "execute_result"
    }
   ],
   "source": [
    "from scipy.stats import t\n",
    "\n",
    "1 - t.cdf(-1.79, 19)"
   ]
  },
  {
   "cell_type": "markdown",
   "metadata": {},
   "source": [
    "### Guided Practice 7.10\n",
    "\n",
    "I would object normality since the sample is less than 30 but the observations fall within two SDs so normality is reasonable after all."
   ]
  },
  {
   "cell_type": "markdown",
   "metadata": {},
   "source": [
    "### Guided Practice 7.12\n",
    "\n",
    "We can use `scipy.stats.t` module to calculate the $t_{18}$ parameter."
   ]
  },
  {
   "cell_type": "code",
   "execution_count": 18,
   "metadata": {},
   "outputs": [
    {
     "data": {
      "text/plain": [
       "(0.256, 0.318)"
      ]
     },
     "execution_count": 18,
     "metadata": {},
     "output_type": "execute_result"
    }
   ],
   "source": [
    "confidence_level = 0.90\n",
    "within_proportion = (1 - confidence_level) / 2\n",
    "df = 18\n",
    "\n",
    "t18 = t.ppf(1 - within_proportion, df)\n",
    "\n",
    "x = 0.287\n",
    "se = 0.0178\n",
    "\n",
    "confidence_interval = ((x - t18 * se).round(3), (x + t18 * se).round(3))\n",
    "\n",
    "confidence_interval"
   ]
  },
  {
   "cell_type": "markdown",
   "metadata": {},
   "source": [
    "### Guided Practice 7.13\n",
    "\n",
    "No, we can only say that we are 90% confident that, sampled a fish, its mercury level will fall within the found interval."
   ]
  },
  {
   "cell_type": "markdown",
   "metadata": {},
   "source": [
    "### Guided Practice 7.14\n",
    "\n",
    "$H_0$ is that $\\mu_{2017} = \\mu_{2006}$ and $H_A$ is that the two means are different."
   ]
  },
  {
   "cell_type": "markdown",
   "metadata": {},
   "source": [
    "### Guided Practice 7.15\n",
    "\n",
    "The figure shows no outliers therefore we can assume the normality condition."
   ]
  },
  {
   "cell_type": "code",
   "execution_count": 21,
   "metadata": {},
   "outputs": [
    {
     "data": {
      "text/plain": [
       "0.01"
      ]
     },
     "execution_count": 21,
     "metadata": {},
     "output_type": "execute_result"
    }
   ],
   "source": [
    "(1 - t.cdf(2.37, 99)).round(2)"
   ]
  },
  {
   "cell_type": "markdown",
   "metadata": {},
   "source": [
    "### Exercise 7.1 \n",
    "\n",
    "* (a) $df = 6 - 1 = 5,\\ t_{5} = 2.015$\n",
    "* (b) $df = 21 - 1 = 20,\\ t_{20} = 2.528$\n",
    "* (c) $df = 29 - 1 = 28,\\ t_{28} = 2.048$\n",
    "* (d) $df = 12 - 1 = 11,\\ t_{11} = 3.106$"
   ]
  },
  {
   "cell_type": "markdown",
   "metadata": {},
   "source": [
    "### Exercise 7.2\n",
    "\n",
    "Given that the more degree of freedoms, the more the distribution becomes normal, we can say that dotted is the distribution with the less degrees of freedom, i.e. with one degree of freedom, dashed is the one with 5 degrees of freedom and the solid one is the normal."
   ]
  },
  {
   "cell_type": "markdown",
   "metadata": {},
   "source": [
    "### Exercixe 7.3\n",
    "\n",
    "* (a) Null hypothesis not rejected.\n",
    "* (b) Null hypothesis rejected.\n",
    "* (c) Null hypothesis not rejected.\n",
    "* (d) Null hypothesis rejected.\n"
   ]
  },
  {
   "cell_type": "markdown",
   "metadata": {},
   "source": [
    "### Exercixe 7.4\n",
    "\n",
    "* (a) Null hypothesis not rejected.\n",
    "* (b) Null hypothesis not rejected."
   ]
  },
  {
   "cell_type": "code",
   "execution_count": 48,
   "metadata": {},
   "outputs": [
    {
     "data": {
      "text/plain": [
       "(0.6234852065657115, False)"
      ]
     },
     "execution_count": 48,
     "metadata": {},
     "output_type": "execute_result"
    }
   ],
   "source": [
    "a = 0.01\n",
    "n = 18\n",
    "T = 0.5\n",
    "\n",
    "df = n - 1\n",
    "\n",
    "(1 - t.cdf(abs(T), df)) * 2, (1 - t.cdf(abs(T), df)) * 2 < a"
   ]
  },
  {
   "cell_type": "markdown",
   "metadata": {},
   "source": [
    "### Excercise 7.5\n",
    "\n",
    "Sample mean is simply $\\bar{x} = 20$ and standard deviation is $\\sigma = 2.99$."
   ]
  },
  {
   "cell_type": "markdown",
   "metadata": {},
   "source": [
    "### Excercise 7.6\n",
    "\n",
    "Sample mean is $\\bar{x} = 61$, standard deviation is $\\sigma = 17.53$ and margin of error is $MOE = t\\_statistic * SE = 1.71 * SE = 6$"
   ]
  },
  {
   "cell_type": "code",
   "execution_count": 65,
   "metadata": {},
   "outputs": [
    {
     "data": {
      "text/plain": [
       "6.0"
      ]
     },
     "execution_count": 65,
     "metadata": {},
     "output_type": "execute_result"
    }
   ],
   "source": [
    "from scipy.stats import t \n",
    "\n",
    "x = (65 + 77) / 2\n",
    "\n",
    "t_24 = t.ppf(0.95, 24)\n",
    "\n",
    "se = ((77 - x) / t_24)\n",
    "sd = se * 25 ** 0.5\n",
    "se * t_24"
   ]
  },
  {
   "cell_type": "markdown",
   "metadata": {},
   "source": [
    "### Exercise 7.7\n",
    "\n",
    "* (a) Null hypothesis says that New Yorkers sleep 8 hours at night ($\\mu_{NY} = 8$). Alternate hypothesis says that New Yorkers sleep a different amount of time ($\\mu_{NY} \\neq 8$).\n",
    "* (b) Normality seems to be met, $SE = s / \\sqrt{n} = 0.77 / 5 = 0.154$, $df = 25 - 1 = 24$, and the T statistic is $T = -1.75$ which leads us to a p-value of $0.092$.\n",
    "* (c) The p-value tells how much is the probability of having given this result by mere chance, and has to be less than our significance level in order to reject the null hypothesis.\n",
    "* (d) The difference is not significant to reject the null hypothesis.\n",
    "* (c) Given the result of the p-value, I would not expect 8 to be in the interval if we choose a significance level of 90%."
   ]
  },
  {
   "cell_type": "markdown",
   "metadata": {},
   "source": [
    "### Exercise 7.8"
   ]
  },
  {
   "cell_type": "code",
   "execution_count": null,
   "metadata": {},
   "outputs": [],
   "source": []
  }
 ],
 "metadata": {
  "kernelspec": {
   "display_name": "Python 3.10.6 ('base')",
   "language": "python",
   "name": "python3"
  },
  "language_info": {
   "codemirror_mode": {
    "name": "ipython",
    "version": 3
   },
   "file_extension": ".py",
   "mimetype": "text/x-python",
   "name": "python",
   "nbconvert_exporter": "python",
   "pygments_lexer": "ipython3",
   "version": "3.11.0"
  },
  "orig_nbformat": 4,
  "vscode": {
   "interpreter": {
    "hash": "5fa8e7a0e7c7188de72acea4ae1bc222d1770499c4c3d36ce32843ef46b20053"
   }
  }
 },
 "nbformat": 4,
 "nbformat_minor": 2
}
