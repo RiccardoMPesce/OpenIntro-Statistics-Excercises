{
 "cells": [
  {
   "cell_type": "markdown",
   "metadata": {},
   "source": [
    "# Chapter 7: Inference for numerical data"
   ]
  },
  {
   "cell_type": "markdown",
   "metadata": {},
   "source": [
    "### Guided Practice 7.5"
   ]
  },
  {
   "cell_type": "code",
   "execution_count": 1,
   "metadata": {},
   "outputs": [
    {
     "data": {
      "text/plain": [
       "0.9552977656658079"
      ]
     },
     "execution_count": 1,
     "metadata": {},
     "output_type": "execute_result"
    }
   ],
   "source": [
    "from scipy.stats import t\n",
    "\n",
    "1 - t.cdf(-1.79, 19)"
   ]
  },
  {
   "cell_type": "markdown",
   "metadata": {},
   "source": [
    "### Guided Practice 7.10\n",
    "\n",
    "I would object normality since the sample is less than 30 but the observations fall within two SDs so normality is reasonable after all."
   ]
  },
  {
   "cell_type": "markdown",
   "metadata": {},
   "source": [
    "### Guided Practice 7.12\n",
    "\n",
    "We can use `scipy.stats.t` module to calculate the $t_{18}$ parameter."
   ]
  },
  {
   "cell_type": "code",
   "execution_count": 2,
   "metadata": {},
   "outputs": [
    {
     "data": {
      "text/plain": [
       "(0.256, 0.318)"
      ]
     },
     "execution_count": 2,
     "metadata": {},
     "output_type": "execute_result"
    }
   ],
   "source": [
    "confidence_level = 0.90\n",
    "within_proportion = (1 - confidence_level) / 2\n",
    "df = 18\n",
    "\n",
    "t18 = t.ppf(1 - within_proportion, df)\n",
    "\n",
    "x = 0.287\n",
    "se = 0.0178\n",
    "\n",
    "confidence_interval = ((x - t18 * se).round(3), (x + t18 * se).round(3))\n",
    "\n",
    "confidence_interval"
   ]
  },
  {
   "cell_type": "markdown",
   "metadata": {},
   "source": [
    "### Guided Practice 7.13\n",
    "\n",
    "No, we can only say that we are 90% confident that, sampled a fish, its mercury level will fall within the found interval."
   ]
  },
  {
   "cell_type": "markdown",
   "metadata": {},
   "source": [
    "### Guided Practice 7.14\n",
    "\n",
    "$H_0$ is that $\\mu_{2017} = \\mu_{2006}$ and $H_A$ is that the two means are different."
   ]
  },
  {
   "cell_type": "markdown",
   "metadata": {},
   "source": [
    "### Guided Practice 7.15\n",
    "\n",
    "The figure shows no outliers therefore we can assume the normality condition."
   ]
  },
  {
   "cell_type": "markdown",
   "metadata": {},
   "source": [
    "### Guided Practice 7.19\n",
    "\n",
    "The critical value at 95% is $t_{95} = 1.996$, therefore our confidence interval is $[0.33,\\ 6.83]$."
   ]
  },
  {
   "cell_type": "markdown",
   "metadata": {},
   "source": [
    "### Guided Practice 7.20\n",
    "\n",
    "Since we are 95% confident that Amazon in on average cheaper by the amounts found above, this does not necessarily mean Amazon is always cheaper. So, better check and compare prices before buying."
   ]
  },
  {
   "attachments": {},
   "cell_type": "markdown",
   "metadata": {},
   "source": [
    "### Guided Practice 7.24\n",
    "\n",
    "* (a) $\\mu_n - \\mu_s = -0.40$.\n",
    "* (b) $SE = \\sqrt{\\frac{sd_s^2}{n_n} + \\frac{sd_s^2}{n_s}} = 0.26$"
   ]
  },
  {
   "cell_type": "code",
   "execution_count": 1,
   "metadata": {},
   "outputs": [],
   "source": [
    "def se_diff(s1, s2, n1, n2):\n",
    "    return ((s1 ** 2) / n1 + (s2 ** 2) / n2) ** 0.5\n",
    "\n",
    "def df_diff(n1, n2):\n",
    "    return min(n1 - 1, n2 - 1)\n",
    "\n",
    "# se_diff(1.43, 1.60, 50, 100)"
   ]
  },
  {
   "attachments": {},
   "cell_type": "markdown",
   "metadata": {},
   "source": [
    "### Guided Practice 7.26\n",
    "\n",
    "We might have failed to collect enough useful data marking this actual difference or else we are focusing on weight which might not be the most useful indicator of the danger of smoking."
   ]
  },
  {
   "attachments": {},
   "cell_type": "markdown",
   "metadata": {},
   "source": [
    "### Guided Practice 7.27\n",
    "\n",
    "Collecting more data for the _Smoker_ class, maybe the same number of observations for both classes would have given us the info we needed."
   ]
  },
  {
   "cell_type": "markdown",
   "metadata": {},
   "source": []
  }
 ],
 "metadata": {
  "kernelspec": {
   "display_name": "Python 3.10.6 ('base')",
   "language": "python",
   "name": "python3"
  },
  "language_info": {
   "codemirror_mode": {
    "name": "ipython",
    "version": 3
   },
   "file_extension": ".py",
   "mimetype": "text/x-python",
   "name": "python",
   "nbconvert_exporter": "python",
   "pygments_lexer": "ipython3",
   "version": "3.11.0"
  },
  "orig_nbformat": 4,
  "vscode": {
   "interpreter": {
    "hash": "5fa8e7a0e7c7188de72acea4ae1bc222d1770499c4c3d36ce32843ef46b20053"
   }
  }
 },
 "nbformat": 4,
 "nbformat_minor": 2
}
