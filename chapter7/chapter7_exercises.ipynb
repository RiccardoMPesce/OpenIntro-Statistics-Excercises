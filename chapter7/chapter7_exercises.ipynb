{
 "cells": [
  {
   "cell_type": "markdown",
   "metadata": {},
   "source": [
    "# Chapter 7: Inference for numerical data"
   ]
  },
  {
   "cell_type": "markdown",
   "metadata": {},
   "source": [
    "### Exercise 7.1 \n",
    "\n",
    "* (a) $df = 6 - 1 = 5,\\ t_{5} = 2.015$\n",
    "* (b) $df = 21 - 1 = 20,\\ t_{20} = 2.528$\n",
    "* (c) $df = 29 - 1 = 28,\\ t_{28} = 2.048$\n",
    "* (d) $df = 12 - 1 = 11,\\ t_{11} = 3.106$"
   ]
  },
  {
   "cell_type": "markdown",
   "metadata": {},
   "source": [
    "### Exercise 7.2\n",
    "\n",
    "Given that the more degree of freedoms, the more the distribution becomes normal, we can say that dotted is the distribution with the less degrees of freedom, i.e. with one degree of freedom, dashed is the one with 5 degrees of freedom and the solid one is the normal."
   ]
  },
  {
   "cell_type": "markdown",
   "metadata": {},
   "source": [
    "### Exercixe 7.3\n",
    "\n",
    "* (a) Null hypothesis not rejected.\n",
    "* (b) Null hypothesis rejected.\n",
    "* (c) Null hypothesis not rejected.\n",
    "* (d) Null hypothesis rejected.\n"
   ]
  },
  {
   "cell_type": "markdown",
   "metadata": {},
   "source": [
    "### Exercixe 7.4\n",
    "\n",
    "* (a) Null hypothesis not rejected.\n",
    "* (b) Null hypothesis not rejected."
   ]
  },
  {
   "cell_type": "code",
   "execution_count": 14,
   "metadata": {},
   "outputs": [
    {
     "data": {
      "text/plain": [
       "(0.6234852065657115, False)"
      ]
     },
     "execution_count": 14,
     "metadata": {},
     "output_type": "execute_result"
    }
   ],
   "source": [
    "from scipy.stats import t\n",
    "\n",
    "a = 0.01\n",
    "n = 18\n",
    "T = 0.5\n",
    "\n",
    "df = n - 1\n",
    "\n",
    "(1 - t.cdf(abs(T), df)) * 2, (1 - t.cdf(abs(T), df)) * 2 < a"
   ]
  },
  {
   "cell_type": "markdown",
   "metadata": {},
   "source": [
    "### Excercise 7.5\n",
    "\n",
    "Sample mean is simply $\\bar{x} = 20$ and standard deviation is $\\sigma = 2.99$."
   ]
  },
  {
   "cell_type": "markdown",
   "metadata": {},
   "source": [
    "### Excercise 7.6\n",
    "\n",
    "Sample mean is $\\bar{x} = 61$, standard deviation is $\\sigma = 17.53$ and margin of error is $MOE = t\\_statistic * SE = 1.71 * SE = 6$"
   ]
  },
  {
   "cell_type": "markdown",
   "metadata": {},
   "source": [
    "### Exercise 7.7\n",
    "\n",
    "* (a) Null hypothesis says that New Yorkers sleep 8 hours at night ($\\mu_{NY} = 8$). Alternate hypothesis says that New Yorkers sleep a different amount of time ($\\mu_{NY} \\neq 8$).\n",
    "* (b) Normality seems to be met, $SE = s / \\sqrt{n} = 0.77 / 5 = 0.154$, $df = 25 - 1 = 24$, and the T statistic is $T = -1.75$ which leads us to a p-value of $0.092$.\n",
    "* (c) The p-value tells how much is the probability of having given this result by mere chance, and has to be less than our significance level in order to reject the null hypothesis.\n",
    "* (d) The difference is not significant to reject the null hypothesis.\n",
    "* (e) Given the result of the p-value, I would not expect 8 to be in the interval if we choose a significance level of 90%."
   ]
  },
  {
   "cell_type": "markdown",
   "metadata": {},
   "source": [
    "### Exercise 7.8"
   ]
  },
  {
   "cell_type": "markdown",
   "metadata": {},
   "source": [
    "* (a) 171.1 cm and 170.3 cm.\n",
    "* (b) 9.4 and (163.8, 177.8).\n",
    "* (c) A person of 180 cm has a T score of 0.947 therefore he/she is not unusual, while a person of 155 cm is more unusual having a T score of -1.71.\n",
    "* (d) No, since we would have other sample statistics differing from the above.\n",
    "* (e) We would use the standard error calculated as $SE = \\bar{\\sigma} / \\sqrt{n} = 3.066$."
   ]
  },
  {
   "cell_type": "markdown",
   "metadata": {},
   "source": [
    "### Exercise 7.9\n",
    "\n",
    "The requested sample mean would be $56.26$ or $63.74$."
   ]
  },
  {
   "cell_type": "markdown",
   "metadata": {},
   "source": [
    "### Exercise 7.10\n",
    "\n",
    "The confidence interval will be itself larger."
   ]
  },
  {
   "cell_type": "markdown",
   "metadata": {},
   "source": [
    "### Exercise 7.11\n",
    "\n",
    "* (a) The null hypothesis tells that Georgianna is wrong since the average years of piano lessons are not different from the global average of 5. The alternate hypothesis would give credit to Georgianna claim.\n",
    "* (b) Derived confidence interval is $[3.57,\\ 5.62]$, and $pval = 0.43$ so we cannot reject the null hypothesis.\n",
    "* (c) They agree since there is a huge overlap between the null mean and the alternate mean."
   ]
  },
  {
   "cell_type": "markdown",
   "metadata": {},
   "source": [
    "### Exercise 7.12\n",
    "\n",
    "* (a) Null hypothesis is that the obtained result is only gotten by chance ($H_0: \\mu = 35$) while alternate hypothesis is that there is a significant difference in the actual levels ($H_0: \\mu \\neq 35$).\n",
    "* (b) Since $n > 30$, we can assume normality.\n",
    "* (c) We got a p value of almost zero, so we can reject the null hypothesis."
   ]
  },
  {
   "cell_type": "markdown",
   "metadata": {},
   "source": [
    "### Exercise 7.13\n",
    "\n",
    "He would need to interview around 384/385 people."
   ]
  },
  {
   "cell_type": "markdown",
   "metadata": {},
   "source": [
    "### Exercise 7.14\n",
    "\n",
    "* (a) She would need a sample of 273.\n",
    "* (b) He would definitely need a bigger sample.\n",
    "* (c) The minimum sample size would be 664."
   ]
  },
  {
   "cell_type": "markdown",
   "metadata": {},
   "source": []
  }
 ],
 "metadata": {
  "kernelspec": {
   "display_name": "Python 3.10.6 ('base')",
   "language": "python",
   "name": "python3"
  },
  "language_info": {
   "codemirror_mode": {
    "name": "ipython",
    "version": 3
   },
   "file_extension": ".py",
   "mimetype": "text/x-python",
   "name": "python",
   "nbconvert_exporter": "python",
   "pygments_lexer": "ipython3",
   "version": "3.11.0"
  },
  "orig_nbformat": 4,
  "vscode": {
   "interpreter": {
    "hash": "5fa8e7a0e7c7188de72acea4ae1bc222d1770499c4c3d36ce32843ef46b20053"
   }
  }
 },
 "nbformat": 4,
 "nbformat_minor": 2
}
