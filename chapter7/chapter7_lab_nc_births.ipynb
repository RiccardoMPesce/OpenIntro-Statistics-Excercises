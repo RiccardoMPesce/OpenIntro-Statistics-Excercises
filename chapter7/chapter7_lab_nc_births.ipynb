{
 "cells": [
  {
   "cell_type": "markdown",
   "metadata": {},
   "source": [
    "# Laboratory: North Carolina Births\n",
    "\n",
    "In 2004, the state of North Carolina released a large data set containing information on births recorded in this state. This data set is useful to researchers studying the relation between habits and practices of expectant mothers and the birth of their children. We will work with a random sample of observations from this data set.\n",
    "\n",
    "## Exploratory Data Analysis\n",
    "Load the nc data set into our workspace."
   ]
  },
  {
   "cell_type": "code",
   "execution_count": 20,
   "metadata": {},
   "outputs": [
    {
     "data": {
      "text/html": [
       "<div>\n",
       "<style scoped>\n",
       "    .dataframe tbody tr th:only-of-type {\n",
       "        vertical-align: middle;\n",
       "    }\n",
       "\n",
       "    .dataframe tbody tr th {\n",
       "        vertical-align: top;\n",
       "    }\n",
       "\n",
       "    .dataframe thead th {\n",
       "        text-align: right;\n",
       "    }\n",
       "</style>\n",
       "<table border=\"1\" class=\"dataframe\">\n",
       "  <thead>\n",
       "    <tr style=\"text-align: right;\">\n",
       "      <th></th>\n",
       "      <th>fage</th>\n",
       "      <th>mage</th>\n",
       "      <th>weeks</th>\n",
       "      <th>visits</th>\n",
       "      <th>gained</th>\n",
       "      <th>weight</th>\n",
       "    </tr>\n",
       "  </thead>\n",
       "  <tbody>\n",
       "    <tr>\n",
       "      <th>count</th>\n",
       "      <td>829.000000</td>\n",
       "      <td>1000.000000</td>\n",
       "      <td>998.000000</td>\n",
       "      <td>991.000000</td>\n",
       "      <td>973.000000</td>\n",
       "      <td>1000.00000</td>\n",
       "    </tr>\n",
       "    <tr>\n",
       "      <th>mean</th>\n",
       "      <td>30.255730</td>\n",
       "      <td>27.000000</td>\n",
       "      <td>38.334669</td>\n",
       "      <td>12.104945</td>\n",
       "      <td>30.325797</td>\n",
       "      <td>7.10100</td>\n",
       "    </tr>\n",
       "    <tr>\n",
       "      <th>std</th>\n",
       "      <td>6.763766</td>\n",
       "      <td>6.213583</td>\n",
       "      <td>2.931553</td>\n",
       "      <td>3.954934</td>\n",
       "      <td>14.241297</td>\n",
       "      <td>1.50886</td>\n",
       "    </tr>\n",
       "    <tr>\n",
       "      <th>min</th>\n",
       "      <td>14.000000</td>\n",
       "      <td>13.000000</td>\n",
       "      <td>20.000000</td>\n",
       "      <td>0.000000</td>\n",
       "      <td>0.000000</td>\n",
       "      <td>1.00000</td>\n",
       "    </tr>\n",
       "    <tr>\n",
       "      <th>25%</th>\n",
       "      <td>25.000000</td>\n",
       "      <td>22.000000</td>\n",
       "      <td>37.000000</td>\n",
       "      <td>10.000000</td>\n",
       "      <td>20.000000</td>\n",
       "      <td>6.38000</td>\n",
       "    </tr>\n",
       "    <tr>\n",
       "      <th>50%</th>\n",
       "      <td>30.000000</td>\n",
       "      <td>27.000000</td>\n",
       "      <td>39.000000</td>\n",
       "      <td>12.000000</td>\n",
       "      <td>30.000000</td>\n",
       "      <td>7.31000</td>\n",
       "    </tr>\n",
       "    <tr>\n",
       "      <th>75%</th>\n",
       "      <td>35.000000</td>\n",
       "      <td>32.000000</td>\n",
       "      <td>40.000000</td>\n",
       "      <td>15.000000</td>\n",
       "      <td>38.000000</td>\n",
       "      <td>8.06000</td>\n",
       "    </tr>\n",
       "    <tr>\n",
       "      <th>max</th>\n",
       "      <td>55.000000</td>\n",
       "      <td>50.000000</td>\n",
       "      <td>45.000000</td>\n",
       "      <td>30.000000</td>\n",
       "      <td>85.000000</td>\n",
       "      <td>11.75000</td>\n",
       "    </tr>\n",
       "  </tbody>\n",
       "</table>\n",
       "</div>"
      ],
      "text/plain": [
       "             fage         mage       weeks      visits      gained      weight\n",
       "count  829.000000  1000.000000  998.000000  991.000000  973.000000  1000.00000\n",
       "mean    30.255730    27.000000   38.334669   12.104945   30.325797     7.10100\n",
       "std      6.763766     6.213583    2.931553    3.954934   14.241297     1.50886\n",
       "min     14.000000    13.000000   20.000000    0.000000    0.000000     1.00000\n",
       "25%     25.000000    22.000000   37.000000   10.000000   20.000000     6.38000\n",
       "50%     30.000000    27.000000   39.000000   12.000000   30.000000     7.31000\n",
       "75%     35.000000    32.000000   40.000000   15.000000   38.000000     8.06000\n",
       "max     55.000000    50.000000   45.000000   30.000000   85.000000    11.75000"
      ]
     },
     "execution_count": 20,
     "metadata": {},
     "output_type": "execute_result"
    }
   ],
   "source": [
    "from pathlib import Path \n",
    "\n",
    "import numpy as np\n",
    "import pandas as pd\n",
    "import matplotlib.pyplot as plt\n",
    "import seaborn as sns\n",
    "\n",
    "sns.set_theme()\n",
    "\n",
    "DF_PATH = Path(\"../datasets/ncbirths.csv\")\n",
    "\n",
    "nc_births_df = pd.read_csv(DF_PATH)\n",
    "\n",
    "nc_births_df.describe()"
   ]
  },
  {
   "cell_type": "markdown",
   "metadata": {},
   "source": [
    "### Exercise 1 - What are the cases in this data set? How many cases are there in our sample?\n",
    "\n",
    "There are 1000 observations in the data set."
   ]
  },
  {
   "cell_type": "markdown",
   "metadata": {},
   "source": [
    "As you review the variable summaries, consider which variables are categorical and which are numerical. For numerical variables, are there outliers? If you aren’t sure or want to take a closer look at the data, make a graph."
   ]
  },
  {
   "cell_type": "code",
   "execution_count": 27,
   "metadata": {},
   "outputs": [
    {
     "data": {
      "text/plain": [
       "[]"
      ]
     },
     "execution_count": 27,
     "metadata": {},
     "output_type": "execute_result"
    },
    {
     "data": {
      "image/png": "[encoded data removed]",
      "text/plain": [
       "<Figure size 640x480 with 1 Axes>"
      ]
     },
     "metadata": {},
     "output_type": "display_data"
    }
   ],
   "source": [
    "ax = sns.boxplot(nc_births_df)\n",
    "\n",
    "plt.plot()"
   ]
  },
  {
   "cell_type": "markdown",
   "metadata": {},
   "source": [
    "Consider the possible relationship between a mother’s smoking habit and the weight of her baby. Plotting the data is a useful first step because it helps us quickly visualize trends, identify strong associations, and develop research questions.\n",
    "\n",
    "### Exercise 2 - Make a side-by-side boxplot of habit and weight. What does the plot highlight about the relationship between these two variables?"
   ]
  },
  {
   "cell_type": "code",
   "execution_count": 31,
   "metadata": {},
   "outputs": [
    {
     "data": {
      "text/plain": [
       "[]"
      ]
     },
     "execution_count": 31,
     "metadata": {},
     "output_type": "execute_result"
    },
    {
     "data": {
      "image/png": "[encoded data removed]",
      "text/plain": [
       "<Figure size 640x480 with 1 Axes>"
      ]
     },
     "metadata": {},
     "output_type": "display_data"
    }
   ],
   "source": [
    "sns.boxplot(y=\"weight\", hue=\"habit\", data=nc_births_df)\n",
    "\n",
    "plt.plot()"
   ]
  },
  {
   "cell_type": "markdown",
   "metadata": {},
   "source": [
    "The box plots show how the medians of the two distributions compare, but we can also compare the means of the distributions using the following function to split the `weight` variable into the `habit` groups, then take the `mean` of each using the mean function."
   ]
  },
  {
   "cell_type": "code",
   "execution_count": 32,
   "metadata": {},
   "outputs": [
    {
     "data": {
      "text/html": [
       "<div>\n",
       "<style scoped>\n",
       "    .dataframe tbody tr th:only-of-type {\n",
       "        vertical-align: middle;\n",
       "    }\n",
       "\n",
       "    .dataframe tbody tr th {\n",
       "        vertical-align: top;\n",
       "    }\n",
       "\n",
       "    .dataframe thead th {\n",
       "        text-align: right;\n",
       "    }\n",
       "</style>\n",
       "<table border=\"1\" class=\"dataframe\">\n",
       "  <thead>\n",
       "    <tr style=\"text-align: right;\">\n",
       "      <th></th>\n",
       "      <th>count</th>\n",
       "      <th>mean</th>\n",
       "      <th>std</th>\n",
       "      <th>min</th>\n",
       "      <th>25%</th>\n",
       "      <th>50%</th>\n",
       "      <th>75%</th>\n",
       "      <th>max</th>\n",
       "    </tr>\n",
       "    <tr>\n",
       "      <th>habit</th>\n",
       "      <th></th>\n",
       "      <th></th>\n",
       "      <th></th>\n",
       "      <th></th>\n",
       "      <th></th>\n",
       "      <th></th>\n",
       "      <th></th>\n",
       "      <th></th>\n",
       "    </tr>\n",
       "  </thead>\n",
       "  <tbody>\n",
       "    <tr>\n",
       "      <th>nonsmoker</th>\n",
       "      <td>873.0</td>\n",
       "      <td>7.144273</td>\n",
       "      <td>1.518681</td>\n",
       "      <td>1.00</td>\n",
       "      <td>6.4400</td>\n",
       "      <td>7.31</td>\n",
       "      <td>8.060</td>\n",
       "      <td>11.75</td>\n",
       "    </tr>\n",
       "    <tr>\n",
       "      <th>smoker</th>\n",
       "      <td>126.0</td>\n",
       "      <td>6.828730</td>\n",
       "      <td>1.386180</td>\n",
       "      <td>1.69</td>\n",
       "      <td>6.0775</td>\n",
       "      <td>7.06</td>\n",
       "      <td>7.735</td>\n",
       "      <td>9.19</td>\n",
       "    </tr>\n",
       "  </tbody>\n",
       "</table>\n",
       "</div>"
      ],
      "text/plain": [
       "           count      mean       std   min     25%   50%    75%    max\n",
       "habit                                                                 \n",
       "nonsmoker  873.0  7.144273  1.518681  1.00  6.4400  7.31  8.060  11.75\n",
       "smoker     126.0  6.828730  1.386180  1.69  6.0775  7.06  7.735   9.19"
      ]
     },
     "execution_count": 32,
     "metadata": {},
     "output_type": "execute_result"
    }
   ],
   "source": [
    "nc_births_df.groupby(\"habit\").describe()[\"weight\"]"
   ]
  },
  {
   "cell_type": "markdown",
   "metadata": {},
   "source": [
    "There is an observed difference, but is this difference statistically significant? In order to answer this question we will conduct a hypothesis test."
   ]
  },
  {
   "cell_type": "markdown",
   "metadata": {},
   "source": [
    "## Inference\n",
    "\n",
    "### Exercise 3 - Check if the conditions necessary for inference are satisfied.\n",
    "\n",
    "The conditions for inference are:\n",
    "\n",
    "* Independence: and this is met.\n",
    "\n",
    "* Large sample: and this is met, as we can see from below."
   ]
  },
  {
   "cell_type": "code",
   "execution_count": 44,
   "metadata": {},
   "outputs": [
    {
     "data": {
      "text/plain": [
       "[]"
      ]
     },
     "execution_count": 44,
     "metadata": {},
     "output_type": "execute_result"
    },
    {
     "data": {
      "image/png": "[encoded data removed]",
      "text/plain": [
       "<Figure size 640x480 with 1 Axes>"
      ]
     },
     "metadata": {},
     "output_type": "display_data"
    }
   ],
   "source": [
    "nc_births_df.groupby(\"habit\")[\"weight\"].size()\n",
    "\n",
    "sns.histplot(x=\"weight\", data=nc_births_df, hue=\"habit\", kde=True)\n",
    "\n",
    "plt.plot()"
   ]
  },
  {
   "cell_type": "markdown",
   "metadata": {},
   "source": [
    "### Exercise 4 - Write the hypotheses for testing if the average weights of babies born to smoking and non-smoking mothers are different.\n",
    "\n",
    "* H0: The average weights of babies born to smoking and non-smoking mothers are equal $\\mu_1 = \\mu_2$.\n",
    "* H1: The average weights of babies born to smoking and non-smoking mothers are not equal $\\mu_1 \\neq \\mu_2$.\n",
    "\n",
    "Next, we will perform hypothesis tests and construct confidence intervals."
   ]
  },
  {
   "cell_type": "code",
   "execution_count": 52,
   "metadata": {},
   "outputs": [
    {
     "name": "stdout",
     "output_type": "stream",
     "text": [
      "Number of smokers = 126.0\n",
      "Mean smoker = 6.828730158730161\n",
      "Std smoker = 1.380668106117173\n",
      "\n",
      "Number of non smokers = 873.0\n",
      "Mean nonsmoker = 7.1442726231386\n",
      "Std nonsmoker = 1.5178105512705897\n",
      "\n",
      "Standard error is: 0.13376049190705977\n",
      "Test statistic: Z = -2.3590109449334746\n",
      "p-value = 0.018323715325167515\n"
     ]
    }
   ],
   "source": [
    "import statsmodels.stats.weightstats as st\n",
    "\n",
    "w_smoker = nc_births_df[nc_births_df[\"habit\"] == \"smoker\"][\"weight\"]\n",
    "w_nonsmoker = nc_births_df[nc_births_df[\"habit\"] == \"nonsmoker\"][\"weight\"]\n",
    "\n",
    "w_smoker_dsw = st.DescrStatsW(w_smoker)\n",
    "w_nonsmoker_dsw = st.DescrStatsW(w_nonsmoker)\n",
    "\n",
    "diff_of_mean = st.CompareMeans(w_smoker_dsw, w_nonsmoker_dsw)\n",
    "\n",
    "print(f\"Number of smokers = {w_smoker_dsw.nobs}\")\n",
    "print(f\"Mean smoker = {w_smoker_dsw.mean}\")\n",
    "print(f\"Std smoker = {w_smoker_dsw.std}\")\n",
    "print()\n",
    "print(f\"Number of non smokers = {w_nonsmoker_dsw.nobs}\")\n",
    "print(f\"Mean nonsmoker = {w_nonsmoker_dsw.mean}\")\n",
    "print(f\"Std nonsmoker = {w_nonsmoker_dsw.std}\")\n",
    "\n",
    "ht = diff_of_mean.ztest_ind(alternative=\"two-sided\", usevar=\"unequal\", value=0)\n",
    "\n",
    "print()\n",
    "print(f\"Standard error is: {diff_of_mean.std_meandiff_separatevar}\")\n",
    "print(f\"Test statistic: Z = {ht[0]}\")\n",
    "print(f\"p-value = {ht[1]}\")"
   ]
  },
  {
   "cell_type": "markdown",
   "metadata": {},
   "source": [
    "### Exercise 5 - Construct and record a confidence interval for the difference between the weights of babies born to smoking and non-smoking mothers."
   ]
  },
  {
   "cell_type": "code",
   "execution_count": 54,
   "metadata": {},
   "outputs": [
    {
     "data": {
      "text/plain": [
       "(-0.577708211100638, -0.05337671771624097)"
      ]
     },
     "execution_count": 54,
     "metadata": {},
     "output_type": "execute_result"
    }
   ],
   "source": [
    "diff_of_mean.zconfint_diff(alternative=\"two-sided\", usevar=\"unequal\")"
   ]
  },
  {
   "cell_type": "markdown",
   "metadata": {},
   "source": [
    "## On your own\n",
    "\n",
    "### 1. Calculate a 95% confidence interval for the average length of pregnancies (`weeks`) and interpret it in context. Note that since you’re doing inference on a single population parameter, there is no grouping variable.\n",
    "\n",
    "Sampled a woman, its pregnancy duration happens to be 95% of the times within that interval."
   ]
  },
  {
   "cell_type": "code",
   "execution_count": 58,
   "metadata": {},
   "outputs": [
    {
     "data": {
      "text/plain": [
       "(38.15279117659766, 38.516547500757056)"
      ]
     },
     "execution_count": 58,
     "metadata": {},
     "output_type": "execute_result"
    }
   ],
   "source": [
    "preg_weeks_ds = st.DescrStatsW(nc_births_df[\"weeks\"].dropna())\n",
    "\n",
    "preg_weeks_ds.zconfint_mean(alternative=\"two-sided\")"
   ]
  },
  {
   "cell_type": "markdown",
   "metadata": {},
   "source": [
    "### 2. Calculate a new confidence interval for the same parameter at the 90% confidence level. "
   ]
  },
  {
   "cell_type": "code",
   "execution_count": 59,
   "metadata": {},
   "outputs": [
    {
     "data": {
      "text/plain": [
       "(38.18203237344748, 38.48730630390724)"
      ]
     },
     "execution_count": 59,
     "metadata": {},
     "output_type": "execute_result"
    }
   ],
   "source": [
    "preg_weeks_ds.zconfint_mean(alpha=0.10, alternative=\"two-sided\")"
   ]
  },
  {
   "cell_type": "markdown",
   "metadata": {},
   "source": [
    "### 3. Conduct a hypothesis test evaluating whether the average weight gained by younger mothers is different than the average weight gained by mature mothers.\n",
    "\n",
    "* $H_0 : \\mu_y = \\mu_m$.\n",
    "* $H_1 : \\mu_y \\neq \\mu_m$.\n",
    "\n",
    "### 4. Now, a non-inference task: Determine the age cutoff for younger and mature mothers. Use a method of your choice, and explain how your method works.\n",
    "\n",
    "A young mother is defined as being under 30 years of age."
   ]
  },
  {
   "cell_type": "code",
   "execution_count": 63,
   "metadata": {},
   "outputs": [
    {
     "name": "stdout",
     "output_type": "stream",
     "text": [
      "Standard error is: 0.9523167725989216\n",
      "Test statistic: Z = 1.039180651357238\n",
      "p-value = 0.29872072732292654\n"
     ]
    }
   ],
   "source": [
    "w_young = nc_births_df[nc_births_df[\"mage\"] < 30][\"gained\"].dropna()\n",
    "w_mature = nc_births_df[nc_births_df[\"mage\"] >= 30][\"gained\"].dropna()\n",
    "\n",
    "dsw_young = st.DescrStatsW(w_young)\n",
    "dsw_mature = st.DescrStatsW(w_mature)\n",
    "\n",
    "diff_young_mature = st.CompareMeans(dsw_young, dsw_mature)\n",
    "\n",
    "ht = diff_young_mature.ztest_ind(alternative=\"two-sided\", usevar=\"unequal\", value=0)\n",
    "\n",
    "print(f\"Standard error is: {diff_young_mature.std_meandiff_separatevar}\")\n",
    "print(f\"Test statistic: Z = {ht[0]}\")\n",
    "print(f\"p-value = {ht[1]}\")"
   ]
  },
  {
   "cell_type": "markdown",
   "metadata": {},
   "source": [
    "So, the null hypothesis cannot be rejected.\n",
    "\n",
    "### 5. Pick a pair of numerical and categorical variables and come up with a research question evaluating the relationship between these variables. Formulate the question in a way that it can be answered using a hypothesis test and/or a confidence interval. \n",
    "\n",
    "Does the average weight of babies born to young mothers differ from the average weight of babies born to mature mothers? \n",
    "\n",
    "* $H_0 : \\mu_y = \\mu_m$\n",
    "* $H_1 : \\mu_y \\neq \\mu_m$\n",
    "\n",
    "### 6. What concepts from the textbook are covered in this lab? What concepts, if any, are not covered in the textbook? Have you seen these concepts elsewhere, e.g. lecture, discussion section, previous labs, or homework problems? Be specific in your answer.\n",
    "\n",
    "I think this lab has covered a whole bunch of concepts related to inference for numerical data. I have not read any other book in this topic so I cannot compare."
   ]
  },
  {
   "cell_type": "markdown",
   "metadata": {},
   "source": []
  }
 ],
 "metadata": {
  "kernelspec": {
   "display_name": "ds",
   "language": "python",
   "name": "python3"
  },
  "language_info": {
   "codemirror_mode": {
    "name": "ipython",
    "version": 3
   },
   "file_extension": ".py",
   "mimetype": "text/x-python",
   "name": "python",
   "nbconvert_exporter": "python",
   "pygments_lexer": "ipython3",
   "version": "3.12.3"
  }
 },
 "nbformat": 4,
 "nbformat_minor": 2
}
