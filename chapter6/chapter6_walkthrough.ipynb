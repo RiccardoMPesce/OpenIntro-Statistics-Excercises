{
 "cells": [
  {
   "cell_type": "markdown",
   "metadata": {},
   "source": [
    "# Chapter 5: Inference for categorical data"
   ]
  },
  {
   "cell_type": "markdown",
   "metadata": {},
   "source": [
    "### Guided Practice 6.2\n",
    "\n",
    "We get that $SE_{\\hat{p}} = \\sqrt{\\frac{\\hat{p} \\times (1 - \\hat{p})}{n}} = 0.0159$."
   ]
  },
  {
   "cell_type": "markdown",
   "metadata": {},
   "source": [
    "### Guided Practice 6.4\n",
    "\n",
    "A plausible hypothesis would be $P_{0}: $ support and opposition are the same fraction ($ = 0.50$) and $P_{A}: $ states that support and opposition fractions are in different proportions ($ \\ne 0.50$)."
   ]
  },
  {
   "cell_type": "markdown",
   "metadata": {},
   "source": [
    "### Guided Practice 6.5\n",
    "\n",
    "Let's check the success-failure condition with the null value $np_{0} = 412.5 \\approx 413 = n(1 - p_{0})$, so we can use the normal distribution."
   ]
  },
  {
   "cell_type": "markdown",
   "metadata": {},
   "source": [
    "### Guided Practice 6.8\n",
    "\n",
    "We basically want $1.645 \\times \\sqrt{\\frac{p(1 - p)}{n}} \\lt 0.01$, we can conveniently create a Python routine which, taking as input `p`, the confidence level and the margin of error, will output the minimum sample size `n` to achieve that. We run the function with the three proportions found previously and see what's the respective `n`."
   ]
  },
  {
   "cell_type": "code",
   "execution_count": 5,
   "metadata": {},
   "outputs": [
    {
     "name": "stdout",
     "output_type": "stream",
     "text": [
      "With p = 0.017, we need a sample size of n = 449.\n",
      "With p = 0.062, we need a sample size of n = 1564.\n",
      "With p = 0.013, we need a sample size of n = 345.\n"
     ]
    }
   ],
   "source": [
    "from scipy import stats\n",
    "\n",
    "def get_sample_size(p, confidence_level, error_margin):\n",
    "    z = round(stats.norm.interval(confidence_level)[-1], 2)\n",
    "\n",
    "    return round((z ** 2) * ((p * (1 - p)) / (error_margin ** 2)))\n",
    "\n",
    "for p in [0.017, 0.062, 0.013]:\n",
    "    print(f\"With p = {p}, we need a sample size of n = {get_sample_size(p, 0.90, 0.01)}.\")\n"
   ]
  },
  {
   "cell_type": "markdown",
   "metadata": {},
   "source": [
    "### Guided Practice 6.10\n",
    "\n",
    "We can again leverage the previously created function to answer this question."
   ]
  },
  {
   "cell_type": "code",
   "execution_count": 6,
   "metadata": {},
   "outputs": [
    {
     "data": {
      "text/plain": [
       "323"
      ]
     },
     "execution_count": 6,
     "metadata": {},
     "output_type": "execute_result"
    }
   ],
   "source": [
    "get_sample_size(0.70, 0.95, 0.05)"
   ]
  },
  {
   "cell_type": "markdown",
   "metadata": {},
   "source": [
    "### Exercise 6.1 - Vegetarian college students.\n",
    "\n",
    "* (a) Since $np = 60 \\times 0.08 = 4.8$ and $n(1 - p) = 60 \\times 0.92 = 55.2$, the normal distribution won't work well.\n",
    "* (b) Yes, since the sample proportion is closer to 0 than 1 and the sample size is not very big for such a proportion.\n",
    "* (c) A sample size of $n = 125$ would give us $SE_{\\hat{p}} = 0.024$ therefore we can compute $Z = 1.67$, which means that value is quite unusual.\n",
    "* (d) With a sample size of $n = 250$ we get $SE_{\\hat{p}} = 0.017$ and therefore $Z = 2.33$, so the proportion becomes more unusual.\n",
    "* (e) We reduced the standard error by 28% so we had roughly one quarter of the standard error with half the sample size."
   ]
  },
  {
   "cell_type": "markdown",
   "metadata": {},
   "source": [
    "### Exercise 6.2 - Young Americans, Part I.\n",
    "\n",
    "* (a) Maybe only slightly left skewed due to $p$ being closer to 1 and the sample size being 20.\n",
    "* (b) Since $np = 30.8$ and $n(1 - p) = 9.2$, we fail the success-failure condition so the normal approximation won't work well.\n",
    "* (c) Since $SE_{\\hat{p}} = 0.054$ we have that $Z = 1.47$ so the observation would be considered unusual.\n",
    "* (d) In this case, $Z = 2.08$, so the observation is more unusual."
   ]
  },
  {
   "cell_type": "markdown",
   "metadata": {},
   "source": [
    "### Exercise 6.3 - Orange tabbies.\n",
    "\n",
    "* (a) It is left skewed since the sample size is small and the proportion is close to 1. Therefore we expect a noticeable left skewness.\n",
    "* (b) True, since that would halve the _standard error_ (remember that $n$ is under the square root too).\n",
    "* (c) True, since we have a big sample size which makes it easier to approximate it to a normal distribution. Also, $np = 140 * 0.90 = 126$ and $n(1 - p) = 14$.\n",
    "* (d) True, a bigger sample size would increase the _success-failure condition_ values."
   ]
  },
  {
   "cell_type": "markdown",
   "metadata": {},
   "source": [
    "### Exercise 6.4 - Young Americans, Part II.\n",
    "\n",
    "* (a) True, since we have a very small sample size and a proportion closer to 0. \n",
    "* (b) True, since we need to meet the following:\n",
    "\n",
    "$$\n",
    "\\begin{cases}np \\ge 10 \\\\ n(1 - p) \\ge 10 \\end{cases} => \\begin{cases}n \\ge 13.33 \\\\ n \\ge 40 \\end{cases} => n \\ge 40\n",
    "$$\n",
    "\n",
    "* (c) We have $SE_{\\hat{p}} = 0.057$ so $Z = -0.88$, therefore it is not considered unusual.\n",
    "* (d) We now have $Z = -1.53$ so the sample proportion is unusual.\n",
    "* (e) False, a sample size $3n$ will decrease the _standard error_ by a factor $\\frac{1}{\\sqrt{3}}$.\n",
    "\n"
   ]
  },
  {
   "cell_type": "markdown",
   "metadata": {},
   "source": [
    "### Exercise 6.5 - Gender equality.\n",
    "\n",
    "* (a) False, confidence is about the population not the sample. \n",
    "* (b) True, since a confidence interval built on some data gives us the degree of confidence about a population.\n",
    "* (c) True, since this is another definition of confidence interval.\n",
    "* (d) True, since quadrupling the sample size will halve the _standard error_.\n",
    "* (e) True, since we still get a low margin of error."
   ]
  },
  {
   "cell_type": "markdown",
   "metadata": {},
   "source": [
    "### Exercise 6.6 - Elderly drivers.\n",
    "\n",
    "* (a) We have $SE_{\\hat{p}} = 0.015$ and so our 95% confidence interval should be $[63.08\\%,\\ 68.91\\%]$, so the values are correct.\n",
    "* (b) No, since the interval is lower than 70%."
   ]
  },
  {
   "cell_type": "markdown",
   "metadata": {},
   "source": [
    "### Exercise 6.7 - Fireworks on July 4<sup>th</sup>.\n",
    "\n",
    "For a 95% confidence interval we have a margin of error of $1.96 * SE_{\\hat{p}} = 0.04 = 4\\%$."
   ]
  },
  {
   "cell_type": "markdown",
   "metadata": {},
   "source": [
    "### Exercise 6.8 - Life rating in Greece.\n",
    "\n",
    "* (a) The parameter of interest is the proportion of Greek people living in a condition poor enough to be considered \"suffering\". The value of this proportion is $\\hat{p} = 0.25$.\n",
    "* (b) We may want to check the _success-failure condition_, having $np = 0.25 * 1000 = 250$ and $n(1 - p) = 0.75 * 1000 = 750$.\n",
    "* (c) The 95% confidence interval is $[22.32\\%,\\ 27.68\\%]$.\n",
    "* (d) A higher confidence level would give us a wider confidence interval.\n",
    "* (e) A larger sample would shrink the standard error, thus shrinking the confidence interval itself."
   ]
  },
  {
   "cell_type": "markdown",
   "metadata": {},
   "source": [
    "### Exercise 6.9 - Study abroad.\n",
    "\n",
    "* (a) An optional web survey may be completed by those who choose to do so, therefore this is not a representative sample of the population of interest.\n",
    "* (b) The 90% confidence interval is $[52.89\\%,\\ 57.11\\%]$. We are confident that the proportion of students sure to spend a study period abroad is between 52.89% and 57.11%.\n",
    "* (c) It means that by taking multiple samples and calculating the sample parameter of interest, and building then a 90% confidence interval, 90% of these intervals will capture the true population parameter.\n",
    "* (d) If this sample were representative, then yes since the interval is above 50%."
   ]
  },
  {
   "cell_type": "markdown",
   "metadata": {},
   "source": [
    "### Exercise 6.10 - Legalization of marijuana, Part I."
   ]
  },
  {
   "cell_type": "code",
   "execution_count": 9,
   "metadata": {},
   "outputs": [
    {
     "data": {
      "text/plain": [
       "(0.5289326997892237, 0.5710673002107763)"
      ]
     },
     "execution_count": 9,
     "metadata": {},
     "output_type": "execute_result"
    }
   ],
   "source": [
    "p = 0.55\n",
    "n = 1509\n",
    "\n",
    "se = ((p * (1 - p)) / n) ** 0.5\n",
    "p - 1.645 * se, p + 1.645 * se"
   ]
  },
  {
   "cell_type": "markdown",
   "metadata": {},
   "source": []
  }
 ],
 "metadata": {
  "interpreter": {
   "hash": "bdc1c445b68446493975f0f4c1120652b32b7ff2d59b9297499b6aaef4c1ff08"
  },
  "kernelspec": {
   "display_name": "Python 3.9.7 64-bit ('base': conda)",
   "name": "python3"
  },
  "language_info": {
   "codemirror_mode": {
    "name": "ipython",
    "version": 3
   },
   "file_extension": ".py",
   "mimetype": "text/x-python",
   "name": "python",
   "nbconvert_exporter": "python",
   "pygments_lexer": "ipython3",
   "version": "3.9.7"
  },
  "orig_nbformat": 4
 },
 "nbformat": 4,
 "nbformat_minor": 2
}
