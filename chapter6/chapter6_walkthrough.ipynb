{
 "cells": [
  {
   "cell_type": "markdown",
   "metadata": {},
   "source": [
    "# Chapter 5: Inference for categorical data"
   ]
  },
  {
   "cell_type": "markdown",
   "metadata": {},
   "source": [
    "### Guided Practice 6.2\n",
    "\n",
    "We get that $SE_{\\hat{p}} = \\sqrt{\\frac{\\hat{p} \\times (1 - \\hat{p})}{n}} = 0.0159$."
   ]
  },
  {
   "cell_type": "markdown",
   "metadata": {},
   "source": [
    "### Guided Practice 6.4\n",
    "\n",
    "A plausible hypothesis would be $P_{0}: $ support and opposition are the same fraction ($ = 0.50$) and $P_{A}: $ states that support and opposition fractions are in different proportions ($ \\ne 0.50$)."
   ]
  },
  {
   "cell_type": "markdown",
   "metadata": {},
   "source": [
    "### Guided Practice 6.5\n",
    "\n",
    "Let's check the success-failure condition with the null value $np_{0} = 412.5 \\approx 413 = n(1 - p_{0})$, so we can use the normal distribution."
   ]
  },
  {
   "cell_type": "markdown",
   "metadata": {},
   "source": [
    "### Guided Practice 6.8\n",
    "\n",
    "We basically want $1.645 \\times \\sqrt{\\frac{p(1 - p)}{n}} \\lt 0.01$, we can conveniently create a Python routine which, taking as input `p`, the confidence level and the margin of error, will output the minimum sample size `n` to achieve that. We run the function with the three proportions found previously and see what's the respective `n`."
   ]
  },
  {
   "cell_type": "code",
   "execution_count": 1,
   "metadata": {},
   "outputs": [
    {
     "name": "stdout",
     "output_type": "stream",
     "text": [
      "With p = 0.017, we need a sample size of n = 449.\n",
      "With p = 0.062, we need a sample size of n = 1564.\n",
      "With p = 0.013, we need a sample size of n = 345.\n"
     ]
    }
   ],
   "source": [
    "from scipy import stats\n",
    "\n",
    "def get_sample_size(p, confidence_level, error_margin):\n",
    "    z = round(stats.norm.interval(confidence_level)[-1], 2)\n",
    "\n",
    "    return round((z ** 2) * ((p * (1 - p)) / (error_margin ** 2)))\n",
    "\n",
    "for p in [0.017, 0.062, 0.013]:\n",
    "    print(f\"With p = {p}, we need a sample size of n = {get_sample_size(p, 0.90, 0.01)}.\")\n"
   ]
  },
  {
   "cell_type": "markdown",
   "metadata": {},
   "source": [
    "### Guided Practice 6.10\n",
    "\n",
    "We can again leverage the previously created function to answer this question."
   ]
  },
  {
   "cell_type": "code",
   "execution_count": 2,
   "metadata": {},
   "outputs": [
    {
     "data": {
      "text/plain": [
       "323"
      ]
     },
     "execution_count": 2,
     "metadata": {},
     "output_type": "execute_result"
    }
   ],
   "source": [
    "get_sample_size(0.70, 0.95, 0.05)"
   ]
  },
  {
   "cell_type": "markdown",
   "metadata": {},
   "source": [
    "### Exercise 6.1 - Vegetarian college students.\n",
    "\n",
    "* (a) Since $np = 60 \\times 0.08 = 4.8$ and $n(1 - p) = 60 \\times 0.92 = 55.2$, the normal distribution won't work well.\n",
    "* (b) Yes, since the sample proportion is closer to 0 than 1 and the sample size is not very big for such a proportion.\n",
    "* (c) A sample size of $n = 125$ would give us $SE_{\\hat{p}} = 0.024$ therefore we can compute $Z = 1.67$, which means that value is quite unusual.\n",
    "* (d) With a sample size of $n = 250$ we get $SE_{\\hat{p}} = 0.017$ and therefore $Z = 2.33$, so the proportion becomes more unusual.\n",
    "* (e) We reduced the standard error by 28% so we had roughly one quarter of the standard error with half the sample size."
   ]
  },
  {
   "cell_type": "markdown",
   "metadata": {},
   "source": [
    "### Exercise 6.2 - Young Americans, Part I.\n",
    "\n",
    "* (a) Maybe only slightly left skewed due to $p$ being closer to 1 and the sample size being 20.\n",
    "* (b) Since $np = 30.8$ and $n(1 - p) = 9.2$, we fail the success-failure condition so the normal approximation won't work well.\n",
    "* (c) Since $SE_{\\hat{p}} = 0.054$ we have that $Z = 1.47$ so the observation would be considered unusual.\n",
    "* (d) In this case, $Z = 2.08$, so the observation is more unusual."
   ]
  },
  {
   "cell_type": "markdown",
   "metadata": {},
   "source": [
    "### Exercise 6.3 - Orange tabbies.\n",
    "\n",
    "* (a) It is left skewed since the sample size is small and the proportion is close to 1. Therefore we expect a noticeable left skewness.\n",
    "* (b) True, since that would halve the _standard error_ (remember that $n$ is under the square root too).\n",
    "* (c) True, since we have a big sample size which makes it easier to approximate it to a normal distribution. Also, $np = 140 * 0.90 = 126$ and $n(1 - p) = 14$.\n",
    "* (d) True, a bigger sample size would increase the _success-failure condition_ values."
   ]
  },
  {
   "cell_type": "markdown",
   "metadata": {},
   "source": [
    "### Exercise 6.4 - Young Americans, Part II.\n",
    "\n",
    "* (a) True, since we have a very small sample size and a proportion closer to 0. \n",
    "* (b) True, since we need to meet the following:\n",
    "\n",
    "$$\n",
    "\\begin{cases}np \\ge 10 \\\\ n(1 - p) \\ge 10 \\end{cases} = \\begin{cases}n \\ge 13.33 \\\\ n \\ge 40 \\end{cases} => n \\ge 40\n",
    "$$\n",
    "\n",
    "* (c) We have $SE_{\\hat{p}} = 0.057$ so $Z = -0.88$, therefore it is not considered unusual.\n",
    "* (d) We now have $Z = -1.53$ so the sample proportion is unusual.\n",
    "* (e) False, a sample size $3n$ will decrease the _standard error_ by a factor $\\frac{1}{\\sqrt{3}}$.\n",
    "\n"
   ]
  },
  {
   "cell_type": "markdown",
   "metadata": {},
   "source": [
    "### Exercise 6.5 - Gender equality.\n",
    "\n",
    "* (a) False, confidence is about the population not the sample. \n",
    "* (b) True, since a confidence interval built on some data gives us the degree of confidence about a population.\n",
    "* (c) True, since this is another definition of confidence interval.\n",
    "* (d) True, since quadrupling the sample size will halve the _standard error_.\n",
    "* (e) True, since we still get a low margin of error."
   ]
  },
  {
   "cell_type": "markdown",
   "metadata": {},
   "source": [
    "### Exercise 6.6 - Elderly drivers.\n",
    "\n",
    "* (a) We have $SE_{\\hat{p}} = 0.015$ and so our 95% confidence interval should be $[63.08\\%,\\ 68.91\\%]$, so the values are correct.\n",
    "* (b) No, since the interval is lower than 70%."
   ]
  },
  {
   "cell_type": "markdown",
   "metadata": {},
   "source": [
    "### Exercise 6.7 - Fireworks on July 4<sup>th</sup>.\n",
    "\n",
    "For a 95% confidence interval we have a margin of error of $1.96 * SE_{\\hat{p}} = 0.04 = 4\\%$."
   ]
  },
  {
   "cell_type": "markdown",
   "metadata": {},
   "source": [
    "### Exercise 6.8 - Life rating in Greece.\n",
    "\n",
    "* (a) The parameter of interest is the proportion of Greek people living in a condition poor enough to be considered \"suffering\". The value of this proportion is $\\hat{p} = 0.25$.\n",
    "* (b) We may want to check the _success-failure condition_, having $np = 0.25 * 1000 = 250$ and $n(1 - p) = 0.75 * 1000 = 750$.\n",
    "* (c) The 95% confidence interval is $[22.32\\%,\\ 27.68\\%]$.\n",
    "* (d) A higher confidence level would give us a wider confidence interval.\n",
    "* (e) A larger sample would shrink the standard error, thus shrinking the confidence interval itself."
   ]
  },
  {
   "cell_type": "markdown",
   "metadata": {},
   "source": [
    "### Exercise 6.9 - Study abroad.\n",
    "\n",
    "* (a) An optional web survey may be completed by those who choose to do so, therefore this is not a representative sample of the population of interest.\n",
    "* (b) The 90% confidence interval is $[52.89\\%,\\ 57.11\\%]$. We are confident that the proportion of students sure to spend a study period abroad is between 52.89% and 57.11%.\n",
    "* (c) It means that by taking multiple samples and calculating the sample parameter of interest, and building then a 90% confidence interval, 90% of these intervals will capture the true population parameter.\n",
    "* (d) If this sample were representative, then yes since the interval is above 50%."
   ]
  },
  {
   "cell_type": "markdown",
   "metadata": {},
   "source": [
    "### Exercise 6.10 - Legalization of marijuana, Part I.\n",
    "\n",
    "* (a) It is a sample statistic since it is referred to a sample.\n",
    "* (b) We are 95% confident that the true population parameters (the fraction of US residents wanting to legalize Cannabis) lies within the interval $[58.59\\%,\\ 63.41\\%]$.\n",
    "* (c) Let's check the _success-failure_ condition: $np = 1578 * 0.61 \\approx 963 $ and $n(1 - p) = 1578 * 0.39 \\approx 615$, therefore the normal model is reasonable.\n",
    "* (d) I am 95% confident that this statement is true."
   ]
  },
  {
   "cell_type": "markdown",
   "metadata": {},
   "source": [
    "### Exercise 6.11 - National Health Plan, Part I.\n",
    "\n",
    "* (a) The null hypothesis is that half of the Independents support a National Health Plan, while the alternative hypothesis tells us that the proportion is bigger (a one-tailed test is necessary here). We have that $SE_{\\hat{p}} = 0.02$. The found _p-value_ is $p = 0.006 \\lt 0.05$. Therefore we can conclude there's enough evidence for us to reject the null hypothesis.\n",
    "* (b) As found before, a 95% confidence interval does not include 0.5 (50%) but a 99% confidence interval might."
   ]
  },
  {
   "cell_type": "markdown",
   "metadata": {},
   "source": [
    "### Exercise 6.12 - Is college worth it? Part I.\n",
    "\n",
    "* (a) The null hypothesis is that half of the partecipants said they did not go to college because they could not afford it, while the alternative hypothesis is that the proportion of those who did not go to college because they could not afford it is less than 0.5, i.e. is in \"minority\". We found a p-value of 0.25 (one sided), therefore we can't reject the null hypothesis with this data, so we cannot confirm the statement.\n",
    "* (b) Sure, since the p-value is greater than 0.05."
   ]
  },
  {
   "cell_type": "markdown",
   "metadata": {},
   "source": [
    "### Exercise 6.13 - Taste test.\n",
    "\n",
    "* (a) Given H<sub>0</sub>: p = 0.5 and H<sub>A</sub>: p $\\ne$ 0.5 we find a p-value of 0.31 (two tailed test), therefore we cannot reject the null hypothesis.\n",
    "* (b) In this context the p-value is the probability to see a 53% success rate if we used random guessing."
   ]
  },
  {
   "cell_type": "markdown",
   "metadata": {},
   "source": [
    "### Exercise 6.14 - Is college worth it? Part II.\n",
    "\n",
    "* (a) The 90% confidence interval is $[43.48\\%,\\ 52.52\\%]$.\n",
    "* (b) Using our previously defined script we get $n = 2984$."
   ]
  },
  {
   "cell_type": "markdown",
   "metadata": {},
   "source": [
    "### Exercise 6.15 - National Health Plan, Part II.\n",
    "\n",
    "An appropriate sample size would be $n = 6657$."
   ]
  },
  {
   "cell_type": "markdown",
   "metadata": {},
   "source": [
    "### Exercise 6.16 - Legalize Marijuana, Part II.\n",
    "\n",
    "We need to use a sample size of $n = 2285$."
   ]
  },
  {
   "cell_type": "markdown",
   "metadata": {},
   "source": [
    "### Guided Practice 6.13\n",
    "\n",
    "We define as $p_{fo} = \\frac{145}{12933} = 0.011$ as the percentage of heart attacks in the group receiving fish oil (treatment group) and $p_{pl} = \\frac{200}{12938} = 0.016$ as the fraction of heart attacks in the control group. We have $p_{fo} - p_{pl} = 0.011 - 0.015 = -0.004$ with $SE = 0.0014$ (using the formula implemented in the function below). So our confidence interval is $[-0.0077,\\ -0.0023]$, which means that we're 95% confident that the difference between the treatment and control heart attack frequency is between -0.77% and -0.23%, which is not a significant difference."
   ]
  },
  {
   "cell_type": "markdown",
   "metadata": {},
   "source": [
    "### Guided Practice 6.14\n",
    "\n",
    "It is an experimental study since we have both a treatment and a control group."
   ]
  },
  {
   "cell_type": "markdown",
   "metadata": {},
   "source": [
    "### Guided Practice 6.15\n",
    "\n",
    "H<sub>0</sub> : p<sub>m</sub> - p<sub>nm</sub> = 0.03 and H<sub>A</sub> : p<sub>m</sub> - p<sub>nm</sub> $\\ne$ 0.03, with p<sub>m</sub> being the proportion receiving mammogram and p<sub>nm</sub> the proportion in the control group."
   ]
  },
  {
   "cell_type": "markdown",
   "metadata": {},
   "source": [
    "### Guided Practice 6.19\n",
    "\n",
    "H<sub>0</sub> : p<sub>new</sub> - p<sub>old</sub> = 0 and H<sub>A</sub> : p<sub>new</sub> - p<sub>old</sub> $\\ge$ 0.03."
   ]
  },
  {
   "cell_type": "markdown",
   "metadata": {},
   "source": [
    "### Guided Practice 6.21\n",
    "\n",
    "We remember that $Var[\\alpha A + \\beta B] = \\alpha^{2} Var[{A}] + \\beta^{2} Var[{B}]$ and since $Var[\\alpha X] = \\alpha^{2}Var[X]$ so $Var[-X] = (-1)^2Var[X] = Var[X]$ we get that $SE_{\\hat{p}_1 - \\hat{p}_2}^{2} = SE_{\\hat{p}_{1}}^{2} + SE_{\\hat{p}_{2}}^{2}$."
   ]
  },
  {
   "cell_type": "markdown",
   "metadata": {},
   "source": [
    "### Exercise 6.17 - Social experiment, Part I.\n",
    "\n",
    "Let's calculate the pooled proportion as $\\hat{p}_{yes} = \\frac{20}{45} = 0.44$, and now let's check the success-failure conditions as\n",
    "\n",
    "$$\n",
    "n_{pro} * \\hat{p}_{yes} = 20 * 0.44 = 8.8 \\\\\n",
    "$$\n",
    "\n",
    "$$\n",
    "n_{pro} * (1 - \\hat{p}_{yes}) = 20 * 0.56 = 11.2 \\\\\n",
    "$$\n",
    "\n",
    "$$\n",
    "n_{con} * \\hat{p}_{yes} = 25 * 0.44 = 11 \\\\\n",
    "$$\n",
    "\n",
    "$$\n",
    "n_{con} * (1 - \\hat{p}_{yes}) = 20 * 0.56 = 14 \\\\\n",
    "$$\n",
    "\n",
    "The first conditions holds 8.8, therefore it does not meet the success-failure condition."
   ]
  },
  {
   "cell_type": "markdown",
   "metadata": {},
   "source": [
    "### Exercise 6.18 - Heart transplant success.\n",
    "\n",
    "We have that $\\hat{p}_{survived} = \\frac{28}{103} = 0.2718$ and we fail to have $n_{survived} \\times \\hat{p}_{survived} \\ge 10$. The confidence interval won't be accurate as it won't be symmetric around the estimate."
   ]
  },
  {
   "cell_type": "markdown",
   "metadata": {},
   "source": [
    "### Exercise 6.19 - Gender and color preference.\n",
    "\n",
    "* (a) False, since that is an interval.\n",
    "* (b) True, since we are 95% confident to see those percent differences.\n",
    "* (c) True, since this is another definition of a confidence interval.\n",
    "* (d) True, since our confidence interval is above the 0.\n",
    "* (e) False, at it is simply the negated."
   ]
  },
  {
   "cell_type": "markdown",
   "metadata": {},
   "source": [
    "### Exercise 6.20 - Government shutdown.\n",
    "\n",
    "* (a) With significance level of 5%, we need a p-value less that 0.05 to reject the null hypothesis. However, from the given confidence interval we can't deduct that there are any significant differences, so this is false.\n",
    "* (b) False, it's the opposite: we are 95% confident that 16% to -2% of those who make less than 40,000$ are personally affected.\n",
    "* (c) False, a 90% confidence interval would be narrower.\n",
    "* (d) True. We get that $SE = 0.05$ so roughly yes, we get that interval. "
   ]
  },
  {
   "cell_type": "markdown",
   "metadata": {},
   "source": [
    "### Exercise 6.21 - National Health Plan, Part III.\n",
    "\n",
    "* (a) First of all we have $p_{D} - p_{I} = 0.79 - 0.55 = 0.24$ and $SE_{p_{D} - p_{I}} = 0.042$ (calculated using the module defined below). Now, the 95% confidence interval is $[0.16,\\ 0.32]$.\n",
    "* (b) True, since the 95% confidence interval is definitely greater than 0."
   ]
  },
  {
   "cell_type": "code",
   "execution_count": 3,
   "metadata": {},
   "outputs": [],
   "source": [
    "def standard_error(p, n):\n",
    "    return ((p * (1 - p)) / n) ** 0.5\n",
    "\n",
    "def standard_error_difference(p1, p2, n1, n2):\n",
    "    return (standard_error(p1, n1) ** 2 + standard_error(p2, n2) ** 2) ** 0.5\n"
   ]
  },
  {
   "cell_type": "markdown",
   "metadata": {},
   "source": [
    "### Exercise 6.22 - Sleep deprivation, CA vs. OR, Part I.\n",
    "\n",
    "Since $p_{OR} - p_{CA} = 0.088 - 0.080 = 0.008$ and $SE_{p_{OR} - p_{CA}} = 0.005$ we have that the 95% confidence interval is $[-0.002,\\ 0.018]$. The observed difference might be due to chance since the confidence interval shows that the difference in proportion can go below 0."
   ]
  },
  {
   "cell_type": "markdown",
   "metadata": {},
   "source": [
    "### Exercise 6.23 - Offshore drilling, Part I.\n",
    "\n",
    "* (a) Respectively, $p_{grad} = 0.2374 = 23.74\\%$ and $p_{no\\ grad} = 0.3368 = 33.68\\%$.\n",
    "* (b) $H_{0} : p_{no\\ grad} = p_{grad}$ and $H_{0} : p_{no\\ grad} \\ne p_{grad}$. We obtain $SE_{p_{no\\ grad} - p_{grad}} = 0.0314$. Now we get a p-value as $pval = 0.0015$ (two-tailed test), thus there's convincing evidence that the proportion of non college graduates who do not have an opinion is greater than the proportion of college grade who neither do have an opinion."
   ]
  },
  {
   "cell_type": "markdown",
   "metadata": {},
   "source": [
    "### Exercise 6.24 - Sleep deprivation, CA vs. OR, Part II.\n",
    "\n",
    "* (a) Success-failure condition is met and so we can conduct an hypothesis test $H_{0} : p_{Ca} = p_{Or}$ and $H_{0} : p_{Ca} \\ne p_{Or}$. So we get $pval = 0.099$ which tells us there's no strong evidence supporting the alternative hypothesis.\n",
    "* (b) It was made a type II error."
   ]
  },
  {
   "cell_type": "markdown",
   "metadata": {},
   "source": [
    "### Exercise 6.25 - Offshore drilling, Part II.\n",
    "\n",
    "* (a) Respectively $35.16\\%$ and $33.93\\%$.\n",
    "* (b) We get a pvalue of 0.71, showing us that there is not strong evidence supporting that the two differences are not by chance."
   ]
  },
  {
   "cell_type": "markdown",
   "metadata": {},
   "source": [
    "### Exercise 6.26 - Full body scan, Part I.\n",
    "\n",
    "* (a) $H_{0} : p_{r} = p_{d}$ and $H_{A} : p_{r} \\ne p_{d}$. We find a p-value of $0.498$, therefore we can't reject the null hypothesis.\n",
    "* (b) We would make a Type II error, i.e. failing to reject a null hypothesis which ought to be rejected indeed."
   ]
  },
  {
   "cell_type": "markdown",
   "metadata": {},
   "source": [
    "### Exercise 6.27 - Sleep deprived transportation workers.\n",
    "\n",
    "We check if we meet the success-failure condition using the script below."
   ]
  },
  {
   "cell_type": "code",
   "execution_count": 4,
   "metadata": {},
   "outputs": [
    {
     "data": {
      "text/plain": [
       "True"
      ]
     },
     "execution_count": 4,
     "metadata": {},
     "output_type": "execute_result"
    }
   ],
   "source": [
    "def success_failure_two(p1, p2, n1, n2):\n",
    "    p_p = (p1 * n1 + p2 * n2) / (n1 + n2)\n",
    "    return all(\n",
    "        x >= 10 for x in [p_p * n1, p_p * n2, (1 - p_p) * n1, (1 - p_p) * n2]\n",
    "    )\n",
    "\n",
    "success_failure_two(35 / 203, 35 / 292, 203, 292)"
   ]
  },
  {
   "cell_type": "markdown",
   "metadata": {},
   "source": [
    "Let's now create a whole routine which output the p-value for us (it will be rudimental at first)."
   ]
  },
  {
   "cell_type": "code",
   "execution_count": 5,
   "metadata": {},
   "outputs": [
    {
     "name": "stdout",
     "output_type": "stream",
     "text": [
      "-1.6109110850818888\n"
     ]
    },
    {
     "data": {
      "text/plain": [
       "0.10719910357164927"
      ]
     },
     "execution_count": 5,
     "metadata": {},
     "output_type": "execute_result"
    }
   ],
   "source": [
    "def p_val_calc_diff(p1, p2, n1, n2):\n",
    "    if not success_failure_two(p1, p2, n1, n2):\n",
    "        return -1\n",
    "    else:\n",
    "        se = standard_error_difference(p1, p2, n1, n2)\n",
    "\n",
    "        z = (p1 - p2) / se\n",
    "        print(z)\n",
    "\n",
    "        if z < 0:\n",
    "            return stats.norm.cdf(z) * 2\n",
    "        else:\n",
    "            return (1 - stats.norm.cdf(z)) * 2\n",
    "\n",
    "p_val_calc_diff(35 / 292, 35 / 203, 292, 203)"
   ]
  },
  {
   "cell_type": "markdown",
   "metadata": {},
   "source": [
    "We get a p-value which obliges us to reject the alternative hypothesis."
   ]
  },
  {
   "cell_type": "markdown",
   "metadata": {},
   "source": [
    "### Exercise 6.28 - Prenatal vitamins and Autism.\n",
    "\n",
    "* (a) $H_{0} : p_{v} = p_{nv}$ and $H_{A} : p_{v} \\ne p_{nv}$.\n",
    "* (b) We can check using the routine defined above, and since we get a p-value less than 0.05, we can accept the alternative hypothesis.\n",
    "* (c) Since we have not proven causation, we might use a softer term."
   ]
  },
  {
   "cell_type": "markdown",
   "metadata": {},
   "source": [
    "### Exercise 6.29 - HIV in sub-Saharan Africa.\n",
    "\n",
    "* (a) Let's use pandas for this (see below).\n",
    "* (b) $H_{0} : p_{n} = p_{l}$ and $H_{A} : p_{n} \\ne p_{l}$.\n",
    "* (c) We find a p-value of 0.003, therefore we reject the null hypothesis."
   ]
  },
  {
   "cell_type": "code",
   "execution_count": 6,
   "metadata": {},
   "outputs": [
    {
     "data": {
      "text/html": [
       "<div>\n",
       "<style scoped>\n",
       "    .dataframe tbody tr th:only-of-type {\n",
       "        vertical-align: middle;\n",
       "    }\n",
       "\n",
       "    .dataframe tbody tr th {\n",
       "        vertical-align: top;\n",
       "    }\n",
       "\n",
       "    .dataframe thead th {\n",
       "        text-align: right;\n",
       "    }\n",
       "</style>\n",
       "<table border=\"1\" class=\"dataframe\">\n",
       "  <thead>\n",
       "    <tr style=\"text-align: right;\">\n",
       "      <th>outcome</th>\n",
       "      <th>success</th>\n",
       "      <th>virologic failure</th>\n",
       "      <th>All</th>\n",
       "    </tr>\n",
       "    <tr>\n",
       "      <th>medicine</th>\n",
       "      <th></th>\n",
       "      <th></th>\n",
       "      <th></th>\n",
       "    </tr>\n",
       "  </thead>\n",
       "  <tbody>\n",
       "    <tr>\n",
       "      <th>lopinavir</th>\n",
       "      <td>110</td>\n",
       "      <td>10</td>\n",
       "      <td>120</td>\n",
       "    </tr>\n",
       "    <tr>\n",
       "      <th>nevaprine</th>\n",
       "      <td>94</td>\n",
       "      <td>26</td>\n",
       "      <td>120</td>\n",
       "    </tr>\n",
       "    <tr>\n",
       "      <th>All</th>\n",
       "      <td>204</td>\n",
       "      <td>36</td>\n",
       "      <td>240</td>\n",
       "    </tr>\n",
       "  </tbody>\n",
       "</table>\n",
       "</div>"
      ],
      "text/plain": [
       "outcome    success  virologic failure  All\n",
       "medicine                                  \n",
       "lopinavir      110                 10  120\n",
       "nevaprine       94                 26  120\n",
       "All            204                 36  240"
      ]
     },
     "execution_count": 6,
     "metadata": {},
     "output_type": "execute_result"
    }
   ],
   "source": [
    "import pandas as pd \n",
    "\n",
    "df = pd.DataFrame({\n",
    "    \"outcome\": [\"virologic failure\"] * 26 + [\"success\"] * 94 + [\"virologic failure\"] * 10 + [\"success\"] * 110, \n",
    "    \"medicine\": [\"nevaprine\"] * 120 + [\"lopinavir\"] * 120\n",
    "})\n",
    "\n",
    "pd.crosstab(df.medicine, df.outcome, margins=True)"
   ]
  },
  {
   "cell_type": "markdown",
   "metadata": {},
   "source": [
    "### Exercise 6.30 - An apple a day keeps the doctor away.\n",
    "\n",
    "It depends on the number of students and the purpose of this analysis."
   ]
  },
  {
   "cell_type": "markdown",
   "metadata": {},
   "source": [
    "### Guided Practice 6.23\n",
    "\n",
    "We would expect 33 of the jurors to be Hispanic and 24.75 from other races."
   ]
  },
  {
   "cell_type": "markdown",
   "metadata": {},
   "source": [
    "### Guided Practice 6.24"
   ]
  },
  {
   "cell_type": "markdown",
   "metadata": {},
   "source": [
    "* (a) The center gets wider.\n",
    "* (b) The variability seems to increase.\n",
    "* (c) The shape becomes more normal-like."
   ]
  },
  {
   "cell_type": "markdown",
   "metadata": {},
   "source": [
    "### Guided Practice 6.28"
   ]
  },
  {
   "cell_type": "code",
   "execution_count": 7,
   "metadata": {},
   "outputs": [
    {
     "data": {
      "text/plain": [
       "0.11086624560489045"
      ]
     },
     "execution_count": 7,
     "metadata": {},
     "output_type": "execute_result"
    }
   ],
   "source": [
    "1 - stats.chi2.cdf(11.7, df=7)"
   ]
  },
  {
   "cell_type": "markdown",
   "metadata": {},
   "source": [
    "### Guided Practice 6.29"
   ]
  },
  {
   "cell_type": "code",
   "execution_count": 8,
   "metadata": {},
   "outputs": [
    {
     "data": {
      "text/plain": [
       "0.04042768199451274"
      ]
     },
     "execution_count": 8,
     "metadata": {},
     "output_type": "execute_result"
    }
   ],
   "source": [
    "1 - stats.chi2.cdf(10, df=4)"
   ]
  },
  {
   "cell_type": "markdown",
   "metadata": {},
   "source": [
    "### Guided Practice 6.30"
   ]
  },
  {
   "cell_type": "code",
   "execution_count": 9,
   "metadata": {},
   "outputs": [
    {
     "data": {
      "text/plain": [
       "0.026625274336369742"
      ]
     },
     "execution_count": 9,
     "metadata": {},
     "output_type": "execute_result"
    }
   ],
   "source": [
    "1 - stats.chi2.cdf(9.21, df=3)"
   ]
  },
  {
   "cell_type": "markdown",
   "metadata": {},
   "source": [
    "### Guided Practice 6.34\n",
    "\n",
    "Let's use, as above, Python."
   ]
  },
  {
   "cell_type": "code",
   "execution_count": 10,
   "metadata": {},
   "outputs": [
    {
     "data": {
      "text/plain": [
       "4.626783138388285"
      ]
     },
     "execution_count": 10,
     "metadata": {},
     "output_type": "execute_result"
    }
   ],
   "source": [
    "import numpy as np\n",
    "\n",
    "obs = np.array([717, 369, 155, 69, 28, 14, 10])\n",
    "exp = np.array([743, 338, 153, 70, 32, 14, 12])\n",
    "\n",
    "x2 = stats.chisquare(obs, exp, ddof=6)\n",
    "x2.statistic"
   ]
  },
  {
   "cell_type": "markdown",
   "metadata": {},
   "source": [
    "### Guided Practice 6.35\n",
    "\n",
    "We need to use $n - 1 = 7 - 1 = 6$ degrees of freedom."
   ]
  },
  {
   "cell_type": "markdown",
   "metadata": {},
   "source": [
    "### Exercise 6.31 - True or false, Part I.\n",
    "\n",
    "* (a) False. The chi-square has only one parameter, i.e. the degrees of freedom.\n",
    "* (b) True. The more the degrees of freedom the more it is normal, though.\n",
    "* (c) True.\n",
    "* (d) False. It becomes more normal."
   ]
  },
  {
   "cell_type": "markdown",
   "metadata": {},
   "source": [
    "### Exercise 6.32 - True or false, Part II.\n",
    "\n",
    "* (a) True. It becomes more normal shaped.\n",
    "* (b) True. We would get a p-value of 0.8197.\n",
    "* (c) False. Only the right tail.\n",
    "* (d) True, as it becomes more normal (and the tails gets larger)."
   ]
  },
  {
   "cell_type": "markdown",
   "metadata": {},
   "source": [
    "### Exercise 6.33 - Open source textbook."
   ]
  },
  {
   "cell_type": "markdown",
   "metadata": {},
   "source": []
  }
 ],
 "metadata": {
  "interpreter": {
   "hash": "bdc1c445b68446493975f0f4c1120652b32b7ff2d59b9297499b6aaef4c1ff08"
  },
  "kernelspec": {
   "display_name": "Python 3.9.7 64-bit ('base': conda)",
   "name": "python3"
  },
  "language_info": {
   "codemirror_mode": {
    "name": "ipython",
    "version": 3
   },
   "file_extension": ".py",
   "mimetype": "text/x-python",
   "name": "python",
   "nbconvert_exporter": "python",
   "pygments_lexer": "ipython3",
   "version": "3.9.7"
  },
  "orig_nbformat": 4
 },
 "nbformat": 4,
 "nbformat_minor": 2
}
