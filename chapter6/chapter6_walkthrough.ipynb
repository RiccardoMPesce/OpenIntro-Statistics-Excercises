{
 "cells": [
  {
   "cell_type": "markdown",
   "metadata": {},
   "source": [
    "# Chapter 5: Inference for categorical data"
   ]
  },
  {
   "cell_type": "markdown",
   "metadata": {},
   "source": [
    "### Guided Practice 6.2\n",
    "\n",
    "We get that $SE_{\\hat{p}} = \\sqrt{\\frac{\\hat{p} \\times (1 - \\hat{p})}{n}} = 0.0159$."
   ]
  },
  {
   "cell_type": "markdown",
   "metadata": {},
   "source": [
    "### Guided Practice 6.4\n",
    "\n",
    "A plausible hypothesis would be $P_{0}: $ support and opposition are the same fraction ($ = 0.50$) and $P_{A}: $ states that support and opposition fractions are in different proportions ($ \\ne 0.50$)."
   ]
  },
  {
   "cell_type": "markdown",
   "metadata": {},
   "source": [
    "### Guided Practice 6.5\n",
    "\n",
    "Let's check the success-failure condition with the null value $np_{0} = 412.5 \\approx 413 = n(1 - p_{0})$, so we can use the normal distribution."
   ]
  },
  {
   "cell_type": "markdown",
   "metadata": {},
   "source": [
    "### Guided Practice 6.8\n",
    "\n",
    "We basically want $1.645 \\times \\sqrt{\\frac{p(1 - p)}{n}} \\lt 0.01$, we can conveniently create a Python routine which, taking as input `p`, the confidence level and the margin of error, will output the minimum sample size `n` to achieve that. We run the function with the three proportions found previously and see what's the respective `n`."
   ]
  },
  {
   "cell_type": "code",
   "execution_count": 1,
   "metadata": {},
   "outputs": [
    {
     "name": "stdout",
     "output_type": "stream",
     "text": [
      "With p = 0.017, we need a sample size of n = 449.\n",
      "With p = 0.062, we need a sample size of n = 1564.\n",
      "With p = 0.013, we need a sample size of n = 345.\n"
     ]
    }
   ],
   "source": [
    "from scipy import stats\n",
    "\n",
    "def get_sample_size(p, confidence_level, error_margin):\n",
    "    z = round(stats.norm.interval(confidence_level)[-1], 2)\n",
    "\n",
    "    return round((z ** 2) * ((p * (1 - p)) / (error_margin ** 2)))\n",
    "\n",
    "for p in [0.017, 0.062, 0.013]:\n",
    "    print(f\"With p = {p}, we need a sample size of n = {get_sample_size(p, 0.90, 0.01)}.\")\n"
   ]
  },
  {
   "cell_type": "markdown",
   "metadata": {},
   "source": [
    "### Guided Practice 6.10\n",
    "\n",
    "We can again leverage the previously created function to answer this question."
   ]
  },
  {
   "cell_type": "code",
   "execution_count": 2,
   "metadata": {},
   "outputs": [
    {
     "data": {
      "text/plain": [
       "323"
      ]
     },
     "execution_count": 2,
     "metadata": {},
     "output_type": "execute_result"
    }
   ],
   "source": [
    "get_sample_size(0.70, 0.95, 0.05)"
   ]
  },
  {
   "cell_type": "markdown",
   "metadata": {},
   "source": [
    "### Exercise 6.1 - Vegetarian college students.\n",
    "\n",
    "* (a) Since $np = 60 \\times 0.08 = 4.8$ and $n(1 - p) = 60 \\times 0.92 = 55.2$, the normal distribution won't work well.\n",
    "* (b) Yes, since the sample proportion is closer to 0 than 1 and the sample size is not very big for such a proportion.\n",
    "* (c) A sample size of $n = 125$ would give us $SE_{\\hat{p}} = 0.024$ therefore we can compute $Z = 1.67$, which means that value is quite unusual.\n",
    "* (d) With a sample size of $n = 250$ we get $SE_{\\hat{p}} = 0.017$ and therefore $Z = 2.33$, so the proportion becomes more unusual.\n",
    "* (e) We reduced the standard error by 28% so we had roughly one quarter of the standard error with half the sample size."
   ]
  },
  {
   "cell_type": "markdown",
   "metadata": {},
   "source": [
    "### Exercise 6.2 - Young Americans, Part I.\n",
    "\n",
    "* (a) Maybe only slightly left skewed due to $p$ being closer to 1 and the sample size being 20.\n",
    "* (b) Since $np = 30.8$ and $n(1 - p) = 9.2$, we fail the success-failure condition so the normal approximation won't work well.\n",
    "* (c) Since $SE_{\\hat{p}} = 0.054$ we have that $Z = 1.47$ so the observation would be considered unusual.\n",
    "* (d) In this case, $Z = 2.08$, so the observation is more unusual."
   ]
  },
  {
   "cell_type": "markdown",
   "metadata": {},
   "source": [
    "### Exercise 6.3 - Orange tabbies.\n",
    "\n",
    "* (a) It is left skewed since the sample size is small and the proportion is close to 1. Therefore we expect a noticeable left skewness.\n",
    "* (b) True, since that would halve the _standard error_ (remember that $n$ is under the square root too).\n",
    "* (c) True, since we have a big sample size which makes it easier to approximate it to a normal distribution. Also, $np = 140 * 0.90 = 126$ and $n(1 - p) = 14$.\n",
    "* (d) True, a bigger sample size would increase the _success-failure condition_ values."
   ]
  },
  {
   "cell_type": "markdown",
   "metadata": {},
   "source": [
    "### Exercise 6.4 - Young Americans, Part II.\n",
    "\n",
    "* (a) True, since we have a very small sample size and a proportion closer to 0. \n",
    "* (b) True, since we need to meet the following:\n",
    "\n",
    "$$\n",
    "\\begin{cases}np \\ge 10 \\\\ n(1 - p) \\ge 10 \\end{cases} => \\begin{cases}n \\ge 13.33 \\\\ n \\ge 40 \\end{cases} => n \\ge 40\n",
    "$$\n",
    "\n",
    "* (c) We have $SE_{\\hat{p}} = 0.057$ so $Z = -0.88$, therefore it is not considered unusual.\n",
    "* (d) We now have $Z = -1.53$ so the sample proportion is unusual.\n",
    "* (e) False, a sample size $3n$ will decrease the _standard error_ by a factor $\\frac{1}{\\sqrt{3}}$.\n",
    "\n"
   ]
  },
  {
   "cell_type": "markdown",
   "metadata": {},
   "source": [
    "### Exercise 6.5 - Gender equality.\n",
    "\n",
    "* (a) False, confidence is about the population not the sample. \n",
    "* (b) True, since a confidence interval built on some data gives us the degree of confidence about a population.\n",
    "* (c) True, since this is another definition of confidence interval.\n",
    "* (d) True, since quadrupling the sample size will halve the _standard error_.\n",
    "* (e) True, since we still get a low margin of error."
   ]
  },
  {
   "cell_type": "markdown",
   "metadata": {},
   "source": [
    "### Exercise 6.6 - Elderly drivers.\n",
    "\n",
    "* (a) We have $SE_{\\hat{p}} = 0.015$ and so our 95% confidence interval should be $[63.08\\%,\\ 68.91\\%]$, so the values are correct.\n",
    "* (b) No, since the interval is lower than 70%."
   ]
  },
  {
   "cell_type": "markdown",
   "metadata": {},
   "source": [
    "### Exercise 6.7 - Fireworks on July 4<sup>th</sup>.\n",
    "\n",
    "For a 95% confidence interval we have a margin of error of $1.96 * SE_{\\hat{p}} = 0.04 = 4\\%$."
   ]
  },
  {
   "cell_type": "markdown",
   "metadata": {},
   "source": [
    "### Exercise 6.8 - Life rating in Greece.\n",
    "\n",
    "* (a) The parameter of interest is the proportion of Greek people living in a condition poor enough to be considered \"suffering\". The value of this proportion is $\\hat{p} = 0.25$.\n",
    "* (b) We may want to check the _success-failure condition_, having $np = 0.25 * 1000 = 250$ and $n(1 - p) = 0.75 * 1000 = 750$.\n",
    "* (c) The 95% confidence interval is $[22.32\\%,\\ 27.68\\%]$.\n",
    "* (d) A higher confidence level would give us a wider confidence interval.\n",
    "* (e) A larger sample would shrink the standard error, thus shrinking the confidence interval itself."
   ]
  },
  {
   "cell_type": "markdown",
   "metadata": {},
   "source": [
    "### Exercise 6.9 - Study abroad.\n",
    "\n",
    "* (a) An optional web survey may be completed by those who choose to do so, therefore this is not a representative sample of the population of interest.\n",
    "* (b) The 90% confidence interval is $[52.89\\%,\\ 57.11\\%]$. We are confident that the proportion of students sure to spend a study period abroad is between 52.89% and 57.11%.\n",
    "* (c) It means that by taking multiple samples and calculating the sample parameter of interest, and building then a 90% confidence interval, 90% of these intervals will capture the true population parameter.\n",
    "* (d) If this sample were representative, then yes since the interval is above 50%."
   ]
  },
  {
   "cell_type": "markdown",
   "metadata": {},
   "source": [
    "### Exercise 6.10 - Legalization of marijuana, Part I.\n",
    "\n",
    "* (a) It is a sample statistic since it is referred to a sample.\n",
    "* (b) We are 95% confident that the true population parameters (the fraction of US residents wanting to legalize Cannabis) lies within the interval $[58.59\\%,\\ 63.41\\%]$.\n",
    "* (c) Let's check the _success-failure_ condition: $np = 1578 * 0.61 \\approx 963 $ and $n(1 - p) = 1578 * 0.39 \\approx 615$, therefore the normal model is reasonable.\n",
    "* (d) I am 95% confident that this statement is true."
   ]
  },
  {
   "cell_type": "markdown",
   "metadata": {},
   "source": [
    "### Exercise 6.11 - National Health Plan, Part I.\n",
    "\n",
    "* (a) The null hypothesis is that half of the Independents support a National Health Plan, while the alternative hypothesis tells us that the proportion is bigger (a one-tailed test is necessary here). We have that $SE_{\\hat{p}} = 0.02$. The found _p-value_ is $p = 0.006 \\lt 0.05$. Therefore we can conclude there's enough evidence for us to reject the null hypothesis.\n",
    "* (b) As found before, a 95% confidence interval does not include 0.5 (50%) but a 99% confidence interval might."
   ]
  },
  {
   "cell_type": "markdown",
   "metadata": {},
   "source": [
    "### Exercise 6.12 - Is college worth it? Part I.\n",
    "\n",
    "* (a) The null hypothesis is that half of the partecipants said they did not go to college because they could not afford it, while the alternative hypothesis is that the proportion of those who did not go to college because they could not afford it is less than 0.5, i.e. is in \"minority\". We found a p-value of 0.25 (one sided), therefore we can't reject the null hypothesis with this data, so we cannot confirm the statement.\n",
    "* (b) Sure, since the p-value is greater than 0.05."
   ]
  },
  {
   "cell_type": "markdown",
   "metadata": {},
   "source": [
    "### Exercise 6.13 - Taste test.\n",
    "\n",
    "* (a) Given H<sub>0</sub>: p = 0.5 and H<sub>A</sub>: p $\\ne$ 0.5 we find a p-value of 0.31 (two tailed test), therefore we cannot reject the null hypothesis.\n",
    "* (b) In this context the p-value is the probability to see a 53% success rate if we used random guessing."
   ]
  },
  {
   "cell_type": "markdown",
   "metadata": {},
   "source": [
    "### Exercise 6.14 - Is college worth it? Part II.\n",
    "\n",
    "* (a) The 90% confidence interval is $[43.48\\%,\\ 52.52\\%]$.\n",
    "* (b) Using our previously defined script we get $n = 2984$."
   ]
  },
  {
   "cell_type": "markdown",
   "metadata": {},
   "source": [
    "### Exercise 6.15 - National Health Plan, Part II.\n",
    "\n",
    "An appropriate sample size would be $n = 6657$."
   ]
  },
  {
   "cell_type": "markdown",
   "metadata": {},
   "source": [
    "### Exercise 6.16 - Legalize Marijuana, Part II.\n",
    "\n",
    "We need to use a sample size of $n = 2285$."
   ]
  },
  {
   "cell_type": "markdown",
   "metadata": {},
   "source": [
    "### Guided Practice 6.13\n",
    "\n",
    "We define as $p_{fo} = \\frac{145}{12933} = 0.011$ as the percentage of heart attacks in the group receiving fish oil (treatment group) and $p_{pl} = \\frac{200}{12938} = 0.016$ as the fraction of heart attacks in the control group. We have $p_{fo} - p_{pl} = 0.011 - 0.015 = -0.004$ with $SE = 0.0014$ (using the formula implemented in the function below). So our confidence interval is $[-0.0077,\\ -0.0023]$, which means that we're 95% confident that the difference between the treatment and control heart attack frequency is between -0.77% and -0.23%, which is not a significant difference."
   ]
  },
  {
   "cell_type": "code",
   "execution_count": 10,
   "metadata": {},
   "outputs": [],
   "source": [
    "def se_diff(p1, p2, n1, n2):\n",
    "    return (((p1 * (1 - p1)) / n1) + ((p2 * (1 - p2)) / n2)) ** 0.5\n"
   ]
  },
  {
   "cell_type": "markdown",
   "metadata": {},
   "source": [
    "### Guided Practice 6.14\n",
    "\n",
    "It is an experimental study since we have both a treatment and a control group."
   ]
  },
  {
   "cell_type": "markdown",
   "metadata": {},
   "source": [
    "### Guided Practice 6.15\n",
    "\n",
    "H<sub>0</sub> : p<sub>m</sub> - p<sub>nm</sub> = 0.03 and H<sub>A</sub> : p<sub>m</sub> - p<sub>nm</sub> $\\ne$ 0.03, with p<sub>m</sub> being the proportion receiving mammogram and p<sub>nm</sub> the proportion in the control group."
   ]
  },
  {
   "cell_type": "markdown",
   "metadata": {},
   "source": [
    "### Guided Practice 6.19\n",
    "\n",
    "H<sub>0</sub> : p<sub>new</sub> - p<sub>old</sub> = 0 and H<sub>A</sub> : p<sub>new</sub> - p<sub>old</sub> $\\ge$ 0.03."
   ]
  },
  {
   "cell_type": "markdown",
   "metadata": {},
   "source": [
    "### Guided Practice 6.21\n",
    "\n",
    "We remember that $Var[\\alpha A + \\beta B] = \\alpha^{2} Var[{A}] + \\beta^{2} Var[{B}]$ and since $Var[\\alpha X] = \\alpha^{2}Var[X]$ so $Var[-X] = (-1)^2Var[X] = Var[X]$ we get that $SE_{\\hat{p}_1 - \\hat{p}_2}^{2} = SE_{\\hat{p}_{1}}^{2} + SE_{\\hat{p}_{2}}^{2}$."
   ]
  },
  {
   "cell_type": "markdown",
   "metadata": {},
   "source": [
    "### Exercise 6.17 - Social experiment, Part I.\n",
    "\n",
    "Let's calculate the pooled proportion as $\\hat{p}_{yes} = \\frac{20}{45} = 0.44$, and now let's check the success-failure conditions as\n",
    "\n",
    "$$\n",
    "n_{pro} * \\hat{p}_{yes} = 20 * 0.44 = 8.8\n",
    "\\\\\n",
    "n_{pro} * (1 - \\hat{p}_{yes}) = 20 * 0.56 = 11.2\n",
    "\\\\\n",
    "n_{con} * \\hat{p}_{yes} = 25 * 0.44 = 11\n",
    "\\\\\n",
    "n_{con} * (1 - \\hat{p}_{yes}) = 20 * 0.56 = 14\n",
    "$$\n",
    "\n",
    "The first conditions holds 8.8, therefore it does not meet the success-failure condition."
   ]
  },
  {
   "cell_type": "markdown",
   "metadata": {},
   "source": [
    "### Exercise 6.18 - Heart transplant success.\n",
    "\n",
    "We have that $\\hat{p}_{survived} = \\frac{28}{103} = 0.2718$ and we fail to have $n_{survived} \\times \\hat{p}_{survived} \\ge 10$. The confidence interval won't be accurate as it won't be symmetric around the estimate."
   ]
  },
  {
   "cell_type": "markdown",
   "metadata": {},
   "source": [
    "### Exercise 6.19 - Gender and color preference.\n",
    "\n",
    "* (a) False, since that is an interval.\n",
    "* (b) True, since we are 95% confident to see those percent differences.\n",
    "* (c) True, since this is another definition of a confidence interval.\n",
    "* (d) False, this is not the purpose of the confidence interval.\n",
    "* (e) True, we are not given the necessary data."
   ]
  },
  {
   "cell_type": "markdown",
   "metadata": {},
   "source": [
    "### Exercise 6.20 - Government shutdown.\n",
    "\n",
    "* (a) With significance level of 5%, we need a p-value less that 0.05 to reject the null hypothesis. However, from the given confidence interval we can't deduct that there are any significant differences, so this is false.\n",
    "* (b) False, it's the opposite: we are 95% confident that 16% to -2% of those who make less than 40,000$ are personally affected.\n",
    "* (c) False, a 90% confidence interval would be narrower.\n",
    "* (d) True. We get that $SE = 0.05$ so roughly yes, we get that interval. "
   ]
  },
  {
   "cell_type": "markdown",
   "metadata": {},
   "source": []
  }
 ],
 "metadata": {
  "interpreter": {
   "hash": "bdc1c445b68446493975f0f4c1120652b32b7ff2d59b9297499b6aaef4c1ff08"
  },
  "kernelspec": {
   "display_name": "Python 3.9.7 64-bit ('base': conda)",
   "name": "python3"
  },
  "language_info": {
   "codemirror_mode": {
    "name": "ipython",
    "version": 3
   },
   "file_extension": ".py",
   "mimetype": "text/x-python",
   "name": "python",
   "nbconvert_exporter": "python",
   "pygments_lexer": "ipython3",
   "version": "3.9.7"
  },
  "orig_nbformat": 4
 },
 "nbformat": 4,
 "nbformat_minor": 2
}
