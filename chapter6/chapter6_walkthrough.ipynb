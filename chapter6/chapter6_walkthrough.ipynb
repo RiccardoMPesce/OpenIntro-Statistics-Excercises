{
 "cells": [
  {
   "cell_type": "markdown",
   "metadata": {},
   "source": [
    "# Chapter 6: Inference for categorical data"
   ]
  },
  {
   "cell_type": "markdown",
   "metadata": {},
   "source": [
    "### Guided Practice 6.2\n",
    "\n",
    "We get that $SE_{\\hat{p}} = \\sqrt{\\frac{\\hat{p} \\times (1 - \\hat{p})}{n}} = 0.0159$."
   ]
  },
  {
   "cell_type": "markdown",
   "metadata": {},
   "source": [
    "### Guided Practice 6.4\n",
    "\n",
    "A plausible hypothesis would be $P_{0}: $ support and opposition are the same fraction ($ = 0.50$) and $P_{A}: $ states that support and opposition fractions are in different proportions ($ \\ne 0.50$)."
   ]
  },
  {
   "cell_type": "markdown",
   "metadata": {},
   "source": [
    "### Guided Practice 6.5\n",
    "\n",
    "Let's check the success-failure condition with the null value $np_{0} = 412.5 \\approx 413 = n(1 - p_{0})$, so we can use the normal distribution."
   ]
  },
  {
   "cell_type": "markdown",
   "metadata": {},
   "source": [
    "### Guided Practice 6.8\n",
    "\n",
    "We basically want $1.645 \\times \\sqrt{\\frac{p(1 - p)}{n}} \\lt 0.01$, we can conveniently create a Python routine which, taking as input `p`, the confidence level and the margin of error, will output the minimum sample size `n` to achieve that. We run the function with the three proportions found previously and see what's the respective `n`."
   ]
  },
  {
   "cell_type": "code",
   "execution_count": 2,
   "metadata": {},
   "outputs": [
    {
     "name": "stdout",
     "output_type": "stream",
     "text": [
      "With p = 0.017, we need a sample size of n = 449.\n",
      "With p = 0.062, we need a sample size of n = 1564.\n",
      "With p = 0.013, we need a sample size of n = 345.\n"
     ]
    }
   ],
   "source": [
    "from scipy import stats\n",
    "\n",
    "def get_sample_size(p, confidence_level, error_margin):\n",
    "    z = round(stats.norm.interval(confidence_level)[-1], 2)\n",
    "\n",
    "    return round((z ** 2) * ((p * (1 - p)) / (error_margin ** 2)))\n",
    "\n",
    "for p in [0.017, 0.062, 0.013]:\n",
    "    print(f\"With p = {p}, we need a sample size of n = {get_sample_size(p, 0.90, 0.01)}.\")\n"
   ]
  },
  {
   "cell_type": "markdown",
   "metadata": {},
   "source": [
    "### Guided Practice 6.10\n",
    "\n",
    "We can again leverage the previously created function to answer this question."
   ]
  },
  {
   "cell_type": "code",
   "execution_count": 3,
   "metadata": {},
   "outputs": [
    {
     "data": {
      "text/plain": [
       "323"
      ]
     },
     "execution_count": 3,
     "metadata": {},
     "output_type": "execute_result"
    }
   ],
   "source": [
    "get_sample_size(0.70, 0.95, 0.05)"
   ]
  },
  {
   "cell_type": "markdown",
   "metadata": {},
   "source": [
    "### Exercise 6.1 - Vegetarian college students.\n",
    "\n",
    "* (a) Since $np = 60 \\times 0.08 = 4.8$ and $n(1 - p) = 60 \\times 0.92 = 55.2$, the normal distribution won't work well.\n",
    "* (b) Yes, since the sample proportion is closer to 0 than 1 and the sample size is not very big for such a proportion.\n",
    "* (c) A sample size of $n = 125$ would give us $SE_{\\hat{p}} = 0.024$ therefore we can compute $Z = 1.67$, which means that value is quite unusual.\n",
    "* (d) With a sample size of $n = 250$ we get $SE_{\\hat{p}} = 0.017$ and therefore $Z = 2.33$, so the proportion becomes more unusual.\n",
    "* (e) We reduced the standard error by 28% so we had roughly one quarter of the standard error with half the sample size."
   ]
  },
  {
   "cell_type": "markdown",
   "metadata": {},
   "source": [
    "### Exercise 6.2 - Young Americans, Part I.\n",
    "\n",
    "* (a) Maybe only slightly left skewed due to $p$ being closer to 1 and the sample size being 20.\n",
    "* (b) Since $np = 30.8$ and $n(1 - p) = 9.2$, we fail the success-failure condition so the normal approximation won't work well.\n",
    "* (c) Since $SE_{\\hat{p}} = 0.054$ we have that $Z = 1.47$ so the observation would be considered unusual.\n",
    "* (d) In this case, $Z = 2.08$, so the observation is more unusual."
   ]
  },
  {
   "cell_type": "markdown",
   "metadata": {},
   "source": [
    "### Exercise 6.3 - Orange tabbies.\n",
    "\n",
    "* (a) It is left skewed since the sample size is small and the proportion is close to 1. Therefore we expect a noticeable left skewness.\n",
    "* (b) True, since that would halve the _standard error_ (remember that $n$ is under the square root too).\n",
    "* (c) True, since we have a big sample size which makes it easier to approximate it to a normal distribution. Also, $np = 140 * 0.90 = 126$ and $n(1 - p) = 14$.\n",
    "* (d) True, a bigger sample size would increase the _success-failure condition_ values."
   ]
  },
  {
   "cell_type": "markdown",
   "metadata": {},
   "source": [
    "### Exercise 6.4 - Young Americans, Part II.\n",
    "\n",
    "* (a) True, since we have a very small sample size and a proportion closer to 0. \n",
    "* (b) True, since we need to meet the following:\n",
    "\n",
    "$$\n",
    "\\begin{cases}np \\ge 10 \\\\ n(1 - p) \\ge 10 \\end{cases} = \\begin{cases}n \\ge 13.33 \\\\ n \\ge 40 \\end{cases} => n \\ge 40\n",
    "$$\n",
    "\n",
    "* (c) We have $SE_{\\hat{p}} = 0.057$ so $Z = -0.88$, therefore it is not considered unusual.\n",
    "* (d) We now have $Z = -1.53$ so the sample proportion is unusual.\n",
    "* (e) False, a sample size $3n$ will decrease the _standard error_ by a factor $\\frac{1}{\\sqrt{3}}$.\n",
    "\n"
   ]
  },
  {
   "cell_type": "markdown",
   "metadata": {},
   "source": [
    "### Exercise 6.5 - Gender equality.\n",
    "\n",
    "* (a) False, confidence is about the population not the sample. \n",
    "* (b) True, since a confidence interval built on some data gives us the degree of confidence about a population.\n",
    "* (c) True, since this is another definition of confidence interval.\n",
    "* (d) True, since quadrupling the sample size will halve the _standard error_.\n",
    "* (e) True, since we still get a low margin of error."
   ]
  },
  {
   "cell_type": "markdown",
   "metadata": {},
   "source": [
    "### Exercise 6.6 - Elderly drivers.\n",
    "\n",
    "* (a) We have $SE_{\\hat{p}} = 0.015$ and so our 95% confidence interval should be $[63.08\\%,\\ 68.91\\%]$, so the values are correct.\n",
    "* (b) No, since the interval is lower than 70%."
   ]
  },
  {
   "cell_type": "markdown",
   "metadata": {},
   "source": [
    "### Exercise 6.7 - Fireworks on July 4<sup>th</sup>.\n",
    "\n",
    "For a 95% confidence interval we have a margin of error of $1.96 * SE_{\\hat{p}} = 0.04 = 4\\%$."
   ]
  },
  {
   "cell_type": "markdown",
   "metadata": {},
   "source": [
    "### Exercise 6.8 - Life rating in Greece.\n",
    "\n",
    "* (a) The parameter of interest is the proportion of Greek people living in a condition poor enough to be considered \"suffering\". The value of this proportion is $\\hat{p} = 0.25$.\n",
    "* (b) We may want to check the _success-failure condition_, having $np = 0.25 * 1000 = 250$ and $n(1 - p) = 0.75 * 1000 = 750$.\n",
    "* (c) The 95% confidence interval is $[22.32\\%,\\ 27.68\\%]$.\n",
    "* (d) A higher confidence level would give us a wider confidence interval.\n",
    "* (e) A larger sample would shrink the standard error, thus shrinking the confidence interval itself."
   ]
  },
  {
   "cell_type": "markdown",
   "metadata": {},
   "source": [
    "### Exercise 6.9 - Study abroad.\n",
    "\n",
    "* (a) An optional web survey may be completed by those who choose to do so, therefore this is not a representative sample of the population of interest.\n",
    "* (b) The 90% confidence interval is $[52.89\\%,\\ 57.11\\%]$. We are confident that the proportion of students sure to spend a study period abroad is between 52.89% and 57.11%.\n",
    "* (c) It means that by taking multiple samples and calculating the sample parameter of interest, and building then a 90% confidence interval, 90% of these intervals will capture the true population parameter.\n",
    "* (d) If this sample were representative, then yes since the interval is above 50%."
   ]
  },
  {
   "cell_type": "markdown",
   "metadata": {},
   "source": [
    "### Exercise 6.10 - Legalization of marijuana, Part I.\n",
    "\n",
    "* (a) It is a sample statistic since it is referred to a sample.\n",
    "* (b) We are 95% confident that the true population parameters (the fraction of US residents wanting to legalize Cannabis) lies within the interval $[58.59\\%,\\ 63.41\\%]$.\n",
    "* (c) Let's check the _success-failure_ condition: $np = 1578 * 0.61 \\approx 963 $ and $n(1 - p) = 1578 * 0.39 \\approx 615$, therefore the normal model is reasonable.\n",
    "* (d) I am 95% confident that this statement is true."
   ]
  },
  {
   "cell_type": "markdown",
   "metadata": {},
   "source": [
    "### Exercise 6.11 - National Health Plan, Part I.\n",
    "\n",
    "* (a) The null hypothesis is that half of the Independents support a National Health Plan, while the alternative hypothesis tells us that the proportion is bigger (a one-tailed test is necessary here). We have that $SE_{\\hat{p}} = 0.02$. The found _p-value_ is $p = 0.006 \\lt 0.05$. Therefore we can conclude there's enough evidence for us to reject the null hypothesis.\n",
    "* (b) As found before, a 95% confidence interval does not include 0.5 (50%) but a 99% confidence interval might."
   ]
  },
  {
   "cell_type": "markdown",
   "metadata": {},
   "source": [
    "### Exercise 6.12 - Is college worth it? Part I.\n",
    "\n",
    "* (a) The null hypothesis is that half of the partecipants said they did not go to college because they could not afford it, while the alternative hypothesis is that the proportion of those who did not go to college because they could not afford it is less than 0.5, i.e. is in \"minority\". We found a p-value of 0.25 (one sided), therefore we can't reject the null hypothesis with this data, so we cannot confirm the statement.\n",
    "* (b) Sure, since the p-value is greater than 0.05."
   ]
  },
  {
   "cell_type": "markdown",
   "metadata": {},
   "source": [
    "### Exercise 6.13 - Taste test.\n",
    "\n",
    "* (a) Given H<sub>0</sub>: p = 0.5 and H<sub>A</sub>: p $\\ne$ 0.5 we find a p-value of 0.0036 (two tailed test), therefore we can reject the null hypothesis. People are better to detect than random guessing.\n",
    "* (b) In this context the p-value is the probability to see a 53% success rate if we used random guessing, and this probability is 0.0036."
   ]
  },
  {
   "cell_type": "markdown",
   "metadata": {},
   "source": [
    "### Exercise 6.14 - Is college worth it? Part II.\n",
    "\n",
    "* (a) The 90% confidence interval is $[43.48\\%,\\ 52.52\\%]$.\n",
    "* (b) Using our previously defined script we get $n = 2984$."
   ]
  },
  {
   "cell_type": "markdown",
   "metadata": {},
   "source": [
    "### Exercise 6.15 - National Health Plan, Part II.\n",
    "\n",
    "An appropriate sample size would be $n = 6657$."
   ]
  },
  {
   "cell_type": "markdown",
   "metadata": {},
   "source": [
    "### Exercise 6.16 - Legalize Marijuana, Part II.\n",
    "\n",
    "We need to use a sample size of $n = 2285$."
   ]
  },
  {
   "cell_type": "markdown",
   "metadata": {},
   "source": [
    "### Guided Practice 6.13\n",
    "\n",
    "We define as $p_{fo} = \\frac{145}{12933} = 0.011$ as the percentage of heart attacks in the group receiving fish oil (treatment group) and $p_{pl} = \\frac{200}{12938} = 0.016$ as the fraction of heart attacks in the control group. We have $p_{fo} - p_{pl} = 0.011 - 0.015 = -0.004$ with $SE = 0.0014$ (using the formula implemented in the function below). So our confidence interval is $[-0.0077,\\ -0.0023]$, which means that we're 95% confident that the difference between the treatment and control heart attack frequency is between -0.77% and -0.23%, which is not a significant difference."
   ]
  },
  {
   "cell_type": "markdown",
   "metadata": {},
   "source": [
    "### Guided Practice 6.14\n",
    "\n",
    "It is an experimental study since we have both a treatment and a control group."
   ]
  },
  {
   "cell_type": "markdown",
   "metadata": {},
   "source": [
    "### Guided Practice 6.15\n",
    "\n",
    "H<sub>0</sub> : p<sub>m</sub> - p<sub>nm</sub> = 0.03 and H<sub>A</sub> : p<sub>m</sub> - p<sub>nm</sub> $\\ne$ 0.03, with p<sub>m</sub> being the proportion receiving mammogram and p<sub>nm</sub> the proportion in the control group."
   ]
  },
  {
   "cell_type": "markdown",
   "metadata": {},
   "source": [
    "### Guided Practice 6.19\n",
    "\n",
    "H<sub>0</sub> : p<sub>new</sub> - p<sub>old</sub> = 0 and H<sub>A</sub> : p<sub>new</sub> - p<sub>old</sub> $\\ge$ 0.03."
   ]
  },
  {
   "cell_type": "markdown",
   "metadata": {},
   "source": [
    "### Guided Practice 6.21\n",
    "\n",
    "We remember that $Var[\\alpha A + \\beta B] = \\alpha^{2} Var[{A}] + \\beta^{2} Var[{B}]$ and since $Var[\\alpha X] = \\alpha^{2}Var[X]$ so $Var[-X] = (-1)^2Var[X] = Var[X]$ we get that $SE_{\\hat{p}_1 - \\hat{p}_2}^{2} = SE_{\\hat{p}_{1}}^{2} + SE_{\\hat{p}_{2}}^{2}$."
   ]
  },
  {
   "cell_type": "markdown",
   "metadata": {},
   "source": [
    "### Exercise 6.17 - Social experiment, Part I.\n",
    "\n",
    "Let's calculate the pooled proportion as $\\hat{p}_{yes} = \\frac{20}{45} = 0.44$, and now let's check the success-failure conditions as\n",
    "\n",
    "$$\n",
    "n_{pro} * \\hat{p}_{yes} = 20 * 0.44 = 8.8 \\\\\n",
    "$$\n",
    "\n",
    "$$\n",
    "n_{pro} * (1 - \\hat{p}_{yes}) = 20 * 0.56 = 11.2 \\\\\n",
    "$$\n",
    "\n",
    "$$\n",
    "n_{con} * \\hat{p}_{yes} = 25 * 0.44 = 11 \\\\\n",
    "$$\n",
    "\n",
    "$$\n",
    "n_{con} * (1 - \\hat{p}_{yes}) = 20 * 0.56 = 14 \\\\\n",
    "$$\n",
    "\n",
    "The first conditions holds 8.8, therefore it does not meet the success-failure condition."
   ]
  },
  {
   "cell_type": "markdown",
   "metadata": {},
   "source": [
    "### Exercise 6.18 - Heart transplant success.\n",
    "\n",
    "We have that $\\hat{p}_{survived} = \\frac{28}{103} = 0.2718$ and we fail to have $n_{survived} \\times \\hat{p}_{survived} \\ge 10$. The confidence interval won't be accurate as it won't be symmetric around the estimate."
   ]
  },
  {
   "cell_type": "markdown",
   "metadata": {},
   "source": [
    "### Exercise 6.19 - Gender and color preference.\n",
    "\n",
    "* (a) False, since that is an interval.\n",
    "* (b) True, since we are 95% confident to see those percent differences.\n",
    "* (c) True, since this is another definition of a confidence interval.\n",
    "* (d) True, since our confidence interval is above the 0.\n",
    "* (e) False, at it is simply the negated."
   ]
  },
  {
   "cell_type": "markdown",
   "metadata": {},
   "source": [
    "### Exercise 6.20 - Government shutdown.\n",
    "\n",
    "* (a) With significance level of 5%, we need a p-value less that 0.05 to reject the null hypothesis. However, from the given confidence interval we can't deduct that there are any significant differences, so this is false.\n",
    "* (b) False, it's the opposite: we are 95% confident that 16% to -2% of those who make less than 40,000$ are personally affected.\n",
    "* (c) False, a 90% confidence interval would be narrower.\n",
    "* (d) True. We get that $SE = 0.05$ so roughly yes, we get that interval. "
   ]
  },
  {
   "cell_type": "markdown",
   "metadata": {},
   "source": [
    "### Exercise 6.21 - National Health Plan, Part III.\n",
    "\n",
    "* (a) First of all we have $p_{D} - p_{I} = 0.79 - 0.55 = 0.24$ and $SE_{p_{D} - p_{I}} = 0.03$ (calculated using the module defined below). Now, the 95% confidence interval is $[0.181,\\ 0.299]$.\n",
    "* (b) True, since the 95% confidence interval is definitely greater than 0."
   ]
  },
  {
   "cell_type": "code",
   "execution_count": 4,
   "metadata": {},
   "outputs": [],
   "source": [
    "def standard_error(p, n):\n",
    "    return ((p * (1 - p)) / n) ** 0.5\n",
    "\n",
    "def standard_error_difference(p1, p2, n1, n2):\n",
    "    return (standard_error(p1, n1) ** 2 + standard_error(p2, n2) ** 2) ** 0.5\n"
   ]
  },
  {
   "cell_type": "markdown",
   "metadata": {},
   "source": [
    "### Exercise 6.22 - Sleep deprivation, CA vs. OR, Part I.\n",
    "\n",
    "Since $p_{OR} - p_{CA} = 0.088 - 0.080 = 0.008$ and $SE_{p_{OR} - p_{CA}} = 0.005$ we have that the 95% confidence interval is $[-0.002,\\ 0.018]$. The observed difference might be due to chance since the confidence interval shows that the difference in proportion can go below 0."
   ]
  },
  {
   "cell_type": "markdown",
   "metadata": {},
   "source": [
    "### Exercise 6.23 - Offshore drilling, Part I.\n",
    "\n",
    "* (a) Respectively, $p_{grad} = 0.2374 = 23.74\\%$ and $p_{no\\ grad} = 0.3368 = 33.68\\%$.\n",
    "* (b) $H_{0} : p_{no\\ grad} = p_{grad}$ and $H_{0} : p_{no\\ grad} \\ne p_{grad}$. We obtain $SE_{p_{no\\ grad} - p_{grad}} = 0.0314$. Now we get a p-value as $pval = 0.0015$ (two-tailed test), thus there's convincing evidence that the proportion of non college graduates who do not have an opinion is greater than the proportion of college grade who neither do have an opinion."
   ]
  },
  {
   "cell_type": "markdown",
   "metadata": {},
   "source": [
    "### Exercise 6.24 - Sleep deprivation, CA vs. OR, Part II.\n",
    "\n",
    "* (a) Success-failure condition is met and so we can conduct an hypothesis test $H_{0} : p_{Ca} = p_{Or}$ and $H_{0} : p_{Ca} \\ne p_{Or}$. So we get $pval = 0.099$ which tells us there's no strong evidence supporting the alternative hypothesis.\n",
    "* (b) It was made a type II error."
   ]
  },
  {
   "cell_type": "markdown",
   "metadata": {},
   "source": [
    "### Exercise 6.25 - Offshore drilling, Part II.\n",
    "\n",
    "* (a) Respectively $35.16\\%$ and $33.93\\%$.\n",
    "* (b) We get a pvalue of 0.71, showing us that there is not strong evidence supporting that the two differences are not by chance."
   ]
  },
  {
   "cell_type": "markdown",
   "metadata": {},
   "source": [
    "### Exercise 6.26 - Full body scan, Part I.\n",
    "\n",
    "* (a) $H_{0} : p_{r} = p_{d}$ and $H_{A} : p_{r} \\ne p_{d}$. We find a p-value of $0.498$, therefore we can't reject the null hypothesis.\n",
    "* (b) We would make a Type II error, i.e. failing to reject a null hypothesis which ought to be rejected indeed."
   ]
  },
  {
   "cell_type": "markdown",
   "metadata": {},
   "source": [
    "### Exercise 6.27 - Sleep deprived transportation workers.\n",
    "\n",
    "We check if we meet the success-failure condition using the script below."
   ]
  },
  {
   "cell_type": "code",
   "execution_count": 5,
   "metadata": {},
   "outputs": [
    {
     "data": {
      "text/plain": [
       "True"
      ]
     },
     "execution_count": 5,
     "metadata": {},
     "output_type": "execute_result"
    }
   ],
   "source": [
    "def success_failure_two(p1, p2, n1, n2):\n",
    "    p_p = (p1 * n1 + p2 * n2) / (n1 + n2)\n",
    "    return all(\n",
    "        x >= 10 for x in [p_p * n1, p_p * n2, (1 - p_p) * n1, (1 - p_p) * n2]\n",
    "    )\n",
    "\n",
    "success_failure_two(35 / 203, 35 / 292, 203, 292)"
   ]
  },
  {
   "cell_type": "markdown",
   "metadata": {},
   "source": [
    "Let's now create a whole routine which output the p-value for us (it will be rudimental at first)."
   ]
  },
  {
   "cell_type": "code",
   "execution_count": 6,
   "metadata": {},
   "outputs": [
    {
     "name": "stdout",
     "output_type": "stream",
     "text": [
      "-1.6109110850818888\n"
     ]
    },
    {
     "data": {
      "text/plain": [
       "0.10719910357164927"
      ]
     },
     "execution_count": 6,
     "metadata": {},
     "output_type": "execute_result"
    }
   ],
   "source": [
    "def p_val_calc_diff(p1, p2, n1, n2):\n",
    "    if not success_failure_two(p1, p2, n1, n2):\n",
    "        return -1\n",
    "    else:\n",
    "        se = standard_error_difference(p1, p2, n1, n2)\n",
    "\n",
    "        z = (p1 - p2) / se\n",
    "        print(z)\n",
    "\n",
    "        if z < 0:\n",
    "            return stats.norm.cdf(z) * 2\n",
    "        else:\n",
    "            return (1 - stats.norm.cdf(z)) * 2\n",
    "\n",
    "p_val_calc_diff(35 / 292, 35 / 203, 292, 203)"
   ]
  },
  {
   "cell_type": "markdown",
   "metadata": {},
   "source": [
    "We get a p-value which obliges us to reject the alternative hypothesis."
   ]
  },
  {
   "cell_type": "markdown",
   "metadata": {},
   "source": [
    "### Exercise 6.28 - Prenatal vitamins and Autism.\n",
    "\n",
    "* (a) $H_{0} : p_{v} = p_{nv}$ and $H_{A} : p_{v} \\ne p_{nv}$.\n",
    "* (b) We can check using the routine defined above, and since we get a p-value less than 0.05, we can accept the alternative hypothesis.\n",
    "* (c) Since we have not proven causation, we might use a softer term."
   ]
  },
  {
   "cell_type": "markdown",
   "metadata": {},
   "source": [
    "### Exercise 6.29 - HIV in sub-Saharan Africa.\n",
    "\n",
    "* (a) Let's use pandas for this (see below).\n",
    "* (b) $H_{0} : p_{n} = p_{l}$ and $H_{A} : p_{n} \\ne p_{l}$.\n",
    "* (c) We find a p-value of 0.003, therefore we reject the null hypothesis."
   ]
  },
  {
   "cell_type": "code",
   "execution_count": 7,
   "metadata": {},
   "outputs": [
    {
     "data": {
      "text/html": [
       "<div>\n",
       "<style scoped>\n",
       "    .dataframe tbody tr th:only-of-type {\n",
       "        vertical-align: middle;\n",
       "    }\n",
       "\n",
       "    .dataframe tbody tr th {\n",
       "        vertical-align: top;\n",
       "    }\n",
       "\n",
       "    .dataframe thead th {\n",
       "        text-align: right;\n",
       "    }\n",
       "</style>\n",
       "<table border=\"1\" class=\"dataframe\">\n",
       "  <thead>\n",
       "    <tr style=\"text-align: right;\">\n",
       "      <th>outcome</th>\n",
       "      <th>success</th>\n",
       "      <th>virologic failure</th>\n",
       "      <th>All</th>\n",
       "    </tr>\n",
       "    <tr>\n",
       "      <th>medicine</th>\n",
       "      <th></th>\n",
       "      <th></th>\n",
       "      <th></th>\n",
       "    </tr>\n",
       "  </thead>\n",
       "  <tbody>\n",
       "    <tr>\n",
       "      <th>lopinavir</th>\n",
       "      <td>110</td>\n",
       "      <td>10</td>\n",
       "      <td>120</td>\n",
       "    </tr>\n",
       "    <tr>\n",
       "      <th>nevaprine</th>\n",
       "      <td>94</td>\n",
       "      <td>26</td>\n",
       "      <td>120</td>\n",
       "    </tr>\n",
       "    <tr>\n",
       "      <th>All</th>\n",
       "      <td>204</td>\n",
       "      <td>36</td>\n",
       "      <td>240</td>\n",
       "    </tr>\n",
       "  </tbody>\n",
       "</table>\n",
       "</div>"
      ],
      "text/plain": [
       "outcome    success  virologic failure  All\n",
       "medicine                                  \n",
       "lopinavir      110                 10  120\n",
       "nevaprine       94                 26  120\n",
       "All            204                 36  240"
      ]
     },
     "execution_count": 7,
     "metadata": {},
     "output_type": "execute_result"
    }
   ],
   "source": [
    "import pandas as pd \n",
    "\n",
    "df = pd.DataFrame({\n",
    "    \"outcome\": [\"virologic failure\"] * 26 + [\"success\"] * 94 + [\"virologic failure\"] * 10 + [\"success\"] * 110, \n",
    "    \"medicine\": [\"nevaprine\"] * 120 + [\"lopinavir\"] * 120\n",
    "})\n",
    "\n",
    "pd.crosstab(df.medicine, df.outcome, margins=True)"
   ]
  },
  {
   "cell_type": "markdown",
   "metadata": {},
   "source": [
    "### Exercise 6.30 - An apple a day keeps the doctor away.\n",
    "\n",
    "It depends on the number of students and the purpose of this analysis."
   ]
  },
  {
   "cell_type": "markdown",
   "metadata": {},
   "source": [
    "### Guided Practice 6.23\n",
    "\n",
    "We would expect 33 of the jurors to be Hispanic and 24.75 from other races."
   ]
  },
  {
   "cell_type": "markdown",
   "metadata": {},
   "source": [
    "### Guided Practice 6.24"
   ]
  },
  {
   "cell_type": "markdown",
   "metadata": {},
   "source": [
    "* (a) The center gets wider.\n",
    "* (b) The variability seems to increase.\n",
    "* (c) The shape becomes more normal-like."
   ]
  },
  {
   "cell_type": "markdown",
   "metadata": {},
   "source": [
    "### Guided Practice 6.28"
   ]
  },
  {
   "cell_type": "code",
   "execution_count": 8,
   "metadata": {},
   "outputs": [
    {
     "data": {
      "text/plain": [
       "0.11086624560489045"
      ]
     },
     "execution_count": 8,
     "metadata": {},
     "output_type": "execute_result"
    }
   ],
   "source": [
    "1 - stats.chi2.cdf(11.7, df=7)"
   ]
  },
  {
   "cell_type": "markdown",
   "metadata": {},
   "source": [
    "### Guided Practice 6.29"
   ]
  },
  {
   "cell_type": "code",
   "execution_count": 9,
   "metadata": {},
   "outputs": [
    {
     "data": {
      "text/plain": [
       "0.04042768199451274"
      ]
     },
     "execution_count": 9,
     "metadata": {},
     "output_type": "execute_result"
    }
   ],
   "source": [
    "1 - stats.chi2.cdf(10, df=4)"
   ]
  },
  {
   "cell_type": "markdown",
   "metadata": {},
   "source": [
    "### Guided Practice 6.30"
   ]
  },
  {
   "cell_type": "code",
   "execution_count": 10,
   "metadata": {},
   "outputs": [
    {
     "data": {
      "text/plain": [
       "0.026625274336369742"
      ]
     },
     "execution_count": 10,
     "metadata": {},
     "output_type": "execute_result"
    }
   ],
   "source": [
    "1 - stats.chi2.cdf(9.21, df=3)"
   ]
  },
  {
   "cell_type": "markdown",
   "metadata": {},
   "source": [
    "### Guided Practice 6.34\n",
    "\n",
    "Let's use, as above, Python."
   ]
  },
  {
   "cell_type": "code",
   "execution_count": 11,
   "metadata": {},
   "outputs": [
    {
     "data": {
      "text/plain": [
       "4.626783138388285"
      ]
     },
     "execution_count": 11,
     "metadata": {},
     "output_type": "execute_result"
    }
   ],
   "source": [
    "import numpy as np\n",
    "\n",
    "obs = np.array([717, 369, 155, 69, 28, 14, 10])\n",
    "exp = np.array([743, 338, 153, 70, 32, 14, 12])\n",
    "\n",
    "x2 = stats.chisquare(obs, exp, ddof=6)\n",
    "x2.statistic"
   ]
  },
  {
   "cell_type": "markdown",
   "metadata": {},
   "source": [
    "### Guided Practice 6.35\n",
    "\n",
    "We need to use $n - 1 = 7 - 1 = 6$ degrees of freedom."
   ]
  },
  {
   "cell_type": "markdown",
   "metadata": {},
   "source": [
    "### Exercise 6.31 - True or false, Part I.\n",
    "\n",
    "* (a) False. The chi-square has only one parameter, i.e. the degrees of freedom.\n",
    "* (b) True. The more the degrees of freedom the more it is normal, though.\n",
    "* (c) True.\n",
    "* (d) False. It becomes more normal."
   ]
  },
  {
   "cell_type": "markdown",
   "metadata": {},
   "source": [
    "### Exercise 6.32 - True or false, Part II.\n",
    "\n",
    "* (a) True. It becomes more normal shaped.\n",
    "* (b) True. We would get a p-value of 0.8197.\n",
    "* (c) False. Only the right tail.\n",
    "* (d) True, as it becomes more normal (and the tails gets larger)."
   ]
  },
  {
   "cell_type": "markdown",
   "metadata": {},
   "source": [
    "### Exercise 6.33 - Open source textbook.\n",
    "\n",
    "* (a) $H_{0}$: the distribution of students follows the professor prediction. $H_{A}$: the distribution of students does not follow the professor prediction.\n",
    "* (b) $76$, $31$ and $19$.\n",
    "* (c) Observations are independent and each bin has at least five cases. They are both met.\n",
    "* (d) $X^{2} = 1.825$ with $pval = 0.40$.\n",
    "* (e) THe distribution of students follows somehow professor's distribution so we can't reject the null hypothesis."
   ]
  },
  {
   "cell_type": "markdown",
   "metadata": {},
   "source": [
    "### Exercise 6.34 - Barking deer.\n",
    "\n",
    "* (a) $H_{0}$: the distribution of the sites follow the percentages as shown in the study. $H_{A}$: the distribution of the sites does not follow the percentages.\n",
    "* (b) The chi squares test can be used to assess if the observed distribution matches the expected one.\n",
    "* (c) Conditions are matched.\n",
    "* (d) The resulting pvalue is very small (around 1.813e-61), therefore we can reject the null hypothesis, i.e. that the sites follow that distribution."
   ]
  },
  {
   "cell_type": "markdown",
   "metadata": {},
   "source": [
    "### Guided Practice 6.39\n",
    "\n",
    "We would expect $73 * (1 - 0.2785) = 52.6 \\approx 53$ to hide the freezing problem from that group."
   ]
  },
  {
   "cell_type": "markdown",
   "metadata": {},
   "source": [
    "### Guided Practice 6.42\n",
    "\n",
    "We can use numpy and pandas to achieve this."
   ]
  },
  {
   "cell_type": "code",
   "execution_count": 12,
   "metadata": {},
   "outputs": [
    {
     "data": {
      "text/html": [
       "<div>\n",
       "<style scoped>\n",
       "    .dataframe tbody tr th:only-of-type {\n",
       "        vertical-align: middle;\n",
       "    }\n",
       "\n",
       "    .dataframe tbody tr th {\n",
       "        vertical-align: top;\n",
       "    }\n",
       "\n",
       "    .dataframe thead th {\n",
       "        text-align: right;\n",
       "    }\n",
       "</style>\n",
       "<table border=\"1\" class=\"dataframe\">\n",
       "  <thead>\n",
       "    <tr style=\"text-align: right;\">\n",
       "      <th></th>\n",
       "      <th>Failure</th>\n",
       "      <th>Success</th>\n",
       "    </tr>\n",
       "  </thead>\n",
       "  <tbody>\n",
       "    <tr>\n",
       "      <th>lifestyle</th>\n",
       "      <td>106.789700</td>\n",
       "      <td>127.210300</td>\n",
       "    </tr>\n",
       "    <tr>\n",
       "      <th>met</th>\n",
       "      <td>105.876967</td>\n",
       "      <td>126.123033</td>\n",
       "    </tr>\n",
       "    <tr>\n",
       "      <th>rosi</th>\n",
       "      <td>106.333333</td>\n",
       "      <td>126.666667</td>\n",
       "    </tr>\n",
       "  </tbody>\n",
       "</table>\n",
       "</div>"
      ],
      "text/plain": [
       "              Failure     Success\n",
       "lifestyle  106.789700  127.210300\n",
       "met        105.876967  126.123033\n",
       "rosi       106.333333  126.666667"
      ]
     },
     "execution_count": 12,
     "metadata": {},
     "output_type": "execute_result"
    }
   ],
   "source": [
    "import pandas as pd\n",
    "\n",
    "df = pd.DataFrame({\n",
    "    \"lifestyle\": np.array([319, 380]) * 234 / 699,\n",
    "    \"met\": np.array([319, 380]) * 232 / 699,\n",
    "    \"rosi\": np.array([319, 380]) * 233 / 699\n",
    "}, index=[\"Failure\", \"Success\"]).T\n",
    "\n",
    "df"
   ]
  },
  {
   "cell_type": "markdown",
   "metadata": {},
   "source": [
    "### Guided Practice 6.43\n",
    "\n",
    "Again, we can use Python for it."
   ]
  },
  {
   "cell_type": "code",
   "execution_count": 13,
   "metadata": {},
   "outputs": [
    {
     "data": {
      "text/plain": [
       "8.164532108794889"
      ]
     },
     "execution_count": 13,
     "metadata": {},
     "output_type": "execute_result"
    }
   ],
   "source": [
    "emp_df = pd.DataFrame({\n",
    "    \"lifestyle\": np.array([109, 125]),\n",
    "    \"met\": np.array([120, 112]),\n",
    "    \"rosi\": np.array([90, 143])\n",
    "}, index=[\"Failure\", \"Success\"]).T\n",
    "\n",
    "chi2, p, dof, exp = stats.chi2_contingency(emp_df)\n",
    "chi2"
   ]
  },
  {
   "cell_type": "markdown",
   "metadata": {},
   "source": [
    "### Guided Practice 6.44\n",
    "\n",
    "We already calculated `p` above. And we can reject the null hypothesis."
   ]
  },
  {
   "cell_type": "code",
   "execution_count": 14,
   "metadata": {},
   "outputs": [
    {
     "data": {
      "text/plain": [
       "0.0168691957929816"
      ]
     },
     "execution_count": 14,
     "metadata": {},
     "output_type": "execute_result"
    }
   ],
   "source": [
    "p"
   ]
  },
  {
   "cell_type": "markdown",
   "metadata": {},
   "source": [
    "### Exercise 6.35 - Quitters.\n",
    "\n",
    "* (a) We can create a two-way table with pandas."
   ]
  },
  {
   "cell_type": "code",
   "execution_count": 15,
   "metadata": {},
   "outputs": [
    {
     "data": {
      "text/html": [
       "<div>\n",
       "<style scoped>\n",
       "    .dataframe tbody tr th:only-of-type {\n",
       "        vertical-align: middle;\n",
       "    }\n",
       "\n",
       "    .dataframe tbody tr th {\n",
       "        vertical-align: top;\n",
       "    }\n",
       "\n",
       "    .dataframe thead th {\n",
       "        text-align: right;\n",
       "    }\n",
       "</style>\n",
       "<table border=\"1\" class=\"dataframe\">\n",
       "  <thead>\n",
       "    <tr style=\"text-align: right;\">\n",
       "      <th></th>\n",
       "      <th>Quit</th>\n",
       "      <th>No Quit</th>\n",
       "    </tr>\n",
       "  </thead>\n",
       "  <tbody>\n",
       "    <tr>\n",
       "      <th>Patch with Support</th>\n",
       "      <td>40</td>\n",
       "      <td>110</td>\n",
       "    </tr>\n",
       "    <tr>\n",
       "      <th>Patch without Support</th>\n",
       "      <td>30</td>\n",
       "      <td>120</td>\n",
       "    </tr>\n",
       "  </tbody>\n",
       "</table>\n",
       "</div>"
      ],
      "text/plain": [
       "                       Quit  No Quit\n",
       "Patch with Support       40      110\n",
       "Patch without Support    30      120"
      ]
     },
     "execution_count": 15,
     "metadata": {},
     "output_type": "execute_result"
    }
   ],
   "source": [
    "two_way_635 = pd.DataFrame({\n",
    "    \"Patch with Support\": [40, 110],\n",
    "    \"Patch without Support\": [30, 120],\n",
    "}, index=[\"Quit\", \"No Quit\"]).T \n",
    "\n",
    "two_way_635"
   ]
  },
  {
   "cell_type": "markdown",
   "metadata": {},
   "source": [
    "* (b)\n",
    "    * (i) If being part of a support group does not affect the outcome of the experiment, we would observe a probability of quitting of $p = 0.47$. Therefore the probability of not quitting is $0.53$. So to answer the first question, we would expect 35 people to quit in the \"patch + support\" group.\n",
    "    * (ii) I would still expect 110 people to not quit."
   ]
  },
  {
   "cell_type": "markdown",
   "metadata": {},
   "source": [
    "### Exercise 6.36 - Full body scan, Part II.\n",
    "\n",
    "* (a) I would expect $\\approx 48$ Republicans to not support the use of full-body scans.\n",
    "* (b) Around $297$ Democrats would be expected to support the use of full-body scans.\n",
    "* (c) I would expect $21$ Independents to not answer."
   ]
  },
  {
   "cell_type": "markdown",
   "metadata": {},
   "source": [
    "### Exercise 6.37 - Offshore drilling, Part III.\n",
    "\n",
    "Let's build the two-way table and use Python to perform the due calculations."
   ]
  },
  {
   "cell_type": "code",
   "execution_count": 16,
   "metadata": {},
   "outputs": [
    {
     "name": "stdout",
     "output_type": "stream",
     "text": [
      "We got a chi2 statistics of 11.460816627638106 with a p-value of 0.003245751677744377 (degrees of freedom 2 and expected distribution [[151.47279323 134.52720677]\n",
      " [162.06529625 143.93470375]\n",
      " [124.46191052 110.53808948]]).\n",
      "We can reject the null hypothesis, therefore there is a significant difference.\n"
     ]
    }
   ],
   "source": [
    "college_grad_oil_drill = pd.DataFrame({\n",
    "    \"Support\": [154, 132],\n",
    "    \"Oppose\": [180, 126],\n",
    "    \"Do not know\": [104, 131]\n",
    "}, index=[\"Yes\", \"No\"]).T\n",
    "\n",
    "significance_level = 0.05\n",
    "\n",
    "chi2, p, dof, exp = stats.chi2_contingency(college_grad_oil_drill)\n",
    "print(f\"We got a chi2 statistics of {chi2} with a p-value of {p} (degrees of freedom {dof} and expected distribution {exp}).\")\n",
    "\n",
    "if p < significance_level:\n",
    "    print(\"We can reject the null hypothesis, therefore there is a significant difference.\")\n",
    "else:\n",
    "    print(\"No significant difference.\")"
   ]
  },
  {
   "cell_type": "markdown",
   "metadata": {},
   "source": [
    "### Exercise 6.38 - Parasitic worm.\n",
    "\n",
    "* (a) $H_{0}$: differences in results are due to chance. $H_{A}$: there's a significant difference among the treatments.\n",
    "* (b) Given the small p-value, we can reject the null hypothesis, and therefore the results we got are not due to chance."
   ]
  },
  {
   "cell_type": "markdown",
   "metadata": {},
   "source": [
    "### Exercise 6.39 - Active learning.\n",
    "\n",
    "No, the surveys are not independent as they are conducted on the same students."
   ]
  },
  {
   "cell_type": "markdown",
   "metadata": {},
   "source": [
    "### Exercise 6.40 - Website experiment.\n",
    "\n",
    "* (a) Let's make a dataframe to answer such question."
   ]
  },
  {
   "cell_type": "code",
   "execution_count": 17,
   "metadata": {},
   "outputs": [
    {
     "data": {
      "text/html": [
       "<div>\n",
       "<style scoped>\n",
       "    .dataframe tbody tr th:only-of-type {\n",
       "        vertical-align: middle;\n",
       "    }\n",
       "\n",
       "    .dataframe tbody tr th {\n",
       "        vertical-align: top;\n",
       "    }\n",
       "\n",
       "    .dataframe thead th {\n",
       "        text-align: right;\n",
       "    }\n",
       "</style>\n",
       "<table border=\"1\" class=\"dataframe\">\n",
       "  <thead>\n",
       "    <tr style=\"text-align: right;\">\n",
       "      <th></th>\n",
       "      <th>Download</th>\n",
       "      <th>No Download</th>\n",
       "    </tr>\n",
       "  </thead>\n",
       "  <tbody>\n",
       "    <tr>\n",
       "      <th>Position 1</th>\n",
       "      <td>96.738</td>\n",
       "      <td>128.283</td>\n",
       "    </tr>\n",
       "    <tr>\n",
       "      <th>Position 2</th>\n",
       "      <td>102.346</td>\n",
       "      <td>129.685</td>\n",
       "    </tr>\n",
       "    <tr>\n",
       "      <th>Position 3</th>\n",
       "      <td>84.821</td>\n",
       "      <td>159.127</td>\n",
       "    </tr>\n",
       "  </tbody>\n",
       "</table>\n",
       "</div>"
      ],
      "text/plain": [
       "            Download  No Download\n",
       "Position 1    96.738      128.283\n",
       "Position 2   102.346      129.685\n",
       "Position 3    84.821      159.127"
      ]
     },
     "execution_count": 17,
     "metadata": {},
     "output_type": "execute_result"
    }
   ],
   "source": [
    "n_partecipants = 701\n",
    "\n",
    "visitor_df = pd.DataFrame({\n",
    "    \"Position 1\": [0.138, 0.183],\n",
    "    \"Position 2\": [0.146, 0.185],\n",
    "    \"Position 3\": [0.121, 0.227]\n",
    "}, index=[\"Download\", \"No Download\"]).T \n",
    "\n",
    "visitor_df * n_partecipants"
   ]
  },
  {
   "cell_type": "markdown",
   "metadata": {},
   "source": [
    "* (b) The probability of being in a group, given the equal chance of belonging to any of the three, is 0.333 roughly. We expect then that for each group we have roughly 233 partecipants. Let's test the goodness of fit using the chi square distribution. We do see that we obtain a p-value of 0.675, which means that the fluctuation from the expected value is due to randomness with high probability, so we cannot reject the null hypothesis, which is that the classes are perfectly balances."
   ]
  },
  {
   "cell_type": "code",
   "execution_count": 18,
   "metadata": {},
   "outputs": [
    {
     "data": {
      "text/plain": [
       "Power_divergenceResult(statistic=0.7837179999999975, pvalue=0.6757993949578478)"
      ]
     },
     "execution_count": 18,
     "metadata": {},
     "output_type": "execute_result"
    }
   ],
   "source": [
    "c = stats.chisquare(visitor_df.sum(axis=1) * 701, [701 * 1 / 3] * 3)\n",
    "\n",
    "c"
   ]
  },
  {
   "cell_type": "markdown",
   "metadata": {},
   "source": [
    "### Exercise 6.41 - Shipping holiday gifts.\n",
    "\n",
    "* (a) We would expect each shipping method to be uniformly distributed among the age segments. \n",
    "* (b) We can't use the chi-square test since the expected distribution for the \"Not Sure\" shipping method does not have at least 5 in all bins."
   ]
  },
  {
   "cell_type": "markdown",
   "metadata": {},
   "source": [
    "### Exercise 6.42 - The Civil War.\n",
    "\n",
    "* (a) $H_{0}: \\hat{p} = 0.5$ and $h_{A}: \\hat{p} > 0.5$. We get $Z = 4.69$, which translates to a p-value of $pval = 1.37 \\times 10^{6}$.\n",
    "* (b) The p-value means that the chances to get such a result due to chance is very small, therefore we can reject the null hypothesis.\n",
    "* (c) $[0.5390,\\ 0.5810]$."
   ]
  },
  {
   "cell_type": "markdown",
   "metadata": {},
   "source": [
    "### Exercise 6.43 - College smokers.\n",
    "\n",
    "* (a) Since $np = 40$ and $n(1 - p) = 160$, we can use the normal approximation. The 95% confidence interval is $[0.1446,\\ 0.2554]$.\n",
    "* (b) We would need a sample size of $1537$."
   ]
  },
  {
   "cell_type": "markdown",
   "metadata": {},
   "source": [
    "### Exercise 6.44 - Acetaminophen and liver damage.\n",
    "\n",
    "* (a) Let's use $\\hat{p} = 0.50$, so we get $n = 3393$ and this means we need to have 60,860 dollars set aside.\n",
    "* (b) With fewer partecipants we get a greater standard error and thus a wider interval."
   ]
  },
  {
   "cell_type": "markdown",
   "metadata": {},
   "source": [
    "### Exercise 6.45 - Life after college.\n",
    "\n",
    "* (a) We really want to find the proportion of all the 4500 students in the class under consideration. The point estimate is $\\hat{p} = 0.87$.\n",
    "* (b) We can easily see that the conditions are met.\n",
    "* (c) The 95% confidence interval is $[0.84,\\ 0.90]$.\n",
    "* (d) It means that out of 100 samples on which we build a 95% confidence interval, approximately 95 of them will contain the true population parameter.\n",
    "* (e) Of course 99% confidence interval is wider, since in order to have a greater confidence, we need to get a wider interval."
   ]
  },
  {
   "cell_type": "markdown",
   "metadata": {},
   "source": [
    "### Exercise 6.46 - Diabetes and unemployment.\n",
    "\n",
    "* (a) Let's leverage Python to create a two way table."
   ]
  },
  {
   "cell_type": "code",
   "execution_count": 28,
   "metadata": {},
   "outputs": [
    {
     "data": {
      "text/html": [
       "<div>\n",
       "<style scoped>\n",
       "    .dataframe tbody tr th:only-of-type {\n",
       "        vertical-align: middle;\n",
       "    }\n",
       "\n",
       "    .dataframe tbody tr th {\n",
       "        vertical-align: top;\n",
       "    }\n",
       "\n",
       "    .dataframe thead th {\n",
       "        text-align: right;\n",
       "    }\n",
       "</style>\n",
       "<table border=\"1\" class=\"dataframe\">\n",
       "  <thead>\n",
       "    <tr style=\"text-align: right;\">\n",
       "      <th></th>\n",
       "      <th>Diabetes</th>\n",
       "      <th>No Diabetes</th>\n",
       "    </tr>\n",
       "  </thead>\n",
       "  <tbody>\n",
       "    <tr>\n",
       "      <th>Employed</th>\n",
       "      <td>71.6610</td>\n",
       "      <td>47702.3390</td>\n",
       "    </tr>\n",
       "    <tr>\n",
       "      <th>Unemployed</th>\n",
       "      <td>14.7125</td>\n",
       "      <td>5870.2875</td>\n",
       "    </tr>\n",
       "  </tbody>\n",
       "</table>\n",
       "</div>"
      ],
      "text/plain": [
       "            Diabetes  No Diabetes\n",
       "Employed     71.6610   47702.3390\n",
       "Unemployed   14.7125    5870.2875"
      ]
     },
     "execution_count": 28,
     "metadata": {},
     "output_type": "execute_result"
    }
   ],
   "source": [
    "diab_unemp_df = pd.DataFrame({\n",
    "    \"Employed\": [47774 * 0.0015, 47774 * (1 - 0.0015)], \n",
    "    \"Unemployed\": [5885 * 0.0025, 5885 * (1 - 0.0025)]\n",
    "}, index=[\"Diabetes\", \"No Diabetes\"]).T\n",
    "\n",
    "diab_unemp_df"
   ]
  },
  {
   "cell_type": "markdown",
   "metadata": {},
   "source": [
    "* (b) We want to test whether there is a difference in the proportions of unemployed and employed people suffering diabetes. Our $H_{0}$ is that there is not difference, while our $H_{A}$ is that there is a significant difference.\n",
    "\n",
    "* (c) Using a large sample size, we get a very low standard error and thus a very low p-value which does not translate to a practical significant result, rather and over estimated result."
   ]
  },
  {
   "cell_type": "markdown",
   "metadata": {},
   "source": [
    "### Exercise 6.47 - Rock-paper-scissors.\n",
    "\n",
    "Again, let's make easy work of this by using Python."
   ]
  },
  {
   "cell_type": "code",
   "execution_count": 30,
   "metadata": {},
   "outputs": [
    {
     "data": {
      "text/plain": [
       "Power_divergenceResult(statistic=7.515151515151515, pvalue=0.023340254280134753)"
      ]
     },
     "execution_count": 30,
     "metadata": {},
     "output_type": "execute_result"
    }
   ],
   "source": [
    "stats.chisquare([43, 21, 35], [33, 33, 33])"
   ]
  },
  {
   "cell_type": "markdown",
   "metadata": {},
   "source": [
    "If the outcomes have equal chances, we would expect their probability be 1 / 3, and thus we would get in 99 times, 33 of each option. With this, we got a p-value of 0.02, suggesting that actually there's a bias in choosing the option."
   ]
  },
  {
   "cell_type": "markdown",
   "metadata": {},
   "source": [
    "### Exercise 6.48 - 2010 Healthcare Law.\n",
    "\n",
    "* (a) False. The confidence interval is built on the sample, but it serves to estimate a population proportion.\n",
    "* (b) True. This is the definition of the 95% confidence interval.\n",
    "* (c) True.\n",
    "* (d) True."
   ]
  },
  {
   "cell_type": "markdown",
   "metadata": {},
   "source": [
    "### Exercise 6.49 - Browsing on the mobile device.\n",
    "\n",
    "* (a) We have $H_{0}: p_{US} - p_{CN} = 0$ and $p_{US} - p_{CN} \\ne 0$. We get a $Z=-16$ and a very small p-value, indicating that there's a statistical difference.\n",
    "* (b) The proportion of Chinese of surfs the web only on the phone is statistically greater than the American proportion.\n",
    "* (c) $[0.1545,\\ 0.1855]$."
   ]
  },
  {
   "cell_type": "code",
   "execution_count": 35,
   "metadata": {},
   "outputs": [
    {
     "data": {
      "text/plain": [
       "(0.15449247027212687, 0.18550752972787315)"
      ]
     },
     "execution_count": 35,
     "metadata": {},
     "output_type": "execute_result"
    }
   ],
   "source": [
    "0.17 - 1.96 * standard_error(0.17, 2254), 0.17 + 1.96 * standard_error(0.17, 2254)"
   ]
  },
  {
   "cell_type": "markdown",
   "metadata": {},
   "source": [
    "### Exercise 6.50 - Coffee and Depression.\n",
    "\n",
    "* (a) We want to use a two-way chi squared test.\n",
    "* (b) Our null hypothesis is that there's no relationship between coffee consumption and depression, the alternative is that there actually is a relationship.\n",
    "* (c) The proportion of women free from depression is $0.9486$.\n",
    "* (d) The expected value is $\\approx 340$ so the contribution to the chi square statistic is $3.20$.\n",
    "* (e) The p-value is 0.0003.\n",
    "* (f) The conclusion is that there's definitely a correlation between coffee consumption and depression.\n",
    "* (g) True. That would need a randomized trial."
   ]
  },
  {
   "cell_type": "markdown",
   "metadata": {},
   "source": []
  }
 ],
 "metadata": {
  "interpreter": {
   "hash": "bdc1c445b68446493975f0f4c1120652b32b7ff2d59b9297499b6aaef4c1ff08"
  },
  "kernelspec": {
   "display_name": "Python 3.9.7 64-bit ('base': conda)",
   "name": "python3"
  },
  "language_info": {
   "codemirror_mode": {
    "name": "ipython",
    "version": 3
   },
   "file_extension": ".py",
   "mimetype": "text/x-python",
   "name": "python",
   "nbconvert_exporter": "python",
   "pygments_lexer": "ipython3",
   "version": "3.9.7"
  },
  "orig_nbformat": 4
 },
 "nbformat": 4,
 "nbformat_minor": 2
}
