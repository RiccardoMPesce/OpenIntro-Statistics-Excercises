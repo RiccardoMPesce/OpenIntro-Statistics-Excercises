{
 "cells": [
  {
   "cell_type": "markdown",
   "metadata": {},
   "source": [
    "# Laboratory - YRBSS\n",
    "\n",
    "## Getting Started\n",
    "\n",
    "### Load packages\n",
    "Let's load the relevant packages here."
   ]
  },
  {
   "cell_type": "code",
   "execution_count": 2,
   "metadata": {},
   "outputs": [],
   "source": [
    "import numpy as np\n",
    "import pandas as pd \n",
    "import matplotlib.pyplot as plt \n",
    "import seaborn as sns\n",
    "\n",
    "from scipy import stats \n",
    "\n",
    "from pathlib import Path"
   ]
  },
  {
   "cell_type": "markdown",
   "metadata": {},
   "source": [
    "Let's now import the data sample from the _YRBSS_."
   ]
  },
  {
   "cell_type": "code",
   "execution_count": 3,
   "metadata": {},
   "outputs": [
    {
     "data": {
      "text/html": [
       "<div>\n",
       "<style scoped>\n",
       "    .dataframe tbody tr th:only-of-type {\n",
       "        vertical-align: middle;\n",
       "    }\n",
       "\n",
       "    .dataframe tbody tr th {\n",
       "        vertical-align: top;\n",
       "    }\n",
       "\n",
       "    .dataframe thead th {\n",
       "        text-align: right;\n",
       "    }\n",
       "</style>\n",
       "<table border=\"1\" class=\"dataframe\">\n",
       "  <thead>\n",
       "    <tr style=\"text-align: right;\">\n",
       "      <th></th>\n",
       "      <th>age</th>\n",
       "      <th>gender</th>\n",
       "      <th>grade</th>\n",
       "      <th>hispanic</th>\n",
       "      <th>race</th>\n",
       "      <th>height</th>\n",
       "      <th>weight</th>\n",
       "      <th>helmet_12m</th>\n",
       "      <th>text_while_driving_30d</th>\n",
       "      <th>physically_active_7d</th>\n",
       "      <th>hours_tv_per_school_day</th>\n",
       "      <th>strength_training_7d</th>\n",
       "      <th>school_night_hours_sleep</th>\n",
       "    </tr>\n",
       "  </thead>\n",
       "  <tbody>\n",
       "    <tr>\n",
       "      <th>4001</th>\n",
       "      <td>18.0</td>\n",
       "      <td>female</td>\n",
       "      <td>12</td>\n",
       "      <td>not</td>\n",
       "      <td>White</td>\n",
       "      <td>1.60</td>\n",
       "      <td>99.79</td>\n",
       "      <td>did not ride</td>\n",
       "      <td>1-2</td>\n",
       "      <td>3.0</td>\n",
       "      <td>do not watch</td>\n",
       "      <td>0.0</td>\n",
       "      <td>6</td>\n",
       "    </tr>\n",
       "    <tr>\n",
       "      <th>6237</th>\n",
       "      <td>14.0</td>\n",
       "      <td>female</td>\n",
       "      <td>9</td>\n",
       "      <td>not</td>\n",
       "      <td>Native Hawaiian or Other Pacific Islander</td>\n",
       "      <td>1.65</td>\n",
       "      <td>61.24</td>\n",
       "      <td>did not ride</td>\n",
       "      <td>1-2</td>\n",
       "      <td>5.0</td>\n",
       "      <td>2</td>\n",
       "      <td>5.0</td>\n",
       "      <td>5</td>\n",
       "    </tr>\n",
       "    <tr>\n",
       "      <th>7327</th>\n",
       "      <td>17.0</td>\n",
       "      <td>male</td>\n",
       "      <td>12</td>\n",
       "      <td>not</td>\n",
       "      <td>White</td>\n",
       "      <td>1.75</td>\n",
       "      <td>58.97</td>\n",
       "      <td>never</td>\n",
       "      <td>3-5</td>\n",
       "      <td>5.0</td>\n",
       "      <td>2</td>\n",
       "      <td>0.0</td>\n",
       "      <td>7</td>\n",
       "    </tr>\n",
       "    <tr>\n",
       "      <th>8205</th>\n",
       "      <td>16.0</td>\n",
       "      <td>female</td>\n",
       "      <td>10</td>\n",
       "      <td>not</td>\n",
       "      <td>Black or African American</td>\n",
       "      <td>NaN</td>\n",
       "      <td>NaN</td>\n",
       "      <td>did not ride</td>\n",
       "      <td>did not drive</td>\n",
       "      <td>0.0</td>\n",
       "      <td>&lt;1</td>\n",
       "      <td>0.0</td>\n",
       "      <td>7</td>\n",
       "    </tr>\n",
       "    <tr>\n",
       "      <th>7334</th>\n",
       "      <td>16.0</td>\n",
       "      <td>female</td>\n",
       "      <td>10</td>\n",
       "      <td>hispanic</td>\n",
       "      <td>American Indian or Alaska Native</td>\n",
       "      <td>1.57</td>\n",
       "      <td>60.33</td>\n",
       "      <td>did not ride</td>\n",
       "      <td>NaN</td>\n",
       "      <td>0.0</td>\n",
       "      <td>4</td>\n",
       "      <td>0.0</td>\n",
       "      <td>7</td>\n",
       "    </tr>\n",
       "  </tbody>\n",
       "</table>\n",
       "</div>"
      ],
      "text/plain": [
       "       age  gender grade  hispanic                                       race  \\\n",
       "4001  18.0  female    12       not                                      White   \n",
       "6237  14.0  female     9       not  Native Hawaiian or Other Pacific Islander   \n",
       "7327  17.0    male    12       not                                      White   \n",
       "8205  16.0  female    10       not                  Black or African American   \n",
       "7334  16.0  female    10  hispanic           American Indian or Alaska Native   \n",
       "\n",
       "      height  weight    helmet_12m text_while_driving_30d  \\\n",
       "4001    1.60   99.79  did not ride                    1-2   \n",
       "6237    1.65   61.24  did not ride                    1-2   \n",
       "7327    1.75   58.97         never                    3-5   \n",
       "8205     NaN     NaN  did not ride          did not drive   \n",
       "7334    1.57   60.33  did not ride                    NaN   \n",
       "\n",
       "      physically_active_7d hours_tv_per_school_day  strength_training_7d  \\\n",
       "4001                   3.0            do not watch                   0.0   \n",
       "6237                   5.0                       2                   5.0   \n",
       "7327                   5.0                       2                   0.0   \n",
       "8205                   0.0                      <1                   0.0   \n",
       "7334                   0.0                       4                   0.0   \n",
       "\n",
       "     school_night_hours_sleep  \n",
       "4001                        6  \n",
       "6237                        5  \n",
       "7327                        7  \n",
       "8205                        7  \n",
       "7334                        7  "
      ]
     },
     "execution_count": 3,
     "metadata": {},
     "output_type": "execute_result"
    }
   ],
   "source": [
    "yrbss_path = Path(\"../datasets/yrbss.csv\")\n",
    "yrbss_df = pd.read_csv(yrbss_path)\n",
    "\n",
    "yrbss_df.sample(5)"
   ]
  },
  {
   "cell_type": "markdown",
   "metadata": {},
   "source": [
    "### Exercise 1 - What are the counts within each category for the amount of days these students have texted while driving within the past 30 days?"
   ]
  },
  {
   "cell_type": "code",
   "execution_count": 4,
   "metadata": {},
   "outputs": [
    {
     "data": {
      "text/plain": [
       "text_while_driving_30d\n",
       "0                4792\n",
       "1-2               925\n",
       "10-19             373\n",
       "20-29             298\n",
       "3-5               493\n",
       "30                827\n",
       "6-9               311\n",
       "did not drive    4646\n",
       "dtype: int64"
      ]
     },
     "execution_count": 4,
     "metadata": {},
     "output_type": "execute_result"
    }
   ],
   "source": [
    "yrbss_df.groupby(\"text_while_driving_30d\").size()"
   ]
  },
  {
   "cell_type": "markdown",
   "metadata": {},
   "source": [
    "### Exercise 2 - What is the proportion of people who have texted while driving every day in the past 30 days and never wear helmets?"
   ]
  },
  {
   "cell_type": "code",
   "execution_count": 5,
   "metadata": {},
   "outputs": [
    {
     "data": {
      "text/plain": [
       "0.3578738128543032"
      ]
     },
     "execution_count": 5,
     "metadata": {},
     "output_type": "execute_result"
    }
   ],
   "source": [
    "yrbss_df.loc[lambda df: (df[\"helmet_12m\"] == \"never\") & (df[\"text_while_driving_30d\"] != \"did not drive\")] \\\n",
    "        .shape[0] / yrbss_df.shape[0]"
   ]
  },
  {
   "cell_type": "markdown",
   "metadata": {},
   "source": [
    "Remember that you can use `.loc` to limit the dataset to just non-helmet wearers. Here, we will name the dataset `no_helmet`."
   ]
  },
  {
   "cell_type": "code",
   "execution_count": 6,
   "metadata": {},
   "outputs": [],
   "source": [
    "no_helmet = yrbss_df.loc[yrbss_df[\"helmet_12m\"] == \"never\", :]"
   ]
  },
  {
   "cell_type": "markdown",
   "metadata": {},
   "source": [
    "Also, it may be easier to calculate the proportion if you create a new variable that specifies whether the individual has texted every day while driving over the past 30 days or not. We will call this variable `text_ind`."
   ]
  },
  {
   "cell_type": "code",
   "execution_count": 7,
   "metadata": {},
   "outputs": [
    {
     "name": "stderr",
     "output_type": "stream",
     "text": [
      "/var/folders/q0/rm30f5ts21df3h5fwjfm81h00000gn/T/ipykernel_4753/3899172846.py:1: SettingWithCopyWarning: \n",
      "A value is trying to be set on a copy of a slice from a DataFrame.\n",
      "Try using .loc[row_indexer,col_indexer] = value instead\n",
      "\n",
      "See the caveats in the documentation: https://pandas.pydata.org/pandas-docs/stable/user_guide/indexing.html#returning-a-view-versus-a-copy\n",
      "  no_helmet[\"text_ind\"] = no_helmet.apply(lambda x: \"yes\" if x[\"text_while_driving_30d\"] == \"30\" else \"no\", axis=1)\n"
     ]
    },
    {
     "data": {
      "text/html": [
       "<div>\n",
       "<style scoped>\n",
       "    .dataframe tbody tr th:only-of-type {\n",
       "        vertical-align: middle;\n",
       "    }\n",
       "\n",
       "    .dataframe tbody tr th {\n",
       "        vertical-align: top;\n",
       "    }\n",
       "\n",
       "    .dataframe thead th {\n",
       "        text-align: right;\n",
       "    }\n",
       "</style>\n",
       "<table border=\"1\" class=\"dataframe\">\n",
       "  <thead>\n",
       "    <tr style=\"text-align: right;\">\n",
       "      <th></th>\n",
       "      <th>age</th>\n",
       "      <th>gender</th>\n",
       "      <th>grade</th>\n",
       "      <th>hispanic</th>\n",
       "      <th>race</th>\n",
       "      <th>height</th>\n",
       "      <th>weight</th>\n",
       "      <th>helmet_12m</th>\n",
       "      <th>text_while_driving_30d</th>\n",
       "      <th>physically_active_7d</th>\n",
       "      <th>hours_tv_per_school_day</th>\n",
       "      <th>strength_training_7d</th>\n",
       "      <th>school_night_hours_sleep</th>\n",
       "      <th>text_ind</th>\n",
       "    </tr>\n",
       "  </thead>\n",
       "  <tbody>\n",
       "    <tr>\n",
       "      <th>4716</th>\n",
       "      <td>18.0</td>\n",
       "      <td>male</td>\n",
       "      <td>12</td>\n",
       "      <td>not</td>\n",
       "      <td>Black or African American</td>\n",
       "      <td>1.80</td>\n",
       "      <td>81.65</td>\n",
       "      <td>never</td>\n",
       "      <td>0</td>\n",
       "      <td>7.0</td>\n",
       "      <td>NaN</td>\n",
       "      <td>7.0</td>\n",
       "      <td>8</td>\n",
       "      <td>no</td>\n",
       "    </tr>\n",
       "    <tr>\n",
       "      <th>8676</th>\n",
       "      <td>16.0</td>\n",
       "      <td>female</td>\n",
       "      <td>11</td>\n",
       "      <td>hispanic</td>\n",
       "      <td>NaN</td>\n",
       "      <td>1.57</td>\n",
       "      <td>56.70</td>\n",
       "      <td>never</td>\n",
       "      <td>did not drive</td>\n",
       "      <td>0.0</td>\n",
       "      <td>1</td>\n",
       "      <td>0.0</td>\n",
       "      <td>7</td>\n",
       "      <td>no</td>\n",
       "    </tr>\n",
       "    <tr>\n",
       "      <th>3966</th>\n",
       "      <td>15.0</td>\n",
       "      <td>female</td>\n",
       "      <td>10</td>\n",
       "      <td>not</td>\n",
       "      <td>White</td>\n",
       "      <td>1.70</td>\n",
       "      <td>71.67</td>\n",
       "      <td>never</td>\n",
       "      <td>NaN</td>\n",
       "      <td>7.0</td>\n",
       "      <td>2</td>\n",
       "      <td>7.0</td>\n",
       "      <td>8</td>\n",
       "      <td>no</td>\n",
       "    </tr>\n",
       "    <tr>\n",
       "      <th>8329</th>\n",
       "      <td>16.0</td>\n",
       "      <td>male</td>\n",
       "      <td>11</td>\n",
       "      <td>not</td>\n",
       "      <td>Black or African American</td>\n",
       "      <td>1.80</td>\n",
       "      <td>63.50</td>\n",
       "      <td>never</td>\n",
       "      <td>0</td>\n",
       "      <td>7.0</td>\n",
       "      <td>5+</td>\n",
       "      <td>7.0</td>\n",
       "      <td>5</td>\n",
       "      <td>no</td>\n",
       "    </tr>\n",
       "    <tr>\n",
       "      <th>57</th>\n",
       "      <td>17.0</td>\n",
       "      <td>male</td>\n",
       "      <td>11</td>\n",
       "      <td>not</td>\n",
       "      <td>Native Hawaiian or Other Pacific Islander</td>\n",
       "      <td>1.73</td>\n",
       "      <td>78.93</td>\n",
       "      <td>never</td>\n",
       "      <td>0</td>\n",
       "      <td>5.0</td>\n",
       "      <td>5+</td>\n",
       "      <td>0.0</td>\n",
       "      <td>8</td>\n",
       "      <td>no</td>\n",
       "    </tr>\n",
       "  </tbody>\n",
       "</table>\n",
       "</div>"
      ],
      "text/plain": [
       "       age  gender grade  hispanic                                       race  \\\n",
       "4716  18.0    male    12       not                  Black or African American   \n",
       "8676  16.0  female    11  hispanic                                        NaN   \n",
       "3966  15.0  female    10       not                                      White   \n",
       "8329  16.0    male    11       not                  Black or African American   \n",
       "57    17.0    male    11       not  Native Hawaiian or Other Pacific Islander   \n",
       "\n",
       "      height  weight helmet_12m text_while_driving_30d  physically_active_7d  \\\n",
       "4716    1.80   81.65      never                      0                   7.0   \n",
       "8676    1.57   56.70      never          did not drive                   0.0   \n",
       "3966    1.70   71.67      never                    NaN                   7.0   \n",
       "8329    1.80   63.50      never                      0                   7.0   \n",
       "57      1.73   78.93      never                      0                   5.0   \n",
       "\n",
       "     hours_tv_per_school_day  strength_training_7d school_night_hours_sleep  \\\n",
       "4716                     NaN                   7.0                        8   \n",
       "8676                       1                   0.0                        7   \n",
       "3966                       2                   7.0                        8   \n",
       "8329                      5+                   7.0                        5   \n",
       "57                        5+                   0.0                        8   \n",
       "\n",
       "     text_ind  \n",
       "4716       no  \n",
       "8676       no  \n",
       "3966       no  \n",
       "8329       no  \n",
       "57         no  "
      ]
     },
     "execution_count": 7,
     "metadata": {},
     "output_type": "execute_result"
    }
   ],
   "source": [
    "no_helmet[\"text_ind\"] = no_helmet.apply(lambda x: \"yes\" if x[\"text_while_driving_30d\"] == \"30\" else \"no\", axis=1)\n",
    "\n",
    "no_helmet.sample(5)"
   ]
  },
  {
   "cell_type": "markdown",
   "metadata": {},
   "source": [
    "## Inference on proportions\n",
    "\n",
    "When summarizing the YRBSS, the Centers for Disease Control and Prevention seeks insight into the population _parameters_. To do this, you can answer the question, “What proportion of people in your sample reported that they have texted while driving each day for the past 30 days?” with a statistic; while the question “What proportion of people on earth have texted while driving each day for the past 30 days?” is answered with an estimate of the parameter.\n",
    "\n",
    "The inferential tools for estimating population proportion are analogous to those used for means in the last chapter: the confidence interval and the hypothesis test."
   ]
  },
  {
   "cell_type": "code",
   "execution_count": 8,
   "metadata": {},
   "outputs": [
    {
     "data": {
      "text/plain": [
       "ConfidenceInterval(low=0.06094494990611432, high=0.07266733553103052)"
      ]
     },
     "execution_count": 8,
     "metadata": {},
     "output_type": "execute_result"
    }
   ],
   "source": [
    "res = stats.bootstrap((no_helmet[\"text_ind\"].map({\"yes\": 1, \"no\": 0}),),\n",
    "                       statistic=np.mean, \n",
    "                       confidence_level=0.95, \n",
    "                       n_resamples=1000)\n",
    "\n",
    "res.confidence_interval"
   ]
  },
  {
   "cell_type": "markdown",
   "metadata": {},
   "source": [
    "### Excercise 3 - What is the margin of error for the estimate of the proportion of non-helmet wearers that have texted while driving each day for the past 30 days based on this survey?"
   ]
  },
  {
   "cell_type": "code",
   "execution_count": 9,
   "metadata": {},
   "outputs": [
    {
     "data": {
      "text/plain": [
       "0.0058101576591492446"
      ]
     },
     "execution_count": 9,
     "metadata": {},
     "output_type": "execute_result"
    }
   ],
   "source": [
    "res.standard_error * 1.96"
   ]
  },
  {
   "cell_type": "markdown",
   "metadata": {},
   "source": [
    "### Exercise 4 - Calculate confidence intervals for two other categorical variables (you’ll need to decide which level to call “success”, and report the associated margins of error. Interpet the interval in context of the data. It may be helpful to create new data sets for each of the two countries first, and then use these data sets to construct the confidence intervals.\n",
    "\n",
    "We can check whether or not the sample individual was phisically active at least three times. Also, we can check whether or not he did strength training at least three times."
   ]
  },
  {
   "cell_type": "code",
   "execution_count": 10,
   "metadata": {},
   "outputs": [
    {
     "name": "stdout",
     "output_type": "stream",
     "text": [
      "Confidence interval is ConfidenceInterval(low=0.6475954930847893, high=0.6641138949094019) and margin of error is 0.008404003772723769\n",
      "Confidence interval is ConfidenceInterval(low=0.46705203651136423, high=0.48371530435528465) and margin of error is 0.008459444473984144\n"
     ]
    }
   ],
   "source": [
    "phy = (yrbss_df[\"physically_active_7d\"] >= 3).astype(int)\n",
    "strength = (yrbss_df[\"strength_training_7d\"] >= 3).astype(int)\n",
    "\n",
    "phy_res = stats.bootstrap((phy,),\n",
    "                           statistic=np.mean, \n",
    "                           confidence_level=0.95, \n",
    "                           n_resamples=1000)\n",
    "\n",
    "strength_res = stats.bootstrap((strength,),\n",
    "                           statistic=np.mean, \n",
    "                           confidence_level=0.95, \n",
    "                           n_resamples=1000)\n",
    "\n",
    "for res in (phy_res, strength_res):\n",
    "    print(f\"Confidence interval is {res.confidence_interval} and margin of error is {1.96 * res.standard_error}\")"
   ]
  },
  {
   "cell_type": "markdown",
   "metadata": {},
   "source": [
    "From the above result, we see that we can be 95% sure that the true proportion of physical active individuals is between 0.6477 and 0.6633, and that the true proportion of those who trained stength in the past seven days at least three times is between 0.4672 and 0.4844."
   ]
  },
  {
   "cell_type": "markdown",
   "metadata": {},
   "source": [
    "## How does the proportion affect the margin of error?\n",
    "\n",
    "Imagine you’ve set out to survey 1000 people on two questions: are you at least 6-feet tall? and are you left-handed? Since both of these sample proportions were calculated from the same sample size, they should have the same margin of error, right? Wrong! While the margin of error does change with sample size, it is also affected by the proportion.\n",
    "\n",
    "Think back to the formula for the standard error: $SE = \\sqrt{\\frac{p(1 - p)}{n}}$. This is then used in the formula for the margin of error for a 95% confidence interval:\n",
    "$$\n",
    "ME = 1.96 \\times SE = 1.96 \\times \\sqrt{\\frac{p(1 - p)}{n}}\n",
    "$$\n",
    "\n",
    "Since the population proportion $p$ is in this $ME$ formula, it should make sense that the margin of error is in some way dependent on the population proportion. We can visualize this relationship by creating a plot of $ME$ vs. $p$.\n",
    "\n",
    "Since sample size is irrelevant to this discussion, let’s just set it to some value ($n = 1000$) and use this value in the following calculations:"
   ]
  },
  {
   "cell_type": "code",
   "execution_count": 11,
   "metadata": {},
   "outputs": [],
   "source": [
    "n = 1000"
   ]
  },
  {
   "cell_type": "markdown",
   "metadata": {},
   "source": [
    "The first step is to make a variable `p` that is a sequence from 0 to 1 with each number incremented by 0.01. You can then create a variable of the margin of error (`me`) associated with each of these values of `p` using the familiar approximate formula ($ME = 2 \\times SE$)."
   ]
  },
  {
   "cell_type": "code",
   "execution_count": 12,
   "metadata": {},
   "outputs": [],
   "source": [
    "p = np.arange(0, 1.01, 0.01)\n",
    "me = 2 * np.sqrt((p * (1 - p)) / n)"
   ]
  },
  {
   "cell_type": "markdown",
   "metadata": {},
   "source": [
    "Lastly, you can plot the two variables against each other to reveal their relationship."
   ]
  },
  {
   "cell_type": "code",
   "execution_count": 13,
   "metadata": {},
   "outputs": [
    {
     "data": {
      "text/plain": [
       "[]"
      ]
     },
     "execution_count": 13,
     "metadata": {},
     "output_type": "execute_result"
    },
    {
     "data": {
      "image/png": "[encoded data removed]",
      "text/plain": [
       "<Figure size 432x288 with 1 Axes>"
      ]
     },
     "metadata": {},
     "output_type": "display_data"
    }
   ],
   "source": [
    "dd = pd.DataFrame({\"p\": p, \"me\": me})\n",
    "\n",
    "sns.set_theme()\n",
    "\n",
    "sns.lineplot(data=dd, x=\"p\", y=\"me\")\n",
    "plt.xlabel(\"Population proportion\")\n",
    "plt.ylabel(\"Margin of error\")\n",
    "plt.plot()"
   ]
  },
  {
   "cell_type": "markdown",
   "metadata": {},
   "source": [
    "### Exercise 5 - Describe the relationship between `p` and `me`. Include the margin of error vs. population proportion plot you constructed in your answer. For a given sample size, for which value of `p` is margin of error maximized?\n",
    "\n",
    "It seems that when the `p` approaches 0.5, we have a maximum margin of error, while if `p` is close to 0 or 1, we have the lowest margin of error. It looks like a bell-shape. If $p = 0.5$ we have the greatest margin of error."
   ]
  },
  {
   "cell_type": "markdown",
   "metadata": {},
   "source": [
    "## Success-failure condition\n",
    "\n",
    "We have emphasized that you must always check conditions before making inference. For inference on proportions, the sample proportion can be assumed to be nearly normal if it is based upon a random sample of independent observations and if both $n \\ge 10$ and $n(1−p) \\ge 10$. This rule of thumb is easy enough to follow, but it makes you wonder: what’s so special about the number 10?\n",
    "\n",
    "The short answer is: nothing. You could argue that you would be fine with 9 or that you really should be using $11$. What is the “best” value for such a rule of thumb is, at least to some degree, arbitrary. However, when $np$ and $n(1 − p)$ reaches 10 the sampling distribution is sufficiently normal to use confidence intervals and hypothesis tests that are based on that approximation.\n",
    "\n",
    "You can investigate the interplay between $n$ and $p$ and the shape of the sampling distribution by using simulations. Play around with the following app to investigate how the shape, center, and spread of the distribution of $\\hat{p}$ changes as $n$ and $p$ changes."
   ]
  },
  {
   "cell_type": "markdown",
   "metadata": {},
   "source": [
    "### Exercise 6 - Describe the sampling distribution of sample proportions at $n=300$ and $p=0.1$. Be sure to note the center, spread, and shape.\n",
    "\n",
    "We have $SE = 0.02$. For us, it's a matter of simulating random draws from a normal distribution $N(p,\\ SE)$. We get the below results. We get an approximatively normal shape, with center in 0.1 (our $p$) and standard deviation ($SE$) equal to 0.02."
   ]
  },
  {
   "cell_type": "code",
   "execution_count": 31,
   "metadata": {},
   "outputs": [
    {
     "data": {
      "image/png": "[encoded data removed]",
      "text/plain": [
       "<Figure size 432x288 with 1 Axes>"
      ]
     },
     "metadata": {},
     "output_type": "display_data"
    },
    {
     "data": {
      "text/plain": [
       "array([0.08983152, 0.13100393, 0.1044506 , 0.10240983, 0.09604632,\n",
       "       0.09660327, 0.12093793, 0.11859608, 0.10688749, 0.11359093,\n",
       "       0.1062984 , 0.09648061, 0.11897476, 0.10799885, 0.09941504,\n",
       "       0.07438161, 0.09268515, 0.08380079, 0.09357719, 0.06559442,\n",
       "       0.1417355 , 0.08059012, 0.0693415 , 0.09626938, 0.09160157,\n",
       "       0.1216488 , 0.09505542, 0.10143561, 0.08432164, 0.10085858,\n",
       "       0.1205745 , 0.12124329, 0.08648882, 0.0982909 , 0.10051547,\n",
       "       0.09566449, 0.13413256, 0.09669179, 0.10960804, 0.09425732,\n",
       "       0.10480376, 0.08653617, 0.09550849, 0.1147464 , 0.09982493,\n",
       "       0.06100015, 0.05382159, 0.09052063, 0.07838041, 0.08315069,\n",
       "       0.08836398, 0.108457  , 0.12196182, 0.08613082, 0.11436884,\n",
       "       0.07604273, 0.10233213, 0.08967065, 0.11212385, 0.12202935,\n",
       "       0.10060631, 0.08039895, 0.09571385, 0.10365812, 0.09590998,\n",
       "       0.09331974, 0.09918237, 0.08534466, 0.10581887, 0.093687  ,\n",
       "       0.12867324, 0.09169791, 0.11361864, 0.10761915, 0.08512504,\n",
       "       0.08783857, 0.07763429, 0.09683763, 0.08270382, 0.08642538,\n",
       "       0.08109909, 0.09140792, 0.09885968, 0.09963036, 0.09420827,\n",
       "       0.08734229, 0.09683421, 0.10517581, 0.12063688, 0.11442308,\n",
       "       0.10753566, 0.08087918, 0.07514133, 0.1001309 , 0.07877745,\n",
       "       0.08659817, 0.09287056, 0.0814937 , 0.09180363, 0.09687605,\n",
       "       0.11345469, 0.11458409, 0.12518019, 0.09275756, 0.09714222,\n",
       "       0.05713453, 0.06162938, 0.09645297, 0.09851035, 0.11875604,\n",
       "       0.12039619, 0.11724998, 0.06645188, 0.07497531, 0.09510389,\n",
       "       0.13628826, 0.11225784, 0.10764795, 0.10059967, 0.09458634,\n",
       "       0.09245053, 0.1173543 , 0.10268454, 0.11395866, 0.0862114 ,\n",
       "       0.10200081, 0.09430676, 0.08862246, 0.10111782, 0.06885363,\n",
       "       0.12110071, 0.10709213, 0.09701984, 0.10039259, 0.1124532 ,\n",
       "       0.14851825, 0.09186465, 0.07431418, 0.08815989, 0.11469724,\n",
       "       0.10434338, 0.11096871, 0.08761457, 0.10841982, 0.09110276,\n",
       "       0.12444472, 0.08770575, 0.11088145, 0.12632078, 0.09324809,\n",
       "       0.13839969, 0.07237383, 0.10809358, 0.09987586, 0.1082755 ,\n",
       "       0.09321111, 0.09067456, 0.06210405, 0.08875481, 0.13050428,\n",
       "       0.06962966, 0.09320393, 0.10871487, 0.10026325, 0.11946248,\n",
       "       0.09646216, 0.05780571, 0.09708142, 0.10905308, 0.10451125,\n",
       "       0.10550703, 0.10872045, 0.11115398, 0.07711961, 0.12087916,\n",
       "       0.09256818, 0.08867368, 0.08403768, 0.08363624, 0.10187239,\n",
       "       0.1048537 , 0.08683788, 0.09936567, 0.10997633, 0.11213313,\n",
       "       0.08164683, 0.10080886, 0.09624831, 0.09810731, 0.11304978,\n",
       "       0.09644054, 0.07877084, 0.13870588, 0.10484183, 0.10840498,\n",
       "       0.08491345, 0.10357763, 0.13387327, 0.1030701 , 0.08407694,\n",
       "       0.0876162 , 0.09229902, 0.14219422, 0.11229737, 0.1042036 ,\n",
       "       0.102139  , 0.11006802, 0.1263615 , 0.11251554, 0.12591589,\n",
       "       0.12662205, 0.07934302, 0.0728653 , 0.10965804, 0.08516872,\n",
       "       0.07807006, 0.10255434, 0.11297329, 0.12890876, 0.13955785,\n",
       "       0.09243499, 0.1099943 , 0.10135779, 0.1060481 , 0.06691007,\n",
       "       0.10498312, 0.10288092, 0.07902109, 0.08279779, 0.10702459,\n",
       "       0.1113123 , 0.09340939, 0.09458682, 0.0939593 , 0.11674577,\n",
       "       0.09071288, 0.12911707, 0.10135566, 0.09004267, 0.1000086 ,\n",
       "       0.09743972, 0.11178618, 0.09977204, 0.10034606, 0.08795403,\n",
       "       0.05907532, 0.11197819, 0.07483095, 0.13145174, 0.13027919,\n",
       "       0.1094571 , 0.05671705, 0.09284211, 0.1033956 , 0.09659975,\n",
       "       0.10152765, 0.08980547, 0.10173145, 0.08783978, 0.09463786,\n",
       "       0.08267115, 0.08491441, 0.09128032, 0.06711412, 0.11391099,\n",
       "       0.08367134, 0.09778824, 0.12759806, 0.10891627, 0.10494317,\n",
       "       0.10630059, 0.07347354, 0.09343255, 0.10206544, 0.12358862,\n",
       "       0.08479702, 0.10364713, 0.1054278 , 0.07685814, 0.11613729,\n",
       "       0.09294461, 0.08046215, 0.09218089, 0.10006628, 0.08765216,\n",
       "       0.08987169, 0.12699729, 0.06202288, 0.11094227, 0.10665142,\n",
       "       0.09259769, 0.09503942, 0.09198331, 0.09407958, 0.08319347,\n",
       "       0.11441457, 0.11303029, 0.1067076 , 0.13228437, 0.08296764])"
      ]
     },
     "execution_count": 31,
     "metadata": {},
     "output_type": "execute_result"
    }
   ],
   "source": [
    "def standard_error(p, n):\n",
    "    return ((p * (1 - p)) / n) ** 0.5\n",
    "\n",
    "def sampling_distribution(p, n, samp_size=100, plot=True):\n",
    "    se = standard_error(p, n)\n",
    "    dist = np.random.normal(loc=p, scale=se, size=samp_size)\n",
    "    if plot:\n",
    "        plt.hist(dist)\n",
    "        plt.show()  \n",
    "    return dist\n",
    "\n",
    "sampling_distribution(0.1, 300, 300)"
   ]
  },
  {
   "cell_type": "markdown",
   "metadata": {},
   "source": []
  },
  {
   "cell_type": "markdown",
   "metadata": {},
   "source": []
  }
 ],
 "metadata": {
  "interpreter": {
   "hash": "bdc1c445b68446493975f0f4c1120652b32b7ff2d59b9297499b6aaef4c1ff08"
  },
  "kernelspec": {
   "display_name": "Python 3.9.7 64-bit ('base': conda)",
   "language": "python",
   "name": "python3"
  },
  "language_info": {
   "codemirror_mode": {
    "name": "ipython",
    "version": 3
   },
   "file_extension": ".py",
   "mimetype": "text/x-python",
   "name": "python",
   "nbconvert_exporter": "python",
   "pygments_lexer": "ipython3",
   "version": "3.9.7"
  },
  "orig_nbformat": 4
 },
 "nbformat": 4,
 "nbformat_minor": 2
}
