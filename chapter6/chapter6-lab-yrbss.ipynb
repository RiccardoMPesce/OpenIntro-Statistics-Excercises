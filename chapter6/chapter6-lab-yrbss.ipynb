{
 "cells": [
  {
   "cell_type": "markdown",
   "metadata": {},
   "source": [
    "# Laboratory - YRBSS\n",
    "\n",
    "## Getting Started\n",
    "\n",
    "### Load packages\n",
    "Let's load the relevant packages here."
   ]
  },
  {
   "cell_type": "code",
   "execution_count": 15,
   "metadata": {},
   "outputs": [],
   "source": [
    "import numpy as np\n",
    "import pandas as pd \n",
    "import matplotlib.pyplot as plt \n",
    "import seaborn as sns\n",
    "\n",
    "from scipy import stats \n",
    "\n",
    "from pathlib import Path"
   ]
  },
  {
   "cell_type": "markdown",
   "metadata": {},
   "source": [
    "Let's now import the data sample from the _YRBSS_."
   ]
  },
  {
   "cell_type": "code",
   "execution_count": 16,
   "metadata": {},
   "outputs": [
    {
     "data": {
      "text/html": [
       "<div>\n",
       "<style scoped>\n",
       "    .dataframe tbody tr th:only-of-type {\n",
       "        vertical-align: middle;\n",
       "    }\n",
       "\n",
       "    .dataframe tbody tr th {\n",
       "        vertical-align: top;\n",
       "    }\n",
       "\n",
       "    .dataframe thead th {\n",
       "        text-align: right;\n",
       "    }\n",
       "</style>\n",
       "<table border=\"1\" class=\"dataframe\">\n",
       "  <thead>\n",
       "    <tr style=\"text-align: right;\">\n",
       "      <th></th>\n",
       "      <th>age</th>\n",
       "      <th>gender</th>\n",
       "      <th>grade</th>\n",
       "      <th>hispanic</th>\n",
       "      <th>race</th>\n",
       "      <th>height</th>\n",
       "      <th>weight</th>\n",
       "      <th>helmet_12m</th>\n",
       "      <th>text_while_driving_30d</th>\n",
       "      <th>physically_active_7d</th>\n",
       "      <th>hours_tv_per_school_day</th>\n",
       "      <th>strength_training_7d</th>\n",
       "      <th>school_night_hours_sleep</th>\n",
       "    </tr>\n",
       "  </thead>\n",
       "  <tbody>\n",
       "    <tr>\n",
       "      <th>10570</th>\n",
       "      <td>18.0</td>\n",
       "      <td>male</td>\n",
       "      <td>12</td>\n",
       "      <td>hispanic</td>\n",
       "      <td>NaN</td>\n",
       "      <td>1.65</td>\n",
       "      <td>54.43</td>\n",
       "      <td>never</td>\n",
       "      <td>0</td>\n",
       "      <td>6.0</td>\n",
       "      <td>4</td>\n",
       "      <td>7.0</td>\n",
       "      <td>8</td>\n",
       "    </tr>\n",
       "    <tr>\n",
       "      <th>8492</th>\n",
       "      <td>16.0</td>\n",
       "      <td>female</td>\n",
       "      <td>10</td>\n",
       "      <td>not</td>\n",
       "      <td>White</td>\n",
       "      <td>1.65</td>\n",
       "      <td>79.38</td>\n",
       "      <td>never</td>\n",
       "      <td>1-2</td>\n",
       "      <td>5.0</td>\n",
       "      <td>3</td>\n",
       "      <td>0.0</td>\n",
       "      <td>6</td>\n",
       "    </tr>\n",
       "    <tr>\n",
       "      <th>12220</th>\n",
       "      <td>16.0</td>\n",
       "      <td>female</td>\n",
       "      <td>9</td>\n",
       "      <td>not</td>\n",
       "      <td>White</td>\n",
       "      <td>1.63</td>\n",
       "      <td>88.45</td>\n",
       "      <td>never</td>\n",
       "      <td>1-2</td>\n",
       "      <td>7.0</td>\n",
       "      <td>2</td>\n",
       "      <td>1.0</td>\n",
       "      <td>5</td>\n",
       "    </tr>\n",
       "    <tr>\n",
       "      <th>4951</th>\n",
       "      <td>14.0</td>\n",
       "      <td>male</td>\n",
       "      <td>9</td>\n",
       "      <td>not</td>\n",
       "      <td>Black or African American</td>\n",
       "      <td>NaN</td>\n",
       "      <td>NaN</td>\n",
       "      <td>did not ride</td>\n",
       "      <td>0</td>\n",
       "      <td>2.0</td>\n",
       "      <td>3</td>\n",
       "      <td>2.0</td>\n",
       "      <td>5</td>\n",
       "    </tr>\n",
       "    <tr>\n",
       "      <th>6338</th>\n",
       "      <td>17.0</td>\n",
       "      <td>male</td>\n",
       "      <td>11</td>\n",
       "      <td>not</td>\n",
       "      <td>NaN</td>\n",
       "      <td>1.83</td>\n",
       "      <td>68.04</td>\n",
       "      <td>did not ride</td>\n",
       "      <td>did not drive</td>\n",
       "      <td>1.0</td>\n",
       "      <td>5+</td>\n",
       "      <td>2.0</td>\n",
       "      <td>6</td>\n",
       "    </tr>\n",
       "  </tbody>\n",
       "</table>\n",
       "</div>"
      ],
      "text/plain": [
       "        age  gender grade  hispanic                       race  height  \\\n",
       "10570  18.0    male    12  hispanic                        NaN    1.65   \n",
       "8492   16.0  female    10       not                      White    1.65   \n",
       "12220  16.0  female     9       not                      White    1.63   \n",
       "4951   14.0    male     9       not  Black or African American     NaN   \n",
       "6338   17.0    male    11       not                        NaN    1.83   \n",
       "\n",
       "       weight    helmet_12m text_while_driving_30d  physically_active_7d  \\\n",
       "10570   54.43         never                      0                   6.0   \n",
       "8492    79.38         never                    1-2                   5.0   \n",
       "12220   88.45         never                    1-2                   7.0   \n",
       "4951      NaN  did not ride                      0                   2.0   \n",
       "6338    68.04  did not ride          did not drive                   1.0   \n",
       "\n",
       "      hours_tv_per_school_day  strength_training_7d school_night_hours_sleep  \n",
       "10570                       4                   7.0                        8  \n",
       "8492                        3                   0.0                        6  \n",
       "12220                       2                   1.0                        5  \n",
       "4951                        3                   2.0                        5  \n",
       "6338                       5+                   2.0                        6  "
      ]
     },
     "execution_count": 16,
     "metadata": {},
     "output_type": "execute_result"
    }
   ],
   "source": [
    "yrbss_path = Path(\"../datasets/yrbss.csv\")\n",
    "yrbss_df = pd.read_csv(yrbss_path)\n",
    "\n",
    "yrbss_df.sample(5)"
   ]
  },
  {
   "cell_type": "markdown",
   "metadata": {},
   "source": [
    "### Exercise 1 - What are the counts within each category for the amount of days these students have texted while driving within the past 30 days?"
   ]
  },
  {
   "cell_type": "code",
   "execution_count": 17,
   "metadata": {},
   "outputs": [
    {
     "data": {
      "text/plain": [
       "text_while_driving_30d\n",
       "0                4792\n",
       "1-2               925\n",
       "10-19             373\n",
       "20-29             298\n",
       "3-5               493\n",
       "30                827\n",
       "6-9               311\n",
       "did not drive    4646\n",
       "dtype: int64"
      ]
     },
     "execution_count": 17,
     "metadata": {},
     "output_type": "execute_result"
    }
   ],
   "source": [
    "yrbss_df.groupby(\"text_while_driving_30d\").size()"
   ]
  },
  {
   "cell_type": "markdown",
   "metadata": {},
   "source": [
    "### Exercise 2 - What is the proportion of people who have texted while driving every day in the past 30 days and never wear helmets?"
   ]
  },
  {
   "cell_type": "code",
   "execution_count": 18,
   "metadata": {},
   "outputs": [
    {
     "data": {
      "text/plain": [
       "0.3578738128543032"
      ]
     },
     "execution_count": 18,
     "metadata": {},
     "output_type": "execute_result"
    }
   ],
   "source": [
    "yrbss_df.loc[lambda df: (df[\"helmet_12m\"] == \"never\") & (df[\"text_while_driving_30d\"] != \"did not drive\")] \\\n",
    "        .shape[0] / yrbss_df.shape[0]"
   ]
  },
  {
   "cell_type": "markdown",
   "metadata": {},
   "source": [
    "Remember that you can use `.loc` to limit the dataset to just non-helmet wearers. Here, we will name the dataset `no_helmet`."
   ]
  },
  {
   "cell_type": "code",
   "execution_count": 19,
   "metadata": {},
   "outputs": [],
   "source": [
    "no_helmet = yrbss_df.loc[yrbss_df[\"helmet_12m\"] == \"never\", :]"
   ]
  },
  {
   "cell_type": "markdown",
   "metadata": {},
   "source": [
    "Also, it may be easier to calculate the proportion if you create a new variable that specifies whether the individual has texted every day while driving over the past 30 days or not. We will call this variable `text_ind`."
   ]
  },
  {
   "cell_type": "code",
   "execution_count": 27,
   "metadata": {},
   "outputs": [
    {
     "name": "stderr",
     "output_type": "stream",
     "text": [
      "/var/folders/q0/rm30f5ts21df3h5fwjfm81h00000gn/T/ipykernel_15355/3899172846.py:1: SettingWithCopyWarning: \n",
      "A value is trying to be set on a copy of a slice from a DataFrame.\n",
      "Try using .loc[row_indexer,col_indexer] = value instead\n",
      "\n",
      "See the caveats in the documentation: https://pandas.pydata.org/pandas-docs/stable/user_guide/indexing.html#returning-a-view-versus-a-copy\n",
      "  no_helmet[\"text_ind\"] = no_helmet.apply(lambda x: \"yes\" if x[\"text_while_driving_30d\"] == \"30\" else \"no\", axis=1)\n"
     ]
    },
    {
     "data": {
      "text/html": [
       "<div>\n",
       "<style scoped>\n",
       "    .dataframe tbody tr th:only-of-type {\n",
       "        vertical-align: middle;\n",
       "    }\n",
       "\n",
       "    .dataframe tbody tr th {\n",
       "        vertical-align: top;\n",
       "    }\n",
       "\n",
       "    .dataframe thead th {\n",
       "        text-align: right;\n",
       "    }\n",
       "</style>\n",
       "<table border=\"1\" class=\"dataframe\">\n",
       "  <thead>\n",
       "    <tr style=\"text-align: right;\">\n",
       "      <th></th>\n",
       "      <th>age</th>\n",
       "      <th>gender</th>\n",
       "      <th>grade</th>\n",
       "      <th>hispanic</th>\n",
       "      <th>race</th>\n",
       "      <th>height</th>\n",
       "      <th>weight</th>\n",
       "      <th>helmet_12m</th>\n",
       "      <th>text_while_driving_30d</th>\n",
       "      <th>physically_active_7d</th>\n",
       "      <th>hours_tv_per_school_day</th>\n",
       "      <th>strength_training_7d</th>\n",
       "      <th>school_night_hours_sleep</th>\n",
       "      <th>text_ind</th>\n",
       "    </tr>\n",
       "  </thead>\n",
       "  <tbody>\n",
       "    <tr>\n",
       "      <th>10002</th>\n",
       "      <td>16.0</td>\n",
       "      <td>female</td>\n",
       "      <td>10</td>\n",
       "      <td>not</td>\n",
       "      <td>American Indian or Alaska Native</td>\n",
       "      <td>1.52</td>\n",
       "      <td>41.73</td>\n",
       "      <td>never</td>\n",
       "      <td>did not drive</td>\n",
       "      <td>4.0</td>\n",
       "      <td>5+</td>\n",
       "      <td>0.0</td>\n",
       "      <td>5</td>\n",
       "      <td>no</td>\n",
       "    </tr>\n",
       "    <tr>\n",
       "      <th>7561</th>\n",
       "      <td>17.0</td>\n",
       "      <td>male</td>\n",
       "      <td>11</td>\n",
       "      <td>not</td>\n",
       "      <td>White</td>\n",
       "      <td>1.80</td>\n",
       "      <td>58.97</td>\n",
       "      <td>never</td>\n",
       "      <td>30</td>\n",
       "      <td>7.0</td>\n",
       "      <td>3</td>\n",
       "      <td>3.0</td>\n",
       "      <td>6</td>\n",
       "      <td>yes</td>\n",
       "    </tr>\n",
       "    <tr>\n",
       "      <th>4551</th>\n",
       "      <td>18.0</td>\n",
       "      <td>female</td>\n",
       "      <td>12</td>\n",
       "      <td>not</td>\n",
       "      <td>NaN</td>\n",
       "      <td>1.70</td>\n",
       "      <td>68.04</td>\n",
       "      <td>never</td>\n",
       "      <td>0</td>\n",
       "      <td>7.0</td>\n",
       "      <td>&lt;1</td>\n",
       "      <td>7.0</td>\n",
       "      <td>8</td>\n",
       "      <td>no</td>\n",
       "    </tr>\n",
       "    <tr>\n",
       "      <th>1658</th>\n",
       "      <td>14.0</td>\n",
       "      <td>female</td>\n",
       "      <td>9</td>\n",
       "      <td>not</td>\n",
       "      <td>Asian</td>\n",
       "      <td>1.45</td>\n",
       "      <td>45.36</td>\n",
       "      <td>never</td>\n",
       "      <td>did not drive</td>\n",
       "      <td>2.0</td>\n",
       "      <td>2</td>\n",
       "      <td>0.0</td>\n",
       "      <td>6</td>\n",
       "      <td>no</td>\n",
       "    </tr>\n",
       "    <tr>\n",
       "      <th>9166</th>\n",
       "      <td>17.0</td>\n",
       "      <td>female</td>\n",
       "      <td>11</td>\n",
       "      <td>hispanic</td>\n",
       "      <td>NaN</td>\n",
       "      <td>1.65</td>\n",
       "      <td>54.43</td>\n",
       "      <td>never</td>\n",
       "      <td>0</td>\n",
       "      <td>5.0</td>\n",
       "      <td>1</td>\n",
       "      <td>5.0</td>\n",
       "      <td>9</td>\n",
       "      <td>no</td>\n",
       "    </tr>\n",
       "  </tbody>\n",
       "</table>\n",
       "</div>"
      ],
      "text/plain": [
       "        age  gender grade  hispanic                              race  height  \\\n",
       "10002  16.0  female    10       not  American Indian or Alaska Native    1.52   \n",
       "7561   17.0    male    11       not                             White    1.80   \n",
       "4551   18.0  female    12       not                               NaN    1.70   \n",
       "1658   14.0  female     9       not                             Asian    1.45   \n",
       "9166   17.0  female    11  hispanic                               NaN    1.65   \n",
       "\n",
       "       weight helmet_12m text_while_driving_30d  physically_active_7d  \\\n",
       "10002   41.73      never          did not drive                   4.0   \n",
       "7561    58.97      never                     30                   7.0   \n",
       "4551    68.04      never                      0                   7.0   \n",
       "1658    45.36      never          did not drive                   2.0   \n",
       "9166    54.43      never                      0                   5.0   \n",
       "\n",
       "      hours_tv_per_school_day  strength_training_7d school_night_hours_sleep  \\\n",
       "10002                      5+                   0.0                        5   \n",
       "7561                        3                   3.0                        6   \n",
       "4551                       <1                   7.0                        8   \n",
       "1658                        2                   0.0                        6   \n",
       "9166                        1                   5.0                        9   \n",
       "\n",
       "      text_ind  \n",
       "10002       no  \n",
       "7561       yes  \n",
       "4551        no  \n",
       "1658        no  \n",
       "9166        no  "
      ]
     },
     "execution_count": 27,
     "metadata": {},
     "output_type": "execute_result"
    }
   ],
   "source": [
    "no_helmet[\"text_ind\"] = no_helmet.apply(lambda x: \"yes\" if x[\"text_while_driving_30d\"] == \"30\" else \"no\", axis=1)\n",
    "\n",
    "no_helmet.sample(5)"
   ]
  },
  {
   "cell_type": "markdown",
   "metadata": {},
   "source": [
    "## Inference on proportions\n",
    "\n",
    "When summarizing the YRBSS, the Centers for Disease Control and Prevention seeks insight into the population _parameters_. To do this, you can answer the question, “What proportion of people in your sample reported that they have texted while driving each day for the past 30 days?” with a statistic; while the question “What proportion of people on earth have texted while driving each day for the past 30 days?” is answered with an estimate of the parameter.\n",
    "\n",
    "The inferential tools for estimating population proportion are analogous to those used for means in the last chapter: the confidence interval and the hypothesis test."
   ]
  },
  {
   "cell_type": "code",
   "execution_count": 32,
   "metadata": {},
   "outputs": [
    {
     "data": {
      "text/plain": [
       "ConfidenceInterval(low=0.06034112082556973, high=0.07252759065500931)"
      ]
     },
     "execution_count": 32,
     "metadata": {},
     "output_type": "execute_result"
    }
   ],
   "source": [
    "res = stats.bootstrap((no_helmet[\"text_ind\"].map({\"yes\": 1, \"no\": 0}),),\n",
    "                       statistic=np.mean, \n",
    "                       confidence_level=0.95, \n",
    "                       n_resamples=1000,\n",
    "                       method=\"percentile\")\n",
    "\n",
    "res.confidence_interval"
   ]
  },
  {
   "cell_type": "markdown",
   "metadata": {},
   "source": [
    "### Excercise 3 - What is the margin of error for the estimate of the proportion of non-helmet wearers that have texted while driving each day for the past 30 days based on this survey?"
   ]
  },
  {
   "cell_type": "code",
   "execution_count": 34,
   "metadata": {},
   "outputs": [
    {
     "data": {
      "text/plain": [
       "0.006200895632995962"
      ]
     },
     "execution_count": 34,
     "metadata": {},
     "output_type": "execute_result"
    }
   ],
   "source": [
    "res.standard_error * 1.96"
   ]
  },
  {
   "cell_type": "markdown",
   "metadata": {},
   "source": [
    "### Exercise 4 - Calculate confidence intervals for two other categorical variables (you’ll need to decide which level to call “success”, and report the associated margins of error. Interpet the interval in context of the data. It may be helpful to create new data sets for each of the two countries first, and then use these data sets to construct the confidence intervals.\n",
    "\n",
    "We can check whether or not the sample individual was phisically active at least three times. Also, we can check whether or not he did strength training at least three times."
   ]
  },
  {
   "cell_type": "code",
   "execution_count": 42,
   "metadata": {},
   "outputs": [
    {
     "name": "stdout",
     "output_type": "stream",
     "text": [
      "Confidence interval is ConfidenceInterval(low=0.6477195759405139, high=0.6633291614518148) and margin of error is 0.007981023012333032\n",
      "Confidence interval is ConfidenceInterval(low=0.4672734300228226, high=0.48435544430538174) and margin of error is 0.008512303181469838\n"
     ]
    }
   ],
   "source": [
    "phy = (yrbss_df[\"physically_active_7d\"] >= 3).astype(int)\n",
    "strength = (yrbss_df[\"strength_training_7d\"] >= 3).astype(int)\n",
    "\n",
    "phy_res = stats.bootstrap((phy,),\n",
    "                           statistic=np.mean, \n",
    "                           confidence_level=0.95, \n",
    "                           n_resamples=1000,\n",
    "                           method=\"percentile\")\n",
    "\n",
    "strength_res = stats.bootstrap((strength,),\n",
    "                           statistic=np.mean, \n",
    "                           confidence_level=0.95, \n",
    "                           n_resamples=1000,\n",
    "                           method=\"percentile\")\n",
    "\n",
    "for res in (phy_res, strength_res):\n",
    "    print(f\"Confidence interval is {res.confidence_interval} and margin of error is {1.96 * res.standard_error}\")"
   ]
  },
  {
   "cell_type": "markdown",
   "metadata": {},
   "source": [
    "From the above result, we see that we can be 95% sure that the true proportion of physical active individuals is between 0.6477 and 0.6633, and that the true proportion of those who trained stength in the past seven days at least three times is between 0.4672 and 0.4844."
   ]
  },
  {
   "cell_type": "markdown",
   "metadata": {},
   "source": []
  }
 ],
 "metadata": {
  "interpreter": {
   "hash": "bdc1c445b68446493975f0f4c1120652b32b7ff2d59b9297499b6aaef4c1ff08"
  },
  "kernelspec": {
   "display_name": "Python 3.9.7 64-bit ('base': conda)",
   "language": "python",
   "name": "python3"
  },
  "language_info": {
   "codemirror_mode": {
    "name": "ipython",
    "version": 3
   },
   "file_extension": ".py",
   "mimetype": "text/x-python",
   "name": "python",
   "nbconvert_exporter": "python",
   "pygments_lexer": "ipython3",
   "version": "3.9.7"
  },
  "orig_nbformat": 4
 },
 "nbformat": 4,
 "nbformat_minor": 2
}
