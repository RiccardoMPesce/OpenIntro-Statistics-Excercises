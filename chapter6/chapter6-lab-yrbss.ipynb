{
 "cells": [
  {
   "cell_type": "markdown",
   "metadata": {},
   "source": [
    "# Laboratory - YRBSS\n",
    "\n",
    "## Getting Started\n",
    "\n",
    "### Load packages\n",
    "Let's load the relevant packages here."
   ]
  },
  {
   "cell_type": "code",
   "execution_count": 3,
   "metadata": {},
   "outputs": [],
   "source": [
    "import numpy as np\n",
    "import pandas as pd \n",
    "import matplotlib.pyplot as plt \n",
    "import seaborn as sns\n",
    "\n",
    "from scipy import stats \n",
    "\n",
    "from pathlib import Path"
   ]
  },
  {
   "cell_type": "markdown",
   "metadata": {},
   "source": [
    "Let's now import the data sample from the _YRBSS_."
   ]
  },
  {
   "cell_type": "code",
   "execution_count": 4,
   "metadata": {},
   "outputs": [
    {
     "data": {
      "text/html": [
       "<div>\n",
       "<style scoped>\n",
       "    .dataframe tbody tr th:only-of-type {\n",
       "        vertical-align: middle;\n",
       "    }\n",
       "\n",
       "    .dataframe tbody tr th {\n",
       "        vertical-align: top;\n",
       "    }\n",
       "\n",
       "    .dataframe thead th {\n",
       "        text-align: right;\n",
       "    }\n",
       "</style>\n",
       "<table border=\"1\" class=\"dataframe\">\n",
       "  <thead>\n",
       "    <tr style=\"text-align: right;\">\n",
       "      <th></th>\n",
       "      <th>age</th>\n",
       "      <th>gender</th>\n",
       "      <th>grade</th>\n",
       "      <th>hispanic</th>\n",
       "      <th>race</th>\n",
       "      <th>height</th>\n",
       "      <th>weight</th>\n",
       "      <th>helmet_12m</th>\n",
       "      <th>text_while_driving_30d</th>\n",
       "      <th>physically_active_7d</th>\n",
       "      <th>hours_tv_per_school_day</th>\n",
       "      <th>strength_training_7d</th>\n",
       "      <th>school_night_hours_sleep</th>\n",
       "    </tr>\n",
       "  </thead>\n",
       "  <tbody>\n",
       "    <tr>\n",
       "      <th>6683</th>\n",
       "      <td>17.0</td>\n",
       "      <td>male</td>\n",
       "      <td>12</td>\n",
       "      <td>not</td>\n",
       "      <td>White</td>\n",
       "      <td>1.85</td>\n",
       "      <td>70.31</td>\n",
       "      <td>never</td>\n",
       "      <td>0</td>\n",
       "      <td>3.0</td>\n",
       "      <td>1</td>\n",
       "      <td>4.0</td>\n",
       "      <td>8</td>\n",
       "    </tr>\n",
       "    <tr>\n",
       "      <th>2957</th>\n",
       "      <td>15.0</td>\n",
       "      <td>male</td>\n",
       "      <td>9</td>\n",
       "      <td>not</td>\n",
       "      <td>White</td>\n",
       "      <td>1.78</td>\n",
       "      <td>88.45</td>\n",
       "      <td>never</td>\n",
       "      <td>NaN</td>\n",
       "      <td>6.0</td>\n",
       "      <td>1</td>\n",
       "      <td>6.0</td>\n",
       "      <td>8</td>\n",
       "    </tr>\n",
       "    <tr>\n",
       "      <th>513</th>\n",
       "      <td>16.0</td>\n",
       "      <td>female</td>\n",
       "      <td>10</td>\n",
       "      <td>hispanic</td>\n",
       "      <td>White</td>\n",
       "      <td>1.63</td>\n",
       "      <td>65.77</td>\n",
       "      <td>never</td>\n",
       "      <td>0</td>\n",
       "      <td>4.0</td>\n",
       "      <td>5+</td>\n",
       "      <td>4.0</td>\n",
       "      <td>6</td>\n",
       "    </tr>\n",
       "    <tr>\n",
       "      <th>3828</th>\n",
       "      <td>17.0</td>\n",
       "      <td>male</td>\n",
       "      <td>11</td>\n",
       "      <td>not</td>\n",
       "      <td>White</td>\n",
       "      <td>1.85</td>\n",
       "      <td>68.04</td>\n",
       "      <td>did not ride</td>\n",
       "      <td>did not drive</td>\n",
       "      <td>3.0</td>\n",
       "      <td>2</td>\n",
       "      <td>3.0</td>\n",
       "      <td>&lt;5</td>\n",
       "    </tr>\n",
       "    <tr>\n",
       "      <th>1290</th>\n",
       "      <td>17.0</td>\n",
       "      <td>male</td>\n",
       "      <td>11</td>\n",
       "      <td>not</td>\n",
       "      <td>White</td>\n",
       "      <td>1.78</td>\n",
       "      <td>65.77</td>\n",
       "      <td>never</td>\n",
       "      <td>0</td>\n",
       "      <td>3.0</td>\n",
       "      <td>&lt;1</td>\n",
       "      <td>0.0</td>\n",
       "      <td>8</td>\n",
       "    </tr>\n",
       "  </tbody>\n",
       "</table>\n",
       "</div>"
      ],
      "text/plain": [
       "       age  gender grade  hispanic   race  height  weight    helmet_12m  \\\n",
       "6683  17.0    male    12       not  White    1.85   70.31         never   \n",
       "2957  15.0    male     9       not  White    1.78   88.45         never   \n",
       "513   16.0  female    10  hispanic  White    1.63   65.77         never   \n",
       "3828  17.0    male    11       not  White    1.85   68.04  did not ride   \n",
       "1290  17.0    male    11       not  White    1.78   65.77         never   \n",
       "\n",
       "     text_while_driving_30d  physically_active_7d hours_tv_per_school_day  \\\n",
       "6683                      0                   3.0                       1   \n",
       "2957                    NaN                   6.0                       1   \n",
       "513                       0                   4.0                      5+   \n",
       "3828          did not drive                   3.0                       2   \n",
       "1290                      0                   3.0                      <1   \n",
       "\n",
       "      strength_training_7d school_night_hours_sleep  \n",
       "6683                   4.0                        8  \n",
       "2957                   6.0                        8  \n",
       "513                    4.0                        6  \n",
       "3828                   3.0                       <5  \n",
       "1290                   0.0                        8  "
      ]
     },
     "execution_count": 4,
     "metadata": {},
     "output_type": "execute_result"
    }
   ],
   "source": [
    "yrbss_path = Path(\"../datasets/yrbss.csv\")\n",
    "yrbss_df = pd.read_csv(yrbss_path)\n",
    "\n",
    "yrbss_df.sample(5)"
   ]
  },
  {
   "cell_type": "markdown",
   "metadata": {},
   "source": [
    "### Exercise 1 - What are the counts within each category for the amount of days these students have texted while driving within the past 30 days?"
   ]
  },
  {
   "cell_type": "code",
   "execution_count": 5,
   "metadata": {},
   "outputs": [
    {
     "data": {
      "text/plain": [
       "text_while_driving_30d\n",
       "0                4792\n",
       "1-2               925\n",
       "10-19             373\n",
       "20-29             298\n",
       "3-5               493\n",
       "30                827\n",
       "6-9               311\n",
       "did not drive    4646\n",
       "dtype: int64"
      ]
     },
     "execution_count": 5,
     "metadata": {},
     "output_type": "execute_result"
    }
   ],
   "source": [
    "yrbss_df.groupby(\"text_while_driving_30d\").size()"
   ]
  },
  {
   "cell_type": "markdown",
   "metadata": {},
   "source": [
    "### Exercise 2 - What is the proportion of people who have texted while driving every day in the past 30 days and never wear helmets?"
   ]
  },
  {
   "cell_type": "code",
   "execution_count": 6,
   "metadata": {},
   "outputs": [
    {
     "data": {
      "text/plain": [
       "0.3578738128543032"
      ]
     },
     "execution_count": 6,
     "metadata": {},
     "output_type": "execute_result"
    }
   ],
   "source": [
    "yrbss_df.loc[lambda df: (df[\"helmet_12m\"] == \"never\") & (df[\"text_while_driving_30d\"] != \"did not drive\")] \\\n",
    "        .shape[0] / yrbss_df.shape[0]"
   ]
  },
  {
   "cell_type": "markdown",
   "metadata": {},
   "source": [
    "Remember that you can use `.loc` to limit the dataset to just non-helmet wearers. Here, we will name the dataset `no_helmet`."
   ]
  },
  {
   "cell_type": "code",
   "execution_count": 7,
   "metadata": {},
   "outputs": [],
   "source": [
    "no_helmet = yrbss_df.loc[yrbss_df[\"helmet_12m\"] == \"never\", :]"
   ]
  },
  {
   "cell_type": "markdown",
   "metadata": {},
   "source": [
    "Also, it may be easier to calculate the proportion if you create a new variable that specifies whether the individual has texted every day while driving over the past 30 days or not. We will call this variable `text_ind`."
   ]
  },
  {
   "cell_type": "code",
   "execution_count": 8,
   "metadata": {},
   "outputs": [
    {
     "name": "stderr",
     "output_type": "stream",
     "text": [
      "/var/folders/q0/rm30f5ts21df3h5fwjfm81h00000gn/T/ipykernel_14949/3899172846.py:1: SettingWithCopyWarning: \n",
      "A value is trying to be set on a copy of a slice from a DataFrame.\n",
      "Try using .loc[row_indexer,col_indexer] = value instead\n",
      "\n",
      "See the caveats in the documentation: https://pandas.pydata.org/pandas-docs/stable/user_guide/indexing.html#returning-a-view-versus-a-copy\n",
      "  no_helmet[\"text_ind\"] = no_helmet.apply(lambda x: \"yes\" if x[\"text_while_driving_30d\"] == \"30\" else \"no\", axis=1)\n"
     ]
    },
    {
     "data": {
      "text/html": [
       "<div>\n",
       "<style scoped>\n",
       "    .dataframe tbody tr th:only-of-type {\n",
       "        vertical-align: middle;\n",
       "    }\n",
       "\n",
       "    .dataframe tbody tr th {\n",
       "        vertical-align: top;\n",
       "    }\n",
       "\n",
       "    .dataframe thead th {\n",
       "        text-align: right;\n",
       "    }\n",
       "</style>\n",
       "<table border=\"1\" class=\"dataframe\">\n",
       "  <thead>\n",
       "    <tr style=\"text-align: right;\">\n",
       "      <th></th>\n",
       "      <th>age</th>\n",
       "      <th>gender</th>\n",
       "      <th>grade</th>\n",
       "      <th>hispanic</th>\n",
       "      <th>race</th>\n",
       "      <th>height</th>\n",
       "      <th>weight</th>\n",
       "      <th>helmet_12m</th>\n",
       "      <th>text_while_driving_30d</th>\n",
       "      <th>physically_active_7d</th>\n",
       "      <th>hours_tv_per_school_day</th>\n",
       "      <th>strength_training_7d</th>\n",
       "      <th>school_night_hours_sleep</th>\n",
       "      <th>text_ind</th>\n",
       "    </tr>\n",
       "  </thead>\n",
       "  <tbody>\n",
       "    <tr>\n",
       "      <th>7460</th>\n",
       "      <td>17.0</td>\n",
       "      <td>male</td>\n",
       "      <td>12</td>\n",
       "      <td>not</td>\n",
       "      <td>White</td>\n",
       "      <td>1.85</td>\n",
       "      <td>99.79</td>\n",
       "      <td>never</td>\n",
       "      <td>30</td>\n",
       "      <td>7.0</td>\n",
       "      <td>2</td>\n",
       "      <td>7.0</td>\n",
       "      <td>9</td>\n",
       "      <td>yes</td>\n",
       "    </tr>\n",
       "    <tr>\n",
       "      <th>9667</th>\n",
       "      <td>14.0</td>\n",
       "      <td>male</td>\n",
       "      <td>9</td>\n",
       "      <td>not</td>\n",
       "      <td>White</td>\n",
       "      <td>1.88</td>\n",
       "      <td>61.24</td>\n",
       "      <td>never</td>\n",
       "      <td>did not drive</td>\n",
       "      <td>7.0</td>\n",
       "      <td>&lt;1</td>\n",
       "      <td>7.0</td>\n",
       "      <td>7</td>\n",
       "      <td>no</td>\n",
       "    </tr>\n",
       "    <tr>\n",
       "      <th>7495</th>\n",
       "      <td>15.0</td>\n",
       "      <td>male</td>\n",
       "      <td>10</td>\n",
       "      <td>not</td>\n",
       "      <td>White</td>\n",
       "      <td>1.93</td>\n",
       "      <td>93.90</td>\n",
       "      <td>never</td>\n",
       "      <td>0</td>\n",
       "      <td>6.0</td>\n",
       "      <td>&lt;1</td>\n",
       "      <td>2.0</td>\n",
       "      <td>7</td>\n",
       "      <td>no</td>\n",
       "    </tr>\n",
       "    <tr>\n",
       "      <th>11919</th>\n",
       "      <td>18.0</td>\n",
       "      <td>female</td>\n",
       "      <td>12</td>\n",
       "      <td>hispanic</td>\n",
       "      <td>NaN</td>\n",
       "      <td>1.55</td>\n",
       "      <td>44.00</td>\n",
       "      <td>never</td>\n",
       "      <td>did not drive</td>\n",
       "      <td>7.0</td>\n",
       "      <td>&lt;1</td>\n",
       "      <td>5.0</td>\n",
       "      <td>6</td>\n",
       "      <td>no</td>\n",
       "    </tr>\n",
       "    <tr>\n",
       "      <th>21</th>\n",
       "      <td>15.0</td>\n",
       "      <td>female</td>\n",
       "      <td>10</td>\n",
       "      <td>not</td>\n",
       "      <td>Black or African American</td>\n",
       "      <td>1.52</td>\n",
       "      <td>79.83</td>\n",
       "      <td>never</td>\n",
       "      <td>0</td>\n",
       "      <td>4.0</td>\n",
       "      <td>1</td>\n",
       "      <td>3.0</td>\n",
       "      <td>8</td>\n",
       "      <td>no</td>\n",
       "    </tr>\n",
       "  </tbody>\n",
       "</table>\n",
       "</div>"
      ],
      "text/plain": [
       "        age  gender grade  hispanic                       race  height  \\\n",
       "7460   17.0    male    12       not                      White    1.85   \n",
       "9667   14.0    male     9       not                      White    1.88   \n",
       "7495   15.0    male    10       not                      White    1.93   \n",
       "11919  18.0  female    12  hispanic                        NaN    1.55   \n",
       "21     15.0  female    10       not  Black or African American    1.52   \n",
       "\n",
       "       weight helmet_12m text_while_driving_30d  physically_active_7d  \\\n",
       "7460    99.79      never                     30                   7.0   \n",
       "9667    61.24      never          did not drive                   7.0   \n",
       "7495    93.90      never                      0                   6.0   \n",
       "11919   44.00      never          did not drive                   7.0   \n",
       "21      79.83      never                      0                   4.0   \n",
       "\n",
       "      hours_tv_per_school_day  strength_training_7d school_night_hours_sleep  \\\n",
       "7460                        2                   7.0                        9   \n",
       "9667                       <1                   7.0                        7   \n",
       "7495                       <1                   2.0                        7   \n",
       "11919                      <1                   5.0                        6   \n",
       "21                          1                   3.0                        8   \n",
       "\n",
       "      text_ind  \n",
       "7460       yes  \n",
       "9667        no  \n",
       "7495        no  \n",
       "11919       no  \n",
       "21          no  "
      ]
     },
     "execution_count": 8,
     "metadata": {},
     "output_type": "execute_result"
    }
   ],
   "source": [
    "no_helmet[\"text_ind\"] = no_helmet.apply(lambda x: \"yes\" if x[\"text_while_driving_30d\"] == \"30\" else \"no\", axis=1)\n",
    "\n",
    "no_helmet.sample(5)"
   ]
  },
  {
   "cell_type": "markdown",
   "metadata": {},
   "source": [
    "## Inference on proportions\n",
    "\n",
    "When summarizing the YRBSS, the Centers for Disease Control and Prevention seeks insight into the population _parameters_. To do this, you can answer the question, “What proportion of people in your sample reported that they have texted while driving each day for the past 30 days?” with a statistic; while the question “What proportion of people on earth have texted while driving each day for the past 30 days?” is answered with an estimate of the parameter.\n",
    "\n",
    "The inferential tools for estimating population proportion are analogous to those used for means in the last chapter: the confidence interval and the hypothesis test."
   ]
  },
  {
   "cell_type": "code",
   "execution_count": 9,
   "metadata": {},
   "outputs": [
    {
     "data": {
      "text/plain": [
       "ConfidenceInterval(low=0.060484448903540204, high=0.07223652551632616)"
      ]
     },
     "execution_count": 9,
     "metadata": {},
     "output_type": "execute_result"
    }
   ],
   "source": [
    "res = stats.bootstrap((no_helmet[\"text_ind\"].map({\"yes\": 1, \"no\": 0}),),\n",
    "                       statistic=np.mean, \n",
    "                       confidence_level=0.95, \n",
    "                       n_resamples=1000)\n",
    "\n",
    "res.confidence_interval"
   ]
  },
  {
   "cell_type": "markdown",
   "metadata": {},
   "source": [
    "### Excercise 3 - What is the margin of error for the estimate of the proportion of non-helmet wearers that have texted while driving each day for the past 30 days based on this survey?"
   ]
  },
  {
   "cell_type": "code",
   "execution_count": 10,
   "metadata": {},
   "outputs": [
    {
     "data": {
      "text/plain": [
       "0.005896645135359669"
      ]
     },
     "execution_count": 10,
     "metadata": {},
     "output_type": "execute_result"
    }
   ],
   "source": [
    "res.standard_error * 1.96"
   ]
  },
  {
   "cell_type": "markdown",
   "metadata": {},
   "source": [
    "### Exercise 4 - Calculate confidence intervals for two other categorical variables (you’ll need to decide which level to call “success”, and report the associated margins of error. Interpet the interval in context of the data. It may be helpful to create new data sets for each of the two countries first, and then use these data sets to construct the confidence intervals.\n",
    "\n",
    "We can check whether or not the sample individual was phisically active at least three times. Also, we can check whether or not he did strength training at least three times."
   ]
  },
  {
   "cell_type": "code",
   "execution_count": 11,
   "metadata": {},
   "outputs": [
    {
     "name": "stdout",
     "output_type": "stream",
     "text": [
      "Confidence interval is ConfidenceInterval(low=0.6471294870996354, high=0.6636828752596597) and margin of error is 0.008040126842488346\n",
      "Confidence interval is ConfidenceInterval(low=0.46786424206729, high=0.48432589322805386) and margin of error is 0.008298022680323725\n"
     ]
    }
   ],
   "source": [
    "phy = (yrbss_df[\"physically_active_7d\"] >= 3).astype(int)\n",
    "strength = (yrbss_df[\"strength_training_7d\"] >= 3).astype(int)\n",
    "\n",
    "phy_res = stats.bootstrap((phy,),\n",
    "                           statistic=np.mean, \n",
    "                           confidence_level=0.95, \n",
    "                           n_resamples=1000)\n",
    "\n",
    "strength_res = stats.bootstrap((strength,),\n",
    "                           statistic=np.mean, \n",
    "                           confidence_level=0.95, \n",
    "                           n_resamples=1000)\n",
    "\n",
    "for res in (phy_res, strength_res):\n",
    "    print(f\"Confidence interval is {res.confidence_interval} and margin of error is {1.96 * res.standard_error}\")"
   ]
  },
  {
   "cell_type": "markdown",
   "metadata": {},
   "source": [
    "From the above result, we see that we can be 95% sure that the true proportion of physical active individuals is between 0.6477 and 0.6633, and that the true proportion of those who trained stength in the past seven days at least three times is between 0.4672 and 0.4844."
   ]
  },
  {
   "cell_type": "markdown",
   "metadata": {},
   "source": [
    "## How does the proportion affect the margin of error?\n",
    "\n",
    "Imagine you’ve set out to survey 1000 people on two questions: are you at least 6-feet tall? and are you left-handed? Since both of these sample proportions were calculated from the same sample size, they should have the same margin of error, right? Wrong! While the margin of error does change with sample size, it is also affected by the proportion.\n",
    "\n",
    "Think back to the formula for the standard error: $SE = \\sqrt{\\frac{p(1 - p)}{n}}$. This is then used in the formula for the margin of error for a 95% confidence interval:\n",
    "$$\n",
    "ME = 1.96 \\times SE = 1.96 \\times \\sqrt{\\frac{p(1 - p)}{n}}\n",
    "$$\n",
    "\n",
    "Since the population proportion $p$ is in this $ME$ formula, it should make sense that the margin of error is in some way dependent on the population proportion. We can visualize this relationship by creating a plot of $ME$ vs. $p$.\n",
    "\n",
    "Since sample size is irrelevant to this discussion, let’s just set it to some value ($n = 1000$) and use this value in the following calculations:"
   ]
  },
  {
   "cell_type": "code",
   "execution_count": 12,
   "metadata": {},
   "outputs": [],
   "source": [
    "n = 1000"
   ]
  },
  {
   "cell_type": "markdown",
   "metadata": {},
   "source": [
    "The first step is to make a variable `p` that is a sequence from 0 to 1 with each number incremented by 0.01. You can then create a variable of the margin of error (`me`) associated with each of these values of `p` using the familiar approximate formula ($ME = 2 \\times SE$)."
   ]
  },
  {
   "cell_type": "code",
   "execution_count": 17,
   "metadata": {},
   "outputs": [],
   "source": [
    "p = np.arange(0, 1.01, 0.01)\n",
    "me = 2 * np.sqrt((p * (1 - p)) / n)"
   ]
  },
  {
   "cell_type": "markdown",
   "metadata": {},
   "source": [
    "Lastly, you can plot the two variables against each other to reveal their relationship."
   ]
  },
  {
   "cell_type": "code",
   "execution_count": 25,
   "metadata": {},
   "outputs": [
    {
     "data": {
      "text/plain": [
       "[]"
      ]
     },
     "execution_count": 25,
     "metadata": {},
     "output_type": "execute_result"
    },
    {
     "data": {
      "image/png": "[encoded data removed]",
      "text/plain": [
       "<Figure size 432x288 with 1 Axes>"
      ]
     },
     "metadata": {},
     "output_type": "display_data"
    }
   ],
   "source": [
    "dd = pd.DataFrame({\"p\": p, \"me\": me})\n",
    "\n",
    "sns.set_theme()\n",
    "\n",
    "sns.lineplot(data=dd, x=\"p\", y=\"me\")\n",
    "plt.xlabel(\"Population proportion\")\n",
    "plt.ylabel(\"Margin of error\")\n",
    "plt.plot()"
   ]
  },
  {
   "cell_type": "markdown",
   "metadata": {},
   "source": [
    "### Exercise 5 - Describe the relationship between `p` and `me`. Include the margin of error vs. population proportion plot you constructed in your answer. For a given sample size, for which value of `p` is margin of error maximized?\n",
    "\n",
    "It seems that when the `p` approaches 0.5, we have a maximum margin of error, while if `p` is close to 0 or 1, we have the lowest margin of error. It looks like a bell-shape. If $p = 0.5$ we have the greatest margin of error."
   ]
  },
  {
   "cell_type": "markdown",
   "metadata": {},
   "source": [
    "## Success-failure condition\n",
    "\n",
    "We have emphasized that you must always check conditions before making inference. For inference on proportions, the sample proportion can be assumed to be nearly normal if it is based upon a random sample of independent observations and if both $n \\ge 10$ and $n(1−p) \\ge 10$. This rule of thumb is easy enough to follow, but it makes you wonder: what’s so special about the number 10?\n",
    "\n",
    "The short answer is: nothing. You could argue that you would be fine with 9 or that you really should be using $11$. What is the “best” value for such a rule of thumb is, at least to some degree, arbitrary. However, when $np$ and $n(1 − p)$ reaches 10 the sampling distribution is sufficiently normal to use confidence intervals and hypothesis tests that are based on that approximation.\n",
    "\n",
    "You can investigate the interplay between $n$ and $p$ and the shape of the sampling distribution by using simulations. Play around with the following app to investigate how the shape, center, and spread of the distribution of $\\hat{p}$ changes as $n$ and $p$ changes."
   ]
  },
  {
   "cell_type": "markdown",
   "metadata": {},
   "source": [
    "### Exercise 6 - Describe the sampling distribution of sample proportions at $n=300$ and $p=0.1$. Be sure to note the center, spread, and shape.\n",
    "\n",
    "We have $SE = 0.02$."
   ]
  },
  {
   "cell_type": "code",
   "execution_count": 56,
   "metadata": {},
   "outputs": [
    {
     "data": {
      "text/plain": [
       "array([1, 1, 1, 1, 1, 1, 1, 1, 1, 1, 1, 1, 1, 1, 1, 1, 1, 1, 1, 1, 1, 1,\n",
       "       1, 1, 1, 1, 1, 1, 1, 1, 0, 0, 0, 0, 0, 0, 0, 0, 0, 0, 0, 0, 0, 0,\n",
       "       0, 0, 0, 0, 0, 0, 0, 0, 0, 0, 0, 0, 0, 0, 0, 0, 0, 0, 0, 0, 0, 0,\n",
       "       0, 0, 0, 0, 0, 0, 0, 0, 0, 0, 0, 0, 0, 0, 0, 0, 0, 0, 0, 0, 0, 0,\n",
       "       0, 0, 0, 0, 0, 0, 0, 0, 0, 0, 0, 0, 0, 0, 0, 0, 0, 0, 0, 0, 0, 0,\n",
       "       0, 0, 0, 0, 0, 0, 0, 0, 0, 0, 0, 0, 0, 0, 0, 0, 0, 0, 0, 0, 0, 0,\n",
       "       0, 0, 0, 0, 0, 0, 0, 0, 0, 0, 0, 0, 0, 0, 0, 0, 0, 0, 0, 0, 0, 0,\n",
       "       0, 0, 0, 0, 0, 0, 0, 0, 0, 0, 0, 0, 0, 0, 0, 0, 0, 0, 0, 0, 0, 0,\n",
       "       0, 0, 0, 0, 0, 0, 0, 0, 0, 0, 0, 0, 0, 0, 0, 0, 0, 0, 0, 0, 0, 0,\n",
       "       0, 0, 0, 0, 0, 0, 0, 0, 0, 0, 0, 0, 0, 0, 0, 0, 0, 0, 0, 0, 0, 0,\n",
       "       0, 0, 0, 0, 0, 0, 0, 0, 0, 0, 0, 0, 0, 0, 0, 0, 0, 0, 0, 0, 0, 0,\n",
       "       0, 0, 0, 0, 0, 0, 0, 0, 0, 0, 0, 0, 0, 0, 0, 0, 0, 0, 0, 0, 0, 0,\n",
       "       0, 0, 0, 0, 0, 0, 0, 0, 0, 0, 0, 0, 0, 0, 0, 0, 0, 0, 0, 0, 0, 0,\n",
       "       0, 0, 0, 0, 0, 0, 0, 0, 0, 0, 0, 0, 0, 0])"
      ]
     },
     "execution_count": 56,
     "metadata": {},
     "output_type": "execute_result"
    }
   ],
   "source": [
    "def standard_error(p, n):\n",
    "    return ((p * (1 - p)) / n) ** 0.5\n",
    "\n",
    "def sampling_distribution(p, n):\n",
    "    a = np.array([1] * int(p * n) + [0] * int((1 - p) * n))\n",
    "    return a\n",
    "\n",
    "sampling_distribution(0.1, 300)"
   ]
  },
  {
   "cell_type": "markdown",
   "metadata": {},
   "source": []
  },
  {
   "cell_type": "markdown",
   "metadata": {},
   "source": []
  }
 ],
 "metadata": {
  "interpreter": {
   "hash": "bdc1c445b68446493975f0f4c1120652b32b7ff2d59b9297499b6aaef4c1ff08"
  },
  "kernelspec": {
   "display_name": "Python 3.9.7 64-bit ('base': conda)",
   "language": "python",
   "name": "python3"
  },
  "language_info": {
   "codemirror_mode": {
    "name": "ipython",
    "version": 3
   },
   "file_extension": ".py",
   "mimetype": "text/x-python",
   "name": "python",
   "nbconvert_exporter": "python",
   "pygments_lexer": "ipython3",
   "version": "3.9.7"
  },
  "orig_nbformat": 4
 },
 "nbformat": 4,
 "nbformat_minor": 2
}
