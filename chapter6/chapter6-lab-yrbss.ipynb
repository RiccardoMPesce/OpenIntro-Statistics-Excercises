{
 "cells": [
  {
   "cell_type": "markdown",
   "metadata": {},
   "source": [
    "# Laboratory - YRBSS\n",
    "\n",
    "## Getting Started\n",
    "\n",
    "### Load packages\n",
    "Let's load the relevant packages here."
   ]
  },
  {
   "cell_type": "code",
   "execution_count": 2,
   "metadata": {},
   "outputs": [],
   "source": [
    "import numpy as np\n",
    "import pandas as pd \n",
    "import matplotlib.pyplot as plt \n",
    "import seaborn as sns\n",
    "\n",
    "from scipy import stats \n",
    "\n",
    "from pathlib import Path"
   ]
  },
  {
   "cell_type": "markdown",
   "metadata": {},
   "source": [
    "Let's now import the data sample from the _YRBSS_."
   ]
  },
  {
   "cell_type": "code",
   "execution_count": 3,
   "metadata": {},
   "outputs": [
    {
     "data": {
      "text/html": [
       "<div>\n",
       "<style scoped>\n",
       "    .dataframe tbody tr th:only-of-type {\n",
       "        vertical-align: middle;\n",
       "    }\n",
       "\n",
       "    .dataframe tbody tr th {\n",
       "        vertical-align: top;\n",
       "    }\n",
       "\n",
       "    .dataframe thead th {\n",
       "        text-align: right;\n",
       "    }\n",
       "</style>\n",
       "<table border=\"1\" class=\"dataframe\">\n",
       "  <thead>\n",
       "    <tr style=\"text-align: right;\">\n",
       "      <th></th>\n",
       "      <th>age</th>\n",
       "      <th>gender</th>\n",
       "      <th>grade</th>\n",
       "      <th>hispanic</th>\n",
       "      <th>race</th>\n",
       "      <th>height</th>\n",
       "      <th>weight</th>\n",
       "      <th>helmet_12m</th>\n",
       "      <th>text_while_driving_30d</th>\n",
       "      <th>physically_active_7d</th>\n",
       "      <th>hours_tv_per_school_day</th>\n",
       "      <th>strength_training_7d</th>\n",
       "      <th>school_night_hours_sleep</th>\n",
       "    </tr>\n",
       "  </thead>\n",
       "  <tbody>\n",
       "    <tr>\n",
       "      <th>12631</th>\n",
       "      <td>17.0</td>\n",
       "      <td>female</td>\n",
       "      <td>12</td>\n",
       "      <td>hispanic</td>\n",
       "      <td>NaN</td>\n",
       "      <td>1.60</td>\n",
       "      <td>47.63</td>\n",
       "      <td>did not ride</td>\n",
       "      <td>did not drive</td>\n",
       "      <td>0.0</td>\n",
       "      <td>2</td>\n",
       "      <td>0.0</td>\n",
       "      <td>7</td>\n",
       "    </tr>\n",
       "    <tr>\n",
       "      <th>5341</th>\n",
       "      <td>14.0</td>\n",
       "      <td>female</td>\n",
       "      <td>9</td>\n",
       "      <td>not</td>\n",
       "      <td>White</td>\n",
       "      <td>1.55</td>\n",
       "      <td>54.89</td>\n",
       "      <td>never</td>\n",
       "      <td>NaN</td>\n",
       "      <td>5.0</td>\n",
       "      <td>&lt;1</td>\n",
       "      <td>3.0</td>\n",
       "      <td>5</td>\n",
       "    </tr>\n",
       "    <tr>\n",
       "      <th>4844</th>\n",
       "      <td>14.0</td>\n",
       "      <td>male</td>\n",
       "      <td>9</td>\n",
       "      <td>not</td>\n",
       "      <td>Black or African American</td>\n",
       "      <td>1.80</td>\n",
       "      <td>60.33</td>\n",
       "      <td>did not ride</td>\n",
       "      <td>0</td>\n",
       "      <td>3.0</td>\n",
       "      <td>4</td>\n",
       "      <td>1.0</td>\n",
       "      <td>6</td>\n",
       "    </tr>\n",
       "    <tr>\n",
       "      <th>8912</th>\n",
       "      <td>17.0</td>\n",
       "      <td>female</td>\n",
       "      <td>11</td>\n",
       "      <td>not</td>\n",
       "      <td>White</td>\n",
       "      <td>1.73</td>\n",
       "      <td>91.63</td>\n",
       "      <td>never</td>\n",
       "      <td>1-2</td>\n",
       "      <td>4.0</td>\n",
       "      <td>do not watch</td>\n",
       "      <td>4.0</td>\n",
       "      <td>10+</td>\n",
       "    </tr>\n",
       "    <tr>\n",
       "      <th>12024</th>\n",
       "      <td>NaN</td>\n",
       "      <td>male</td>\n",
       "      <td>NaN</td>\n",
       "      <td>NaN</td>\n",
       "      <td>NaN</td>\n",
       "      <td>NaN</td>\n",
       "      <td>NaN</td>\n",
       "      <td>NaN</td>\n",
       "      <td>1-2</td>\n",
       "      <td>5.0</td>\n",
       "      <td>2</td>\n",
       "      <td>5.0</td>\n",
       "      <td>5</td>\n",
       "    </tr>\n",
       "  </tbody>\n",
       "</table>\n",
       "</div>"
      ],
      "text/plain": [
       "        age  gender grade  hispanic                       race  height  \\\n",
       "12631  17.0  female    12  hispanic                        NaN    1.60   \n",
       "5341   14.0  female     9       not                      White    1.55   \n",
       "4844   14.0    male     9       not  Black or African American    1.80   \n",
       "8912   17.0  female    11       not                      White    1.73   \n",
       "12024   NaN    male   NaN       NaN                        NaN     NaN   \n",
       "\n",
       "       weight    helmet_12m text_while_driving_30d  physically_active_7d  \\\n",
       "12631   47.63  did not ride          did not drive                   0.0   \n",
       "5341    54.89         never                    NaN                   5.0   \n",
       "4844    60.33  did not ride                      0                   3.0   \n",
       "8912    91.63         never                    1-2                   4.0   \n",
       "12024     NaN           NaN                    1-2                   5.0   \n",
       "\n",
       "      hours_tv_per_school_day  strength_training_7d school_night_hours_sleep  \n",
       "12631                       2                   0.0                        7  \n",
       "5341                       <1                   3.0                        5  \n",
       "4844                        4                   1.0                        6  \n",
       "8912             do not watch                   4.0                      10+  \n",
       "12024                       2                   5.0                        5  "
      ]
     },
     "execution_count": 3,
     "metadata": {},
     "output_type": "execute_result"
    }
   ],
   "source": [
    "yrbss_path = Path(\"../datasets/yrbss.csv\")\n",
    "yrbss_df = pd.read_csv(yrbss_path)\n",
    "\n",
    "yrbss_df.sample(5)"
   ]
  },
  {
   "cell_type": "markdown",
   "metadata": {},
   "source": [
    "### Exercise 1 - What are the counts within each category for the amount of days these students have texted while driving within the past 30 days?"
   ]
  },
  {
   "cell_type": "code",
   "execution_count": 4,
   "metadata": {},
   "outputs": [
    {
     "data": {
      "text/plain": [
       "text_while_driving_30d\n",
       "0                4792\n",
       "1-2               925\n",
       "10-19             373\n",
       "20-29             298\n",
       "3-5               493\n",
       "30                827\n",
       "6-9               311\n",
       "did not drive    4646\n",
       "dtype: int64"
      ]
     },
     "execution_count": 4,
     "metadata": {},
     "output_type": "execute_result"
    }
   ],
   "source": [
    "yrbss_df.groupby(\"text_while_driving_30d\").size()"
   ]
  },
  {
   "cell_type": "markdown",
   "metadata": {},
   "source": [
    "### Exercise 2 - What is the proportion of people who have texted while driving every day in the past 30 days and never wear helmets?"
   ]
  },
  {
   "cell_type": "code",
   "execution_count": 5,
   "metadata": {},
   "outputs": [
    {
     "data": {
      "text/plain": [
       "0.3578738128543032"
      ]
     },
     "execution_count": 5,
     "metadata": {},
     "output_type": "execute_result"
    }
   ],
   "source": [
    "yrbss_df.loc[lambda df: (df[\"helmet_12m\"] == \"never\") & (df[\"text_while_driving_30d\"] != \"did not drive\")] \\\n",
    "        .shape[0] / yrbss_df.shape[0]"
   ]
  },
  {
   "cell_type": "markdown",
   "metadata": {},
   "source": [
    "Remember that you can use `.loc` to limit the dataset to just non-helmet wearers. Here, we will name the dataset `no_helmet`."
   ]
  },
  {
   "cell_type": "code",
   "execution_count": 6,
   "metadata": {},
   "outputs": [],
   "source": [
    "no_helmet = yrbss_df.loc[yrbss_df[\"helmet_12m\"] == \"never\", :]"
   ]
  },
  {
   "cell_type": "markdown",
   "metadata": {},
   "source": [
    "Also, it may be easier to calculate the proportion if you create a new variable that specifies whether the individual has texted every day while driving over the past 30 days or not. We will call this variable `text_ind`."
   ]
  },
  {
   "cell_type": "code",
   "execution_count": 7,
   "metadata": {},
   "outputs": [
    {
     "name": "stderr",
     "output_type": "stream",
     "text": [
      "/var/folders/q0/rm30f5ts21df3h5fwjfm81h00000gn/T/ipykernel_9647/3899172846.py:1: SettingWithCopyWarning: \n",
      "A value is trying to be set on a copy of a slice from a DataFrame.\n",
      "Try using .loc[row_indexer,col_indexer] = value instead\n",
      "\n",
      "See the caveats in the documentation: https://pandas.pydata.org/pandas-docs/stable/user_guide/indexing.html#returning-a-view-versus-a-copy\n",
      "  no_helmet[\"text_ind\"] = no_helmet.apply(lambda x: \"yes\" if x[\"text_while_driving_30d\"] == \"30\" else \"no\", axis=1)\n"
     ]
    },
    {
     "data": {
      "text/html": [
       "<div>\n",
       "<style scoped>\n",
       "    .dataframe tbody tr th:only-of-type {\n",
       "        vertical-align: middle;\n",
       "    }\n",
       "\n",
       "    .dataframe tbody tr th {\n",
       "        vertical-align: top;\n",
       "    }\n",
       "\n",
       "    .dataframe thead th {\n",
       "        text-align: right;\n",
       "    }\n",
       "</style>\n",
       "<table border=\"1\" class=\"dataframe\">\n",
       "  <thead>\n",
       "    <tr style=\"text-align: right;\">\n",
       "      <th></th>\n",
       "      <th>age</th>\n",
       "      <th>gender</th>\n",
       "      <th>grade</th>\n",
       "      <th>hispanic</th>\n",
       "      <th>race</th>\n",
       "      <th>height</th>\n",
       "      <th>weight</th>\n",
       "      <th>helmet_12m</th>\n",
       "      <th>text_while_driving_30d</th>\n",
       "      <th>physically_active_7d</th>\n",
       "      <th>hours_tv_per_school_day</th>\n",
       "      <th>strength_training_7d</th>\n",
       "      <th>school_night_hours_sleep</th>\n",
       "      <th>text_ind</th>\n",
       "    </tr>\n",
       "  </thead>\n",
       "  <tbody>\n",
       "    <tr>\n",
       "      <th>13061</th>\n",
       "      <td>16.0</td>\n",
       "      <td>male</td>\n",
       "      <td>10</td>\n",
       "      <td>not</td>\n",
       "      <td>Black or African American</td>\n",
       "      <td>NaN</td>\n",
       "      <td>NaN</td>\n",
       "      <td>never</td>\n",
       "      <td>0</td>\n",
       "      <td>4.0</td>\n",
       "      <td>4</td>\n",
       "      <td>NaN</td>\n",
       "      <td>NaN</td>\n",
       "      <td>no</td>\n",
       "    </tr>\n",
       "    <tr>\n",
       "      <th>6606</th>\n",
       "      <td>14.0</td>\n",
       "      <td>female</td>\n",
       "      <td>9</td>\n",
       "      <td>not</td>\n",
       "      <td>Black or African American</td>\n",
       "      <td>1.63</td>\n",
       "      <td>45.36</td>\n",
       "      <td>never</td>\n",
       "      <td>did not drive</td>\n",
       "      <td>1.0</td>\n",
       "      <td>5+</td>\n",
       "      <td>1.0</td>\n",
       "      <td>8</td>\n",
       "      <td>no</td>\n",
       "    </tr>\n",
       "    <tr>\n",
       "      <th>8025</th>\n",
       "      <td>17.0</td>\n",
       "      <td>female</td>\n",
       "      <td>11</td>\n",
       "      <td>not</td>\n",
       "      <td>NaN</td>\n",
       "      <td>1.52</td>\n",
       "      <td>61.24</td>\n",
       "      <td>never</td>\n",
       "      <td>0</td>\n",
       "      <td>7.0</td>\n",
       "      <td>do not watch</td>\n",
       "      <td>7.0</td>\n",
       "      <td>7</td>\n",
       "      <td>no</td>\n",
       "    </tr>\n",
       "    <tr>\n",
       "      <th>1507</th>\n",
       "      <td>17.0</td>\n",
       "      <td>male</td>\n",
       "      <td>10</td>\n",
       "      <td>hispanic</td>\n",
       "      <td>White</td>\n",
       "      <td>1.73</td>\n",
       "      <td>64.41</td>\n",
       "      <td>never</td>\n",
       "      <td>30</td>\n",
       "      <td>NaN</td>\n",
       "      <td>NaN</td>\n",
       "      <td>NaN</td>\n",
       "      <td>NaN</td>\n",
       "      <td>yes</td>\n",
       "    </tr>\n",
       "    <tr>\n",
       "      <th>12596</th>\n",
       "      <td>17.0</td>\n",
       "      <td>female</td>\n",
       "      <td>11</td>\n",
       "      <td>not</td>\n",
       "      <td>American Indian or Alaska Native</td>\n",
       "      <td>1.57</td>\n",
       "      <td>53.52</td>\n",
       "      <td>never</td>\n",
       "      <td>6-9</td>\n",
       "      <td>7.0</td>\n",
       "      <td>do not watch</td>\n",
       "      <td>NaN</td>\n",
       "      <td>NaN</td>\n",
       "      <td>no</td>\n",
       "    </tr>\n",
       "  </tbody>\n",
       "</table>\n",
       "</div>"
      ],
      "text/plain": [
       "        age  gender grade  hispanic                              race  height  \\\n",
       "13061  16.0    male    10       not         Black or African American     NaN   \n",
       "6606   14.0  female     9       not         Black or African American    1.63   \n",
       "8025   17.0  female    11       not                               NaN    1.52   \n",
       "1507   17.0    male    10  hispanic                             White    1.73   \n",
       "12596  17.0  female    11       not  American Indian or Alaska Native    1.57   \n",
       "\n",
       "       weight helmet_12m text_while_driving_30d  physically_active_7d  \\\n",
       "13061     NaN      never                      0                   4.0   \n",
       "6606    45.36      never          did not drive                   1.0   \n",
       "8025    61.24      never                      0                   7.0   \n",
       "1507    64.41      never                     30                   NaN   \n",
       "12596   53.52      never                    6-9                   7.0   \n",
       "\n",
       "      hours_tv_per_school_day  strength_training_7d school_night_hours_sleep  \\\n",
       "13061                       4                   NaN                      NaN   \n",
       "6606                       5+                   1.0                        8   \n",
       "8025             do not watch                   7.0                        7   \n",
       "1507                      NaN                   NaN                      NaN   \n",
       "12596            do not watch                   NaN                      NaN   \n",
       "\n",
       "      text_ind  \n",
       "13061       no  \n",
       "6606        no  \n",
       "8025        no  \n",
       "1507       yes  \n",
       "12596       no  "
      ]
     },
     "execution_count": 7,
     "metadata": {},
     "output_type": "execute_result"
    }
   ],
   "source": [
    "no_helmet[\"text_ind\"] = no_helmet.apply(lambda x: \"yes\" if x[\"text_while_driving_30d\"] == \"30\" else \"no\", axis=1)\n",
    "\n",
    "no_helmet.sample(5)"
   ]
  },
  {
   "cell_type": "markdown",
   "metadata": {},
   "source": [
    "## Inference on proportions\n",
    "\n",
    "When summarizing the YRBSS, the Centers for Disease Control and Prevention seeks insight into the population _parameters_. To do this, you can answer the question, “What proportion of people in your sample reported that they have texted while driving each day for the past 30 days?” with a statistic; while the question “What proportion of people on earth have texted while driving each day for the past 30 days?” is answered with an estimate of the parameter.\n",
    "\n",
    "The inferential tools for estimating population proportion are analogous to those used for means in the last chapter: the confidence interval and the hypothesis test."
   ]
  },
  {
   "cell_type": "code",
   "execution_count": 8,
   "metadata": {},
   "outputs": [
    {
     "data": {
      "text/plain": [
       "ConfidenceInterval(low=0.06086492795139276, high=0.07238067937508957)"
      ]
     },
     "execution_count": 8,
     "metadata": {},
     "output_type": "execute_result"
    }
   ],
   "source": [
    "res = stats.bootstrap((no_helmet[\"text_ind\"].map({\"yes\": 1, \"no\": 0}),),\n",
    "                       statistic=np.mean, \n",
    "                       confidence_level=0.95, \n",
    "                       n_resamples=1000)\n",
    "\n",
    "res.confidence_interval"
   ]
  },
  {
   "cell_type": "markdown",
   "metadata": {},
   "source": [
    "### Excercise 3 - What is the margin of error for the estimate of the proportion of non-helmet wearers that have texted while driving each day for the past 30 days based on this survey?"
   ]
  },
  {
   "cell_type": "code",
   "execution_count": 9,
   "metadata": {},
   "outputs": [
    {
     "data": {
      "text/plain": [
       "0.005756307106727801"
      ]
     },
     "execution_count": 9,
     "metadata": {},
     "output_type": "execute_result"
    }
   ],
   "source": [
    "res.standard_error * 1.96"
   ]
  },
  {
   "cell_type": "markdown",
   "metadata": {},
   "source": [
    "### Exercise 4 - Calculate confidence intervals for two other categorical variables (you’ll need to decide which level to call “success”, and report the associated margins of error. Interpet the interval in context of the data. It may be helpful to create new data sets for each of the two countries first, and then use these data sets to construct the confidence intervals.\n",
    "\n",
    "We can check whether or not the sample individual was phisically active at least three times. Also, we can check whether or not he did strength training at least three times."
   ]
  },
  {
   "cell_type": "code",
   "execution_count": 10,
   "metadata": {},
   "outputs": [
    {
     "name": "stdout",
     "output_type": "stream",
     "text": [
      "Confidence interval is ConfidenceInterval(low=0.6478686593536037, high=0.6642039086415338) and margin of error is 0.008043785972075118\n",
      "Confidence interval is ConfidenceInterval(low=0.4663181918574689, high=0.48376647279687846) and margin of error is 0.008682626126289813\n"
     ]
    }
   ],
   "source": [
    "phy = (yrbss_df[\"physically_active_7d\"] >= 3).astype(int)\n",
    "strength = (yrbss_df[\"strength_training_7d\"] >= 3).astype(int)\n",
    "\n",
    "phy_res = stats.bootstrap((phy,),\n",
    "                           statistic=np.mean, \n",
    "                           confidence_level=0.95, \n",
    "                           n_resamples=1000)\n",
    "\n",
    "strength_res = stats.bootstrap((strength,),\n",
    "                           statistic=np.mean, \n",
    "                           confidence_level=0.95, \n",
    "                           n_resamples=1000)\n",
    "\n",
    "for res in (phy_res, strength_res):\n",
    "    print(f\"Confidence interval is {res.confidence_interval} and margin of error is {1.96 * res.standard_error}\")"
   ]
  },
  {
   "cell_type": "markdown",
   "metadata": {},
   "source": [
    "From the above result, we see that we can be 95% sure that the true proportion of physical active individuals is between 0.6477 and 0.6633, and that the true proportion of those who trained stength in the past seven days at least three times is between 0.4672 and 0.4844."
   ]
  },
  {
   "cell_type": "markdown",
   "metadata": {},
   "source": [
    "## How does the proportion affect the margin of error?\n",
    "\n",
    "Imagine you’ve set out to survey 1000 people on two questions: are you at least 6-feet tall? and are you left-handed? Since both of these sample proportions were calculated from the same sample size, they should have the same margin of error, right? Wrong! While the margin of error does change with sample size, it is also affected by the proportion.\n",
    "\n",
    "Think back to the formula for the standard error: $SE = \\sqrt{\\frac{p(1 - p)}{n}}$. This is then used in the formula for the margin of error for a 95% confidence interval:\n",
    "$$\n",
    "ME = 1.96 \\times SE = 1.96 \\times \\sqrt{\\frac{p(1 - p)}{n}}\n",
    "$$\n",
    "\n",
    "Since the population proportion $p$ is in this $ME$ formula, it should make sense that the margin of error is in some way dependent on the population proportion. We can visualize this relationship by creating a plot of $ME$ vs. $p$.\n",
    "\n",
    "Since sample size is irrelevant to this discussion, let’s just set it to some value ($n = 1000$) and use this value in the following calculations:"
   ]
  },
  {
   "cell_type": "code",
   "execution_count": 11,
   "metadata": {},
   "outputs": [],
   "source": [
    "n = 1000"
   ]
  },
  {
   "cell_type": "markdown",
   "metadata": {},
   "source": [
    "The first step is to make a variable `p` that is a sequence from 0 to 1 with each number incremented by 0.01. You can then create a variable of the margin of error (`me`) associated with each of these values of `p` using the familiar approximate formula ($ME = 2 \\times SE$)."
   ]
  },
  {
   "cell_type": "code",
   "execution_count": 12,
   "metadata": {},
   "outputs": [],
   "source": [
    "p = np.arange(0, 1.01, 0.01)\n",
    "me = 2 * np.sqrt((p * (1 - p)) / n)"
   ]
  },
  {
   "cell_type": "markdown",
   "metadata": {},
   "source": [
    "Lastly, you can plot the two variables against each other to reveal their relationship."
   ]
  },
  {
   "cell_type": "code",
   "execution_count": 13,
   "metadata": {},
   "outputs": [
    {
     "data": {
      "text/plain": [
       "[]"
      ]
     },
     "execution_count": 13,
     "metadata": {},
     "output_type": "execute_result"
    },
    {
     "data": {
      "image/png": "[encoded data removed]",
      "text/plain": [
       "<Figure size 432x288 with 1 Axes>"
      ]
     },
     "metadata": {},
     "output_type": "display_data"
    }
   ],
   "source": [
    "dd = pd.DataFrame({\"p\": p, \"me\": me})\n",
    "\n",
    "sns.set_theme()\n",
    "\n",
    "sns.lineplot(data=dd, x=\"p\", y=\"me\")\n",
    "plt.xlabel(\"Population proportion\")\n",
    "plt.ylabel(\"Margin of error\")\n",
    "plt.plot()"
   ]
  },
  {
   "cell_type": "markdown",
   "metadata": {},
   "source": [
    "### Exercise 5 - Describe the relationship between `p` and `me`. Include the margin of error vs. population proportion plot you constructed in your answer. For a given sample size, for which value of `p` is margin of error maximized?\n",
    "\n",
    "It seems that when the `p` approaches 0.5, we have a maximum margin of error, while if `p` is close to 0 or 1, we have the lowest margin of error. It looks like a bell-shape. If $p = 0.5$ we have the greatest margin of error."
   ]
  },
  {
   "cell_type": "markdown",
   "metadata": {},
   "source": [
    "## Success-failure condition\n",
    "\n",
    "We have emphasized that you must always check conditions before making inference. For inference on proportions, the sample proportion can be assumed to be nearly normal if it is based upon a random sample of independent observations and if both $n \\ge 10$ and $n(1−p) \\ge 10$. This rule of thumb is easy enough to follow, but it makes you wonder: what’s so special about the number 10?\n",
    "\n",
    "The short answer is: nothing. You could argue that you would be fine with 9 or that you really should be using $11$. What is the “best” value for such a rule of thumb is, at least to some degree, arbitrary. However, when $np$ and $n(1 − p)$ reaches 10 the sampling distribution is sufficiently normal to use confidence intervals and hypothesis tests that are based on that approximation.\n",
    "\n",
    "You can investigate the interplay between $n$ and $p$ and the shape of the sampling distribution by using simulations. Play around with the following app to investigate how the shape, center, and spread of the distribution of $\\hat{p}$ changes as $n$ and $p$ changes."
   ]
  },
  {
   "cell_type": "markdown",
   "metadata": {},
   "source": [
    "### Exercise 6 - Describe the sampling distribution of sample proportions at $n=300$ and $p=0.1$. Be sure to note the center, spread, and shape.\n",
    "\n",
    "We have $SE = 0.02$. For us, it's a matter of simulating random draws from a normal distribution $N(p,\\ SE)$. We get the below results. We get an approximatively normal shape, with center in 0.1 (our $p$) and standard deviation ($SE$) equal to 0.02."
   ]
  },
  {
   "cell_type": "code",
   "execution_count": 35,
   "metadata": {},
   "outputs": [
    {
     "data": {
      "image/png": "[encoded data removed]",
      "text/plain": [
       "<Figure size 432x288 with 1 Axes>"
      ]
     },
     "metadata": {},
     "output_type": "display_data"
    },
    {
     "data": {
      "text/plain": [
       "array([0.11203707, 0.08749943, 0.10528471, 0.11299498, 0.08519375,\n",
       "       0.11088146, 0.09515733, 0.0972521 , 0.11323735, 0.09783221,\n",
       "       0.1041514 , 0.10710874, 0.09853011, 0.09042705, 0.12402165,\n",
       "       0.09831221, 0.07941307, 0.11564567, 0.129165  , 0.06914214,\n",
       "       0.07297152, 0.07037228, 0.09705901, 0.12139244, 0.08914249,\n",
       "       0.08292417, 0.09911289, 0.0974144 , 0.10239907, 0.09770994,\n",
       "       0.09491279, 0.10403397, 0.13782417, 0.10967743, 0.07952107,\n",
       "       0.08775203, 0.09616034, 0.09913257, 0.04618594, 0.12241297,\n",
       "       0.0969457 , 0.08873677, 0.10643156, 0.10167463, 0.10669393,\n",
       "       0.0955746 , 0.11055405, 0.10772649, 0.14093521, 0.10225156,\n",
       "       0.08014415, 0.08855346, 0.06277943, 0.07394111, 0.09144344,\n",
       "       0.07769447, 0.12173543, 0.12256442, 0.14408161, 0.07181205,\n",
       "       0.10646728, 0.09844009, 0.10392305, 0.11847482, 0.08304623,\n",
       "       0.10812044, 0.06176962, 0.10778347, 0.12211466, 0.12036171,\n",
       "       0.0863418 , 0.0914112 , 0.09949585, 0.07700456, 0.09709308,\n",
       "       0.07873207, 0.11947782, 0.1006023 , 0.11582614, 0.07987698,\n",
       "       0.10762432, 0.08107346, 0.10781566, 0.05711489, 0.08339685,\n",
       "       0.11145797, 0.09665509, 0.08473869, 0.0974156 , 0.11578706,\n",
       "       0.10592985, 0.09159199, 0.10630622, 0.0949218 , 0.10935087,\n",
       "       0.12703974, 0.13864168, 0.12255152, 0.12090259, 0.11135891,\n",
       "       0.10513793, 0.09924777, 0.06607248, 0.10462189, 0.10463019,\n",
       "       0.12255344, 0.10725311, 0.12020702, 0.05444325, 0.10113052,\n",
       "       0.13013781, 0.11670455, 0.11534261, 0.10348981, 0.12050796,\n",
       "       0.1257898 , 0.10731699, 0.09359065, 0.10323521, 0.08950134,\n",
       "       0.11752064, 0.10868985, 0.07940622, 0.135811  , 0.07131193,\n",
       "       0.10169191, 0.09755557, 0.07598084, 0.12692753, 0.09706253,\n",
       "       0.09681193, 0.07466142, 0.1163463 , 0.09589308, 0.12740425,\n",
       "       0.09729854, 0.11736481, 0.10444703, 0.07910796, 0.1103155 ,\n",
       "       0.09594588, 0.11358877, 0.10069024, 0.1355182 , 0.09750811,\n",
       "       0.07935375, 0.11064931, 0.08263681, 0.11756569, 0.06757677,\n",
       "       0.1214198 , 0.12101974, 0.11499181, 0.07400459, 0.06586911,\n",
       "       0.08283972, 0.07828085, 0.11635379, 0.09600331, 0.07739447,\n",
       "       0.10259133, 0.10517002, 0.07594479, 0.07976226, 0.09916836,\n",
       "       0.11175613, 0.09895497, 0.10029065, 0.10579638, 0.0852902 ,\n",
       "       0.1028066 , 0.10423788, 0.11781306, 0.09103826, 0.09581706,\n",
       "       0.09765778, 0.0690542 , 0.10741505, 0.10769447, 0.11390263,\n",
       "       0.10495283, 0.11846073, 0.08894121, 0.10962656, 0.08120864,\n",
       "       0.08024725, 0.11304239, 0.12932522, 0.06920244, 0.09678603,\n",
       "       0.11164916, 0.07247499, 0.10211445, 0.11131579, 0.10182143,\n",
       "       0.08682902, 0.08603409, 0.11416595, 0.12283908, 0.11294159,\n",
       "       0.09903568, 0.08186492, 0.09424361, 0.11396571, 0.10550177,\n",
       "       0.08638411, 0.13986798, 0.1043131 , 0.10523842, 0.10675518,\n",
       "       0.11318612, 0.10168714, 0.10551306, 0.09463366, 0.11420274,\n",
       "       0.09892081, 0.11998296, 0.11263014, 0.10806693, 0.10764398,\n",
       "       0.09554703, 0.10378134, 0.08847891, 0.08071994, 0.11137896,\n",
       "       0.09686935, 0.12872502, 0.10833333, 0.10447163, 0.07755464,\n",
       "       0.1024754 , 0.08635762, 0.11699051, 0.08643702, 0.11015869,\n",
       "       0.1100483 , 0.0800465 , 0.10221011, 0.11911965, 0.0871551 ,\n",
       "       0.1089875 , 0.11544387, 0.12538286, 0.08499368, 0.07997577,\n",
       "       0.09909996, 0.08809595, 0.12273547, 0.0914673 , 0.09927847,\n",
       "       0.11648778, 0.10248231, 0.1164838 , 0.10811023, 0.1033514 ,\n",
       "       0.08639226, 0.12484336, 0.12241712, 0.07103229, 0.11002274,\n",
       "       0.10730003, 0.10572709, 0.12224868, 0.12345875, 0.10161935,\n",
       "       0.08097203, 0.12589138, 0.11319208, 0.09848237, 0.08203947,\n",
       "       0.07932438, 0.10201725, 0.11033253, 0.0969824 , 0.10924557,\n",
       "       0.06324654, 0.09619743, 0.10665814, 0.11636484, 0.06372159,\n",
       "       0.08938299, 0.11965682, 0.06676456, 0.12444932, 0.10217838,\n",
       "       0.07054694, 0.09572256, 0.09178643, 0.10278768, 0.10174969,\n",
       "       0.08417706, 0.10693017, 0.10033081, 0.10909927, 0.10647756,\n",
       "       0.11875297, 0.11516756, 0.11550015, 0.0934018 , 0.14245482])"
      ]
     },
     "execution_count": 35,
     "metadata": {},
     "output_type": "execute_result"
    }
   ],
   "source": [
    "def standard_error(p, n):\n",
    "    return ((p * (1 - p)) / n) ** 0.5\n",
    "\n",
    "def sampling_distribution(p, n, samp_size=100, x=None, plot=True):\n",
    "    se = standard_error(p, n)\n",
    "    dist = np.random.normal(loc=p, scale=se, size=samp_size)\n",
    "    if plot:\n",
    "        if x is not None:\n",
    "\n",
    "            plt.xlim(x[0] - (x[1] - x[0]), x[-1] + (x[1] - x[0]))\n",
    "        \n",
    "        plt.hist(dist)\n",
    "        plt.show()  \n",
    "    return dist\n",
    "\n",
    "sampling_distribution(0.1, 300, 300)"
   ]
  },
  {
   "cell_type": "markdown",
   "metadata": {},
   "source": [
    "### Exercise 7 - Keep $n$ constant and change $p$. How does the shape, center, and spread of the sampling distribution vary as $p$ changes. \n",
    "\n",
    "Easily enough, we can plot the graph for each p, ranging from 0 to 1 with step 0.1, giving us 11 plots in total."
   ]
  },
  {
   "cell_type": "code",
   "execution_count": 36,
   "metadata": {},
   "outputs": [
    {
     "data": {
      "image/png": "[encoded data removed]",
      "text/plain": [
       "<Figure size 432x288 with 1 Axes>"
      ]
     },
     "metadata": {},
     "output_type": "display_data"
    },
    {
     "data": {
      "image/png": "[encoded data removed]",
      "text/plain": [
       "<Figure size 432x288 with 1 Axes>"
      ]
     },
     "metadata": {},
     "output_type": "display_data"
    },
    {
     "data": {
      "image/png": "[encoded data removed]",
      "text/plain": [
       "<Figure size 432x288 with 1 Axes>"
      ]
     },
     "metadata": {},
     "output_type": "display_data"
    },
    {
     "data": {
      "image/png": "[encoded data removed]",
      "text/plain": [
       "<Figure size 432x288 with 1 Axes>"
      ]
     },
     "metadata": {},
     "output_type": "display_data"
    },
    {
     "data": {
      "image/png": "[encoded data removed]",
      "text/plain": [
       "<Figure size 432x288 with 1 Axes>"
      ]
     },
     "metadata": {},
     "output_type": "display_data"
    },
    {
     "data": {
      "image/png": "[encoded data removed]",
      "text/plain": [
       "<Figure size 432x288 with 1 Axes>"
      ]
     },
     "metadata": {},
     "output_type": "display_data"
    },
    {
     "data": {
      "image/png": "[encoded data removed]",
      "text/plain": [
       "<Figure size 432x288 with 1 Axes>"
      ]
     },
     "metadata": {},
     "output_type": "display_data"
    },
    {
     "data": {
      "image/png": "[encoded data removed]",
      "text/plain": [
       "<Figure size 432x288 with 1 Axes>"
      ]
     },
     "metadata": {},
     "output_type": "display_data"
    },
    {
     "data": {
      "image/png": "[encoded data removed]",
      "text/plain": [
       "<Figure size 432x288 with 1 Axes>"
      ]
     },
     "metadata": {},
     "output_type": "display_data"
    }
   ],
   "source": [
    "n = 300\n",
    "ps = np.arange(0.1, 1.0, 0.1)\n",
    "\n",
    "for p in ps:\n",
    "    sampling_distribution(p, n, x=ps)"
   ]
  },
  {
   "cell_type": "markdown",
   "metadata": {},
   "source": [
    "As $p$ increases we see that the center moves with $p$ itself."
   ]
  },
  {
   "cell_type": "markdown",
   "metadata": {},
   "source": [
    "### Exercise 8 - Now also change $n$. How does $n$ appear to affect the distribution of $\\hat{p}$?\n",
    "\n",
    "Let's use $\\hat{p} = {0.1,\\ 0.5,\\ 0.9}$ and $n = {10, 100, 1000}$."
   ]
  },
  {
   "cell_type": "code",
   "execution_count": 43,
   "metadata": {},
   "outputs": [
    {
     "data": {
      "image/png": "[encoded data removed]",
      "text/plain": [
       "<Figure size 432x288 with 1 Axes>"
      ]
     },
     "metadata": {},
     "output_type": "display_data"
    },
    {
     "data": {
      "image/png": "[encoded data removed]",
      "text/plain": [
       "<Figure size 432x288 with 1 Axes>"
      ]
     },
     "metadata": {},
     "output_type": "display_data"
    },
    {
     "data": {
      "image/png": "[encoded data removed]",
      "text/plain": [
       "<Figure size 432x288 with 1 Axes>"
      ]
     },
     "metadata": {},
     "output_type": "display_data"
    },
    {
     "data": {
      "image/png": "[encoded data removed]",
      "text/plain": [
       "<Figure size 432x288 with 1 Axes>"
      ]
     },
     "metadata": {},
     "output_type": "display_data"
    },
    {
     "data": {
      "image/png": "[encoded data removed]",
      "text/plain": [
       "<Figure size 432x288 with 1 Axes>"
      ]
     },
     "metadata": {},
     "output_type": "display_data"
    },
    {
     "data": {
      "image/png": "[encoded data removed]",
      "text/plain": [
       "<Figure size 432x288 with 1 Axes>"
      ]
     },
     "metadata": {},
     "output_type": "display_data"
    },
    {
     "data": {
      "image/png": "[encoded data removed]",
      "text/plain": [
       "<Figure size 432x288 with 1 Axes>"
      ]
     },
     "metadata": {},
     "output_type": "display_data"
    },
    {
     "data": {
      "image/png": "[encoded data removed]",
      "text/plain": [
       "<Figure size 432x288 with 1 Axes>"
      ]
     },
     "metadata": {},
     "output_type": "display_data"
    },
    {
     "data": {
      "image/png": "[encoded data removed]",
      "text/plain": [
       "<Figure size 432x288 with 1 Axes>"
      ]
     },
     "metadata": {},
     "output_type": "display_data"
    }
   ],
   "source": [
    "ps = [0.1, 0.5, 0.9]\n",
    "ns = [10, 100, 1000]\n",
    "\n",
    "for p in ps:\n",
    "    for n in ns:\n",
    "        plt.title(f\"n = {n}, p = {p}\")\n",
    "        sampling_distribution(p, n, x=ps)"
   ]
  },
  {
   "cell_type": "markdown",
   "metadata": {},
   "source": [
    "The greater $n$, the more normal less skewed is the distribution."
   ]
  }
 ],
 "metadata": {
  "interpreter": {
   "hash": "bdc1c445b68446493975f0f4c1120652b32b7ff2d59b9297499b6aaef4c1ff08"
  },
  "kernelspec": {
   "display_name": "Python 3.9.7 64-bit ('base': conda)",
   "language": "python",
   "name": "python3"
  },
  "language_info": {
   "codemirror_mode": {
    "name": "ipython",
    "version": 3
   },
   "file_extension": ".py",
   "mimetype": "text/x-python",
   "name": "python",
   "nbconvert_exporter": "python",
   "pygments_lexer": "ipython3",
   "version": "3.9.7"
  },
  "orig_nbformat": 4
 },
 "nbformat": 4,
 "nbformat_minor": 2
}
