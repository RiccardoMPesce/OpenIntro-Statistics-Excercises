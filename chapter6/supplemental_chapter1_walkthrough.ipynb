{
 "cells": [
  {
   "cell_type": "markdown",
   "metadata": {},
   "source": [
    "# (Supplemental) Chapter 1: Small sample hypothesis testing for a proportion"
   ]
  },
  {
   "cell_type": "markdown",
   "metadata": {},
   "source": [
    "### Guided Practice 0.1\n",
    "\n",
    "$$\n",
    "\\hat{p} = \\frac{3}{62} = 0.05 = 5\\%\n",
    "$$"
   ]
  },
  {
   "cell_type": "markdown",
   "metadata": {},
   "source": [
    "### Guided Practice 0.3\n",
    "\n",
    "In plain words, we want to check if the true complication rate for this consultant is the same as the population complication rate (null hypothesis) or if the complication rate for such consultant is actually less than the population complication rate (alternative hypothesis). In statistical terms, $H_{0} : p = 0.10$ and $H_{A} : p \\lt 0.10$."
   ]
  },
  {
   "cell_type": "markdown",
   "metadata": {},
   "source": [
    "### Guided Practice 0.7\n",
    "\n",
    "If the null hypothesis were true, we would get the value 0.048 with probability 0.1222, so the data does not give enough confidence (i.e. a probability less than 0.05) for rejecting the null hypothesis."
   ]
  },
  {
   "cell_type": "markdown",
   "metadata": {},
   "source": [
    "### Guided Practice 0.8\n",
    "\n",
    "There's not enough data to state any possible association."
   ]
  },
  {
   "cell_type": "markdown",
   "metadata": {},
   "source": [
    "### Guided Practice 0.13\n",
    "\n",
    "Survival rate in control group is 0.22, while in treatment is 0.35, and $\\hat{p_{t}} - \\hat{p_{c}} = 0.35 - 0.22 = 0.13$."
   ]
  },
  {
   "cell_type": "markdown",
   "metadata": {},
   "source": [
    "### Guided Practice 0.16\n",
    "\n",
    "The difference is negative and is $-0.05 = -5\\%$, and closer to the observed value $0$."
   ]
  },
  {
   "cell_type": "markdown",
   "metadata": {},
   "source": [
    "### Guided Practice 0.18\n",
    "\n",
    "The data does not provide enough evidence for our claims, and the p-values differ by a lot."
   ]
  }
 ],
 "metadata": {
  "interpreter": {
   "hash": "bdc1c445b68446493975f0f4c1120652b32b7ff2d59b9297499b6aaef4c1ff08"
  },
  "kernelspec": {
   "display_name": "Python 3.9.7 64-bit ('base': conda)",
   "name": "python3"
  },
  "language_info": {
   "codemirror_mode": {
    "name": "ipython",
    "version": 3
   },
   "file_extension": ".py",
   "mimetype": "text/x-python",
   "name": "python",
   "nbconvert_exporter": "python",
   "pygments_lexer": "ipython3",
   "version": "3.9.7"
  },
  "orig_nbformat": 4
 },
 "nbformat": 4,
 "nbformat_minor": 2
}
