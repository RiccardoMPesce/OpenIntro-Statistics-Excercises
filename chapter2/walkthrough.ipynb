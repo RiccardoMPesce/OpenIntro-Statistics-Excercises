{
 "cells": [
  {
   "cell_type": "markdown",
   "source": [
    "# Chapter 2: Summarizing data"
   ],
   "metadata": {}
  },
  {
   "cell_type": "markdown",
   "source": [
    "### Guided Practice 2.2\n",
    "\n",
    "Scatterplot reveals associations between variables, and are useful to see this correlation both qualitavely and quantitatively."
   ],
   "metadata": {}
  },
  {
   "cell_type": "markdown",
   "source": [
    "### Guided Practice 2.3\n",
    "\n",
    "Two variables that would have and horseshoe-shaped relationship can be on the y axis the benefit associated with stress and on the x axis the stress itself: it is known that some stress is necessary to excel, but after a certain threshold, the benefit goes down."
   ],
   "metadata": {}
  },
  {
   "cell_type": "markdown",
   "source": [],
   "metadata": {}
  }
 ],
 "metadata": {
  "orig_nbformat": 4,
  "language_info": {
   "name": "python"
  }
 },
 "nbformat": 4,
 "nbformat_minor": 2
}