{
 "cells": [
  {
   "cell_type": "markdown",
   "source": [
    "# Chapter 2: Summarizing data"
   ],
   "metadata": {}
  },
  {
   "cell_type": "markdown",
   "source": [
    "### Guided Practice 2.2\n",
    "\n",
    "Scatterplot reveals associations between variables, and are useful to see this correlation both qualitavely and quantitatively."
   ],
   "metadata": {}
  },
  {
   "cell_type": "markdown",
   "source": [
    "### Guided Practice 2.3\n",
    "\n",
    "Two variables that would have and horseshoe-shaped relationship can be on the y axis the benefit associated with stress and on the x axis the stress itself: it is known that some stress is necessary to excel, but after a certain threshold, the benefit goes down."
   ],
   "metadata": {}
  },
  {
   "cell_type": "markdown",
   "source": [
    "### Guided Practice 2.4\n",
    "\n",
    "The value $x_{i}$ represent an observation of the variable we want to compute the average."
   ],
   "metadata": {}
  },
  {
   "cell_type": "markdown",
   "source": [
    "### Guided Practice 2.5\n",
    "\n",
    "The value $n$ represents the number of observations in which we are computing the mean."
   ],
   "metadata": {}
  },
  {
   "cell_type": "markdown",
   "source": [
    "### Guided Practice 2.9\n",
    "\n",
    "Even in those pictures, thanks to the density of the dots (both overlapping and stacked) we can see it is right skewed, however the best way to see a skew is to use a histogram or a stacked dot plot."
   ],
   "metadata": {}
  },
  {
   "cell_type": "markdown",
   "source": [
    "### Guided Practice 2.10\n",
    "\n",
    "In the dot plots it is visually easier to see the exact interest rate (and not the bins)."
   ],
   "metadata": {}
  },
  {
   "cell_type": "markdown",
   "source": [
    "### Guided Practice 2.12\n",
    "\n",
    "I would expect the dataset to be bimodal given that we are measuring both children and adults."
   ],
   "metadata": {}
  },
  {
   "cell_type": "markdown",
   "source": [
    "### Guided Practice 2.13\n",
    "\n",
    "By looking at the descripton of figure 2.9, we see that mean and standard deviation alone can't describe the \"shape\" of the data, therefore we can have different distributions sharing those two parameters. Therefore, we need modality and whether or not the distribution is symmetric or skewed."
   ],
   "metadata": {}
  },
  {
   "cell_type": "markdown",
   "source": [
    "### Guided Practice 2.15\n",
    "\n",
    "Being the _median_ the $50^{th}$ percentile (from its definitition), between $Q_{1}$ and the median itself we have the $25\\%-50\\%$ of the data. From the median and $Q_{3}$ we have the $50\\%-75\\%$ of the data."
   ],
   "metadata": {}
  },
  {
   "cell_type": "markdown",
   "source": [
    "### Guided Pracrice 2.16\n",
    "\n",
    "We can proceed by plotting the `loan50` dataset informations and the box plot."
   ],
   "metadata": {}
  },
  {
   "cell_type": "code",
   "execution_count": 16,
   "source": [
    "import pandas as pd\n",
    "\n",
    "from pathlib import Path \n",
    "\n",
    "loan50_path = Path(\"../datasets\") / \"loan50.csv\"\n",
    "loan50_df = pd.read_csv(loan50_path)\n",
    "\n",
    "display(loan50_df[\"interest_rate\"].describe())\n",
    "loan50_df[\"interest_rate\"].plot.box()"
   ],
   "outputs": [
    {
     "output_type": "display_data",
     "data": {
      "text/plain": [
       "count    50.000000\n",
       "mean     11.567200\n",
       "std       5.052115\n",
       "min       5.310000\n",
       "25%       7.960000\n",
       "50%       9.930000\n",
       "75%      13.715000\n",
       "max      26.300000\n",
       "Name: interest_rate, dtype: float64"
      ]
     },
     "metadata": {}
    },
    {
     "output_type": "execute_result",
     "data": {
      "text/plain": [
       "<AxesSubplot:>"
      ]
     },
     "metadata": {},
     "execution_count": 16
    },
    {
     "output_type": "display_data",
     "data": {
      "text/plain": [
       "<Figure size 432x288 with 1 Axes>"
      ],
      "image/png": "[encoded data removed]"
     },
     "metadata": {
      "needs_background": "light"
     }
    }
   ],
   "metadata": {}
  },
  {
   "cell_type": "markdown",
   "source": [
    "While we received the first and third quartiles, we can calculate $IQR = Q_{3} - Q_{1} = 5.755$."
   ],
   "metadata": {}
  },
  {
   "cell_type": "markdown",
   "source": [
    "### Guided Practice 2.17\n",
    "\n",
    "* (a) The mean is more affected by extreme observations: it is less _robust_.\n",
    "* (b) The standard deviation is more affected by extreme observations than the _IQR_."
   ],
   "metadata": {}
  },
  {
   "cell_type": "markdown",
   "source": [
    "### Guided Practice 2.19\n",
    "\n",
    "Being right-skewed, with the mean being \"pulled\" towards the two outliers above, I would be more interested in the median rather than the mean."
   ],
   "metadata": {}
  },
  {
   "cell_type": "markdown",
   "source": [
    "### Guided Practice 2.22\n",
    "\n",
    "The intensity map shows visually and very clearly the \"intensity\" (the household income) for each of the studied county, giving us a quick glance on the wealthiest counties."
   ],
   "metadata": {}
  },
  {
   "cell_type": "markdown",
   "source": [],
   "metadata": {}
  }
 ],
 "metadata": {
  "orig_nbformat": 4,
  "language_info": {
   "name": "python",
   "version": "3.9.6",
   "mimetype": "text/x-python",
   "codemirror_mode": {
    "name": "ipython",
    "version": 3
   },
   "pygments_lexer": "ipython3",
   "nbconvert_exporter": "python",
   "file_extension": ".py"
  },
  "kernelspec": {
   "name": "python3",
   "display_name": "Python 3.9.6 64-bit ('base': conda)"
  },
  "interpreter": {
   "hash": "a473aa0524f7e71cff5bf41ad0f6e637ac4e671de457aeaaf8dd3e29779b2e94"
  }
 },
 "nbformat": 4,
 "nbformat_minor": 2
}