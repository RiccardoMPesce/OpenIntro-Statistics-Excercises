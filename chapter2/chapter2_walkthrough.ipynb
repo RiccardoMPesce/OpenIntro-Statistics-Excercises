{
 "cells": [
  {
   "cell_type": "markdown",
   "source": [
    "# Chapter 2: Summarizing data"
   ],
   "metadata": {}
  },
  {
   "cell_type": "markdown",
   "source": [
    "### Guided Practice 2.2\n",
    "\n",
    "Scatterplot reveals associations between variables, and are useful to see this correlation both qualitavely and quantitatively."
   ],
   "metadata": {}
  },
  {
   "cell_type": "markdown",
   "source": [
    "### Guided Practice 2.3\n",
    "\n",
    "Two variables that would have and horseshoe-shaped relationship can be on the y axis the benefit associated with stress and on the x axis the stress itself: it is known that some stress is necessary to excel, but after a certain threshold, the benefit goes down."
   ],
   "metadata": {}
  },
  {
   "cell_type": "markdown",
   "source": [
    "### Guided Practice 2.4\n",
    "\n",
    "The value $x_{i}$ represent an observation of the variable we want to compute the average."
   ],
   "metadata": {}
  },
  {
   "cell_type": "markdown",
   "source": [
    "### Guided Practice 2.5\n",
    "\n",
    "The value $n$ represents the number of observations in which we are computing the mean."
   ],
   "metadata": {}
  },
  {
   "cell_type": "markdown",
   "source": [
    "### Guided Practice 2.9\n",
    "\n",
    "Even in those pictures, thanks to the density of the dots (both overlapping and stacked) we can see it is right skewed, however the best way to see a skew is to use a histogram or a stacked dot plot."
   ],
   "metadata": {}
  },
  {
   "cell_type": "markdown",
   "source": [
    "### Guided Practice 2.10\n",
    "\n",
    "In the dot plots it is visually easier to see the exact interest rate (and not the bins)."
   ],
   "metadata": {}
  },
  {
   "cell_type": "markdown",
   "source": [
    "### Guided Practice 2.12\n",
    "\n",
    "I would expect the dataset to be bimodal given that we are measuring both children and adults."
   ],
   "metadata": {}
  },
  {
   "cell_type": "markdown",
   "source": [
    "### Guided Practice 2.13\n",
    "\n",
    "By looking at the descripton of figure 2.9, we see that mean and standard deviation alone can't describe the \"shape\" of the data, therefore we can have different distributions sharing those two parameters. Therefore, we need modality and whether or not the distribution is symmetric or skewed."
   ],
   "metadata": {}
  },
  {
   "cell_type": "markdown",
   "source": [
    "### Guided Practice 2.15\n",
    "\n",
    "Being the _median_ the $50^{th}$ percentile (from its definitition), between $Q_{1}$ and the median itself we have the $25\\%-50\\%$ of the data. From the median and $Q_{3}$ we have the $50\\%-75\\%$ of the data."
   ],
   "metadata": {}
  },
  {
   "cell_type": "markdown",
   "source": [
    "### Guided Pracrice 2.16\n",
    "\n",
    "We can proceed by plotting the `loan50` dataset informations and the box plot."
   ],
   "metadata": {}
  },
  {
   "cell_type": "code",
   "execution_count": 16,
   "source": [
    "import pandas as pd\n",
    "\n",
    "from pathlib import Path \n",
    "\n",
    "loan50_path = Path(\"../datasets\") / \"loan50.csv\"\n",
    "loan50_df = pd.read_csv(loan50_path)\n",
    "\n",
    "display(loan50_df[\"interest_rate\"].describe())\n",
    "loan50_df[\"interest_rate\"].plot.box()"
   ],
   "outputs": [
    {
     "output_type": "display_data",
     "data": {
      "text/plain": [
       "count    50.000000\n",
       "mean     11.567200\n",
       "std       5.052115\n",
       "min       5.310000\n",
       "25%       7.960000\n",
       "50%       9.930000\n",
       "75%      13.715000\n",
       "max      26.300000\n",
       "Name: interest_rate, dtype: float64"
      ]
     },
     "metadata": {}
    },
    {
     "output_type": "execute_result",
     "data": {
      "text/plain": [
       "<AxesSubplot:>"
      ]
     },
     "metadata": {},
     "execution_count": 16
    },
    {
     "output_type": "display_data",
     "data": {
      "text/plain": [
       "<Figure size 432x288 with 1 Axes>"
      ],
      "image/png": "[encoded data removed]"
     },
     "metadata": {
      "needs_background": "light"
     }
    }
   ],
   "metadata": {}
  },
  {
   "cell_type": "markdown",
   "source": [
    "While we received the first and third quartiles, we can calculate $IQR = Q_{3} - Q_{1} = 5.755$."
   ],
   "metadata": {}
  },
  {
   "cell_type": "markdown",
   "source": [
    "### Guided Practice 2.17\n",
    "\n",
    "* (a) The mean is more affected by extreme observations: it is less _robust_.\n",
    "* (b) The standard deviation is more affected by extreme observations than the _IQR_."
   ],
   "metadata": {}
  },
  {
   "cell_type": "markdown",
   "source": [
    "### Guided Practice 2.19\n",
    "\n",
    "Being right-skewed, with the mean being \"pulled\" towards the two outliers above, I would be more interested in the median rather than the mean."
   ],
   "metadata": {}
  },
  {
   "cell_type": "markdown",
   "source": [
    "### Guided Practice 2.22\n",
    "\n",
    "The intensity map shows visually and very clearly the \"intensity\" (the household income) for each of the studied county, giving us a quick glance on the wealthiest counties."
   ],
   "metadata": {}
  },
  {
   "cell_type": "markdown",
   "source": [
    "### Exercise 2.1 - Mammal life spans.\n",
    "\n",
    "* (a) Apparently, there's a positive association between life span and length of gestation.\n",
    "* (b) I would expect a positive association still, with the shape of a parable.\n",
    "* (c) While the association may not be strong, there definitely is, therefore they are not independent. Apart for some outliers, we can definitely see this positive association which naturally flattens out as there is a limit to gestation days, as well as life span, which are dictated by nature."
   ],
   "metadata": {}
  },
  {
   "cell_type": "markdown",
   "source": [
    "### Exercise 2.2 - Associations.\n",
    "\n",
    "* (a) Plots (1) linear and (3) nonlinear.\n",
    "* (b) Plot (4) linear.\n",
    "* (c) Plot (2)."
   ],
   "metadata": {}
  },
  {
   "cell_type": "markdown",
   "source": [
    "### Exercise 2.3 - Reproducing bacteria.\n",
    "\n",
    "I would assume that initially bacteria reproduction is quite strong, until it approaches the limit of one million, at which the rate of reproduction starts to flatten out. Let's try to model such phenomena with a Python script."
   ],
   "metadata": {}
  },
  {
   "cell_type": "code",
   "execution_count": 47,
   "source": [
    "%matplotlib inline\n",
    "\n",
    "import numpy as np \n",
    "import matplotlib.pyplot as plt\n",
    "\n",
    "UPPER_BOUND = 1000000\n",
    "\n",
    "def simulate_reproduction(time_epochs, growth_coefficient=-1, every=1):\n",
    "    x = [i for i in range(1, time_epochs + 1)]\n",
    "    y = []\n",
    "\n",
    "    if growth_coefficient == -1:\n",
    "        growth_coefficient = UPPER_BOUND / np.log(time_epochs) - 1\n",
    "\n",
    "    for epoch in range(time_epochs):\n",
    "        prev = 0 if epoch == 0 else y[epoch - 1]\n",
    "\n",
    "        n_bacteria = growth_coefficient * np.log(epoch + 1)\n",
    "        \n",
    "        if n_bacteria > UPPER_BOUND:\n",
    "            n_bacteria = (UPPER_BOUND - prev) * np.random.random_sample() + prev\n",
    "        \n",
    "        y += [n_bacteria]\n",
    "\n",
    "    indices = np.arange(len(x), step=every)\n",
    "\n",
    "    return np.array(x)[indices], np.array(y)[indices]"
   ],
   "outputs": [],
   "metadata": {}
  },
  {
   "cell_type": "markdown",
   "source": [
    "Let's see how our simulation works."
   ],
   "metadata": {}
  },
  {
   "cell_type": "code",
   "execution_count": 59,
   "source": [
    "x, y = simulate_reproduction(100000, 50000, 5000)\n",
    "\n",
    "plt.scatter(x, y) \n",
    "\n",
    "plt.plot()"
   ],
   "outputs": [
    {
     "output_type": "execute_result",
     "data": {
      "text/plain": [
       "[]"
      ]
     },
     "metadata": {},
     "execution_count": 59
    },
    {
     "output_type": "display_data",
     "data": {
      "text/plain": [
       "<Figure size 432x288 with 1 Axes>"
      ],
      "image/png": "[encoded data removed]"
     },
     "metadata": {
      "needs_background": "light"
     }
    }
   ],
   "metadata": {}
  },
  {
   "cell_type": "markdown",
   "source": [
    "I don't know whether this is realistic or not, but I would assume this is how the population will increase: quickly before hitting the upper limit, once which the reproduction approaches the limit itself. "
   ],
   "metadata": {}
  },
  {
   "cell_type": "markdown",
   "source": [
    "### Exercise 2.4 - Office productivity.\n",
    "\n",
    "We will draw a scatter plot using Python, knowing that the function that approximates a function which increases and then starts to decrease in a bell shape fashio is a polynomial of the form $ax^{2} + bx + c$ where $a < 0$."
   ],
   "metadata": {}
  },
  {
   "cell_type": "code",
   "execution_count": 70,
   "source": [
    "def stress_model_function(n, a, every=1):\n",
    "    x = np.array([i for i in range(1, n + 1)])\n",
    "    a = - np.abs(a)\n",
    "    b = - a * n\n",
    "    c = (b - a) * np.random.random_sample() + a\n",
    "    y = []\n",
    "\n",
    "    y = a * (x ** 2) + b * x + c\n",
    "\n",
    "    indices = np.arange(len(x), step=every)\n",
    "\n",
    "    return x[indices], y[indices]\n"
   ],
   "outputs": [],
   "metadata": {}
  },
  {
   "cell_type": "markdown",
   "source": [
    "Let's see how the function works."
   ],
   "metadata": {}
  },
  {
   "cell_type": "code",
   "execution_count": 71,
   "source": [
    "x, y = stress_model_function(100, -5, 5)\n",
    "\n",
    "plt.scatter(x, y)\n",
    "plt.plot()"
   ],
   "outputs": [
    {
     "output_type": "execute_result",
     "data": {
      "text/plain": [
       "[]"
      ]
     },
     "metadata": {},
     "execution_count": 71
    },
    {
     "output_type": "display_data",
     "data": {
      "text/plain": [
       "<Figure size 432x288 with 1 Axes>"
      ],
      "image/png": "[encoded data removed]"
     },
     "metadata": {
      "needs_background": "light"
     }
    }
   ],
   "metadata": {}
  },
  {
   "cell_type": "markdown",
   "source": [
    "As we can see, this is how office productivity (on the y axis) would vary with stress (on the x axis)."
   ],
   "metadata": {}
  },
  {
   "cell_type": "markdown",
   "source": [
    "### Exercise 2.5 - Parameters and statistics.\n",
    "\n",
    "* (a) The value of 52 is the population mean since it is calculated on the whole population. The value of 58 is the sample mean as it is explicitly calculated on a sample of 1500 households.\n",
    "* (b) For the same reason, the population mean is 3.37. The sample mean is 3.59."
   ],
   "metadata": {}
  },
  {
   "cell_type": "markdown",
   "source": [
    "### Exercise 2.6 - Sleeping in college.\n",
    "\n",
    "The sample mean is what the student got, i.e. 6.25 while the population mean is 5.5 as the college newspaper reported."
   ],
   "metadata": {}
  },
  {
   "cell_type": "markdown",
   "source": [
    "### Exercise 2.7 - Days off at a mining plant.\n",
    "\n",
    "He should fire the ones with the least number of days off, so that the mean would increase."
   ],
   "metadata": {}
  },
  {
   "cell_type": "markdown",
   "source": [
    "### Exercise 2.8 - Medians and IQRs.\n",
    "\n",
    "* (a) The medians are the same. So are IQRs. Indeed 5 and 7 are respectively the $25^{th}$ and $75^{th}$ percentiles.\n",
    "* (b) Both medians and IQRs differ. \n",
    "* (c) Medians are different but IQRs are same. Indeed $4 - 2 = 9 - 7 = 2$.\n",
    "* (d) Both medians and IQRs differ."
   ],
   "metadata": {}
  },
  {
   "cell_type": "markdown",
   "source": [
    "We can prove what we just found using numpy."
   ],
   "metadata": {}
  },
  {
   "cell_type": "code",
   "execution_count": 75,
   "source": [
    "a1 = np.array([3, 5, 6, 7, 9])\n",
    "a2 = np.array([3, 5, 6, 7, 20])\n",
    "b1 = np.array([3, 5, 6, 7, 9])\n",
    "b2 = np.array([3, 5, 7, 8, 9])\n",
    "c1 = np.array([1, 2, 3, 4, 5])\n",
    "c2 = np.array([6, 7, 8, 9, 10])\n",
    "d1 = np.array([0, 10, 50, 60, 100])\n",
    "d2 = np.array([0, 100, 500, 600, 1000])\n",
    "\n",
    "for ar in [a1, a2, b1, b2, c1, c2, d1, d2]:\n",
    "    print(np.median(ar), np.percentile(ar, 75) - np.percentile(ar, 25))\n",
    "    print(f\"Being q25 {np.percentile(ar, 25)} and q75 {np.percentile(ar, 75)}\")"
   ],
   "outputs": [
    {
     "output_type": "stream",
     "name": "stdout",
     "text": [
      "6.0 2.0\n",
      "Being q25 5.0 and q75 7.0\n",
      "6.0 2.0\n",
      "Being q25 5.0 and q75 7.0\n",
      "6.0 2.0\n",
      "Being q25 5.0 and q75 7.0\n",
      "7.0 3.0\n",
      "Being q25 5.0 and q75 8.0\n",
      "3.0 2.0\n",
      "Being q25 2.0 and q75 4.0\n",
      "8.0 2.0\n",
      "Being q25 7.0 and q75 9.0\n",
      "50.0 50.0\n",
      "Being q25 10.0 and q75 60.0\n",
      "500.0 500.0\n",
      "Being q25 100.0 and q75 600.0\n"
     ]
    }
   ],
   "metadata": {}
  },
  {
   "cell_type": "markdown",
   "source": [
    "### Exercise 2.9 - Means and SDs.\n",
    "\n",
    "Since _mean_ and _standard deviation_ are values which need to be calculated, we will set up a python script to do the comparisons for us."
   ],
   "metadata": {}
  },
  {
   "cell_type": "code",
   "execution_count": 81,
   "source": [
    "def compare_dists(d1, d2):\n",
    "    print(f\"Comparing {d1} and {d2}!\")\n",
    "    \n",
    "    d1 = np.array(d1)\n",
    "    d2 = np.array(d2)\n",
    "\n",
    "    if np.mean(d1) == np.mean(d2) and np.std(d1) == np.std(d2):\n",
    "        print(\"Both mean and std equal!\")\n",
    "    elif np.mean(d1) == np.mean(d2) and np.std(d1) != np.std(d2):\n",
    "        print(\"Only mean is equal!\")\n",
    "    elif np.mean(d1) != np.mean(d2) and np.std(d1) == np.std(d2):\n",
    "        print(\"Only std is equal!\")\n",
    "    else:\n",
    "        print(\"Both mean and std are different!\")\n",
    "\n",
    "    return "
   ],
   "outputs": [],
   "metadata": {}
  },
  {
   "cell_type": "markdown",
   "source": [
    "And now let's test it with the given distributions."
   ],
   "metadata": {}
  },
  {
   "cell_type": "code",
   "execution_count": 82,
   "source": [
    "compare_dists([3, 5, 5, 5, 8, 11, 11, 11, 13], [3, 5, 5, 5, 8, 11, 11, 11, 20])\n",
    "compare_dists([-20, 0, 0, 0, 15, 25, 30, 30], [-40, 0, 0, 0, 15, 25, 30, 30])\n",
    "compare_dists([0, 2, 4, 6, 8, 10], [20, 22, 24, 26, 28, 30])\n",
    "compare_dists([100, 200, 300, 400, 500], [0, 50, 300, 550, 600])"
   ],
   "outputs": [
    {
     "output_type": "stream",
     "name": "stdout",
     "text": [
      "Comparing [3, 5, 5, 5, 8, 11, 11, 11, 13] and [3, 5, 5, 5, 8, 11, 11, 11, 20]!\n",
      "Both mean and std are different!\n",
      "Comparing [-20, 0, 0, 0, 15, 25, 30, 30] and [-40, 0, 0, 0, 15, 25, 30, 30]!\n",
      "Both mean and std are different!\n",
      "Comparing [0, 2, 4, 6, 8, 10] and [20, 22, 24, 26, 28, 30]!\n",
      "Only std is equal!\n",
      "Comparing [100, 200, 300, 400, 500] and [0, 50, 300, 550, 600]!\n",
      "Only mean is equal!\n"
     ]
    }
   ],
   "metadata": {}
  },
  {
   "cell_type": "markdown",
   "source": [
    "### Exercise 2.10 - Mix-and-match.\n",
    "\n",
    "* (a) This rather resembles a normal distribution. I would match it with (3).\n",
    "* (b) This looks like a distribution without a particular shape. I would match it with (2).\n",
    "* (c) This is a right-skewed distribution which should be paired with (1)."
   ],
   "metadata": {}
  },
  {
   "cell_type": "markdown",
   "source": [
    "### Exercise 2.11 - Air quality.\n",
    "\n",
    "* (a) I would estimate the median to be between 25 and 30.\n",
    "* (b) The mean AQI is expected to be higher due to the light yet evident right-skewness.\n",
    "* (c) I would assume Q1 to be roughly 20 while Q3 40. Therefore IQR is about 20.\n",
    "* (d) Since we see that the histogram curve goes smoothly, I don't see any particular outlier."
   ],
   "metadata": {}
  },
  {
   "cell_type": "markdown",
   "source": [
    "### Exercise 2.12 - Median vs. mean.\n",
    "\n",
    "I would assume the median to be within 70 and 80, and the mean to be lower, since the distribution is left-skewed."
   ],
   "metadata": {}
  },
  {
   "cell_type": "markdown",
   "source": [
    "### Exercise 2.13 - Histograms vs. box plots.\n",
    "\n",
    "In the histogram, I can see the two main modes of the distribution and the right skewness (if any). In the box plot I can see the outliers and the median and IQR."
   ],
   "metadata": {}
  },
  {
   "cell_type": "markdown",
   "source": [
    "### Exercise 2.14 - Facebook friends.\n",
    "\n",
    "Since the mean is 190 and the median is 100, I would argue that the distribution is right-skewed."
   ],
   "metadata": {}
  },
  {
   "cell_type": "markdown",
   "source": [
    "### Exercise 2.15 - Distributions and appropriate statistics, Part I.\n",
    "\n",
    "* (a) Right-skewed. I would say median represents the data since it's more common to have 1/2 pets than maybe 6/7, even though there are lots of people having way above 10+ pets, and this would pull the mean towards a bigger more unrealistic number to be used as a statistic. I would use the IQR to represent the variability.\n",
    "* (b) Right-skewed. Indeed, people tend to live closer to work. Here the mean and standard deviation would represent good statistics since such an information needs to be part of some studies where one wants to analyze the performances based on unusual observations and make appropriate decisions about it, considering the whole set of values.\n",
    "* (c) Symmetric. Here it is harder. Both mean and median can do a good job since they're approximately similiar, therefore let's go with the mean. Standard deviation is also good, so we can go about it too."
   ],
   "metadata": {}
  },
  {
   "cell_type": "markdown",
   "source": [
    "### Exercise 2.16 - Distributions and appropriate statistics, Part II.\n",
    "\n",
    "* (a) Right skewed. I would say that the median represent the data, as well as the IQR would be of choice to represent the dispersion. The reason is that, even though the number of houses that cost more than $6,000,000 is meaningful, it is still a number which can be considered an outlier.\n",
    "* (b) Symmetric. Here we can use the mean and standard deviation interchangeably with the median and the IQR, given the symmetry.\n",
    "* (c) Right skewed (those who drink a lot are the tail, while around 0 we have a huge number). Mean and standard deviation should be ok here, and given the high numbers of expected zeroes, they are actually advised.\n",
    "* (d) Symmetric. Here mean and standard deviation would be great also because we are dealing with continuous values (i.e. salaries)."
   ],
   "metadata": {}
  },
  {
   "cell_type": "markdown",
   "source": [
    "### Exercise 2.17 - Income at the coffee shop.\n",
    "\n",
    "* (a) The median of course. The mean would be very deceptive since it is not robust and those two outliers would pull it way above the expected salary for that coffee shop.\n",
    "* (b) For the same reason as above, the IQR best represent the variability."
   ],
   "metadata": {}
  },
  {
   "cell_type": "markdown",
   "source": [
    "### Exercise 2.18 - Midrange.\n",
    "\n",
    "This statistic is not robust and indeed it heavily depends on the outliers (both small and big). And outlier is with high chance the minimum value or maximum value of any distribution (unless there are no outliers at all), and this will make such a deceptive statistic."
   ],
   "metadata": {}
  },
  {
   "cell_type": "markdown",
   "source": [
    "### Exercise 2.19 - Commute times.\n",
    "\n",
    "* (a) Since the distribution is symmetric, I don't see why we should log transform it. \n",
    "* (b) The map shows the average commuting time for each county. The color gradient ranges from green to black: green represents the shortest commuting time while black represents the longest (33 or more minutes)."
   ],
   "metadata": {}
  },
  {
   "cell_type": "markdown",
   "source": [
    "### Exercise 2.20 - Hispanic population.\n",
    "\n",
    "* (a) Being right skewed, by using the log-transformed values we are using more meaningful (data-wise) data.\n",
    "* (b) The relative presence of Hispanic is more evident in the map than in the histogram. In the histogram it is more clear the percent of hispanic among the total population.\n",
    "* (c) It drills down to what we want to show, and as I explained above, each graph is more useful to represent an information than the other. So there's no free lunch."
   ],
   "metadata": {}
  },
  {
   "cell_type": "markdown",
   "source": [
    "### Guided Practice 2.23\n",
    "\n",
    "* (a) It represents the percentage of individuals who rent.\n",
    "* (b) It represents the percentage of mortgage from individuals."
   ],
   "metadata": {}
  },
  {
   "cell_type": "markdown",
   "source": [
    "### Guided Practice 2.24\n",
    "\n",
    "* (a) It represents the percentage of joint applications who own.\n",
    "* (b) It represents the percentage of those who own who have done a joint application."
   ],
   "metadata": {}
  },
  {
   "cell_type": "markdown",
   "source": [
    "### Guided Practice 2.28\n",
    "\n",
    "The center of the `Gain` group is definitely greater than the `No Gain` group's, and same goes for the variability (which can easily be deducted from the hollow histogram). The shape is notvery similar since the `Gain` group has only one mode, while the `No Gain` has visibly two prominent modes."
   ],
   "metadata": {}
  },
  {
   "cell_type": "markdown",
   "source": [
    "### Guided Practice 2.29\n",
    "\n",
    "Descriptive statistics are definitely more visible in the side-by-side box plots, while the shape of the data (the number of modes, the spread, etc) are more visible in the hollow histogram."
   ],
   "metadata": {}
  },
  {
   "cell_type": "markdown",
   "source": [
    "### Exercise 2.21 - Antibiotic use in children.\n",
    "\n",
    "* (a) Relative frequency.\n",
    "* (b) Maybe the different coloring catches the attention better on the distribution? Otherwise I don't know.\n",
    "* (c) The bar plot, absolutely."
   ],
   "metadata": {}
  },
  {
   "cell_type": "markdown",
   "source": [
    "### Exercise 2.22 - Views on immigration.\n",
    "\n",
    "* (a) $\\frac{372}{910} = 40.88\\%$.\n",
    "* (b) $\\frac{278}{910} = 30.55\\%$.\n",
    "* (c) $\\frac{57}{372} = 15.32\\%$, $\\frac{120}{363} = 33.06\\%$ and $\\frac{101}{175} = 57.71\\%$, respectively.\n",
    "* (d) Political ideology and view on the immigration matter seem to be dependent, since we can see this sort of gradient of percentages which is very low for conservatives (not supporting this view) but very high for liberals supporting this view."
   ],
   "metadata": {}
  },
  {
   "cell_type": "markdown",
   "source": [
    "### Exercise 2.23 - Views on the DREAM Act.\n",
    "\n",
    "The size of the tile representing Liberals who support the DREAM act seems to be greater than the respective tile in the other two political groups."
   ],
   "metadata": {}
  },
  {
   "cell_type": "markdown",
   "source": [
    "### Exercise 2.24 - Raise taxes.\n",
    "\n",
    "Democrats support rasing taxes on the rich more than the other two groups, as we can see from the considerably larger tile."
   ],
   "metadata": {}
  },
  {
   "cell_type": "markdown",
   "source": [
    "### Guided Practice 2.31\n",
    "\n",
    "The two variables are not associated, i.e. independent."
   ],
   "metadata": {}
  },
  {
   "cell_type": "markdown",
   "source": [
    "### Guided Practice 2.32\n",
    "\n",
    "This an experiment (we are randomizing the control and treatment groups). The sample size is quite small but it shows that there is a causal relationship between vaccine and immunity."
   ],
   "metadata": {}
  },
  {
   "cell_type": "markdown",
   "source": [
    "### Guided Practice 2.34\n",
    "\n",
    "The infection rates are still different and in the treatment group we have 50% infection rate, while in the control group 33%. The 50% is of course less than 64%, but this is a purely random shuffle."
   ],
   "metadata": {}
  },
  {
   "cell_type": "markdown",
   "source": [
    "### Exercise 2.25  - Side effects of Avandia.\n",
    "\n",
    "* (a)\n",
    "    * (i) False. People using this medicine are more than those using the alternative.\n",
    "    * (ii) True.\n",
    "    * (iii) False. The rate of incidence is marginally higher.\n",
    "    * (iv) True, the rates of incidence differ by a small amount.\n",
    "* (b) $\\frac{7,979}{227,571} = 3.51\\%$.\n",
    "* (c) I am assuming they are already independent and that is the correct proportion.\n",
    "* (d)\n",
    "    * (i) We are testing whether or not rosiglitazone usage causes heart problems.\n",
    "    * (ii) Actually fewer patients with cardiovascular problems.\n",
    "    * (iii) It suggests they're not independent and then we have to accept the alternative hypothesis."
   ],
   "metadata": {}
  },
  {
   "cell_type": "markdown",
   "source": [
    "### Exercise 2.26 - Heart transplants.\n",
    "\n",
    "* (a) Here we are seeing a difference in outcomes, but it's early to tell if there's a difference in survival.\n",
    "* (b) It suggests that it definitely works in keeping the individual alive for a way longer time at least than those in the control group.\n",
    "* (c) Respectively, $\\frac{45}{69} = 65.21\\%$ and $\\frac{30}{34} = 88.23\\%$.\n",
    "* (d)\n",
    "    * (i) It's being tested if heart transplant is effective in preventing death associated with severe heart disease.\n",
    "    * (ii) 28; 75; 69; 34; zero; 0.25.\n",
    "    * (iii) It definitely suggests the outcomes are not random."
   ],
   "metadata": {}
  },
  {
   "cell_type": "markdown",
   "source": [
    "### Exercise 2.27 - Make-up exam.\n",
    "\n",
    "* (a) It decreased the average score.\n",
    "* (b) The new average can easily be calculated as $\\frac{24 * 74 + 1 * 64}{24 + 1} = 73.6$.\n",
    "* (c) It increases the standard deviation."
   ],
   "metadata": {}
  },
  {
   "cell_type": "markdown",
   "source": [
    "### Exercise 2.28 - Infant mortality.\n",
    "\n",
    "* (a) Q1 is roughly 5, the median is more or less 15/20 and Q3 is 40.\n",
    "* (b) Since the dataset is right-skewed, the mean is larger than the median."
   ],
   "metadata": {}
  },
  {
   "cell_type": "markdown",
   "source": [
    "### Exercise 2.29 - TV watchers.\n",
    "\n",
    "Personally, I would not expect it to be symmetric (since watching TV is not a natual phenomena), but I might be wrong. I expect the distribution to be right-skewed, since there can be a handful of students spending nights watching movies, but the vast majority limit themselves to just a small amount of hours (maybe a movie per week)."
   ],
   "metadata": {}
  },
  {
   "cell_type": "markdown",
   "source": [
    "### Exercise 2.30 - A new statistic.\n",
    "\n",
    "* (a) Symmetric (since median equals mean).\n",
    "* (b) Left skewed (since median is greater than mean).\n",
    "* (c) Right skewed (since median is smaller than mean)."
   ],
   "metadata": {}
  },
  {
   "cell_type": "markdown",
   "source": [
    "### Exercise 2.31 - Oscar winners.\n",
    "\n",
    "For females, the distribution is right-skewed, while for males the distribution is symmetric. The age of the awarded best actress is on average smaller than the actor counterpart. However the spread is slightly bigger for females than for males, and this can be seen by the relevant number of outliers."
   ],
   "metadata": {}
  },
  {
   "cell_type": "markdown",
   "source": [
    "### Exercise 2.32 - Exam scores.\n",
    "\n",
    "The distribution seems to me left skewed, since the average is 85 (almost at the end)."
   ],
   "metadata": {}
  },
  {
   "cell_type": "markdown",
   "source": [
    "### Exercise 2.33 - Stats scores.\n",
    "\n",
    "Let's use Python to plot the relevant chart and statistics."
   ],
   "metadata": {}
  },
  {
   "cell_type": "code",
   "execution_count": 5,
   "source": [
    "import numpy as np \n",
    "import pandas as pd \n",
    "\n",
    "a = np.array([57, 66, 69, 71, 72, 73, 74, 77, 78, 78, 79, 79, 81, 81, 82, 83, 83, 88, 89, 94])\n",
    "df = pd.DataFrame(a)\n",
    "\n",
    "display(df.describe())\n",
    "df.plot(kind=\"box\")"
   ],
   "outputs": [
    {
     "output_type": "display_data",
     "data": {
      "text/plain": [
       "               0\n",
       "count  20.000000\n",
       "mean   77.700000\n",
       "std     8.442374\n",
       "min    57.000000\n",
       "25%    72.750000\n",
       "50%    78.500000\n",
       "75%    82.250000\n",
       "max    94.000000"
      ],
      "text/html": [
       "<div>\n",
       "<style scoped>\n",
       "    .dataframe tbody tr th:only-of-type {\n",
       "        vertical-align: middle;\n",
       "    }\n",
       "\n",
       "    .dataframe tbody tr th {\n",
       "        vertical-align: top;\n",
       "    }\n",
       "\n",
       "    .dataframe thead th {\n",
       "        text-align: right;\n",
       "    }\n",
       "</style>\n",
       "<table border=\"1\" class=\"dataframe\">\n",
       "  <thead>\n",
       "    <tr style=\"text-align: right;\">\n",
       "      <th></th>\n",
       "      <th>0</th>\n",
       "    </tr>\n",
       "  </thead>\n",
       "  <tbody>\n",
       "    <tr>\n",
       "      <th>count</th>\n",
       "      <td>20.000000</td>\n",
       "    </tr>\n",
       "    <tr>\n",
       "      <th>mean</th>\n",
       "      <td>77.700000</td>\n",
       "    </tr>\n",
       "    <tr>\n",
       "      <th>std</th>\n",
       "      <td>8.442374</td>\n",
       "    </tr>\n",
       "    <tr>\n",
       "      <th>min</th>\n",
       "      <td>57.000000</td>\n",
       "    </tr>\n",
       "    <tr>\n",
       "      <th>25%</th>\n",
       "      <td>72.750000</td>\n",
       "    </tr>\n",
       "    <tr>\n",
       "      <th>50%</th>\n",
       "      <td>78.500000</td>\n",
       "    </tr>\n",
       "    <tr>\n",
       "      <th>75%</th>\n",
       "      <td>82.250000</td>\n",
       "    </tr>\n",
       "    <tr>\n",
       "      <th>max</th>\n",
       "      <td>94.000000</td>\n",
       "    </tr>\n",
       "  </tbody>\n",
       "</table>\n",
       "</div>"
      ]
     },
     "metadata": {}
    },
    {
     "output_type": "execute_result",
     "data": {
      "text/plain": [
       "<AxesSubplot:>"
      ]
     },
     "metadata": {},
     "execution_count": 5
    },
    {
     "output_type": "display_data",
     "data": {
      "text/plain": [
       "<Figure size 432x288 with 1 Axes>"
      ],
      "image/svg+xml": "<?xml version=\"1.0\" encoding=\"utf-8\" standalone=\"no\"?>\n<!DOCTYPE svg PUBLIC \"-//W3C//DTD SVG 1.1//EN\"\n  \"http://www.w3.org/Graphics/SVG/1.1/DTD/svg11.dtd\">\n<svg height=\"248.518125pt\" version=\"1.1\" viewBox=\"0 0 368.925 248.518125\" width=\"368.925pt\" xmlns=\"http://www.w3.org/2000/svg\" xmlns:xlink=\"http://www.w3.org/1999/xlink\">\n <metadata>\n  <rdf:RDF xmlns:cc=\"http://creativecommons.org/ns#\" xmlns:dc=\"http://purl.org/dc/elements/1.1/\" xmlns:rdf=\"http://www.w3.org/1999/02/22-rdf-syntax-ns#\">\n   <cc:Work>\n    <dc:type rdf:resource=\"http://purl.org/dc/dcmitype/StillImage\"/>\n    <dc:date>2021-08-07T08:43:32.825366</dc:date>\n    <dc:format>image/svg+xml</dc:format>\n    <dc:creator>\n     <cc:Agent>\n      <dc:title>Matplotlib v3.4.2, https://matplotlib.org/</dc:title>\n     </cc:Agent>\n    </dc:creator>\n   </cc:Work>\n  </rdf:RDF>\n </metadata>\n <defs>\n  <style type=\"text/css\">*{stroke-linecap:butt;stroke-linejoin:round;}</style>\n </defs>\n <g id=\"figure_1\">\n  <g id=\"patch_1\">\n   <path d=\"M -0 248.518125 \nL 368.925 248.518125 \nL 368.925 0 \nL -0 0 \nz\n\" style=\"fill:none;\"/>\n  </g>\n  <g id=\"axes_1\">\n   <g id=\"patch_2\">\n    <path d=\"M 26.925 224.64 \nL 361.725 224.64 \nL 361.725 7.2 \nL 26.925 7.2 \nz\n\" style=\"fill:#ffffff;\"/>\n   </g>\n   <g id=\"matplotlib.axis_1\">\n    <g id=\"xtick_1\">\n     <g id=\"line2d_1\">\n      <defs>\n       <path d=\"M 0 0 \nL 0 3.5 \n\" id=\"m63b933e7f2\" style=\"stroke:#000000;stroke-width:0.8;\"/>\n      </defs>\n      <g>\n       <use style=\"stroke:#000000;stroke-width:0.8;\" x=\"194.325\" xlink:href=\"#m63b933e7f2\" y=\"224.64\"/>\n      </g>\n     </g>\n     <g id=\"text_1\">\n      <!-- 0 -->\n      <g transform=\"translate(191.14375 239.238437)scale(0.1 -0.1)\">\n       <defs>\n        <path d=\"M 2034 4250 \nQ 1547 4250 1301 3770 \nQ 1056 3291 1056 2328 \nQ 1056 1369 1301 889 \nQ 1547 409 2034 409 \nQ 2525 409 2770 889 \nQ 3016 1369 3016 2328 \nQ 3016 3291 2770 3770 \nQ 2525 4250 2034 4250 \nz\nM 2034 4750 \nQ 2819 4750 3233 4129 \nQ 3647 3509 3647 2328 \nQ 3647 1150 3233 529 \nQ 2819 -91 2034 -91 \nQ 1250 -91 836 529 \nQ 422 1150 422 2328 \nQ 422 3509 836 4129 \nQ 1250 4750 2034 4750 \nz\n\" id=\"DejaVuSans-30\" transform=\"scale(0.015625)\"/>\n       </defs>\n       <use xlink:href=\"#DejaVuSans-30\"/>\n      </g>\n     </g>\n    </g>\n   </g>\n   <g id=\"matplotlib.axis_2\">\n    <g id=\"ytick_1\">\n     <g id=\"line2d_2\">\n      <defs>\n       <path d=\"M 0 0 \nL -3.5 0 \n\" id=\"m092f3c48fc\" style=\"stroke:#000000;stroke-width:0.8;\"/>\n      </defs>\n      <g>\n       <use style=\"stroke:#000000;stroke-width:0.8;\" x=\"26.925\" xlink:href=\"#m092f3c48fc\" y=\"198.728845\"/>\n      </g>\n     </g>\n     <g id=\"text_2\">\n      <!-- 60 -->\n      <g transform=\"translate(7.2 202.528064)scale(0.1 -0.1)\">\n       <defs>\n        <path d=\"M 2113 2584 \nQ 1688 2584 1439 2293 \nQ 1191 2003 1191 1497 \nQ 1191 994 1439 701 \nQ 1688 409 2113 409 \nQ 2538 409 2786 701 \nQ 3034 994 3034 1497 \nQ 3034 2003 2786 2293 \nQ 2538 2584 2113 2584 \nz\nM 3366 4563 \nL 3366 3988 \nQ 3128 4100 2886 4159 \nQ 2644 4219 2406 4219 \nQ 1781 4219 1451 3797 \nQ 1122 3375 1075 2522 \nQ 1259 2794 1537 2939 \nQ 1816 3084 2150 3084 \nQ 2853 3084 3261 2657 \nQ 3669 2231 3669 1497 \nQ 3669 778 3244 343 \nQ 2819 -91 2113 -91 \nQ 1303 -91 875 529 \nQ 447 1150 447 2328 \nQ 447 3434 972 4092 \nQ 1497 4750 2381 4750 \nQ 2619 4750 2861 4703 \nQ 3103 4656 3366 4563 \nz\n\" id=\"DejaVuSans-36\" transform=\"scale(0.015625)\"/>\n       </defs>\n       <use xlink:href=\"#DejaVuSans-36\"/>\n       <use x=\"63.623047\" xlink:href=\"#DejaVuSans-30\"/>\n      </g>\n     </g>\n    </g>\n    <g id=\"ytick_2\">\n     <g id=\"line2d_3\">\n      <g>\n       <use style=\"stroke:#000000;stroke-width:0.8;\" x=\"26.925\" xlink:href=\"#m092f3c48fc\" y=\"172.016314\"/>\n      </g>\n     </g>\n     <g id=\"text_3\">\n      <!-- 65 -->\n      <g transform=\"translate(7.2 175.815533)scale(0.1 -0.1)\">\n       <defs>\n        <path d=\"M 691 4666 \nL 3169 4666 \nL 3169 4134 \nL 1269 4134 \nL 1269 2991 \nQ 1406 3038 1543 3061 \nQ 1681 3084 1819 3084 \nQ 2600 3084 3056 2656 \nQ 3513 2228 3513 1497 \nQ 3513 744 3044 326 \nQ 2575 -91 1722 -91 \nQ 1428 -91 1123 -41 \nQ 819 9 494 109 \nL 494 744 \nQ 775 591 1075 516 \nQ 1375 441 1709 441 \nQ 2250 441 2565 725 \nQ 2881 1009 2881 1497 \nQ 2881 1984 2565 2268 \nQ 2250 2553 1709 2553 \nQ 1456 2553 1204 2497 \nQ 953 2441 691 2322 \nL 691 4666 \nz\n\" id=\"DejaVuSans-35\" transform=\"scale(0.015625)\"/>\n       </defs>\n       <use xlink:href=\"#DejaVuSans-36\"/>\n       <use x=\"63.623047\" xlink:href=\"#DejaVuSans-35\"/>\n      </g>\n     </g>\n    </g>\n    <g id=\"ytick_3\">\n     <g id=\"line2d_4\">\n      <g>\n       <use style=\"stroke:#000000;stroke-width:0.8;\" x=\"26.925\" xlink:href=\"#m092f3c48fc\" y=\"145.303784\"/>\n      </g>\n     </g>\n     <g id=\"text_4\">\n      <!-- 70 -->\n      <g transform=\"translate(7.2 149.103003)scale(0.1 -0.1)\">\n       <defs>\n        <path d=\"M 525 4666 \nL 3525 4666 \nL 3525 4397 \nL 1831 0 \nL 1172 0 \nL 2766 4134 \nL 525 4134 \nL 525 4666 \nz\n\" id=\"DejaVuSans-37\" transform=\"scale(0.015625)\"/>\n       </defs>\n       <use xlink:href=\"#DejaVuSans-37\"/>\n       <use x=\"63.623047\" xlink:href=\"#DejaVuSans-30\"/>\n      </g>\n     </g>\n    </g>\n    <g id=\"ytick_4\">\n     <g id=\"line2d_5\">\n      <g>\n       <use style=\"stroke:#000000;stroke-width:0.8;\" x=\"26.925\" xlink:href=\"#m092f3c48fc\" y=\"118.591253\"/>\n      </g>\n     </g>\n     <g id=\"text_5\">\n      <!-- 75 -->\n      <g transform=\"translate(7.2 122.390472)scale(0.1 -0.1)\">\n       <use xlink:href=\"#DejaVuSans-37\"/>\n       <use x=\"63.623047\" xlink:href=\"#DejaVuSans-35\"/>\n      </g>\n     </g>\n    </g>\n    <g id=\"ytick_5\">\n     <g id=\"line2d_6\">\n      <g>\n       <use style=\"stroke:#000000;stroke-width:0.8;\" x=\"26.925\" xlink:href=\"#m092f3c48fc\" y=\"91.878722\"/>\n      </g>\n     </g>\n     <g id=\"text_6\">\n      <!-- 80 -->\n      <g transform=\"translate(7.2 95.677941)scale(0.1 -0.1)\">\n       <defs>\n        <path d=\"M 2034 2216 \nQ 1584 2216 1326 1975 \nQ 1069 1734 1069 1313 \nQ 1069 891 1326 650 \nQ 1584 409 2034 409 \nQ 2484 409 2743 651 \nQ 3003 894 3003 1313 \nQ 3003 1734 2745 1975 \nQ 2488 2216 2034 2216 \nz\nM 1403 2484 \nQ 997 2584 770 2862 \nQ 544 3141 544 3541 \nQ 544 4100 942 4425 \nQ 1341 4750 2034 4750 \nQ 2731 4750 3128 4425 \nQ 3525 4100 3525 3541 \nQ 3525 3141 3298 2862 \nQ 3072 2584 2669 2484 \nQ 3125 2378 3379 2068 \nQ 3634 1759 3634 1313 \nQ 3634 634 3220 271 \nQ 2806 -91 2034 -91 \nQ 1263 -91 848 271 \nQ 434 634 434 1313 \nQ 434 1759 690 2068 \nQ 947 2378 1403 2484 \nz\nM 1172 3481 \nQ 1172 3119 1398 2916 \nQ 1625 2713 2034 2713 \nQ 2441 2713 2670 2916 \nQ 2900 3119 2900 3481 \nQ 2900 3844 2670 4047 \nQ 2441 4250 2034 4250 \nQ 1625 4250 1398 4047 \nQ 1172 3844 1172 3481 \nz\n\" id=\"DejaVuSans-38\" transform=\"scale(0.015625)\"/>\n       </defs>\n       <use xlink:href=\"#DejaVuSans-38\"/>\n       <use x=\"63.623047\" xlink:href=\"#DejaVuSans-30\"/>\n      </g>\n     </g>\n    </g>\n    <g id=\"ytick_6\">\n     <g id=\"line2d_7\">\n      <g>\n       <use style=\"stroke:#000000;stroke-width:0.8;\" x=\"26.925\" xlink:href=\"#m092f3c48fc\" y=\"65.166192\"/>\n      </g>\n     </g>\n     <g id=\"text_7\">\n      <!-- 85 -->\n      <g transform=\"translate(7.2 68.96541)scale(0.1 -0.1)\">\n       <use xlink:href=\"#DejaVuSans-38\"/>\n       <use x=\"63.623047\" xlink:href=\"#DejaVuSans-35\"/>\n      </g>\n     </g>\n    </g>\n    <g id=\"ytick_7\">\n     <g id=\"line2d_8\">\n      <g>\n       <use style=\"stroke:#000000;stroke-width:0.8;\" x=\"26.925\" xlink:href=\"#m092f3c48fc\" y=\"38.453661\"/>\n      </g>\n     </g>\n     <g id=\"text_8\">\n      <!-- 90 -->\n      <g transform=\"translate(7.2 42.25288)scale(0.1 -0.1)\">\n       <defs>\n        <path d=\"M 703 97 \nL 703 672 \nQ 941 559 1184 500 \nQ 1428 441 1663 441 \nQ 2288 441 2617 861 \nQ 2947 1281 2994 2138 \nQ 2813 1869 2534 1725 \nQ 2256 1581 1919 1581 \nQ 1219 1581 811 2004 \nQ 403 2428 403 3163 \nQ 403 3881 828 4315 \nQ 1253 4750 1959 4750 \nQ 2769 4750 3195 4129 \nQ 3622 3509 3622 2328 \nQ 3622 1225 3098 567 \nQ 2575 -91 1691 -91 \nQ 1453 -91 1209 -44 \nQ 966 3 703 97 \nz\nM 1959 2075 \nQ 2384 2075 2632 2365 \nQ 2881 2656 2881 3163 \nQ 2881 3666 2632 3958 \nQ 2384 4250 1959 4250 \nQ 1534 4250 1286 3958 \nQ 1038 3666 1038 3163 \nQ 1038 2656 1286 2365 \nQ 1534 2075 1959 2075 \nz\n\" id=\"DejaVuSans-39\" transform=\"scale(0.015625)\"/>\n       </defs>\n       <use xlink:href=\"#DejaVuSans-39\"/>\n       <use x=\"63.623047\" xlink:href=\"#DejaVuSans-30\"/>\n      </g>\n     </g>\n    </g>\n    <g id=\"ytick_8\">\n     <g id=\"line2d_9\">\n      <g>\n       <use style=\"stroke:#000000;stroke-width:0.8;\" x=\"26.925\" xlink:href=\"#m092f3c48fc\" y=\"11.74113\"/>\n      </g>\n     </g>\n     <g id=\"text_9\">\n      <!-- 95 -->\n      <g transform=\"translate(7.2 15.540349)scale(0.1 -0.1)\">\n       <use xlink:href=\"#DejaVuSans-39\"/>\n       <use x=\"63.623047\" xlink:href=\"#DejaVuSans-35\"/>\n      </g>\n     </g>\n    </g>\n   </g>\n   <g id=\"line2d_10\">\n    <path clip-path=\"url(#p27270140b1)\" d=\"M 169.215 130.611892 \nL 219.435 130.611892 \nL 219.435 79.858084 \nL 169.215 79.858084 \nL 169.215 130.611892 \n\" style=\"fill:none;stroke:#1f77b4;stroke-linecap:square;\"/>\n   </g>\n   <g id=\"line2d_11\">\n    <path clip-path=\"url(#p27270140b1)\" d=\"M 194.325 130.611892 \nL 194.325 166.673808 \n\" style=\"fill:none;stroke:#1f77b4;stroke-linecap:square;\"/>\n   </g>\n   <g id=\"line2d_12\">\n    <path clip-path=\"url(#p27270140b1)\" d=\"M 194.325 79.858084 \nL 194.325 17.083636 \n\" style=\"fill:none;stroke:#1f77b4;stroke-linecap:square;\"/>\n   </g>\n   <g id=\"line2d_13\">\n    <path clip-path=\"url(#p27270140b1)\" d=\"M 181.77 166.673808 \nL 206.88 166.673808 \n\" style=\"fill:none;stroke:#1f77b4;stroke-linecap:square;\"/>\n   </g>\n   <g id=\"line2d_14\">\n    <path clip-path=\"url(#p27270140b1)\" d=\"M 181.77 17.083636 \nL 206.88 17.083636 \n\" style=\"fill:none;stroke:#1f77b4;stroke-linecap:square;\"/>\n   </g>\n   <g id=\"line2d_15\">\n    <defs>\n     <path d=\"M 0 3 \nC 0.795609 3 1.55874 2.683901 2.12132 2.12132 \nC 2.683901 1.55874 3 0.795609 3 0 \nC 3 -0.795609 2.683901 -1.55874 2.12132 -2.12132 \nC 1.55874 -2.683901 0.795609 -3 0 -3 \nC -0.795609 -3 -1.55874 -2.683901 -2.12132 -2.12132 \nC -2.683901 -1.55874 -3 -0.795609 -3 0 \nC -3 0.795609 -2.683901 1.55874 -2.12132 2.12132 \nC -1.55874 2.683901 -0.795609 3 0 3 \nz\n\" id=\"mcb6888d2aa\" style=\"stroke:#000000;\"/>\n    </defs>\n    <g clip-path=\"url(#p27270140b1)\">\n     <use style=\"fill-opacity:0;stroke:#000000;\" x=\"194.325\" xlink:href=\"#mcb6888d2aa\" y=\"214.756364\"/>\n    </g>\n   </g>\n   <g id=\"line2d_16\">\n    <path clip-path=\"url(#p27270140b1)\" d=\"M 169.215 99.892482 \nL 219.435 99.892482 \n\" style=\"fill:none;stroke:#2ca02c;stroke-linecap:square;\"/>\n   </g>\n   <g id=\"patch_3\">\n    <path d=\"M 26.925 224.64 \nL 26.925 7.2 \n\" style=\"fill:none;stroke:#000000;stroke-linecap:square;stroke-linejoin:miter;stroke-width:0.8;\"/>\n   </g>\n   <g id=\"patch_4\">\n    <path d=\"M 361.725 224.64 \nL 361.725 7.2 \n\" style=\"fill:none;stroke:#000000;stroke-linecap:square;stroke-linejoin:miter;stroke-width:0.8;\"/>\n   </g>\n   <g id=\"patch_5\">\n    <path d=\"M 26.925 224.64 \nL 361.725 224.64 \n\" style=\"fill:none;stroke:#000000;stroke-linecap:square;stroke-linejoin:miter;stroke-width:0.8;\"/>\n   </g>\n   <g id=\"patch_6\">\n    <path d=\"M 26.925 7.2 \nL 361.725 7.2 \n\" style=\"fill:none;stroke:#000000;stroke-linecap:square;stroke-linejoin:miter;stroke-width:0.8;\"/>\n   </g>\n  </g>\n </g>\n <defs>\n  <clipPath id=\"p27270140b1\">\n   <rect height=\"217.44\" width=\"334.8\" x=\"26.925\" y=\"7.2\"/>\n  </clipPath>\n </defs>\n</svg>\n",
      "image/png": "[encoded data removed]"
     },
     "metadata": {
      "needs_background": "light"
     }
    }
   ],
   "metadata": {}
  },
  {
   "cell_type": "markdown",
   "source": [
    "### Exercise 2.34 - Marathon winners.\n",
    "\n",
    "* (a) In the histogram, we can see the fact that the distribution is bimodal and right-skewed, so anything concerning the shape of the data. In the box plot it is easier to see the median, the IQR and the outliers.\n",
    "* (b) As we can also see from the below box plots, male and female have different medians for the finishing time, which can explain why we have a bimodal distribution.\n",
    "* (c) Medians are different: men finishing times are shorter than women finishing time. The IQR is shorter for men, and it is actually very narrow. \n",
    "* (d) In this last plot, the average finishing time for both categories is more visible, and easy to compare one another."
   ],
   "metadata": {}
  },
  {
   "cell_type": "markdown",
   "source": [],
   "metadata": {}
  }
 ],
 "metadata": {
  "orig_nbformat": 4,
  "language_info": {
   "name": "python",
   "version": "3.9.6",
   "mimetype": "text/x-python",
   "codemirror_mode": {
    "name": "ipython",
    "version": 3
   },
   "pygments_lexer": "ipython3",
   "nbconvert_exporter": "python",
   "file_extension": ".py"
  },
  "kernelspec": {
   "name": "python3",
   "display_name": "Python 3.9.6 64-bit ('base': conda)"
  },
  "interpreter": {
   "hash": "a473aa0524f7e71cff5bf41ad0f6e637ac4e671de457aeaaf8dd3e29779b2e94"
  }
 },
 "nbformat": 4,
 "nbformat_minor": 2
}