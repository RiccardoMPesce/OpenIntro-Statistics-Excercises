{
 "cells": [
  {
   "cell_type": "markdown",
   "source": [
    "# Chapter 2: Summarizing data"
   ],
   "metadata": {}
  },
  {
   "cell_type": "markdown",
   "source": [
    "### Guided Practice 2.2\n",
    "\n",
    "Scatterplot reveals associations between variables, and are useful to see this correlation both qualitavely and quantitatively."
   ],
   "metadata": {}
  },
  {
   "cell_type": "markdown",
   "source": [
    "### Guided Practice 2.3\n",
    "\n",
    "Two variables that would have and horseshoe-shaped relationship can be on the y axis the benefit associated with stress and on the x axis the stress itself: it is known that some stress is necessary to excel, but after a certain threshold, the benefit goes down."
   ],
   "metadata": {}
  },
  {
   "cell_type": "markdown",
   "source": [
    "### Guided Practice 2.4\n",
    "\n",
    "The value $x_{i}$ represent an observation of the variable we want to compute the average."
   ],
   "metadata": {}
  },
  {
   "cell_type": "markdown",
   "source": [
    "### Guided Practice 2.5\n",
    "\n",
    "The value $n$ represents the number of observations in which we are computing the mean."
   ],
   "metadata": {}
  },
  {
   "cell_type": "markdown",
   "source": [
    "### Guided Practice 2.9\n",
    "\n",
    "Even in those pictures, thanks to the density of the dots (both overlapping and stacked) we can see it is right skewed, however the best way to see a skew is to use a histogram or a stacked dot plot."
   ],
   "metadata": {}
  },
  {
   "cell_type": "markdown",
   "source": [
    "### Guided Practice 2.10\n",
    "\n",
    "In the dot plots it is visually easier to see the exact interest rate (and not the bins)."
   ],
   "metadata": {}
  },
  {
   "cell_type": "markdown",
   "source": [
    "### Guided Practice 2.12\n",
    "\n",
    "I would expect the dataset to be bimodal given that we are measuring both children and adults."
   ],
   "metadata": {}
  },
  {
   "cell_type": "markdown",
   "source": [
    "### Guided Practice 2.13\n",
    "\n",
    "By looking at the descripton of figure 2.9, we see that mean and standard deviation alone can't describe the \"shape\" of the data, therefore we can have different distributions sharing those two parameters. Therefore, we need modality and whether or not the distribution is symmetric or skewed."
   ],
   "metadata": {}
  },
  {
   "cell_type": "markdown",
   "source": [
    "### Guided Practice 2.15\n",
    "\n",
    "Being the _median_ the $50^{th}$ percentile (from its definitition), between $Q_{1}$ and the median itself we have the $25\\%-50\\%$ of the data. From the median and $Q_{3}$ we have the $50\\%-75\\%$ of the data."
   ],
   "metadata": {}
  },
  {
   "cell_type": "markdown",
   "source": [
    "### Guided Pracrice 2.16\n",
    "\n",
    "We can proceed by plotting the `loan50` dataset informations and the box plot."
   ],
   "metadata": {}
  },
  {
   "cell_type": "code",
   "execution_count": 16,
   "source": [
    "import pandas as pd\n",
    "\n",
    "from pathlib import Path \n",
    "\n",
    "loan50_path = Path(\"../datasets\") / \"loan50.csv\"\n",
    "loan50_df = pd.read_csv(loan50_path)\n",
    "\n",
    "display(loan50_df[\"interest_rate\"].describe())\n",
    "loan50_df[\"interest_rate\"].plot.box()"
   ],
   "outputs": [
    {
     "output_type": "display_data",
     "data": {
      "text/plain": [
       "count    50.000000\n",
       "mean     11.567200\n",
       "std       5.052115\n",
       "min       5.310000\n",
       "25%       7.960000\n",
       "50%       9.930000\n",
       "75%      13.715000\n",
       "max      26.300000\n",
       "Name: interest_rate, dtype: float64"
      ]
     },
     "metadata": {}
    },
    {
     "output_type": "execute_result",
     "data": {
      "text/plain": [
       "<AxesSubplot:>"
      ]
     },
     "metadata": {},
     "execution_count": 16
    },
    {
     "output_type": "display_data",
     "data": {
      "text/plain": [
       "<Figure size 432x288 with 1 Axes>"
      ],
      "image/png": "[encoded data removed]"
     },
     "metadata": {
      "needs_background": "light"
     }
    }
   ],
   "metadata": {}
  },
  {
   "cell_type": "markdown",
   "source": [
    "While we received the first and third quartiles, we can calculate $IQR = Q_{3} - Q_{1} = 5.755$."
   ],
   "metadata": {}
  },
  {
   "cell_type": "markdown",
   "source": [
    "### Guided Practice 2.17\n",
    "\n",
    "* (a) The mean is more affected by extreme observations: it is less _robust_.\n",
    "* (b) The standard deviation is more affected by extreme observations than the _IQR_."
   ],
   "metadata": {}
  },
  {
   "cell_type": "markdown",
   "source": [
    "### Guided Practice 2.19\n",
    "\n",
    "Being right-skewed, with the mean being \"pulled\" towards the two outliers above, I would be more interested in the median rather than the mean."
   ],
   "metadata": {}
  },
  {
   "cell_type": "markdown",
   "source": [
    "### Guided Practice 2.22\n",
    "\n",
    "The intensity map shows visually and very clearly the \"intensity\" (the household income) for each of the studied county, giving us a quick glance on the wealthiest counties."
   ],
   "metadata": {}
  },
  {
   "cell_type": "markdown",
   "source": [
    "### Exercise 2.1 - Mammal life spans.\n",
    "\n",
    "* (a) Apparently, there's a positive association between life span and length of gestation.\n",
    "* (b) I would expect a positive association still, with the shape of a parable.\n",
    "* (c) While the association may not be strong, there definitely is, therefore they are not independent. Apart for some outliers, we can definitely see this positive association which naturally flattens out as there is a limit to gestation days, as well as life span, which are dictated by nature."
   ],
   "metadata": {}
  },
  {
   "cell_type": "markdown",
   "source": [
    "### Exercise 2.2 - Associations.\n",
    "\n",
    "* (a) Plots (1) linear and (3) nonlinear.\n",
    "* (b) Plot (4) linear.\n",
    "* (c) Plot (2)."
   ],
   "metadata": {}
  },
  {
   "cell_type": "markdown",
   "source": [
    "### Exercise 2.3 - Reproducing bacteria.\n",
    "\n",
    "I would assume that initially bacteria reproduction is quite strong, until it approaches the limit of one million, at which the rate of reproduction starts to flatten out. Let's try to model such phenomena with a Python script."
   ],
   "metadata": {}
  },
  {
   "cell_type": "code",
   "execution_count": 47,
   "source": [
    "%matplotlib inline\n",
    "\n",
    "import numpy as np \n",
    "import matplotlib.pyplot as plt\n",
    "\n",
    "UPPER_BOUND = 1000000\n",
    "\n",
    "def simulate_reproduction(time_epochs, growth_coefficient=-1, every=1):\n",
    "    x = [i for i in range(1, time_epochs + 1)]\n",
    "    y = []\n",
    "\n",
    "    if growth_coefficient == -1:\n",
    "        growth_coefficient = UPPER_BOUND / np.log(time_epochs) - 1\n",
    "\n",
    "    for epoch in range(time_epochs):\n",
    "        prev = 0 if epoch == 0 else y[epoch - 1]\n",
    "\n",
    "        n_bacteria = growth_coefficient * np.log(epoch + 1)\n",
    "        \n",
    "        if n_bacteria > UPPER_BOUND:\n",
    "            n_bacteria = (UPPER_BOUND - prev) * np.random.random_sample() + prev\n",
    "        \n",
    "        y += [n_bacteria]\n",
    "\n",
    "    indices = np.arange(len(x), step=every)\n",
    "\n",
    "    return np.array(x)[indices], np.array(y)[indices]"
   ],
   "outputs": [],
   "metadata": {}
  },
  {
   "cell_type": "markdown",
   "source": [
    "Let's see how our simulation works."
   ],
   "metadata": {}
  },
  {
   "cell_type": "code",
   "execution_count": 59,
   "source": [
    "x, y = simulate_reproduction(100000, 50000, 5000)\n",
    "\n",
    "plt.scatter(x, y) \n",
    "\n",
    "plt.plot()"
   ],
   "outputs": [
    {
     "output_type": "execute_result",
     "data": {
      "text/plain": [
       "[]"
      ]
     },
     "metadata": {},
     "execution_count": 59
    },
    {
     "output_type": "display_data",
     "data": {
      "text/plain": [
       "<Figure size 432x288 with 1 Axes>"
      ],
      "image/png": "[encoded data removed]"
     },
     "metadata": {
      "needs_background": "light"
     }
    }
   ],
   "metadata": {}
  },
  {
   "cell_type": "markdown",
   "source": [
    "I don't know whether this is realistic or not, but I would assume this is how the population will increase: quickly before hitting the upper limit, once which the reproduction approaches the limit itself. "
   ],
   "metadata": {}
  },
  {
   "cell_type": "markdown",
   "source": [
    "### Exercise 2.4 - Office productivity.\n",
    "\n",
    "We will draw a scatter plot using Python, knowing that the function that approximates a function which increases and then starts to decrease in a bell shape fashio is a polynomial of the form $ax^{2} + bx + c$ where $a < 0$."
   ],
   "metadata": {}
  },
  {
   "cell_type": "code",
   "execution_count": 70,
   "source": [
    "def stress_model_function(n, a, every=1):\n",
    "    x = np.array([i for i in range(1, n + 1)])\n",
    "    a = - np.abs(a)\n",
    "    b = - a * n\n",
    "    c = (b - a) * np.random.random_sample() + a\n",
    "    y = []\n",
    "\n",
    "    y = a * (x ** 2) + b * x + c\n",
    "\n",
    "    indices = np.arange(len(x), step=every)\n",
    "\n",
    "    return x[indices], y[indices]\n"
   ],
   "outputs": [],
   "metadata": {}
  },
  {
   "cell_type": "markdown",
   "source": [
    "Let's see how the function works."
   ],
   "metadata": {}
  },
  {
   "cell_type": "code",
   "execution_count": 71,
   "source": [
    "x, y = stress_model_function(100, -5, 5)\n",
    "\n",
    "plt.scatter(x, y)\n",
    "plt.plot()"
   ],
   "outputs": [
    {
     "output_type": "execute_result",
     "data": {
      "text/plain": [
       "[]"
      ]
     },
     "metadata": {},
     "execution_count": 71
    },
    {
     "output_type": "display_data",
     "data": {
      "text/plain": [
       "<Figure size 432x288 with 1 Axes>"
      ],
      "image/png": "[encoded data removed]"
     },
     "metadata": {
      "needs_background": "light"
     }
    }
   ],
   "metadata": {}
  },
  {
   "cell_type": "markdown",
   "source": [
    "As we can see, this is how office productivity (on the y axis) would vary with stress (on the x axis)."
   ],
   "metadata": {}
  },
  {
   "cell_type": "markdown",
   "source": [
    "### Exercise 2.5 - Parameters and statistics.\n",
    "\n",
    "* (a) The value of $52 is the population mean since it is calculated on the whole population. The value of $58 is the sample mean as it is explicitly calculated on a sample of 1500 households.\n",
    "* (b) For the same reason, the population mean is 3.37. The sample mean is 3.59."
   ],
   "metadata": {}
  },
  {
   "cell_type": "markdown",
   "source": [
    "### Exercise 2.6 - Sleeping in college.\n",
    "\n",
    "The sample mean is what the student got, i.e. 6.25 while the population mean is 5.5 as the college newspaper reported."
   ],
   "metadata": {}
  },
  {
   "cell_type": "markdown",
   "source": [
    "### Exercise 2.7 - Days off at a mining plant.\n",
    "\n",
    "He should fire the ones with the least number of days off, so that the mean would increase."
   ],
   "metadata": {}
  },
  {
   "cell_type": "markdown",
   "source": [
    "### Exercise 2.8 - Medians and IQRs.\n",
    "\n",
    "* (a) The medians are the same. So are IQRs. Indeed 5 and 7 are respectively the $25^{th}$ and $75^{th}$ percentiles.\n",
    "* (b) Both medians and IQRs differ. \n",
    "* (c) Medians are different but IQRs are same. Indeed $4 - 2 = 9 - 7 = 2$.\n",
    "* (d) Both medians and IQRs differ."
   ],
   "metadata": {}
  },
  {
   "cell_type": "markdown",
   "source": [
    "We can prove what we just found using numpy."
   ],
   "metadata": {}
  },
  {
   "cell_type": "code",
   "execution_count": 75,
   "source": [
    "a1 = np.array([3, 5, 6, 7, 9])\n",
    "a2 = np.array([3, 5, 6, 7, 20])\n",
    "b1 = np.array([3, 5, 6, 7, 9])\n",
    "b2 = np.array([3, 5, 7, 8, 9])\n",
    "c1 = np.array([1, 2, 3, 4, 5])\n",
    "c2 = np.array([6, 7, 8, 9, 10])\n",
    "d1 = np.array([0, 10, 50, 60, 100])\n",
    "d2 = np.array([0, 100, 500, 600, 1000])\n",
    "\n",
    "for ar in [a1, a2, b1, b2, c1, c2, d1, d2]:\n",
    "    print(np.median(ar), np.percentile(ar, 75) - np.percentile(ar, 25))\n",
    "    print(f\"Being q25 {np.percentile(ar, 25)} and q75 {np.percentile(ar, 75)}\")"
   ],
   "outputs": [
    {
     "output_type": "stream",
     "name": "stdout",
     "text": [
      "6.0 2.0\n",
      "Being q25 5.0 and q75 7.0\n",
      "6.0 2.0\n",
      "Being q25 5.0 and q75 7.0\n",
      "6.0 2.0\n",
      "Being q25 5.0 and q75 7.0\n",
      "7.0 3.0\n",
      "Being q25 5.0 and q75 8.0\n",
      "3.0 2.0\n",
      "Being q25 2.0 and q75 4.0\n",
      "8.0 2.0\n",
      "Being q25 7.0 and q75 9.0\n",
      "50.0 50.0\n",
      "Being q25 10.0 and q75 60.0\n",
      "500.0 500.0\n",
      "Being q25 100.0 and q75 600.0\n"
     ]
    }
   ],
   "metadata": {}
  },
  {
   "cell_type": "markdown",
   "source": [
    "### Exercise 2.9 - Means and SDs.\n",
    "\n",
    "Since _mean_ and _standard deviation_ are values which need to be calculated, we will set up a python script to do the comparisons for us."
   ],
   "metadata": {}
  },
  {
   "cell_type": "code",
   "execution_count": 81,
   "source": [
    "def compare_dists(d1, d2):\n",
    "    print(f\"Comparing {d1} and {d2}!\")\n",
    "    \n",
    "    d1 = np.array(d1)\n",
    "    d2 = np.array(d2)\n",
    "\n",
    "    if np.mean(d1) == np.mean(d2) and np.std(d1) == np.std(d2):\n",
    "        print(\"Both mean and std equal!\")\n",
    "    elif np.mean(d1) == np.mean(d2) and np.std(d1) != np.std(d2):\n",
    "        print(\"Only mean is equal!\")\n",
    "    elif np.mean(d1) != np.mean(d2) and np.std(d1) == np.std(d2):\n",
    "        print(\"Only std is equal!\")\n",
    "    else:\n",
    "        print(\"Both mean and std are different!\")\n",
    "\n",
    "    return "
   ],
   "outputs": [],
   "metadata": {}
  },
  {
   "cell_type": "markdown",
   "source": [
    "And now let's test it with the given distributions."
   ],
   "metadata": {}
  },
  {
   "cell_type": "code",
   "execution_count": 82,
   "source": [
    "compare_dists([3, 5, 5, 5, 8, 11, 11, 11, 13], [3, 5, 5, 5, 8, 11, 11, 11, 20])\n",
    "compare_dists([-20, 0, 0, 0, 15, 25, 30, 30], [-40, 0, 0, 0, 15, 25, 30, 30])\n",
    "compare_dists([0, 2, 4, 6, 8, 10], [20, 22, 24, 26, 28, 30])\n",
    "compare_dists([100, 200, 300, 400, 500], [0, 50, 300, 550, 600])"
   ],
   "outputs": [
    {
     "output_type": "stream",
     "name": "stdout",
     "text": [
      "Comparing [3, 5, 5, 5, 8, 11, 11, 11, 13] and [3, 5, 5, 5, 8, 11, 11, 11, 20]!\n",
      "Both mean and std are different!\n",
      "Comparing [-20, 0, 0, 0, 15, 25, 30, 30] and [-40, 0, 0, 0, 15, 25, 30, 30]!\n",
      "Both mean and std are different!\n",
      "Comparing [0, 2, 4, 6, 8, 10] and [20, 22, 24, 26, 28, 30]!\n",
      "Only std is equal!\n",
      "Comparing [100, 200, 300, 400, 500] and [0, 50, 300, 550, 600]!\n",
      "Only mean is equal!\n"
     ]
    }
   ],
   "metadata": {}
  },
  {
   "cell_type": "markdown",
   "source": [
    "### Exercise 2.10 - Mix-and-match.\n",
    "\n",
    "* (a) This rather resembles a normal distribution. I would match it with (3).\n",
    "* (b) This looks like a distribution without a particular shape. I would match it with (2).\n",
    "* (c) This is a right-skewed distribution which should be paired with (1)."
   ],
   "metadata": {}
  },
  {
   "cell_type": "markdown",
   "source": [
    "### Exercise 2.11 - Air quality.\n",
    "\n",
    "* (a) I would estimate the median to be between 25 and 30.\n",
    "* (b) The mean AQI is expected to be higher due to the light yet evident right-skewness.\n",
    "* (c) I would assume Q1 to be roughly 20 while Q3 40. Therefore IQR is about 20.\n",
    "* (d) Since we see that the histogram curve goes smoothly, I don't see any particular outlier."
   ],
   "metadata": {}
  },
  {
   "cell_type": "markdown",
   "source": [
    "### Exercise 2.12 - Median vs. mean.\n",
    "\n",
    "I would assume the median to be within 70 and 80, and the mean to be lower, since the distribution is left-skewed."
   ],
   "metadata": {}
  },
  {
   "cell_type": "markdown",
   "source": [
    "### Exercise 2.13 - Histograms vs. box plots.\n",
    "\n",
    "In the histogram, I can see the two main modes of the distribution and the right skewness (if any). In the box plot I can see the outliers and the median and IQR."
   ],
   "metadata": {}
  },
  {
   "cell_type": "markdown",
   "source": [
    "### Exercise 2.14 - Facebook friends.\n",
    "\n",
    "Since the mean is 190 and the median is 100, I would argue that the distribution is right-skewed."
   ],
   "metadata": {}
  },
  {
   "cell_type": "markdown",
   "source": [
    "### Exercise 2.15 - Distributions and appropriate statistics, Part I.\n",
    "\n",
    "* (a) Right-skewed. I would say median represents the data since it's more common to have 1/2 pets than maybe 6/7, even though there are lots of people having way above 10+ pets, and this would pull the mean towards a bigger more unrealistic number to be used as a statistic. I would use the IQR to represent the variability.\n",
    "* (b) Right-skewer. Indeed, people tend to live closer to work. Here the mean and standard deviation would represent good statistics since such an information needs to be part of some studies where one wants to analyze the performances based on unusual observations and make appropriate decisions about it, considering the whole set of values.\n",
    "* (c) Symmetric. Here it is harder. Both mean and median can do a good job since they're approximately similiar, therefore let's go with the mean. Standard deviation is also good, so we can go about it too."
   ],
   "metadata": {}
  },
  {
   "cell_type": "markdown",
   "source": [
    "### Exercise 2.16 - Distributions and appropriate statistics, Part II.\n",
    "\n",
    "* (a) Right skewed. I would say that the median represent the data, as well as the IQR would be of choice to represent the dispersion. The reason is that, even though the number of houses that cost more than $6,000,000 is meaningful, it is still a number which can be considered an outlier.\n",
    "* (b) Symmetric. Here we can use the mean and standard deviation interchangeably with the median and the IQR, given the symmetry.\n",
    "* (c) Right skewed (those who drink a lot are the tail, while around 0 we have a huge number). Mean and standard deviation should be ok here, and given the high numbers of expected zeroes, they are actually advised.\n",
    "* (d) Symmetric. Here mean and standard deviation would be great also because we are dealing with continuous values (i.e. salaries)."
   ],
   "metadata": {}
  },
  {
   "cell_type": "markdown",
   "source": [
    "### Exercise 2.17 - Income at the coffee shop.\n",
    "\n",
    "* (a) The median of course. The mean would be very deceptive since it is not robust and those two outliers would pull it way above the expected salary for that coffee shop.\n",
    "* (b) For the same reason as above, the IQR best represent the variability."
   ],
   "metadata": {}
  },
  {
   "cell_type": "markdown",
   "source": [
    "### Exercise 2.18 - Midrange.\n",
    "\n",
    "This statistic is not robust and indeed it heavily depends on the outliers (both small and big). And outlier is with high chance the minimum value or maximum value of any distribution (unless there are no outliers at all), and this will make such a deceptive statistic."
   ],
   "metadata": {}
  },
  {
   "cell_type": "markdown",
   "source": [
    "### Exercise 2.19 - Commute times.\n",
    "\n",
    "* (a) Since the distribution is symmetric, I don't see why we should log transform it. \n",
    "* (b) The map shows the average commuting time for each county. The color gradient ranges from green to black: green represents the shortest commuting time while black represents the longest (33 or more minutes)."
   ],
   "metadata": {}
  },
  {
   "cell_type": "markdown",
   "source": [
    "### Exercise 2.20 - Hispanic population.\n",
    "\n",
    "* (a) Being right skewed, by using the log-transformed values we are using more meaningful (data-wise) data.\n",
    "* (b) The relative presence of Hispanic is more evident in the map than in the histogram. In the histogram it is more clear the percent of hispanic among the total population.\n",
    "* (c) It drills down to what we want to show, and as I explained above, each graph is more useful to represent an information than the other. So there's no free lunch."
   ],
   "metadata": {}
  },
  {
   "cell_type": "markdown",
   "source": [
    "### Guided Practice 2.23\n",
    "\n",
    "* (a) It represents the percentage of individuals who rent.\n",
    "* (b) It represents the percentage of mortgage from individuals."
   ],
   "metadata": {}
  },
  {
   "cell_type": "markdown",
   "source": [
    "### Guided Practice 2.24\n",
    "\n",
    "* (a) It represents the percentage of joint applications who own.\n",
    "* (b) It represents the percentage of those who own who have done a joint application."
   ],
   "metadata": {}
  },
  {
   "cell_type": "markdown",
   "source": [
    "### Guided Practice 2.28\n",
    "\n",
    "The center of the `Gain` group is definitely greater than the `No Gain` group's, and same goes for the variability (which can easily be deducted from the hollow histogram). The shape is notvery similar since the `Gain` group has only one mode, while the `No Gain` has visibly two prominent modes."
   ],
   "metadata": {}
  },
  {
   "cell_type": "markdown",
   "source": [
    "### Guided Practice 2.29\n",
    "\n",
    "Descriptive statistics are definitely more visible in the side-by-side box plots, while the shape of the data (the number of modes, the spread, etc) are more visible in the hollow histogram."
   ],
   "metadata": {}
  },
  {
   "cell_type": "markdown",
   "source": [
    "### Exercise 2.21 - Antibiotic use in children.\n",
    "\n",
    "* (a) Relative frequency.\n",
    "* (b) Maybe the different coloring catches the attention better on the distribution? Otherwise I don't know.\n",
    "* (c) The bar plot, absolutely."
   ],
   "metadata": {}
  },
  {
   "cell_type": "markdown",
   "source": [
    "### Exercise 2.22 - Views on immigration.\n",
    "\n",
    "* (a) $\\frac{372}{910} = 40.88\\%$.\n",
    "* (b) $\\frac{278}{910} = 30.55\\%$.\n",
    "* (c) $\\frac{57}{372} = 15.32\\%$, $\\frac{120}{363} = 33.06\\%$ and $\\frac{101}{175} = 57.71\\%$, respectively.\n",
    "* (d) Political ideology and view on the immigration matter seem to be dependent, since we can see this sort of gradient of percentages which is very low for conservatives (not supporting this view) but very high for liberals supporting this view."
   ],
   "metadata": {}
  },
  {
   "cell_type": "markdown",
   "source": [
    "### Exercise 2.23 - Views on the DREAM Act.\n",
    "\n",
    "The size of the tile representing Liberals who support the DREAM act seems to be greater than the respective tile in the other two political groups."
   ],
   "metadata": {}
  },
  {
   "cell_type": "markdown",
   "source": [
    "### Exercise 2.24 - Raise taxes.\n",
    "\n",
    "Democrats support rasing taxes on the rich more than the other two groups, as we can see from the considerably larger tile."
   ],
   "metadata": {}
  },
  {
   "cell_type": "markdown",
   "source": [
    "### Guided Practice 2.31\n",
    "\n",
    "The two variables are not associated, i.e. independent."
   ],
   "metadata": {}
  },
  {
   "cell_type": "markdown",
   "source": [
    "### Guided Practice 2.32\n",
    "\n",
    "This an experiment (we are randomizing the control and treatment groups). The sample size is quite small but it shows that there is a causal relationship between vaccine and immunity."
   ],
   "metadata": {}
  },
  {
   "cell_type": "markdown",
   "source": [
    "### Guided Practice 2.34\n",
    "\n",
    "The infection rates are still different and in the treatment group we have 50% infection rate, while in the control group 33%. The 50% is of course less than 64%, but this is a purely random shuffle."
   ],
   "metadata": {}
  },
  {
   "cell_type": "markdown",
   "source": [
    "### Exercise 2.25  - Side effects of Avandia.\n",
    "\n",
    "* (a)\n",
    "    * (i) False. People using this medicine are more than those using the alternative.\n",
    "    * (ii) False. The difference is so small it can be due to chance.\n",
    "    * (iii) False. The rate of incidence is marginally higher.\n",
    "    * (iv) True, the rates of incidence differ by a small amount.\n",
    "* (b) $\\frac{7,979}{227,571} = 3.51\\%$.\n",
    "* (c) I am assuming they are already independent and that is the correct proportion.\n",
    "* (d)\n",
    "    * (i) We are testing whether or not rosiglitazone usage causes heart problems.\n",
    "    * (ii) Actually fewer patients with cardiovascular problems.\n",
    "    * (iii) It suggests they're independent facts."
   ],
   "metadata": {}
  },
  {
   "cell_type": "markdown",
   "source": [
    "### Exercise 2.26 - Heart transplants.\n",
    "\n",
    "* (a) Here we are seeing a difference in outcomes, but it's early to tell if there's a difference in survival.\n",
    "* (b) It suggests that it definitely works in keeping the individual alive for a way longer time at least than those in the control group.\n",
    "* (c) Respectively, $\\frac{45}{69} = 65.21\\%$ and $\\frac{30}{34} = 88.23\\%$.\n",
    "* (d)\n",
    "    * (i) It's being tested if heart transplant is effective in preventing death associated with severe heart disease.\n",
    "    * (ii) 28; 75; 69; 34; zero; 0.25.\n",
    "    * (iii) It definitely suggests the outcomes are not random."
   ],
   "metadata": {}
  },
  {
   "cell_type": "markdown",
   "source": [],
   "metadata": {}
  }
 ],
 "metadata": {
  "orig_nbformat": 4,
  "language_info": {
   "name": "python",
   "version": "3.9.6",
   "mimetype": "text/x-python",
   "codemirror_mode": {
    "name": "ipython",
    "version": 3
   },
   "pygments_lexer": "ipython3",
   "nbconvert_exporter": "python",
   "file_extension": ".py"
  },
  "kernelspec": {
   "name": "python3",
   "display_name": "Python 3.9.6 64-bit ('base': conda)"
  },
  "interpreter": {
   "hash": "a473aa0524f7e71cff5bf41ad0f6e637ac4e671de457aeaaf8dd3e29779b2e94"
  }
 },
 "nbformat": 4,
 "nbformat_minor": 2
}