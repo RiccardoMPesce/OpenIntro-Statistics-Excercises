{
 "cells": [
  {
   "cell_type": "markdown",
   "source": [
    "# Chapter 5: Foundations for inference"
   ],
   "metadata": {}
  },
  {
   "cell_type": "markdown",
   "source": [
    "### Guided Practice 5.5\n",
    "\n",
    "The number of observations $n$ is at the denominator of the formula for the standard deviation, therefore the greater it is, the closer to zero the standard distribution becomes."
   ],
   "metadata": {}
  },
  {
   "cell_type": "markdown",
   "source": [
    "### Exercise 5.1 - Identify the parameter, Part I.\n",
    "\n",
    "* (a) Mean, since it would make sense to talk about average hours spent.\n",
    "* (b) Proportion.\n",
    "* (c) Proportion.\n",
    "* (d) Proportion.\n",
    "* (e) Depending on the question we want to answer. THe average waiting time (so mean) can be suitable, as well as whether or not the student got employed within the first year or not."
   ],
   "metadata": {}
  },
  {
   "cell_type": "markdown",
   "source": [
    "### Exercise 5.2 - Identify the parameter, Part II.\n",
    "\n",
    "* (a) Proportion.\n",
    "* (b) Mean.\n",
    "* (c) Proportion.\n",
    "* (d) Proportion.\n",
    "* (e) Mean."
   ],
   "metadata": {}
  },
  {
   "cell_type": "markdown",
   "source": [],
   "metadata": {}
  }
 ],
 "metadata": {
  "orig_nbformat": 4,
  "language_info": {
   "name": "python"
  }
 },
 "nbformat": 4,
 "nbformat_minor": 2
}