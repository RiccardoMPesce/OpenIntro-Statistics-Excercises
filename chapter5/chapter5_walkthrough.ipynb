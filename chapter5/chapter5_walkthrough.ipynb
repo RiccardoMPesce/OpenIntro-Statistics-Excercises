{
 "cells": [
  {
   "cell_type": "markdown",
   "source": [
    "# Chapter 5: Foundations for inference"
   ],
   "metadata": {}
  },
  {
   "cell_type": "markdown",
   "source": [
    "### Guided Practice 5.5\n",
    "\n",
    "The number of observations $n$ is at the denominator of the formula for the standard deviation, therefore the greater it is, the closer to zero the standard distribution becomes."
   ],
   "metadata": {}
  },
  {
   "cell_type": "markdown",
   "source": [
    "### Exercise 5.1 - Identify the parameter, Part I.\n",
    "\n",
    "* (a) Mean, since it would make sense to talk about average hours spent.\n",
    "* (b) Proportion.\n",
    "* (c) Proportion.\n",
    "* (d) Proportion.\n",
    "* (e) Depending on the question we want to answer. THe average waiting time (so mean) can be suitable, as well as whether or not the student got employed within the first year or not."
   ],
   "metadata": {}
  },
  {
   "cell_type": "markdown",
   "source": [
    "### Exercise 5.2 - Identify the parameter, Part II.\n",
    "\n",
    "* (a) Proportion.\n",
    "* (b) Mean.\n",
    "* (c) Proportion.\n",
    "* (d) Proportion.\n",
    "* (e) Mean."
   ],
   "metadata": {}
  },
  {
   "cell_type": "markdown",
   "source": [
    "### Exercise 5.3 - Quality control.\n",
    "\n",
    "* (a) Chips produced at the factory.\n",
    "* (b) We are estimating the rate of chips with defects.\n",
    "* (c) The point estimate is $\\hat{p} = \\frac{27}{212} = 0.1274 = 12.74\\%$.\n",
    "* (d) We can use the _standard error_.\n",
    "* (e) $SE_{\\hat{p}} = \\sqrt{\\frac{p(1 - p)}{n}} = 0.0229 = 2.29\\%$.\n",
    "* (f) Since $Z = -1.19$, I don't think $10$ is an unexpected value.\n",
    "* (g) The standard error would change slightly."
   ],
   "metadata": {}
  },
  {
   "cell_type": "markdown",
   "source": [
    "### Exercise 5.4 - Unexpected expense.\n",
    "\n",
    "* (a) The whole US adult population.\n",
    "* (b) The proportion of US americans who couldn't cover a $400$ unexpected expense without borrowing and/or going into debt.\n",
    "* (c) The point estimate is $\\hat{p} = \\frac{322}{765} = 0.4209 = 42.09\\%$.\n",
    "* (d) The _standard error_.\n",
    "* (e) $SE_{\\hat{p}} = \\sqrt{\\frac{p(1 - p)}{n}} = 0.0178 = 1.78\\%$.\n",
    "* (f) She should be really surprised since that is $Z = 4.44$ standard deviations away from the mean.\n",
    "* (e) There wouldn't be much change in the standard error."
   ],
   "metadata": {}
  },
  {
   "cell_type": "markdown",
   "source": [
    "### Exercise 5.5 - Repeated water samples.\n",
    "\n",
    "* (a) This is called _sampling distribution_.\n",
    "* (b) Since for both bounding values both $np$ and $n(1 - p)$ are greater than 10, I expect the distribution to be quite symmetric.\n",
    "* (c) $SE_{\\hat{p}} = 0.0096 = 0.96\\%$.\n",
    "* (d) The _standard error_.\n",
    "* (e) The new standard error will be greater since each sample consists of less observations."
   ],
   "metadata": {}
  },
  {
   "cell_type": "markdown",
   "source": [
    "### Exercise 5.6 - Repeated student samples.\n",
    "\n",
    "* (a) _Sampling distribution_.\n",
    "* (b) Since $np = 6.4$ and $n(1 - p) = 33.6$, it will be more left-skewed.\n",
    "* (c) $SE_{\\hat{p}} = 0.058 = 5.80\\%$.\n",
    "* (d) The _standard error_.\n",
    "* (e) Since the sample has more observations, the variability (i.e. the standard error in this case) will decrease."
   ],
   "metadata": {}
  },
  {
   "cell_type": "markdown",
   "source": [
    "### Guided Practice 5.6\n",
    "\n",
    "The wider the interval, the safer we will capture the propulation proportion."
   ],
   "metadata": {}
  },
  {
   "cell_type": "markdown",
   "source": [
    "### Guided Practice 5.9\n",
    "\n",
    "Probability is $P(Z \\le |2.58|) = 0.99 = 99\\%$."
   ],
   "metadata": {}
  },
  {
   "cell_type": "markdown",
   "source": [
    "### Guided Practice 5.14\n",
    "\n",
    "* (a) It means that 95% of the time the proportion will be within the interval we found.\n",
    "* (b) We don't have any clue. It might be different given what happened (COVID-19)."
   ],
   "metadata": {}
  },
  {
   "cell_type": "markdown",
   "source": [
    "### Guided Practice 5.15\n",
    "\n",
    "* (a) Since $np = 848$ and $n(1 - p) = 152$, we can use the normal distribution in this case.\n",
    "* (b) The 99% confidence interval is $[\\hat{p} - 2.58 * SE_{\\hat{p}}, \\hat{p} + 2.58 * SE_{\\hat{p}}] = [0.8188, 0.8772]$."
   ],
   "metadata": {}
  },
  {
   "cell_type": "markdown",
   "source": [
    "### Guided Practice 5.16\n",
    "\n",
    "No since, the confidence interval is a range of plausible values."
   ],
   "metadata": {}
  },
  {
   "cell_type": "markdown",
   "source": [
    "### Exercise 5.7 - Chronic illness, Part I.\n",
    "\n",
    "The 95% confidence interval is $[\\hat{p} - 1.96 * SE_{\\hat{p}}, \\hat{p} + 1.96 * SE_{\\hat{p}}] = [42.65\\%, 47.35\\%]$. This means that each time we sample the same number of Americans and conduct such study, 95% of the time we get a result within that interval."
   ],
   "metadata": {}
  },
  {
   "cell_type": "markdown",
   "source": [
    "### Exercise 5.8 - Twitter users and news, Part I.\n",
    "\n",
    "The 99% confidence interval is $[\\hat{p} - 2.58 * SE_{\\hat{p}}, \\hat{p} + 2.58 * SE_{\\hat{p}}] = [45.81\\%, 58.19\\%]$. Again, by sampling the same amount of Americans and repeating the experiment, 99% of the times we get a value within our interval. "
   ],
   "metadata": {}
  },
  {
   "cell_type": "markdown",
   "source": [
    "### Exercise 5.9 - Chronic illness, Part II.\n",
    "\n",
    "* (a) False, there is no certainty since that interval will contain the percentage for each equally-sized sample only 95% of the times.\n",
    "* (b) True, since they will catch the true poportion 95% of the times, so approximately 950 intervals.\n",
    "* (c) Yes, since 95% of the times we get a value in that interval.\n",
    "* (d) False, standard error represent the variability among same sized samples."
   ],
   "metadata": {}
  },
  {
   "cell_type": "markdown",
   "source": [
    "### Exercise 5.10 - Twitter users and news, Part II. \n",
    "\n",
    "* (a) False, since the interval contains values less than 50%.\n",
    "* (b) False, since the standard error refers to variability between samples.\n",
    "* (c) False, we should collect more data.\n",
    "* (d) False, it will be narrower."
   ],
   "metadata": {}
  },
  {
   "cell_type": "markdown",
   "source": [
    "### Exercise 5.11 - Waiting at an ER, Part I.\n",
    "\n",
    "* (a) False, being the sample in question the one we used to calculate these statistics, we are 100% confident.\n",
    "* (b) True, since this is the confidence level used, and being the sample random, we can generalize.\n",
    "* (c) True, since if we resample other 64 Americans, we get a population mean between this interval.\n",
    "* (d) False, a 99% confidence interval will be larger.\n",
    "* (e) Sample mean is $\\frac{147 + 128}{2} = 137.5$ while margin of error is $\\frac{147 - 128}{2} = 9.5$.\n",
    "* (f) True, since the sample size is in the denominator."
   ],
   "metadata": {}
  },
  {
   "cell_type": "markdown",
   "source": [
    "### Exercise 5.12 - Mental health.\n",
    "\n",
    "* (a) Since days are a numerical discrete variable, the interval would not make sense in the context of the problem, but it shows that there is little variation around 4, which is the only plausible value.\n",
    "* (b) It means that such interval would catch the same average with an equally sized sample 95% percent of the time.\n",
    "* (c) It will be wider.\n",
    "* (d) The standard error would be greater given the smaller sample."
   ],
   "metadata": {}
  },
  {
   "cell_type": "markdown",
   "source": [
    "### Exercise 5.13 - Website registration.\n",
    "\n",
    "* (a) Let $\\hat{p} = \\frac{64}{752} = 0.09$, we have that $np = 64$ and $n(1 - p) = 688$.\n",
    "* (b) $SE_{\\hat{p}} = 0.01$.\n",
    "* (c) $[\\hat{p} - 1.645 * SE_{\\hat{p}},\\ \\hat{p} + 1.645 * SE_{\\hat{p}}] = [0.0735,\\ 0.1065]$."
   ],
   "metadata": {}
  },
  {
   "cell_type": "markdown",
   "source": [
    "### Exercise 5.14 - Coupons driving visits.\n",
    "\n",
    "We have $\\hat{p} = 0.235$ and $SE_{\\hat{p}} = 0.017$, so our 95% confidence interval is $[0.202, 0.269]$."
   ],
   "metadata": {}
  },
  {
   "cell_type": "markdown",
   "source": [
    "### Guided Practice 5.17\n",
    "\n",
    "In this case, the null hypothesis is that the defendant is innocent, while the alternative hypothesis in that the defendant is guilty."
   ],
   "metadata": {}
  },
  {
   "cell_type": "markdown",
   "source": [
    "### Guided Practice 5.19\n",
    "\n",
    "The null hypothesis is that the drug is as effective as the existing one, while the alternative is that the drug performs differently (for better or worse)."
   ],
   "metadata": {}
  },
  {
   "cell_type": "markdown",
   "source": [
    "### Guided Practice 5.22\n",
    "\n",
    "$H_{0}$: the proportion of those who get the correct answer is the same as random guessing ($p = 0.333$). $H_{A}$: the proportion of those who get the correct answer is different than random guessing ($p \\ne 0.333$)."
   ],
   "metadata": {}
  },
  {
   "cell_type": "markdown",
   "source": [
    "### Guided Practice 5.23\n",
    "\n",
    "Assuming they're independent, let's check the _success-failure condition_: $np = 33.972$ and $n(1 - p) = 194.028$. It is therefore reasonable."
   ],
   "metadata": {}
  },
  {
   "cell_type": "markdown",
   "source": [
    "### Guided Practice 5.25\n",
    "\n",
    "Type I Error would be judging the defendant guilty while he/she is innocent, while Type II Error would be judging the defendant innocent while he/she is guilty."
   ],
   "metadata": {}
  },
  {
   "cell_type": "markdown",
   "source": [
    "### Guided Practice 5.27\n",
    "\n",
    "We could lower the threshold to convict someone, by allowing for less evidence/analysis. But this would increase Type I Error."
   ],
   "metadata": {}
  },
  {
   "cell_type": "markdown",
   "source": [
    "### Guided Practice 5.32\n",
    "\n",
    "A logical null hypothesis H<sub>0</sub> is that the proportion _p_ is equal to 0.5 (meaning those who support are in the same measure as those who oppose nuclear arms reduction), while the alternative hypothesis is that _p_ is not equal to 0.5."
   ],
   "metadata": {}
  },
  {
   "cell_type": "markdown",
   "source": [
    "### Guided Practice 5.36\n",
    "\n",
    "H<sub>0</sub> represent the hypothesis that the machine works well even without this component while H<sub>A</sub> represents the hypothesis that the machine works differently without this component. We would like to use a larger significant level because it is more costly to fail to reject the null hypothesis."
   ],
   "metadata": {}
  },
  {
   "cell_type": "markdown",
   "source": [
    "### Exercise 5.15 - Identify hypotheses, Part I. \n",
    "\n",
    "* (a) The null hypothesis is that grades have not changed ($H_{0}$) while the alternative hypothesis ($H_{A}$) is that there is some change in the students grades.\n",
    "* (b) The null hypothesis ($H_{0}$) is that there's no evidence about productivity diminished during March Madness, while alternative hypothesis ($H_{A}$) is that there's a diminishing in employees productivity."
   ],
   "metadata": {}
  },
  {
   "cell_type": "markdown",
   "source": [
    "### 5.16 Identify hypotheses, Part II.\n",
    "\n",
    "* (a) The null hypothesis is that the average calorie counts is the same (i.e. $H_{0} : \\hat{p} = 1100$), while the alternative hypothesis is that the average calorie counts is different (i.e. $H_{A} : \\hat{p} \\ne 1100$).\n",
    "* (b) The null hypothesis is that the fraction of adult residents who consumed alcohol is the same as the national rate (i.e. $H_{0} : \\hat{p} = 0.7$) while the alternative hypothesis is that the fraction is different than the national rate (i.e. $H_{A} : \\hat{p} \\ne 0.7$)."
   ],
   "metadata": {}
  },
  {
   "cell_type": "markdown",
   "source": [
    "### Exercise 5.17 - Online communication.\n",
    "\n",
    "It should be $H_{0} : \\hat{p} = 0.6$ and $H_{A} : \\hat{p} \\ne 0.6$."
   ],
   "metadata": {}
  },
  {
   "cell_type": "markdown",
   "source": [
    "### Exercise 5.18 - Married at 25.\n",
    "\n",
    "It should be $H_{0} : \\hat{p} = 0.25$ and $H_{A} : \\hat{p} \\ne 0.25$."
   ],
   "metadata": {}
  },
  {
   "cell_type": "markdown",
   "source": [
    "### Exercise 5.19 - Cyberbullying rates.\n",
    "\n",
    "* (a) Yes, since the confidence interval goes from 54% to 64%, therefore 95% of the samples will have a proportion of teens who suffered cyberbullism within this interval.\n",
    "* (b) No, this claim is well beyond the boundaries of our confidence interval.\n",
    "* (c) Lowering the confidence from 95% to 90% will give us a broader confidence interval, therefore it is definitely more possible to support that the proportion of teens suffering cyberbullism is 70%."
   ],
   "metadata": {}
  },
  {
   "cell_type": "markdown",
   "source": [
    "### Exercise 5.20 - Waiting at an ER, Part II.\n",
    "\n",
    "* (a) No, since three hours is 180 minutes, i.e. well beyond the confidence interval.\n",
    "* (b) Yes, since 2.2 hours is 132 minutes which is inside the confidence interval.\n",
    "* (c) The confidence interval would expand, leaving us with a bigger one which will definitely include the already included value of 132."
   ],
   "metadata": {}
  },
  {
   "cell_type": "markdown",
   "source": [
    "### Exercise 5.21 - Minimum wage, Part I.\n",
    "\n",
    "We have that $H_{0} : p_{0} = 0.50$ and $H_{A} : p_{0} \\ne 0.50$. We find that $SE_{\\hat{p}} = 0.015$. Let's compute the Z-score, $Z = \\frac{0.42 - 0.50}{0.015} = -5.33$, and that's about 5 standard deviation away from the mean. Let's compute the probability of a such a value (considering both sides), obtaining $P(Z > |5.33|) = P(x \\lt 0.42) + P(x \\gt 0.58) = 9.82 * 10^{-8}$, so a very small value, way less than $0.05$.\n"
   ],
   "metadata": {}
  },
  {
   "cell_type": "markdown",
   "source": [
    "### Exercise 5.22 - Getting enough sleep.\n",
    "\n",
    "We have that $\\hat{p} = 0.7225$, $SE_{\\hat{p}} = 0.0224$. We find that $Z_{\\hat{p}} = 9.94$, which translates to a probability of almost zero, so close to zero that Python recognizes it as a zero. We have then to reject the null hypothesis and accept that the result is statistically significant."
   ],
   "metadata": {}
  },
  {
   "cell_type": "markdown",
   "source": [],
   "metadata": {}
  }
 ],
 "metadata": {
  "interpreter": {
   "hash": "a473aa0524f7e71cff5bf41ad0f6e637ac4e671de457aeaaf8dd3e29779b2e94"
  },
  "kernelspec": {
   "name": "python3",
   "display_name": "Python 3.9.7 64-bit ('base': conda)"
  },
  "language_info": {
   "codemirror_mode": {
    "name": "ipython",
    "version": 3
   },
   "file_extension": ".py",
   "mimetype": "text/x-python",
   "name": "python",
   "nbconvert_exporter": "python",
   "pygments_lexer": "ipython3",
   "version": "3.9.7"
  }
 },
 "nbformat": 4,
 "nbformat_minor": 4
}