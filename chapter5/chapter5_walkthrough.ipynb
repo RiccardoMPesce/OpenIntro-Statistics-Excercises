{
 "cells": [
  {
   "cell_type": "markdown",
   "source": [
    "# Chapter 5: Foundations for inference"
   ],
   "metadata": {}
  },
  {
   "cell_type": "markdown",
   "source": [
    "### Guided Practice 5.5\n",
    "\n",
    "The number of observations $n$ is at the denominator of the formula for the standard deviation, therefore the greater it is, the closer to zero the standard distribution becomes."
   ],
   "metadata": {}
  },
  {
   "cell_type": "markdown",
   "source": [
    "### Exercise 5.1 - Identify the parameter, Part I.\n",
    "\n",
    "* (a) Mean, since it would make sense to talk about average hours spent.\n",
    "* (b) Proportion.\n",
    "* (c) Proportion.\n",
    "* (d) Proportion.\n",
    "* (e) Depending on the question we want to answer. THe average waiting time (so mean) can be suitable, as well as whether or not the student got employed within the first year or not."
   ],
   "metadata": {}
  },
  {
   "cell_type": "markdown",
   "source": [
    "### Exercise 5.2 - Identify the parameter, Part II.\n",
    "\n",
    "* (a) Proportion.\n",
    "* (b) Mean.\n",
    "* (c) Proportion.\n",
    "* (d) Proportion.\n",
    "* (e) Mean."
   ],
   "metadata": {}
  },
  {
   "cell_type": "markdown",
   "source": [
    "### Exercise 5.3 - Quality control.\n",
    "\n",
    "* (a) Chips produced at the factory.\n",
    "* (b) We are estimating the rate of chips with defects.\n",
    "* (c) The point estimate is $\\hat{p} = \\frac{27}{212} = 0.1274 = 12.74\\%$.\n",
    "* (d) We can use the _standard error_.\n",
    "* (e) $SE_{\\hat{p}} = \\sqrt{\\frac{p(1 - p)}{n}} = 0.0229 = 2.29\\%$.\n",
    "* (f) Since $Z = -1.19$, I don't think $10$ is an unexpected value.\n",
    "* (g) The standard error would change slightly."
   ],
   "metadata": {}
  },
  {
   "cell_type": "markdown",
   "source": [
    "### Exercise 5.4 - Unexpected expense.\n",
    "\n",
    "* (a) The whole US adult population.\n",
    "* (b) The proportion of US americans who couldn't cover a $400$ unexpected expense without borrowing and/or going into debt.\n",
    "* (c) The point estimate is $\\hat{p} = \\frac{322}{765} = 0.4209 = 42.09\\%$.\n",
    "* (d) The _standard error_.\n",
    "* (e) $SE_{\\hat{p}} = \\sqrt{\\frac{p(1 - p)}{n}} = 0.0178 = 1.78\\%$.\n",
    "* (f) She should be really surprised since that is $Z = 4.44$ standard deviations away from the mean.\n",
    "* (e) There wouldn't be much change in the standard error."
   ],
   "metadata": {}
  },
  {
   "cell_type": "markdown",
   "source": [
    "### Exercise 5.5 - Repeated water samples.\n",
    "\n",
    "* (a) This is called _sampling distribution_.\n",
    "* (b) Since for both bounding values both $np$ and $n(1 - p)$ are greater than 10, I expect the distribution to be quite symmetric.\n",
    "* (c) $SE_{\\hat{p}} = 0.0096 = 0.96\\%$.\n",
    "* (d) The _standard error_.\n",
    "* (e) The new standard error will be greater since each sample consists of less observations."
   ],
   "metadata": {}
  },
  {
   "cell_type": "markdown",
   "source": [
    "### Exercise 5.6 - Repeated student samples.\n",
    "\n",
    "* (a) _Sampling distribution_.\n",
    "* (b) Since $np = 6.4$ and $n(1 - p) = 33.6$, it will be more left-skewed.\n",
    "* (c) $SE_{\\hat{p}} = 0.058 = 5.80\\%$.\n",
    "* (d) The _standard error_.\n",
    "* (e) Since the sample has more observations, the variability (i.e. the standard error in this case) will decrease."
   ],
   "metadata": {}
  },
  {
   "cell_type": "markdown",
   "source": [
    "### Guided Practice 5.6\n",
    "\n",
    "The wider the interval, the safer we will capture the propulation proportion."
   ],
   "metadata": {}
  },
  {
   "cell_type": "markdown",
   "source": [
    "### Guided Practice 5.9\n",
    "\n",
    "Probability is $P(Z \\le |2.58|) = 0.99 = 99\\%$."
   ],
   "metadata": {}
  },
  {
   "cell_type": "markdown",
   "source": [
    "### Guided Practice 5.14\n",
    "\n",
    "* (a) It means that 95% of the time the proportion will be within the interval we found.\n",
    "* (b) We don't have any clue. It might be different given what happened (COVID-19)."
   ],
   "metadata": {}
  },
  {
   "cell_type": "markdown",
   "source": [
    "### Guided Practice 5.15\n",
    "\n",
    "* (a) Since $np = 848$ and $n(1 - p) = 152$, we can use the normal distribution in this case.\n",
    "* (b) The 99% confidence interval is $[\\hat{p} - 2.58 * SE_{\\hat{p}}, \\hat{p} + 2.58 * SE_{\\hat{p}}] = [0.8188, 0.8772]$."
   ],
   "metadata": {}
  },
  {
   "cell_type": "markdown",
   "source": [
    "### Guided Practice 5.16\n",
    "\n",
    "No since, the confidence interval is a range of plausible values."
   ],
   "metadata": {}
  }
 ],
 "metadata": {
  "interpreter": {
   "hash": "a473aa0524f7e71cff5bf41ad0f6e637ac4e671de457aeaaf8dd3e29779b2e94"
  },
  "kernelspec": {
   "name": "python3",
   "display_name": "Python 3.9.7 64-bit ('base': conda)"
  },
  "language_info": {
   "codemirror_mode": {
    "name": "ipython",
    "version": 3
   },
   "file_extension": ".py",
   "mimetype": "text/x-python",
   "name": "python",
   "nbconvert_exporter": "python",
   "pygments_lexer": "ipython3",
   "version": "3.9.7"
  }
 },
 "nbformat": 4,
 "nbformat_minor": 4
}