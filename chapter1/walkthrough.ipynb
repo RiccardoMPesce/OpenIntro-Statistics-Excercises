{
 "metadata": {
  "language_info": {
   "codemirror_mode": {
    "name": "ipython",
    "version": 3
   },
   "file_extension": ".py",
   "mimetype": "text/x-python",
   "name": "python",
   "nbconvert_exporter": "python",
   "pygments_lexer": "ipython3",
   "version": "3.9.6"
  },
  "orig_nbformat": 4,
  "kernelspec": {
   "name": "python3",
   "display_name": "Python 3.9.6 64-bit ('base': conda)"
  },
  "interpreter": {
   "hash": "a473aa0524f7e71cff5bf41ad0f6e637ac4e671de457aeaaf8dd3e29779b2e94"
  }
 },
 "nbformat": 4,
 "nbformat_minor": 2,
 "cells": [
  {
   "source": [
    "# Chapter 1: Introduction to Data - Walkthrough\n",
    "\n",
    "#### Walkthrough of the chapter's *Guided Practice* and exercises."
   ],
   "cell_type": "markdown",
   "metadata": {}
  },
  {
   "source": [
    "### Guided Practice 1.1\n",
    "The proportion of patients in treatment group who had a stroke by the end of their first year can be calculated as \n",
    "\\begin{equation}\n",
    "\\frac{45}{45 + 179} = \\frac{45}{224} = 0.20 = 20\\%\n",
    "\\end{equation}"
   ],
   "cell_type": "markdown",
   "metadata": {}
  },
  {
   "source": [
    "### Exercise 1.1 - Migraine and acupuncture, Part I\n",
    "\n",
    "* (a) Around 23.26% of those who received acupuncture were pain free in the treatment group after 24 hours.\n",
    "* (b) In the control group, around 4.34% were pain free after 24 hours.\n",
    "* (c) In treatment group we find the highest percentage of pain free patients.\n",
    "* (d) We might have sampled a population that is not representative of the whole population who suffer from migraine. Even if bad sampling can be an issue, it might not be the only one though.\n"
   ],
   "cell_type": "markdown",
   "metadata": {}
  },
  {
   "source": [
    "### Exercise 1.2 - Sinusitis and antibiotics, Part I\n",
    "* (a) Around 77.65% of patients in the treatment group reported improvements in symptoms.\n",
    "* (b) Around 80.25% of patients in the control group reported improvements in symptoms.\n",
    "* (c) We have a slightly greater percentage in the control group.\n",
    "* (d) First of all, we see in this sample a higher percentage in the control group. However, the difference in the percentage is so small it could be from random fluctuations which are normal in these kinds of studies. From this sample, we can't deduct anything real.\n"
   ],
   "cell_type": "markdown",
   "metadata": {}
  }
 ]
}