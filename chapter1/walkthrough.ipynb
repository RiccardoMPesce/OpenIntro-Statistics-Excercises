{
 "metadata": {
  "language_info": {
   "codemirror_mode": {
    "name": "ipython",
    "version": 3
   },
   "file_extension": ".py",
   "mimetype": "text/x-python",
   "name": "python",
   "nbconvert_exporter": "python",
   "pygments_lexer": "ipython3",
   "version": "3.9.6"
  },
  "orig_nbformat": 4,
  "kernelspec": {
   "name": "python3",
   "display_name": "Python 3.9.6 64-bit ('base': conda)"
  },
  "interpreter": {
   "hash": "a473aa0524f7e71cff5bf41ad0f6e637ac4e671de457aeaaf8dd3e29779b2e94"
  }
 },
 "nbformat": 4,
 "nbformat_minor": 2,
 "cells": [
  {
   "cell_type": "markdown",
   "source": [
    "# Chapter 1: Introduction to Data\n",
    "\n",
    "#### Walkthrough of the chapter's *Guided Practice* and exercises."
   ],
   "metadata": {}
  },
  {
   "cell_type": "markdown",
   "source": [
    "### Guided Practice 1.1\n",
    "The proportion of patients in treatment group who had a stroke by the end of their first year can be calculated as \n",
    "\\begin{equation}\n",
    "\\frac{45}{45 + 179} = \\frac{45}{224} = 0.20 = 20\\%\n",
    "\\end{equation}"
   ],
   "metadata": {}
  },
  {
   "cell_type": "markdown",
   "source": [
    "### Exercise 1.1 - Migraine and acupuncture, Part I\n",
    "\n",
    "* (a) Around 23.26% of those who received acupuncture were pain free in the treatment group after 24 hours.\n",
    "* (b) In the control group, around 4.34% were pain free after 24 hours.\n",
    "* (c) In treatment group we find the highest percentage of pain free patients.\n",
    "* (d) We might have sampled a population that is not representative of the whole population who suffer from migraine. Even if bad sampling can be an issue, it might not be the only one though.\n"
   ],
   "metadata": {}
  },
  {
   "cell_type": "markdown",
   "source": [
    "### Exercise 1.2 - Sinusitis and antibiotics, Part I\n",
    "* (a) Around 77.65% of patients in the treatment group reported improvements in symptoms.\n",
    "* (b) Around 80.25% of patients in the control group reported improvements in symptoms.\n",
    "* (c) We have a slightly greater percentage in the control group.\n",
    "* (d) First of all, we see in this sample a higher percentage in the control group. However, the difference in the percentage is so small it could be from random fluctuations which are normal in these kinds of studies. From this sample, we can't deduct anything real.\n"
   ],
   "metadata": {}
  },
  {
   "cell_type": "markdown",
   "source": [
    "### Guided Practice 1.2\n",
    "The grade of the first loan (as shown in the book) is __A__. The home ownership is __rent__."
   ],
   "metadata": {}
  },
  {
   "cell_type": "markdown",
   "source": [
    "### Guided Practice 1.3\n",
    "An feasible organization of grades could be the following:\n",
    "\n",
    "| Name            | Description                                |\n",
    "|-----------------|--------------------------------------------|\n",
    "| `student_name`  | The student name                           |\n",
    "| `homework_type` | The type (can be assignment, quiz or exam) |\n",
    "| `class`         | The class for which the grade refers to    |\n",
    "| `grade`         | The actual grade                           |\n",
    "\n",
    "It is not exhaustive but it gets the job done."
   ],
   "metadata": {}
  },
  {
   "cell_type": "markdown",
   "source": [
    "### Guided Practice 1.4\n",
    "\n",
    "We can set up a data matrix such as:\n",
    "\n",
    "| Name                                               | Description                                |\n",
    "|----------------------------------------------------|--------------------------------------------|\n",
    "| `county`                                           | The county name                            |\n",
    "| `state`                                            | The state in which it is located.          |\n",
    "| `population_in_2017`                               | The class for which the grade refers to    |\n",
    "| `population_change_2010_2017`                      | The actual grade                           |\n",
    "| `poverty`                                          | Poverty index.                             |\n",
    "| `etc...`                                           | The additional six characteristics         |\n"
   ],
   "metadata": {}
  },
  {
   "cell_type": "markdown",
   "source": [
    "### Guided Practice 1.6\n",
    "The variable `group` is categorical, while the variable `num_migraines` is discrete."
   ],
   "metadata": {}
  },
  {
   "cell_type": "markdown",
   "source": [
    "### Guided Practice 1.7\n",
    "In order to create questions, we need to see the data matrix for the dataset `loan50`. To do so we import it with `pandas`. Let's start by importing all the relevant data analysis libraries."
   ],
   "metadata": {}
  },
  {
   "cell_type": "code",
   "execution_count": 2,
   "source": [
    "import numpy as np \n",
    "import pandas as pd\n",
    "import matplotlib.pyplot as plt\n",
    "\n",
    "from pathlib import Path"
   ],
   "outputs": [],
   "metadata": {}
  },
  {
   "cell_type": "markdown",
   "source": [
    "Now let's read the csv file which contains our dataset."
   ],
   "metadata": {}
  },
  {
   "cell_type": "code",
   "execution_count": 3,
   "source": [
    "datasets_folder = Path(\"../datasets/\")\n",
    "loan50_file = datasets_folder / \"loan50.csv\"\n",
    "\n",
    "loan50_df = pd.read_csv(loan50_file)"
   ],
   "outputs": [],
   "metadata": {}
  },
  {
   "cell_type": "markdown",
   "source": [
    "Let's get an idea about the data by showing the first 10 rows."
   ],
   "metadata": {}
  },
  {
   "cell_type": "code",
   "execution_count": 4,
   "source": [
    "display(loan50_df.head(10))"
   ],
   "outputs": [
    {
     "output_type": "display_data",
     "data": {
      "text/plain": [
       "  state  emp_length  term homeownership  annual_income  verified_income  \\\n",
       "0    NJ         3.0    60          rent          59000     Not Verified   \n",
       "1    CA        10.0    36          rent          60000     Not Verified   \n",
       "2    SC         NaN    36      mortgage          75000         Verified   \n",
       "3    CA         0.0    36          rent          75000     Not Verified   \n",
       "4    OH         4.0    60      mortgage         254000     Not Verified   \n",
       "5    IN         6.0    36      mortgage          67000  Source Verified   \n",
       "6    NY         2.0    36          rent          28800  Source Verified   \n",
       "7    MO        10.0    36      mortgage          80000     Not Verified   \n",
       "8    FL         6.0    60          rent          34000     Not Verified   \n",
       "9    FL         3.0    60      mortgage          80000  Source Verified   \n",
       "\n",
       "   debt_to_income  total_credit_limit  total_credit_utilized  \\\n",
       "0        0.557525               95131                  32894   \n",
       "1        1.305683               51929                  78341   \n",
       "2        1.056280              301373                  79221   \n",
       "3        0.574347               59890                  43076   \n",
       "4        0.238150              422619                  60490   \n",
       "5        1.077045              349825                  72162   \n",
       "6        0.099722               15980                   2872   \n",
       "7        0.350913              258439                  28073   \n",
       "8        0.697500               87705                  23715   \n",
       "9        0.166854              330394                  32036   \n",
       "\n",
       "   num_cc_carrying_balance        loan_purpose  loan_amount grade  \\\n",
       "0                        8  debt_consolidation        22000     B   \n",
       "1                        2         credit_card         6000     B   \n",
       "2                       14  debt_consolidation        25000     E   \n",
       "3                       10         credit_card         6000     B   \n",
       "4                        2    home_improvement        25000     B   \n",
       "5                        4    home_improvement         6400     B   \n",
       "6                        1  debt_consolidation         3000     D   \n",
       "7                        3         credit_card        14500     A   \n",
       "8                       10         credit_card        10000     A   \n",
       "9                        4  debt_consolidation        18500     C   \n",
       "\n",
       "   interest_rate  public_record_bankrupt loan_status  has_second_income  \\\n",
       "0          10.90                       0     Current              False   \n",
       "1           9.92                       1     Current              False   \n",
       "2          26.30                       0     Current              False   \n",
       "3           9.92                       0     Current              False   \n",
       "4           9.43                       0     Current              False   \n",
       "5           9.92                       0     Current              False   \n",
       "6          17.09                       0     Current              False   \n",
       "7           6.08                       0     Current              False   \n",
       "8           7.97                       0     Current              False   \n",
       "9          12.62                       1     Current               True   \n",
       "\n",
       "   total_income  \n",
       "0         59000  \n",
       "1         60000  \n",
       "2         75000  \n",
       "3         75000  \n",
       "4        254000  \n",
       "5         67000  \n",
       "6         28800  \n",
       "7         80000  \n",
       "8         34000  \n",
       "9        192000  "
      ],
      "text/html": [
       "<div>\n",
       "<style scoped>\n",
       "    .dataframe tbody tr th:only-of-type {\n",
       "        vertical-align: middle;\n",
       "    }\n",
       "\n",
       "    .dataframe tbody tr th {\n",
       "        vertical-align: top;\n",
       "    }\n",
       "\n",
       "    .dataframe thead th {\n",
       "        text-align: right;\n",
       "    }\n",
       "</style>\n",
       "<table border=\"1\" class=\"dataframe\">\n",
       "  <thead>\n",
       "    <tr style=\"text-align: right;\">\n",
       "      <th></th>\n",
       "      <th>state</th>\n",
       "      <th>emp_length</th>\n",
       "      <th>term</th>\n",
       "      <th>homeownership</th>\n",
       "      <th>annual_income</th>\n",
       "      <th>verified_income</th>\n",
       "      <th>debt_to_income</th>\n",
       "      <th>total_credit_limit</th>\n",
       "      <th>total_credit_utilized</th>\n",
       "      <th>num_cc_carrying_balance</th>\n",
       "      <th>loan_purpose</th>\n",
       "      <th>loan_amount</th>\n",
       "      <th>grade</th>\n",
       "      <th>interest_rate</th>\n",
       "      <th>public_record_bankrupt</th>\n",
       "      <th>loan_status</th>\n",
       "      <th>has_second_income</th>\n",
       "      <th>total_income</th>\n",
       "    </tr>\n",
       "  </thead>\n",
       "  <tbody>\n",
       "    <tr>\n",
       "      <th>0</th>\n",
       "      <td>NJ</td>\n",
       "      <td>3.0</td>\n",
       "      <td>60</td>\n",
       "      <td>rent</td>\n",
       "      <td>59000</td>\n",
       "      <td>Not Verified</td>\n",
       "      <td>0.557525</td>\n",
       "      <td>95131</td>\n",
       "      <td>32894</td>\n",
       "      <td>8</td>\n",
       "      <td>debt_consolidation</td>\n",
       "      <td>22000</td>\n",
       "      <td>B</td>\n",
       "      <td>10.90</td>\n",
       "      <td>0</td>\n",
       "      <td>Current</td>\n",
       "      <td>False</td>\n",
       "      <td>59000</td>\n",
       "    </tr>\n",
       "    <tr>\n",
       "      <th>1</th>\n",
       "      <td>CA</td>\n",
       "      <td>10.0</td>\n",
       "      <td>36</td>\n",
       "      <td>rent</td>\n",
       "      <td>60000</td>\n",
       "      <td>Not Verified</td>\n",
       "      <td>1.305683</td>\n",
       "      <td>51929</td>\n",
       "      <td>78341</td>\n",
       "      <td>2</td>\n",
       "      <td>credit_card</td>\n",
       "      <td>6000</td>\n",
       "      <td>B</td>\n",
       "      <td>9.92</td>\n",
       "      <td>1</td>\n",
       "      <td>Current</td>\n",
       "      <td>False</td>\n",
       "      <td>60000</td>\n",
       "    </tr>\n",
       "    <tr>\n",
       "      <th>2</th>\n",
       "      <td>SC</td>\n",
       "      <td>NaN</td>\n",
       "      <td>36</td>\n",
       "      <td>mortgage</td>\n",
       "      <td>75000</td>\n",
       "      <td>Verified</td>\n",
       "      <td>1.056280</td>\n",
       "      <td>301373</td>\n",
       "      <td>79221</td>\n",
       "      <td>14</td>\n",
       "      <td>debt_consolidation</td>\n",
       "      <td>25000</td>\n",
       "      <td>E</td>\n",
       "      <td>26.30</td>\n",
       "      <td>0</td>\n",
       "      <td>Current</td>\n",
       "      <td>False</td>\n",
       "      <td>75000</td>\n",
       "    </tr>\n",
       "    <tr>\n",
       "      <th>3</th>\n",
       "      <td>CA</td>\n",
       "      <td>0.0</td>\n",
       "      <td>36</td>\n",
       "      <td>rent</td>\n",
       "      <td>75000</td>\n",
       "      <td>Not Verified</td>\n",
       "      <td>0.574347</td>\n",
       "      <td>59890</td>\n",
       "      <td>43076</td>\n",
       "      <td>10</td>\n",
       "      <td>credit_card</td>\n",
       "      <td>6000</td>\n",
       "      <td>B</td>\n",
       "      <td>9.92</td>\n",
       "      <td>0</td>\n",
       "      <td>Current</td>\n",
       "      <td>False</td>\n",
       "      <td>75000</td>\n",
       "    </tr>\n",
       "    <tr>\n",
       "      <th>4</th>\n",
       "      <td>OH</td>\n",
       "      <td>4.0</td>\n",
       "      <td>60</td>\n",
       "      <td>mortgage</td>\n",
       "      <td>254000</td>\n",
       "      <td>Not Verified</td>\n",
       "      <td>0.238150</td>\n",
       "      <td>422619</td>\n",
       "      <td>60490</td>\n",
       "      <td>2</td>\n",
       "      <td>home_improvement</td>\n",
       "      <td>25000</td>\n",
       "      <td>B</td>\n",
       "      <td>9.43</td>\n",
       "      <td>0</td>\n",
       "      <td>Current</td>\n",
       "      <td>False</td>\n",
       "      <td>254000</td>\n",
       "    </tr>\n",
       "    <tr>\n",
       "      <th>5</th>\n",
       "      <td>IN</td>\n",
       "      <td>6.0</td>\n",
       "      <td>36</td>\n",
       "      <td>mortgage</td>\n",
       "      <td>67000</td>\n",
       "      <td>Source Verified</td>\n",
       "      <td>1.077045</td>\n",
       "      <td>349825</td>\n",
       "      <td>72162</td>\n",
       "      <td>4</td>\n",
       "      <td>home_improvement</td>\n",
       "      <td>6400</td>\n",
       "      <td>B</td>\n",
       "      <td>9.92</td>\n",
       "      <td>0</td>\n",
       "      <td>Current</td>\n",
       "      <td>False</td>\n",
       "      <td>67000</td>\n",
       "    </tr>\n",
       "    <tr>\n",
       "      <th>6</th>\n",
       "      <td>NY</td>\n",
       "      <td>2.0</td>\n",
       "      <td>36</td>\n",
       "      <td>rent</td>\n",
       "      <td>28800</td>\n",
       "      <td>Source Verified</td>\n",
       "      <td>0.099722</td>\n",
       "      <td>15980</td>\n",
       "      <td>2872</td>\n",
       "      <td>1</td>\n",
       "      <td>debt_consolidation</td>\n",
       "      <td>3000</td>\n",
       "      <td>D</td>\n",
       "      <td>17.09</td>\n",
       "      <td>0</td>\n",
       "      <td>Current</td>\n",
       "      <td>False</td>\n",
       "      <td>28800</td>\n",
       "    </tr>\n",
       "    <tr>\n",
       "      <th>7</th>\n",
       "      <td>MO</td>\n",
       "      <td>10.0</td>\n",
       "      <td>36</td>\n",
       "      <td>mortgage</td>\n",
       "      <td>80000</td>\n",
       "      <td>Not Verified</td>\n",
       "      <td>0.350913</td>\n",
       "      <td>258439</td>\n",
       "      <td>28073</td>\n",
       "      <td>3</td>\n",
       "      <td>credit_card</td>\n",
       "      <td>14500</td>\n",
       "      <td>A</td>\n",
       "      <td>6.08</td>\n",
       "      <td>0</td>\n",
       "      <td>Current</td>\n",
       "      <td>False</td>\n",
       "      <td>80000</td>\n",
       "    </tr>\n",
       "    <tr>\n",
       "      <th>8</th>\n",
       "      <td>FL</td>\n",
       "      <td>6.0</td>\n",
       "      <td>60</td>\n",
       "      <td>rent</td>\n",
       "      <td>34000</td>\n",
       "      <td>Not Verified</td>\n",
       "      <td>0.697500</td>\n",
       "      <td>87705</td>\n",
       "      <td>23715</td>\n",
       "      <td>10</td>\n",
       "      <td>credit_card</td>\n",
       "      <td>10000</td>\n",
       "      <td>A</td>\n",
       "      <td>7.97</td>\n",
       "      <td>0</td>\n",
       "      <td>Current</td>\n",
       "      <td>False</td>\n",
       "      <td>34000</td>\n",
       "    </tr>\n",
       "    <tr>\n",
       "      <th>9</th>\n",
       "      <td>FL</td>\n",
       "      <td>3.0</td>\n",
       "      <td>60</td>\n",
       "      <td>mortgage</td>\n",
       "      <td>80000</td>\n",
       "      <td>Source Verified</td>\n",
       "      <td>0.166854</td>\n",
       "      <td>330394</td>\n",
       "      <td>32036</td>\n",
       "      <td>4</td>\n",
       "      <td>debt_consolidation</td>\n",
       "      <td>18500</td>\n",
       "      <td>C</td>\n",
       "      <td>12.62</td>\n",
       "      <td>1</td>\n",
       "      <td>Current</td>\n",
       "      <td>True</td>\n",
       "      <td>192000</td>\n",
       "    </tr>\n",
       "  </tbody>\n",
       "</table>\n",
       "</div>"
      ]
     },
     "metadata": {}
    }
   ],
   "metadata": {}
  },
  {
   "cell_type": "markdown",
   "source": [
    "The questions that I would ask are:\n",
    "* Is there an association between `annual_income` and/or `total_income` and `homeownership`? \n",
    "* How does `loan_amount` affect `interest_rate`?\n",
    "\n",
    "The first question comes from a personal experience of knowledge according to which those on a low income (either annual or total) usually rent houses rather than owning houses (unless, of course, someone inherited a family member house).\n",
    "\n",
    "The second question comes from the intuition according to which the amount of the loan influences somehow the interest rate."
   ],
   "metadata": {}
  },
  {
   "cell_type": "markdown",
   "source": [
    "### Exercise 1.3 - Air pollution and birth outcomes, study components.\n",
    "* (a) The research question of the study could be: do certain levels of air pollutants cause preterm births?\n",
    "* (b) The subjects were __143,196 births__ between the years 1989 and 1993, taken accordingly.\n",
    "* (c) The continuous explanatory variables in the study are levels of CO, nitrogen dioxide, ozone, PM10 subjects were exposed to which were calculated during gestation. Then we have a discrete explanatory variable which is the year the observation is collected. The response variable is whether or not the preterm birth happened, and this is definitely a categorical variable. If we were to predict, let's say, how many weeks in advance the preterm occurred, then we would state that such variable would be ordinal."
   ],
   "metadata": {}
  },
  {
   "cell_type": "markdown",
   "source": [
    "### Exercise 1.4 - Buteyko method, study components.\n",
    "\n",
    "* (a) The research question is whether the Buteyko method reduces asthma symptoms / improve quality of life.\n",
    "* (b) The subjects were 600 asthma patients.\n",
    "* (c) Here we have multiple response variables, due to the fact that we are testing the effectiveness of such method on multiple outcomes, on a scale from 1 to 10: this makes the response variables ordinal categorical. The explanatory variable used is the categorical variable which tells us if the patient took the method or not."
   ],
   "metadata": {}
  },
  {
   "cell_type": "markdown",
   "source": [
    "### Exercise 1.5 - Cheaters, study components.\n",
    "\n",
    "* (a) The research question, as always, can be deducted from the purpose of the study: given the age and the explicit instruction or not, what is the relationship between this and the person's honesty?\n",
    "* (b) Subjects of the experiment are 160 children aged from 5 to 15.\n",
    "* (c) Recorded variables are age (discrete numerical), sex (nominal categorical) and the fact that the child is an only child or not (nominal categorical). An additional variable which was recorded is the outcome of the fair coin toss, and this is also a categorical variable."
   ],
   "metadata": {}
  },
  {
   "cell_type": "markdown",
   "source": [
    "### Exercise 1.6 - Stealers, study components.\n",
    "\n",
    "* (a) The main research question is: given the socio-economic class, how is it likely the individual behaves unethically?\n",
    "* (b) The subject are 129 undergraduate from Berkeley.\n",
    "* (c) Explanatory variables recorded are the three ordinal categorical variables that states their money, education and job tier/profiles. The response variable is the number of candies they took after the survey (which a numerical discrete variable)."
   ],
   "metadata": {}
  },
  {
   "cell_type": "markdown",
   "source": [
    "### Exercise 1.7 - Migraine and acupuncture, Part II."
   ],
   "metadata": {}
  },
  {
   "cell_type": "markdown",
   "source": [
    "The explanatory variable recorded is the kind of acupuncture people received (in the tratment group, migraine-specific acupuncture while in the control group a placebo one). The response variable is the indicator variable which states whether or not they were pain-free after 24 hours from the treatment."
   ],
   "metadata": {}
  },
  {
   "cell_type": "markdown",
   "source": [
    "### Exercise 1.8 - Sinusitis and antibiotics, Part II.\n",
    "\n",
    "The explanatory variable is the kind of treatment the patients received. The response variable is whether they had improvements in symptoms or not."
   ],
   "metadata": {}
  },
  {
   "cell_type": "markdown",
   "source": [],
   "metadata": {}
  },
  {
   "cell_type": "markdown",
   "source": [
    "### Exercise 1.9 - Fisher’s irises.\n",
    "\n",
    "* (a) There are $50 * 3 = 150$ cases (observations).\n",
    "* (b) The numerical variables included are sepal lenght, sepal width, petal lenght and petal width, which are continuous numerical.\n",
    "* (c) The only categorical variable is the specie of iris flower, which can be one of the following three levels: _setosa_, _versicolor_ and _virginica_."
   ],
   "metadata": {}
  },
  {
   "cell_type": "markdown",
   "source": [
    "### Exercise 1.10 - Smoking habits of UK residents.\n",
    "\n",
    "* (a) Each row represents an observation, a fact which includes personal details and smoking habits from a UK resident taking part in this study. \n",
    "* (b) In this survey they included 1691 partecipants.\n",
    "* (c) The variables are: _sex_ (nominal categorical), _age_ (discrete numerical), _marital_ (nominal categorical), _grossIncome_ (ordinal categorical), _smoke_ (nominal categorical), _amtWeekends_ (discrete numerical) amd _amtWeekdays_ (discrete numerical)."
   ],
   "metadata": {}
  },
  {
   "cell_type": "markdown",
   "source": [
    "### Exercise 1.11 - US Airports.\n",
    "\n",
    "* (a) Variables used are _latitude_ and _longitude_ (continuous numerical), an indicator variable which indicates if the airport is for private or public use (nominal categorical) and an indicator variable which instead indicates the ownership (private or public) of the airport itself.\n",
    "* (b) Answered above."
   ],
   "metadata": {}
  },
  {
   "cell_type": "markdown",
   "source": [
    "### Exercise 1.13 - UN Votes.\n",
    "\n",
    "* (a) The variables included are: _issue_ (nominal categorical), _% of yes_ (continuous numerical), _country_ (nominal categorical) and _year_ (discrete numerical).\n",
    "* (b) Answered above."
   ],
   "metadata": {}
  },
  {
   "cell_type": "markdown",
   "source": [
    "### Guided Practice 1.9\n",
    "\n",
    "In (2) the target population is all the Duke undergrads in the past 5 years. An individual case can contain all the student's informations and the years it took for him to complete his degree. In (3) the target population is all the people with severe heart disease, and an individual case might contain all the person's information including the severity of his heart disease."
   ],
   "metadata": {}
  },
  {
   "cell_type": "markdown",
   "source": [
    "### Guided Practice 1.11\n",
    "\n",
    "Online reviews are an example of a convenience sample, since online reviews are first done by peole who care about evaluating their experience, and second they are usually from people who has to complain or even people astonished by their products. An average, non-caring user who might be more frequent that what we might think, may not be included."
   ],
   "metadata": {}
  },
  {
   "cell_type": "markdown",
   "source": [
    "### Guided Practice 1.12\n",
    "\n",
    "The answer is no, since we are just observing the apparent casual correlation, but we are not making any experiment where we separate partecipants and, most importantly, we select partecipants carefully."
   ],
   "metadata": {}
  },
  {
   "cell_type": "markdown",
   "source": [
    "### Guided Practice 1.13\n",
    "\n",
    "One confounding variable can be _salary_: those who have higher salaries own a house, and usually who buys a house does not buy it in a multi-unit structure."
   ],
   "metadata": {}
  },
  {
   "cell_type": "markdown",
   "source": [
    "### Exercise 1.13 - Air pollution and birth outcomes, scope of inference.\n",
    "\n",
    "* (a) Since the study explicitly states that it is being analyzed the relationship between air pollutants and preterm births in Southern California, I would argue that the population of interest are the prebirths in Southern California. The sample consists of 143,196 births between 1989 and 1993.\n",
    "* (b) Studies can probably be generalized to the population, but one thing that might help out is to sample from other years and see if we always achieve the same results."
   ],
   "metadata": {}
  },
  {
   "cell_type": "markdown",
   "source": [
    "### Exercise 1.14 - Cheaters, scope of inference.\n",
    "\n",
    "* (a) The population of interest is all children aged from 5 to 15.\n",
    "* (b) Unlike the previous exercise, here we have a smaller sample (160 children). However, we saw certain differences among the groups, as well as among the children characteristics. Therefore, we can cautiously generalize, but in order to be safer, more samples have to be taken."
   ],
   "metadata": {}
  },
  {
   "cell_type": "markdown",
   "source": [
    "### Exercise 1.15 - Buteyko method, scope of inference.\n",
    "\n",
    "* (a) The population of interest is ashtma patients (potentially all of them).\n",
    "* (b) One experiment will never be safe to generalize. Usually it is necessary to have more samples on which we can make the same experiment. And once we see consistent results, we can generalize. Therefore, I am not sure we can generalize such a fact, especially in a medical context."
   ],
   "metadata": {}
  },
  {
   "cell_type": "markdown",
   "source": [
    "### Exercise 1.16 - Stealers, scope of inference.\n",
    "\n",
    "* (a) The population of interest is basically the world population since we are studying the relationship between the socio-economic class the individual belongs to and unethical behavior.\n",
    "* (b) It cannot be generalized because in the first place we are using a convenience sample, recruited in one place (Berkeley). Berkeley students are not representative of the world population. Another fallacy is the method with which the study was designed. A casual relationship cannot be established."
   ],
   "metadata": {}
  },
  {
   "cell_type": "markdown",
   "source": [
    "### Exercise 1.17 - Relaxing after work.\n",
    "\n",
    "* (a) An observation.\n",
    "* (b) A variable.\n",
    "* (c) A sample statistic.\n",
    "* (d) A population parameter."
   ],
   "metadata": {}
  },
  {
   "cell_type": "markdown",
   "source": [
    "### Exercise 1.18 - Cats on YouTube.\n",
    "\n",
    "* (a) A population parameter.\n",
    "* (b) A sample statistic.\n",
    "* (c) An observation.\n",
    "* (d) A variable."
   ],
   "metadata": {}
  },
  {
   "cell_type": "markdown",
   "source": [
    "### Exercise 1.19 - Course satisfaction across sections.\n",
    "\n",
    "* (a) This seems to be an observational study, but whether or not the surveys can take places multiple times throughout the single section or all sections, the study can be prospective or retrospective.\n",
    "* (b) To evaluate a particular section, professor can sample students who were previously in that section, but currently are in their current ones: students, in this way, never evaluate the current section, thus making an unbiased judgement. In this way, we will have a fully retrospective study since the section students are evaluating already happened. And such a sampling strategy can either be clustered sampling or multistage if we sample within the clusters."
   ],
   "metadata": {}
  },
  {
   "cell_type": "markdown",
   "source": [
    "### Exercise 1.20 - Housing proposal across dorms.\n",
    "\n",
    "* (a) This seems to be a retrospective study since it is collected at some point, when students have probably inhabitated the dorms for a while.\n",
    "* (b) They should definitely use stratified sampling to get a fair survey."
   ],
   "metadata": {}
  },
  {
   "cell_type": "markdown",
   "source": [
    "### Exercise 1.21 - Internet use and life expectancy.\n",
    "\n",
    "* (a) Apparently, the more the internet is used in the world, the longer people live.\n",
    "* (b) This is an observational study.\n",
    "* (c) Percentage of internet users have increased over time. And over time, we have developed better medicine. So a potential confounding variable can be related to medicine and quality of life."
   ],
   "metadata": {}
  },
  {
   "cell_type": "markdown",
   "source": [
    "### Exercise 1.22 - Stressed out, Part I. \n",
    "\n",
    "* (a) This is an observational study.\n",
    "* (b) There definitely can be truth in the fact that increased stress favors muscle cramps, though such a casual relationship is hard to prove without biological evidence. Furthermore, we have seen that stress makes some behaviors arise.\n",
    "* (c) Drinking coffee and sleeping less might be confounding since they may biologically promote cramps."
   ],
   "metadata": {}
  },
  {
   "cell_type": "markdown",
   "source": [
    "### Exercise 1.23 - Evaluate sampling methods.\n",
    "\n",
    "Point (a) is the least reasonable. Point (b) can be good but the field of study might induce bias due to the fact that some university courses are attended by a certain socio-economic class. Point (c) is reasonable since we are sampling according to age."
   ],
   "metadata": {}
  },
  {
   "cell_type": "markdown",
   "source": [
    "### Exercise 1.24 - Random digit dialing.\n",
    "\n",
    "A possible reason can be an increase in randomness. Using a phone book we might get people on the same area, and we might need more samples to truly achieve randomness."
   ],
   "metadata": {}
  },
  {
   "cell_type": "markdown",
   "source": [
    "### Exercise 1.25 - Haters are gonna hate, study confirms.\n",
    "\n",
    "* (a) Cases are the 200 randomly sampled individuals.\n",
    "* (b) The response variable is the reaction towards the oven.\n",
    "* (c) The explanatory variable is the reaction to the subjects on the dispositional attitude measurement.\n",
    "* (d) This study makes use of random sampling.\n",
    "* (e) This is an observational study: we are just observing how, given the first reactions, the individual will react to the oven. We are not making any assumption and we are not controlling variables/separating individuals.\n",
    "* (f) We can't generalize, as one confounding variable can be the mood, or other things this study factors out.\n",
    "* (g) A group of 200 is not indicative of the whole population."
   ],
   "metadata": {}
  },
  {
   "cell_type": "markdown",
   "source": [
    "### Exercise 1.26 - Family size.\n",
    "\n",
    "Elementary school kids still live with their parents, therefore we will definitely have a bias that will make the family size bigger, since kids live in numerous families usually. The value will definitely be overestimated."
   ],
   "metadata": {}
  },
  {
   "cell_type": "markdown",
   "source": [
    "### Exercise 1.27 - Sampling strategies.\n",
    "\n",
    "* (a) Random sampling. We can expect a mean which is not representative of the population mean.\n",
    "* (b) Giving it only to his friends is not a technical sample and this does will induce a great bias due to the fact that the friends might have similiar habits / patters of usage of social networks.\n",
    "* (c) This is a convenience sample: only Facebook users will be able to partecipate. Also, this might bias the result, since Facebook is a social network, and those who do not use will not be included.\n",
    "* (d) This is a multistage sampling. This is the least biased method presented."
   ],
   "metadata": {}
  },
  {
   "cell_type": "markdown",
   "source": [
    "### Exercise 1.28 - Reading the paper.\n",
    "* (a) We can't conclude that smoking causes dementia because 25% is not a significant percentage and therefore other factors should be held into account.\n",
    "* (b) The statement is not justified, since sleeping disorders can be caused by the same reasons that cause behavioral disorders, including stress and psychological issues. These are indeed confounding variables."
   ],
   "metadata": {}
  },
  {
   "cell_type": "markdown",
   "source": [
    "### Guided Practice 1.16\n",
    "\n",
    "It is an experiment but it is definitely not blinded since patients know they go the stents."
   ],
   "metadata": {}
  },
  {
   "cell_type": "markdown",
   "source": [
    "### Guided Practice 1.17\n",
    "\n",
    "Stents are invasive. You cannot just replicate them with a placebo: the risks will outweight the benefits.\n",
    "\n",
    "__NOTE__: see __Sham Surgery__."
   ],
   "metadata": {}
  },
  {
   "cell_type": "markdown",
   "source": [
    "### Exercise 1.29 - Light and exam performance.\n",
    "\n",
    "* (a) The response variable is the exam(s) performance.\n",
    "* (b) The explanatory variable is the type of lighting which can hold three levels (fluorescent overhead lighting, yellow overhead lighting and no overhead lighting which is desk lamp).\n",
    "* (c) Gender is the blocking variable, since it might get different effect and therefore we have to make two blocks (males and females) from which we perform our random samples."
   ],
   "metadata": {}
  },
  {
   "cell_type": "markdown",
   "source": [
    "### Exercise 1.30 - Vitamin supplements.\n",
    "\n",
    "* (a) It is an experiment since we are randomizing the partecipants into the four treatment groups, and we are testing an actual hypothesis (Vitamic C reduces cold symptoms duration).\n",
    "* (b) The explanatory variable is the kind of pill the patients are prescribed (placebo pill, 1g pill, 3g pill, 3g pill with additives).\n",
    "* (c) The patients were blinded.\n",
    "* (d) Study is double-blind since researchers do not interact with patients. Nurses do, but nurses here do not play any role in the research.\n",
    "* (e) It may definitely introduce a confounding variable, because if people are not taking it, any potential effect of that pill to these people will not occur. So we may get to wrong conclusions. One thing may be to exclude those who do not take a pill, or having that pill administered by a nurse (which does not need to be blind since she does not play a significant role in the research)."
   ],
   "metadata": {}
  },
  {
   "cell_type": "markdown",
   "source": [
    "### Exercise 1.31 - Light, noise, and exam performance.\n",
    "\n",
    "* (a) This is an experiment.\n",
    "* (b) In this study, we have the light factor (as in Exercise 1.29), and the noise factor which has three levels: no noise, construction noise and human chatter noise.\n",
    "* (c) The sex variable is a blocking variable since between males and females might get different effects from light and noise."
   ],
   "metadata": {}
  },
  {
   "cell_type": "markdown",
   "source": [
    "### Exercuse 1.32 - Music and learning.\n",
    "\n",
    "I would randomly select students from elementary, high university/college level schools. From the previous exercise, we have a blocking variable which is sex, then we make the two initial blocks. One other blocking variable might be their performance levels, which can be categorized in discrete levels: this too can be a blocking variable since those who have higher grades might have a better attention. If we include people with learning disorders, we have to make the appropriate blocks. We also want to have a stratified sample, since we want to include students from different university courses. The sample size can vary from 500 to 1000. But given the broad scope of the study, we might even need to recruit more partecipants. Of course, I will not tell them the purpose of the study, so they will be blind. Music will be played in a way they might not realize (I might have them study in a coffee shop with a background music with/without lyrics). They have to be unaware of the fact that they are being studied to understand how music impacts their learning experience. I will let some researchers who are unaware of the treatment groups assess individual students knowledge."
   ],
   "metadata": {}
  },
  {
   "cell_type": "markdown",
   "source": [
    "### Exercise 1.33 - Soda preference.\n",
    "\n",
    "In this case, sample size can be one third or one fourth of the class. Gender is a blocking variable so we have to equally include both males and females. In order for our experiment to have more benefits than risks, we might exclude students with diabetes. Whether or not coke has sugar is not shown in the can/glass. Instead, they will have two letters: __A__ and __B__. Letter __A__ can represent the diet coke while __B__ can represent standard coke and vice versa, i.e. the letter is not tied to one or the other type of coke. Through a randomized Python script I will bind each student to the __A/B__ combination, and for each one of them the combination is different and randomly chosen.  "
   ],
   "metadata": {}
  },
  {
   "cell_type": "code",
   "execution_count": 11,
   "source": [
    "import random\n",
    "\n",
    "def generate_combination():\n",
    "    soda_type = [\"diet\", \"standard\"]\n",
    "    glass_letter = [\"A\", \"B\"]\n",
    "\n",
    "    random.shuffle(soda_type)\n",
    "\n",
    "    return dict(zip(glass_letter, soda_type))\n",
    "\n",
    "def bind_partecipants_to_combinations(partecipants):\n",
    "    bindings = {}\n",
    "\n",
    "    for partecipant in partecipants:\n",
    "        bindings[partecipant] = generate_combination()\n",
    "\n",
    "    return bindings"
   ],
   "outputs": [
    {
     "output_type": "stream",
     "name": "stdout",
     "text": [
      "{'A': 'standard', 'B': 'diet'}\n"
     ]
    }
   ],
   "metadata": {}
  },
  {
   "cell_type": "markdown",
   "source": [
    "After all, I can know the combinations without influencing anything. I will handle the two glasses and record their preferences. I will then make a chart to visually describe my findings."
   ],
   "metadata": {}
  },
  {
   "cell_type": "markdown",
   "source": [
    "### Exercise 1.34 - Exercise and mental health.\n",
    "\n",
    "* (a) This is an experiment since we are assigning the treatment and control groups which will receive or not the prescription to exercise.\n",
    "* (b) The treatment group is the one that gets exercise, while the control group is the one that does not.\n",
    "* (c) There is no blocking.\n",
    "* (d) There's no blinding mechanism since those who gets prescribed not to exercise are not receiving any placebo who can make them \"unaware\" of them belonging to the control group.\n",
    "* (e) From one experiment, it is impossible to fully and confidently generalize on the whole population, but we can definitely keep going on making more and more well designed experiments. We can infer that there might be (if any) a casual relationship, though full certainty can be given by further experiments, which are blind or, even better, double-blind. In this way, we don't get any emotional or personal bias.\n",
    "* (f) If we can make this experiment blind or double-blind, then I would definitely fund it. Having a second researcher who does the actual assesment, and even better if this researcher is skeptical about the study, will make it a study worth funding."
   ],
   "metadata": {}
  },
  {
   "cell_type": "markdown",
   "source": [],
   "metadata": {}
  }
 ]
}