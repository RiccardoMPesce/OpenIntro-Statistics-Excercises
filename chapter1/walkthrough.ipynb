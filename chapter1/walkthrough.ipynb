{
 "metadata": {
  "language_info": {
   "codemirror_mode": {
    "name": "ipython",
    "version": 3
   },
   "file_extension": ".py",
   "mimetype": "text/x-python",
   "name": "python",
   "nbconvert_exporter": "python",
   "pygments_lexer": "ipython3",
   "version": "3.9.6"
  },
  "orig_nbformat": 4,
  "kernelspec": {
   "name": "python3",
   "display_name": "Python 3.9.6 64-bit ('base': conda)"
  },
  "interpreter": {
   "hash": "a473aa0524f7e71cff5bf41ad0f6e637ac4e671de457aeaaf8dd3e29779b2e94"
  }
 },
 "nbformat": 4,
 "nbformat_minor": 2,
 "cells": [
  {
   "source": [
    "# Chapter 1: Introduction to Data - Walkthrough\n",
    "\n",
    "#### Walkthrough of the chapter's *Guided Practice* and exercises."
   ],
   "cell_type": "markdown",
   "metadata": {}
  },
  {
   "source": [
    "### Guided Practice 1.1\n",
    "The proportion of patients in treatment group who had a stroke by the end of their first year can be calculated as \n",
    "\\begin{equation}\n",
    "\\frac{45}{45 + 179} = \\frac{45}{224} = 0.20 = 20\\%\n",
    "\\end{equation}"
   ],
   "cell_type": "markdown",
   "metadata": {}
  },
  {
   "source": [
    "### Exercise 1.1 - Migraine and acupuncture, Part I\n",
    "\n",
    "* (a) Around 23.26% of those who received acupuncture were pain free in the treatment group after 24 hours.\n",
    "* (b) In the control group, around 4.34% were pain free after 24 hours.\n",
    "* (c) In treatment group we find the highest percentage of pain free patients.\n",
    "* (d) We might have sampled a population that is not representative of the whole population who suffer from migraine. Even if bad sampling can be an issue, it might not be the only one though.\n"
   ],
   "cell_type": "markdown",
   "metadata": {}
  },
  {
   "source": [
    "### Exercise 1.2 - Sinusitis and antibiotics, Part I\n",
    "* (a) Around 77.65% of patients in the treatment group reported improvements in symptoms.\n",
    "* (b) Around 80.25% of patients in the control group reported improvements in symptoms.\n",
    "* (c) We have a slightly greater percentage in the control group.\n",
    "* (d) First of all, we see in this sample a higher percentage in the control group. However, the difference in the percentage is so small it could be from random fluctuations which are normal in these kinds of studies. From this sample, we can't deduct anything real.\n"
   ],
   "cell_type": "markdown",
   "metadata": {}
  },
  {
   "source": [
    "### Guided Practice 1.2\n",
    "The grade of the first loan (as shown in the book) is __A__. The home ownership is __rent__."
   ],
   "cell_type": "markdown",
   "metadata": {}
  },
  {
   "source": [
    "### Guided Practice 1.3\n",
    "An feasible organization of grades could be the following:\n",
    "\n",
    "|                 |                                            |\n",
    "|-----------------|--------------------------------------------|\n",
    "| `student_name`  | The student name                           |\n",
    "| `homework_type` | The type (can be assignment, quiz or exam) |\n",
    "| `class`         | The class for which the grade refers to    |\n",
    "| `grade`         | The actual grade                           |\n",
    "\n",
    "It is not exhaustive but it gets the job done."
   ],
   "cell_type": "markdown",
   "metadata": {}
  },
  {
   "source": [
    "### Guided Practice 1.4\n",
    "\n",
    "We can set up a data matrix such as:\n",
    "\n",
    "|                                                    |                                            |\n",
    "|----------------------------------------------------|--------------------------------------------|\n",
    "| `county`                                           | The county name                            |\n",
    "| `state`                                            | The state in which it is located.          |\n",
    "| `population_in_2017`                               | The class for which the grade refers to    |\n",
    "| `population_change_2010_2017`                      | The actual grade                           |\n",
    "| `poverty`                                          | Poverty index.                             |\n",
    "| `etc...`                                           | The additional six characteristics         |\n"
   ],
   "cell_type": "markdown",
   "metadata": {}
  },
  {
   "source": [
    "### Guided Practice 1.6\n",
    "The variable `group` is categorical, while the variable `num_migraines` is discrete."
   ],
   "cell_type": "markdown",
   "metadata": {}
  },
  {
   "source": [
    "### Guided Practice 1.7\n",
    "In order to create questions, we need to see the data matrix for the dataset `loan50`. To do so we import it with `pandas`. Let's start by importing all the relevant data analysis libraries."
   ],
   "cell_type": "markdown",
   "metadata": {}
  },
  {
   "cell_type": "code",
   "execution_count": 8,
   "metadata": {},
   "outputs": [],
   "source": [
    "import numpy as np \n",
    "import pandas as pd\n",
    "import matplotlib.pyplot as plt\n",
    "\n",
    "from pathlib import Path"
   ]
  },
  {
   "source": [
    "Now let's read the csv file which contains our dataset."
   ],
   "cell_type": "markdown",
   "metadata": {}
  },
  {
   "cell_type": "code",
   "execution_count": 9,
   "metadata": {},
   "outputs": [],
   "source": [
    "datasets_folder = Path(\"../datasets/\")\n",
    "loan50_file = datasets_folder / \"loan50.csv\"\n",
    "\n",
    "loan50_df = pd.read_csv(loan50_file)"
   ]
  },
  {
   "source": [
    "Let's get an idea about the data by showing the first 10 rows."
   ],
   "cell_type": "markdown",
   "metadata": {}
  },
  {
   "cell_type": "code",
   "execution_count": 13,
   "metadata": {},
   "outputs": [
    {
     "output_type": "execute_result",
     "data": {
      "text/plain": [
       "  state  emp_length  term homeownership  annual_income  verified_income  \\\n",
       "0    NJ         3.0    60          rent          59000     Not Verified   \n",
       "1    CA        10.0    36          rent          60000     Not Verified   \n",
       "2    SC         NaN    36      mortgage          75000         Verified   \n",
       "3    CA         0.0    36          rent          75000     Not Verified   \n",
       "4    OH         4.0    60      mortgage         254000     Not Verified   \n",
       "5    IN         6.0    36      mortgage          67000  Source Verified   \n",
       "6    NY         2.0    36          rent          28800  Source Verified   \n",
       "7    MO        10.0    36      mortgage          80000     Not Verified   \n",
       "8    FL         6.0    60          rent          34000     Not Verified   \n",
       "9    FL         3.0    60      mortgage          80000  Source Verified   \n",
       "\n",
       "   debt_to_income  total_credit_limit  total_credit_utilized  \\\n",
       "0        0.557525               95131                  32894   \n",
       "1        1.305683               51929                  78341   \n",
       "2        1.056280              301373                  79221   \n",
       "3        0.574347               59890                  43076   \n",
       "4        0.238150              422619                  60490   \n",
       "5        1.077045              349825                  72162   \n",
       "6        0.099722               15980                   2872   \n",
       "7        0.350913              258439                  28073   \n",
       "8        0.697500               87705                  23715   \n",
       "9        0.166854              330394                  32036   \n",
       "\n",
       "   num_cc_carrying_balance        loan_purpose  loan_amount grade  \\\n",
       "0                        8  debt_consolidation        22000     B   \n",
       "1                        2         credit_card         6000     B   \n",
       "2                       14  debt_consolidation        25000     E   \n",
       "3                       10         credit_card         6000     B   \n",
       "4                        2    home_improvement        25000     B   \n",
       "5                        4    home_improvement         6400     B   \n",
       "6                        1  debt_consolidation         3000     D   \n",
       "7                        3         credit_card        14500     A   \n",
       "8                       10         credit_card        10000     A   \n",
       "9                        4  debt_consolidation        18500     C   \n",
       "\n",
       "   interest_rate  public_record_bankrupt loan_status  has_second_income  \\\n",
       "0          10.90                       0     Current              False   \n",
       "1           9.92                       1     Current              False   \n",
       "2          26.30                       0     Current              False   \n",
       "3           9.92                       0     Current              False   \n",
       "4           9.43                       0     Current              False   \n",
       "5           9.92                       0     Current              False   \n",
       "6          17.09                       0     Current              False   \n",
       "7           6.08                       0     Current              False   \n",
       "8           7.97                       0     Current              False   \n",
       "9          12.62                       1     Current               True   \n",
       "\n",
       "   total_income  \n",
       "0         59000  \n",
       "1         60000  \n",
       "2         75000  \n",
       "3         75000  \n",
       "4        254000  \n",
       "5         67000  \n",
       "6         28800  \n",
       "7         80000  \n",
       "8         34000  \n",
       "9        192000  "
      ],
      "text/html": "<div>\n<style scoped>\n    .dataframe tbody tr th:only-of-type {\n        vertical-align: middle;\n    }\n\n    .dataframe tbody tr th {\n        vertical-align: top;\n    }\n\n    .dataframe thead th {\n        text-align: right;\n    }\n</style>\n<table border=\"1\" class=\"dataframe\">\n  <thead>\n    <tr style=\"text-align: right;\">\n      <th></th>\n      <th>state</th>\n      <th>emp_length</th>\n      <th>term</th>\n      <th>homeownership</th>\n      <th>annual_income</th>\n      <th>verified_income</th>\n      <th>debt_to_income</th>\n      <th>total_credit_limit</th>\n      <th>total_credit_utilized</th>\n      <th>num_cc_carrying_balance</th>\n      <th>loan_purpose</th>\n      <th>loan_amount</th>\n      <th>grade</th>\n      <th>interest_rate</th>\n      <th>public_record_bankrupt</th>\n      <th>loan_status</th>\n      <th>has_second_income</th>\n      <th>total_income</th>\n    </tr>\n  </thead>\n  <tbody>\n    <tr>\n      <th>0</th>\n      <td>NJ</td>\n      <td>3.0</td>\n      <td>60</td>\n      <td>rent</td>\n      <td>59000</td>\n      <td>Not Verified</td>\n      <td>0.557525</td>\n      <td>95131</td>\n      <td>32894</td>\n      <td>8</td>\n      <td>debt_consolidation</td>\n      <td>22000</td>\n      <td>B</td>\n      <td>10.90</td>\n      <td>0</td>\n      <td>Current</td>\n      <td>False</td>\n      <td>59000</td>\n    </tr>\n    <tr>\n      <th>1</th>\n      <td>CA</td>\n      <td>10.0</td>\n      <td>36</td>\n      <td>rent</td>\n      <td>60000</td>\n      <td>Not Verified</td>\n      <td>1.305683</td>\n      <td>51929</td>\n      <td>78341</td>\n      <td>2</td>\n      <td>credit_card</td>\n      <td>6000</td>\n      <td>B</td>\n      <td>9.92</td>\n      <td>1</td>\n      <td>Current</td>\n      <td>False</td>\n      <td>60000</td>\n    </tr>\n    <tr>\n      <th>2</th>\n      <td>SC</td>\n      <td>NaN</td>\n      <td>36</td>\n      <td>mortgage</td>\n      <td>75000</td>\n      <td>Verified</td>\n      <td>1.056280</td>\n      <td>301373</td>\n      <td>79221</td>\n      <td>14</td>\n      <td>debt_consolidation</td>\n      <td>25000</td>\n      <td>E</td>\n      <td>26.30</td>\n      <td>0</td>\n      <td>Current</td>\n      <td>False</td>\n      <td>75000</td>\n    </tr>\n    <tr>\n      <th>3</th>\n      <td>CA</td>\n      <td>0.0</td>\n      <td>36</td>\n      <td>rent</td>\n      <td>75000</td>\n      <td>Not Verified</td>\n      <td>0.574347</td>\n      <td>59890</td>\n      <td>43076</td>\n      <td>10</td>\n      <td>credit_card</td>\n      <td>6000</td>\n      <td>B</td>\n      <td>9.92</td>\n      <td>0</td>\n      <td>Current</td>\n      <td>False</td>\n      <td>75000</td>\n    </tr>\n    <tr>\n      <th>4</th>\n      <td>OH</td>\n      <td>4.0</td>\n      <td>60</td>\n      <td>mortgage</td>\n      <td>254000</td>\n      <td>Not Verified</td>\n      <td>0.238150</td>\n      <td>422619</td>\n      <td>60490</td>\n      <td>2</td>\n      <td>home_improvement</td>\n      <td>25000</td>\n      <td>B</td>\n      <td>9.43</td>\n      <td>0</td>\n      <td>Current</td>\n      <td>False</td>\n      <td>254000</td>\n    </tr>\n    <tr>\n      <th>5</th>\n      <td>IN</td>\n      <td>6.0</td>\n      <td>36</td>\n      <td>mortgage</td>\n      <td>67000</td>\n      <td>Source Verified</td>\n      <td>1.077045</td>\n      <td>349825</td>\n      <td>72162</td>\n      <td>4</td>\n      <td>home_improvement</td>\n      <td>6400</td>\n      <td>B</td>\n      <td>9.92</td>\n      <td>0</td>\n      <td>Current</td>\n      <td>False</td>\n      <td>67000</td>\n    </tr>\n    <tr>\n      <th>6</th>\n      <td>NY</td>\n      <td>2.0</td>\n      <td>36</td>\n      <td>rent</td>\n      <td>28800</td>\n      <td>Source Verified</td>\n      <td>0.099722</td>\n      <td>15980</td>\n      <td>2872</td>\n      <td>1</td>\n      <td>debt_consolidation</td>\n      <td>3000</td>\n      <td>D</td>\n      <td>17.09</td>\n      <td>0</td>\n      <td>Current</td>\n      <td>False</td>\n      <td>28800</td>\n    </tr>\n    <tr>\n      <th>7</th>\n      <td>MO</td>\n      <td>10.0</td>\n      <td>36</td>\n      <td>mortgage</td>\n      <td>80000</td>\n      <td>Not Verified</td>\n      <td>0.350913</td>\n      <td>258439</td>\n      <td>28073</td>\n      <td>3</td>\n      <td>credit_card</td>\n      <td>14500</td>\n      <td>A</td>\n      <td>6.08</td>\n      <td>0</td>\n      <td>Current</td>\n      <td>False</td>\n      <td>80000</td>\n    </tr>\n    <tr>\n      <th>8</th>\n      <td>FL</td>\n      <td>6.0</td>\n      <td>60</td>\n      <td>rent</td>\n      <td>34000</td>\n      <td>Not Verified</td>\n      <td>0.697500</td>\n      <td>87705</td>\n      <td>23715</td>\n      <td>10</td>\n      <td>credit_card</td>\n      <td>10000</td>\n      <td>A</td>\n      <td>7.97</td>\n      <td>0</td>\n      <td>Current</td>\n      <td>False</td>\n      <td>34000</td>\n    </tr>\n    <tr>\n      <th>9</th>\n      <td>FL</td>\n      <td>3.0</td>\n      <td>60</td>\n      <td>mortgage</td>\n      <td>80000</td>\n      <td>Source Verified</td>\n      <td>0.166854</td>\n      <td>330394</td>\n      <td>32036</td>\n      <td>4</td>\n      <td>debt_consolidation</td>\n      <td>18500</td>\n      <td>C</td>\n      <td>12.62</td>\n      <td>1</td>\n      <td>Current</td>\n      <td>True</td>\n      <td>192000</td>\n    </tr>\n  </tbody>\n</table>\n</div>"
     },
     "metadata": {},
     "execution_count": 13
    }
   ],
   "source": [
    "loan50_df.head(10)"
   ]
  },
  {
   "source": [
    "The questions that I would ask are:\n",
    "* Is there an association between `annual_income` and/or `total_income` and `homeownership`? \n",
    "* How does `loan_amount` affect `interest_rate`?\n",
    "\n",
    "The first question comes from a personal experience of knowledge according to which those on a low income (either annual or total) usually rent houses rather than owning houses (unless, of course, someone inherited a family member house).\n",
    "\n",
    "The second question comes from the intuition according to which the amount of the loan influences somehow the interest rate."
   ],
   "cell_type": "markdown",
   "metadata": {}
  },
  {
   "source": [
    "### Exercise 1.3\n",
    "* (a) The research question of the study could be: do certain levels of air pollutants cause preterm births?\n",
    "* (b) The subjects were __143,196 births__ between the years 1989 and 1993, taken accordingly.\n",
    "* (c) The continuous explanatory variables in the study are levels of CO, nitrogen dioxide, ozone, PM10 subjects were exposed to which were calculated during gestation. Then we have a discrete explanatory variable which is the year the observation is collected. The response variable is whether or not the preterm birth happened, and this is definitely a categorical variable. If we were to predict, let's say, how many weeks in advance the preterm occurred, then we would state that such variable would be ordinal."
   ],
   "cell_type": "markdown",
   "metadata": {}
  },
  {
   "source": [
    "### Exercise 1.4\n",
    "\n",
    "* (a) The research question is whether the Buteyko method reduces asthma symptoms / improve quality of life.\n",
    "* (b) The subjects were 600 asthma patients.\n",
    "* (c) Here we have multiple response variables, due to the fact that we are testing the effectiveness of such method on multiple outcomes, on a scale from 1 to 10: this makes the response variables ordinal categorical. The explanatory variable used is the categorical variable which tells us if the patient took the method or not."
   ],
   "cell_type": "markdown",
   "metadata": {}
  },
  {
   "cell_type": "code",
   "execution_count": null,
   "metadata": {},
   "outputs": [],
   "source": []
  }
 ]
}