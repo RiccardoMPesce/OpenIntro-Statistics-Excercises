{
 "cells": [
  {
   "cell_type": "markdown",
   "metadata": {},
   "source": [
    "# Lab: Moneyball\n",
    "\n",
    "## Batter up\n",
    "\n",
    "The movie _Moneyball_ focuses on the “quest for the secret of success in baseball”. It follows a low-budget team, the Oakland Athletics, who believed that underused statistics, such as a player’s ability to get on base, better predict the ability to score runs than typical statistics like home runs, RBIs (runs batted in), and batting average. Obtaining players who excelled in these underused statistics turned out to be much more affordable for the team.\n",
    "\n",
    "In this lab we’ll be looking at data from all 30 Major League Baseball teams and examining the linear relationship between runs scored in a season and a number of other player statistics. Our aim will be to summarize these relationships both graphically and numerically in order to find which variable, if any, helps us best predict a team’s runs scored in a season.\n",
    "\n",
    "## The data\n",
    "Let’s load up the data for the 2011 season.\n"
   ]
  },
  {
   "cell_type": "code",
   "execution_count": 41,
   "metadata": {},
   "outputs": [
    {
     "data": {
      "text/html": [
       "<div>\n",
       "<style scoped>\n",
       "    .dataframe tbody tr th:only-of-type {\n",
       "        vertical-align: middle;\n",
       "    }\n",
       "\n",
       "    .dataframe tbody tr th {\n",
       "        vertical-align: top;\n",
       "    }\n",
       "\n",
       "    .dataframe thead th {\n",
       "        text-align: right;\n",
       "    }\n",
       "</style>\n",
       "<table border=\"1\" class=\"dataframe\">\n",
       "  <thead>\n",
       "    <tr style=\"text-align: right;\">\n",
       "      <th></th>\n",
       "      <th>team</th>\n",
       "      <th>runs</th>\n",
       "      <th>at_bats</th>\n",
       "      <th>hits</th>\n",
       "      <th>homeruns</th>\n",
       "      <th>bat_avg</th>\n",
       "      <th>strikeouts</th>\n",
       "      <th>stolen_bases</th>\n",
       "      <th>wins</th>\n",
       "      <th>new_onbase</th>\n",
       "      <th>new_slug</th>\n",
       "      <th>new_obs</th>\n",
       "    </tr>\n",
       "  </thead>\n",
       "  <tbody>\n",
       "    <tr>\n",
       "      <th>0</th>\n",
       "      <td>Texas Rangers</td>\n",
       "      <td>855</td>\n",
       "      <td>5659</td>\n",
       "      <td>1599</td>\n",
       "      <td>210</td>\n",
       "      <td>0.283</td>\n",
       "      <td>930</td>\n",
       "      <td>143</td>\n",
       "      <td>96</td>\n",
       "      <td>0.340</td>\n",
       "      <td>0.460</td>\n",
       "      <td>0.800</td>\n",
       "    </tr>\n",
       "    <tr>\n",
       "      <th>1</th>\n",
       "      <td>Boston Red Sox</td>\n",
       "      <td>875</td>\n",
       "      <td>5710</td>\n",
       "      <td>1600</td>\n",
       "      <td>203</td>\n",
       "      <td>0.280</td>\n",
       "      <td>1108</td>\n",
       "      <td>102</td>\n",
       "      <td>90</td>\n",
       "      <td>0.349</td>\n",
       "      <td>0.461</td>\n",
       "      <td>0.810</td>\n",
       "    </tr>\n",
       "    <tr>\n",
       "      <th>2</th>\n",
       "      <td>Detroit Tigers</td>\n",
       "      <td>787</td>\n",
       "      <td>5563</td>\n",
       "      <td>1540</td>\n",
       "      <td>169</td>\n",
       "      <td>0.277</td>\n",
       "      <td>1143</td>\n",
       "      <td>49</td>\n",
       "      <td>95</td>\n",
       "      <td>0.340</td>\n",
       "      <td>0.434</td>\n",
       "      <td>0.773</td>\n",
       "    </tr>\n",
       "    <tr>\n",
       "      <th>3</th>\n",
       "      <td>Kansas City Royals</td>\n",
       "      <td>730</td>\n",
       "      <td>5672</td>\n",
       "      <td>1560</td>\n",
       "      <td>129</td>\n",
       "      <td>0.275</td>\n",
       "      <td>1006</td>\n",
       "      <td>153</td>\n",
       "      <td>71</td>\n",
       "      <td>0.329</td>\n",
       "      <td>0.415</td>\n",
       "      <td>0.744</td>\n",
       "    </tr>\n",
       "    <tr>\n",
       "      <th>4</th>\n",
       "      <td>St. Louis Cardinals</td>\n",
       "      <td>762</td>\n",
       "      <td>5532</td>\n",
       "      <td>1513</td>\n",
       "      <td>162</td>\n",
       "      <td>0.273</td>\n",
       "      <td>978</td>\n",
       "      <td>57</td>\n",
       "      <td>90</td>\n",
       "      <td>0.341</td>\n",
       "      <td>0.425</td>\n",
       "      <td>0.766</td>\n",
       "    </tr>\n",
       "  </tbody>\n",
       "</table>\n",
       "</div>"
      ],
      "text/plain": [
       "                  team  runs  at_bats  ...  new_onbase  new_slug  new_obs\n",
       "0        Texas Rangers   855     5659  ...       0.340     0.460    0.800\n",
       "1       Boston Red Sox   875     5710  ...       0.349     0.461    0.810\n",
       "2       Detroit Tigers   787     5563  ...       0.340     0.434    0.773\n",
       "3   Kansas City Royals   730     5672  ...       0.329     0.415    0.744\n",
       "4  St. Louis Cardinals   762     5532  ...       0.341     0.425    0.766\n",
       "\n",
       "[5 rows x 12 columns]"
      ]
     },
     "execution_count": 41,
     "metadata": {},
     "output_type": "execute_result"
    }
   ],
   "source": [
    "import numpy as np \n",
    "import pandas as pd \n",
    "import matplotlib.pyplot as plt \n",
    "import seaborn as sns\n",
    "import statsmodels.api as sm \n",
    "\n",
    "from pathlib import Path\n",
    "\n",
    "%matplotlib inline\n",
    "\n",
    "sns.set_theme()\n",
    "\n",
    "mlb_path = Path(\"../datasets/mlb11.csv\")\n",
    "\n",
    "mlb_df = pd.read_csv(mlb_path)\n",
    "\n",
    "mlb_df.head()"
   ]
  },
  {
   "cell_type": "markdown",
   "metadata": {},
   "source": [
    "In addition to runs scored, there are seven traditionally used variables in the data set: at-bats, hits, home runs, batting average, strikeouts, stolen bases, and wins†. There are also three newer variables: on-base percentage, slugging percentage, and on-base plus slugging. For the first portion of the analysis we’ll consider the seven traditional variables. At the end of the lab, you’ll work with the newer variables on your own.\n",
    "\n",
    "### Exercise 1 - What type of plot would you use to display the relationship between `runs` and one of the other numerical variables? Plot this relationship using the variable `at_bats` as the predictor. Does the relationship look linear? If you knew a team’s `at_bats`, would you be comfortable using a linear model to predict the number of runs?"
   ]
  },
  {
   "cell_type": "code",
   "execution_count": 42,
   "metadata": {},
   "outputs": [
    {
     "data": {
      "image/png": "[encoded data removed]",
      "text/plain": [
       "<Figure size 500x500 with 1 Axes>"
      ]
     },
     "metadata": {},
     "output_type": "display_data"
    }
   ],
   "source": [
    "sns.lmplot(x=\"at_bats\", y=\"runs\", data=mlb_df, markers=\".\", fit_reg=False)\n",
    "\n",
    "plt.show()"
   ]
  },
  {
   "cell_type": "markdown",
   "metadata": {},
   "source": [
    "A linear model would be fairly good.\n",
    "\n",
    "If the relationship looks linear, we can quantify the strength of the relationship with the correlation coefficient."
   ]
  },
  {
   "cell_type": "code",
   "execution_count": 43,
   "metadata": {},
   "outputs": [
    {
     "data": {
      "text/html": [
       "<div>\n",
       "<style scoped>\n",
       "    .dataframe tbody tr th:only-of-type {\n",
       "        vertical-align: middle;\n",
       "    }\n",
       "\n",
       "    .dataframe tbody tr th {\n",
       "        vertical-align: top;\n",
       "    }\n",
       "\n",
       "    .dataframe thead th {\n",
       "        text-align: right;\n",
       "    }\n",
       "</style>\n",
       "<table border=\"1\" class=\"dataframe\">\n",
       "  <thead>\n",
       "    <tr style=\"text-align: right;\">\n",
       "      <th></th>\n",
       "      <th>at_bats</th>\n",
       "      <th>runs</th>\n",
       "    </tr>\n",
       "  </thead>\n",
       "  <tbody>\n",
       "    <tr>\n",
       "      <th>at_bats</th>\n",
       "      <td>1.000000</td>\n",
       "      <td>0.610627</td>\n",
       "    </tr>\n",
       "    <tr>\n",
       "      <th>runs</th>\n",
       "      <td>0.610627</td>\n",
       "      <td>1.000000</td>\n",
       "    </tr>\n",
       "  </tbody>\n",
       "</table>\n",
       "</div>"
      ],
      "text/plain": [
       "          at_bats      runs\n",
       "at_bats  1.000000  0.610627\n",
       "runs     0.610627  1.000000"
      ]
     },
     "metadata": {},
     "output_type": "display_data"
    }
   ],
   "source": [
    "display(mlb_df[[\"at_bats\", \"runs\"]].corr())"
   ]
  },
  {
   "cell_type": "markdown",
   "metadata": {},
   "source": [
    "## Sum of squared residuals\n",
    "Think back to the way that we described the distribution of a single variable. Recall that we discussed characteristics such as center, spread, and shape. It’s also useful to be able to describe the relationship of two numerical variables, such as `runs` and `at_bats` above.\n",
    "\n",
    "### Exercise 2 - Looking at your plot from the previous exercise, describe the relationship between these two variables. Make sure to discuss the form, direction, and strength of the relationship as well as any unusual observations.\n",
    "\n",
    "The two variables have a weak (see the correlation coefficient which is 0.6) positive relationship.\n",
    "\n",
    "Just as we used the mean and standard deviation to summarize a single variable, we can summarize the relationship between these two variables by finding the line that best follows their association.\n",
    "\n",
    "## The linear model"
   ]
  },
  {
   "cell_type": "code",
   "execution_count": 44,
   "metadata": {},
   "outputs": [
    {
     "data": {
      "text/html": [
       "<table class=\"simpletable\">\n",
       "<caption>OLS Regression Results</caption>\n",
       "<tr>\n",
       "  <th>Dep. Variable:</th>          <td>runs</td>       <th>  R-squared:         </th> <td>   0.373</td>\n",
       "</tr>\n",
       "<tr>\n",
       "  <th>Model:</th>                   <td>OLS</td>       <th>  Adj. R-squared:    </th> <td>   0.350</td>\n",
       "</tr>\n",
       "<tr>\n",
       "  <th>Method:</th>             <td>Least Squares</td>  <th>  F-statistic:       </th> <td>   16.65</td>\n",
       "</tr>\n",
       "<tr>\n",
       "  <th>Date:</th>             <td>Sat, 27 Apr 2024</td> <th>  Prob (F-statistic):</th> <td>0.000339</td>\n",
       "</tr>\n",
       "<tr>\n",
       "  <th>Time:</th>                 <td>11:48:20</td>     <th>  Log-Likelihood:    </th> <td> -167.44</td>\n",
       "</tr>\n",
       "<tr>\n",
       "  <th>No. Observations:</th>      <td>    30</td>      <th>  AIC:               </th> <td>   338.9</td>\n",
       "</tr>\n",
       "<tr>\n",
       "  <th>Df Residuals:</th>          <td>    28</td>      <th>  BIC:               </th> <td>   341.7</td>\n",
       "</tr>\n",
       "<tr>\n",
       "  <th>Df Model:</th>              <td>     1</td>      <th>                     </th>     <td> </td>   \n",
       "</tr>\n",
       "<tr>\n",
       "  <th>Covariance Type:</th>      <td>nonrobust</td>    <th>                     </th>     <td> </td>   \n",
       "</tr>\n",
       "</table>\n",
       "<table class=\"simpletable\">\n",
       "<tr>\n",
       "      <td></td>         <th>coef</th>     <th>std err</th>      <th>t</th>      <th>P>|t|</th>  <th>[0.025</th>    <th>0.975]</th>  \n",
       "</tr>\n",
       "<tr>\n",
       "  <th>Intercept</th> <td>-2789.2429</td> <td>  853.696</td> <td>   -3.267</td> <td> 0.003</td> <td>-4537.959</td> <td>-1040.526</td>\n",
       "</tr>\n",
       "<tr>\n",
       "  <th>at_bats</th>   <td>    0.6305</td> <td>    0.155</td> <td>    4.080</td> <td> 0.000</td> <td>    0.314</td> <td>    0.947</td>\n",
       "</tr>\n",
       "</table>\n",
       "<table class=\"simpletable\">\n",
       "<tr>\n",
       "  <th>Omnibus:</th>       <td> 2.579</td> <th>  Durbin-Watson:     </th> <td>   1.524</td>\n",
       "</tr>\n",
       "<tr>\n",
       "  <th>Prob(Omnibus):</th> <td> 0.275</td> <th>  Jarque-Bera (JB):  </th> <td>   1.559</td>\n",
       "</tr>\n",
       "<tr>\n",
       "  <th>Skew:</th>          <td> 0.544</td> <th>  Prob(JB):          </th> <td>   0.459</td>\n",
       "</tr>\n",
       "<tr>\n",
       "  <th>Kurtosis:</th>      <td> 3.252</td> <th>  Cond. No.          </th> <td>3.89e+05</td>\n",
       "</tr>\n",
       "</table><br/><br/>Notes:<br/>[1] Standard Errors assume that the covariance matrix of the errors is correctly specified.<br/>[2] The condition number is large, 3.89e+05. This might indicate that there are<br/>strong multicollinearity or other numerical problems."
      ],
      "text/latex": [
       "\\begin{center}\n",
       "\\begin{tabular}{lclc}\n",
       "\\toprule\n",
       "\\textbf{Dep. Variable:}    &       runs       & \\textbf{  R-squared:         } &     0.373   \\\\\n",
       "\\textbf{Model:}            &       OLS        & \\textbf{  Adj. R-squared:    } &     0.350   \\\\\n",
       "\\textbf{Method:}           &  Least Squares   & \\textbf{  F-statistic:       } &     16.65   \\\\\n",
       "\\textbf{Date:}             & Sat, 27 Apr 2024 & \\textbf{  Prob (F-statistic):} &  0.000339   \\\\\n",
       "\\textbf{Time:}             &     11:48:20     & \\textbf{  Log-Likelihood:    } &   -167.44   \\\\\n",
       "\\textbf{No. Observations:} &          30      & \\textbf{  AIC:               } &     338.9   \\\\\n",
       "\\textbf{Df Residuals:}     &          28      & \\textbf{  BIC:               } &     341.7   \\\\\n",
       "\\textbf{Df Model:}         &           1      & \\textbf{                     } &             \\\\\n",
       "\\textbf{Covariance Type:}  &    nonrobust     & \\textbf{                     } &             \\\\\n",
       "\\bottomrule\n",
       "\\end{tabular}\n",
       "\\begin{tabular}{lcccccc}\n",
       "                   & \\textbf{coef} & \\textbf{std err} & \\textbf{t} & \\textbf{P$> |$t$|$} & \\textbf{[0.025} & \\textbf{0.975]}  \\\\\n",
       "\\midrule\n",
       "\\textbf{Intercept} &   -2789.2429  &      853.696     &    -3.267  &         0.003        &    -4537.959    &    -1040.526     \\\\\n",
       "\\textbf{at\\_bats}  &       0.6305  &        0.155     &     4.080  &         0.000        &        0.314    &        0.947     \\\\\n",
       "\\bottomrule\n",
       "\\end{tabular}\n",
       "\\begin{tabular}{lclc}\n",
       "\\textbf{Omnibus:}       &  2.579 & \\textbf{  Durbin-Watson:     } &    1.524  \\\\\n",
       "\\textbf{Prob(Omnibus):} &  0.275 & \\textbf{  Jarque-Bera (JB):  } &    1.559  \\\\\n",
       "\\textbf{Skew:}          &  0.544 & \\textbf{  Prob(JB):          } &    0.459  \\\\\n",
       "\\textbf{Kurtosis:}      &  3.252 & \\textbf{  Cond. No.          } & 3.89e+05  \\\\\n",
       "\\bottomrule\n",
       "\\end{tabular}\n",
       "%\\caption{OLS Regression Results}\n",
       "\\end{center}\n",
       "\n",
       "Notes: \\newline\n",
       " [1] Standard Errors assume that the covariance matrix of the errors is correctly specified. \\newline\n",
       " [2] The condition number is large, 3.89e+05. This might indicate that there are \\newline\n",
       " strong multicollinearity or other numerical problems."
      ],
      "text/plain": [
       "<class 'statsmodels.iolib.summary.Summary'>\n",
       "\"\"\"\n",
       "                            OLS Regression Results                            \n",
       "==============================================================================\n",
       "Dep. Variable:                   runs   R-squared:                       0.373\n",
       "Model:                            OLS   Adj. R-squared:                  0.350\n",
       "Method:                 Least Squares   F-statistic:                     16.65\n",
       "Date:                Sat, 27 Apr 2024   Prob (F-statistic):           0.000339\n",
       "Time:                        11:48:20   Log-Likelihood:                -167.44\n",
       "No. Observations:                  30   AIC:                             338.9\n",
       "Df Residuals:                      28   BIC:                             341.7\n",
       "Df Model:                           1                                         \n",
       "Covariance Type:            nonrobust                                         \n",
       "==============================================================================\n",
       "                 coef    std err          t      P>|t|      [0.025      0.975]\n",
       "------------------------------------------------------------------------------\n",
       "Intercept  -2789.2429    853.696     -3.267      0.003   -4537.959   -1040.526\n",
       "at_bats        0.6305      0.155      4.080      0.000       0.314       0.947\n",
       "==============================================================================\n",
       "Omnibus:                        2.579   Durbin-Watson:                   1.524\n",
       "Prob(Omnibus):                  0.275   Jarque-Bera (JB):                1.559\n",
       "Skew:                           0.544   Prob(JB):                        0.459\n",
       "Kurtosis:                       3.252   Cond. No.                     3.89e+05\n",
       "==============================================================================\n",
       "\n",
       "Notes:\n",
       "[1] Standard Errors assume that the covariance matrix of the errors is correctly specified.\n",
       "[2] The condition number is large, 3.89e+05. This might indicate that there are\n",
       "strong multicollinearity or other numerical problems.\n",
       "\"\"\""
      ]
     },
     "metadata": {},
     "output_type": "display_data"
    }
   ],
   "source": [
    "m1 = sm.OLS.from_formula(\"runs ~ at_bats\", data=mlb_df).fit()\n",
    "\n",
    "display(m1.summary())"
   ]
  },
  {
   "cell_type": "markdown",
   "metadata": {},
   "source": [
    "With this table, we can write down the least squares regression line for the linear model:\n",
    "\n",
    "$$\n",
    "    \\hat{runs} = -2789.2429 + 0.6305 \\times at\\_bats\n",
    "$$\n",
    "\n",
    "### Exercise 4 - Fit a new model that uses `homeruns` to predict `runs`. Using the estimates from the R output, write the equation of the regression line. What does the slope tell us in the context of the relationship between success of a team and its home runs?"
   ]
  },
  {
   "cell_type": "code",
   "execution_count": 46,
   "metadata": {},
   "outputs": [
    {
     "data": {
      "text/html": [
       "<table class=\"simpletable\">\n",
       "<caption>OLS Regression Results</caption>\n",
       "<tr>\n",
       "  <th>Dep. Variable:</th>          <td>runs</td>       <th>  R-squared:         </th> <td>   0.627</td>\n",
       "</tr>\n",
       "<tr>\n",
       "  <th>Model:</th>                   <td>OLS</td>       <th>  Adj. R-squared:    </th> <td>   0.613</td>\n",
       "</tr>\n",
       "<tr>\n",
       "  <th>Method:</th>             <td>Least Squares</td>  <th>  F-statistic:       </th> <td>   46.98</td>\n",
       "</tr>\n",
       "<tr>\n",
       "  <th>Date:</th>             <td>Sat, 27 Apr 2024</td> <th>  Prob (F-statistic):</th> <td>1.90e-07</td>\n",
       "</tr>\n",
       "<tr>\n",
       "  <th>Time:</th>                 <td>11:49:13</td>     <th>  Log-Likelihood:    </th> <td> -159.66</td>\n",
       "</tr>\n",
       "<tr>\n",
       "  <th>No. Observations:</th>      <td>    30</td>      <th>  AIC:               </th> <td>   323.3</td>\n",
       "</tr>\n",
       "<tr>\n",
       "  <th>Df Residuals:</th>          <td>    28</td>      <th>  BIC:               </th> <td>   326.1</td>\n",
       "</tr>\n",
       "<tr>\n",
       "  <th>Df Model:</th>              <td>     1</td>      <th>                     </th>     <td> </td>   \n",
       "</tr>\n",
       "<tr>\n",
       "  <th>Covariance Type:</th>      <td>nonrobust</td>    <th>                     </th>     <td> </td>   \n",
       "</tr>\n",
       "</table>\n",
       "<table class=\"simpletable\">\n",
       "<tr>\n",
       "      <td></td>         <th>coef</th>     <th>std err</th>      <th>t</th>      <th>P>|t|</th>  <th>[0.025</th>    <th>0.975]</th>  \n",
       "</tr>\n",
       "<tr>\n",
       "  <th>Intercept</th> <td>  415.2389</td> <td>   41.678</td> <td>    9.963</td> <td> 0.000</td> <td>  329.866</td> <td>  500.612</td>\n",
       "</tr>\n",
       "<tr>\n",
       "  <th>homeruns</th>  <td>    1.8345</td> <td>    0.268</td> <td>    6.854</td> <td> 0.000</td> <td>    1.286</td> <td>    2.383</td>\n",
       "</tr>\n",
       "</table>\n",
       "<table class=\"simpletable\">\n",
       "<tr>\n",
       "  <th>Omnibus:</th>       <td> 0.700</td> <th>  Durbin-Watson:     </th> <td>   0.970</td>\n",
       "</tr>\n",
       "<tr>\n",
       "  <th>Prob(Omnibus):</th> <td> 0.705</td> <th>  Jarque-Bera (JB):  </th> <td>   0.736</td>\n",
       "</tr>\n",
       "<tr>\n",
       "  <th>Skew:</th>          <td> 0.165</td> <th>  Prob(JB):          </th> <td>   0.692</td>\n",
       "</tr>\n",
       "<tr>\n",
       "  <th>Kurtosis:</th>      <td> 2.307</td> <th>  Cond. No.          </th> <td>    693.</td>\n",
       "</tr>\n",
       "</table><br/><br/>Notes:<br/>[1] Standard Errors assume that the covariance matrix of the errors is correctly specified."
      ],
      "text/latex": [
       "\\begin{center}\n",
       "\\begin{tabular}{lclc}\n",
       "\\toprule\n",
       "\\textbf{Dep. Variable:}    &       runs       & \\textbf{  R-squared:         } &     0.627   \\\\\n",
       "\\textbf{Model:}            &       OLS        & \\textbf{  Adj. R-squared:    } &     0.613   \\\\\n",
       "\\textbf{Method:}           &  Least Squares   & \\textbf{  F-statistic:       } &     46.98   \\\\\n",
       "\\textbf{Date:}             & Sat, 27 Apr 2024 & \\textbf{  Prob (F-statistic):} &  1.90e-07   \\\\\n",
       "\\textbf{Time:}             &     11:49:13     & \\textbf{  Log-Likelihood:    } &   -159.66   \\\\\n",
       "\\textbf{No. Observations:} &          30      & \\textbf{  AIC:               } &     323.3   \\\\\n",
       "\\textbf{Df Residuals:}     &          28      & \\textbf{  BIC:               } &     326.1   \\\\\n",
       "\\textbf{Df Model:}         &           1      & \\textbf{                     } &             \\\\\n",
       "\\textbf{Covariance Type:}  &    nonrobust     & \\textbf{                     } &             \\\\\n",
       "\\bottomrule\n",
       "\\end{tabular}\n",
       "\\begin{tabular}{lcccccc}\n",
       "                   & \\textbf{coef} & \\textbf{std err} & \\textbf{t} & \\textbf{P$> |$t$|$} & \\textbf{[0.025} & \\textbf{0.975]}  \\\\\n",
       "\\midrule\n",
       "\\textbf{Intercept} &     415.2389  &       41.678     &     9.963  &         0.000        &      329.866    &      500.612     \\\\\n",
       "\\textbf{homeruns}  &       1.8345  &        0.268     &     6.854  &         0.000        &        1.286    &        2.383     \\\\\n",
       "\\bottomrule\n",
       "\\end{tabular}\n",
       "\\begin{tabular}{lclc}\n",
       "\\textbf{Omnibus:}       &  0.700 & \\textbf{  Durbin-Watson:     } &    0.970  \\\\\n",
       "\\textbf{Prob(Omnibus):} &  0.705 & \\textbf{  Jarque-Bera (JB):  } &    0.736  \\\\\n",
       "\\textbf{Skew:}          &  0.165 & \\textbf{  Prob(JB):          } &    0.692  \\\\\n",
       "\\textbf{Kurtosis:}      &  2.307 & \\textbf{  Cond. No.          } &     693.  \\\\\n",
       "\\bottomrule\n",
       "\\end{tabular}\n",
       "%\\caption{OLS Regression Results}\n",
       "\\end{center}\n",
       "\n",
       "Notes: \\newline\n",
       " [1] Standard Errors assume that the covariance matrix of the errors is correctly specified."
      ],
      "text/plain": [
       "<class 'statsmodels.iolib.summary.Summary'>\n",
       "\"\"\"\n",
       "                            OLS Regression Results                            \n",
       "==============================================================================\n",
       "Dep. Variable:                   runs   R-squared:                       0.627\n",
       "Model:                            OLS   Adj. R-squared:                  0.613\n",
       "Method:                 Least Squares   F-statistic:                     46.98\n",
       "Date:                Sat, 27 Apr 2024   Prob (F-statistic):           1.90e-07\n",
       "Time:                        11:49:13   Log-Likelihood:                -159.66\n",
       "No. Observations:                  30   AIC:                             323.3\n",
       "Df Residuals:                      28   BIC:                             326.1\n",
       "Df Model:                           1                                         \n",
       "Covariance Type:            nonrobust                                         \n",
       "==============================================================================\n",
       "                 coef    std err          t      P>|t|      [0.025      0.975]\n",
       "------------------------------------------------------------------------------\n",
       "Intercept    415.2389     41.678      9.963      0.000     329.866     500.612\n",
       "homeruns       1.8345      0.268      6.854      0.000       1.286       2.383\n",
       "==============================================================================\n",
       "Omnibus:                        0.700   Durbin-Watson:                   0.970\n",
       "Prob(Omnibus):                  0.705   Jarque-Bera (JB):                0.736\n",
       "Skew:                           0.165   Prob(JB):                        0.692\n",
       "Kurtosis:                       2.307   Cond. No.                         693.\n",
       "==============================================================================\n",
       "\n",
       "Notes:\n",
       "[1] Standard Errors assume that the covariance matrix of the errors is correctly specified.\n",
       "\"\"\""
      ]
     },
     "metadata": {},
     "output_type": "display_data"
    }
   ],
   "source": [
    "m2 = sm.OLS.from_formula(\"runs ~ homeruns\", data=mlb_df).fit()\n",
    "\n",
    "display(m2.summary())"
   ]
  },
  {
   "cell_type": "markdown",
   "metadata": {},
   "source": [
    "$$\n",
    "    \\hat{run} = 5.6334 + 3.1549 \\times home\\_run\n",
    "$$\n",
    "\n",
    "The slope tells us that at each unitary increase in home_run, run increase by 3.1549.\n",
    "\n",
    "## Prediction and prediction errors\n",
    "\n",
    "Let’s create a scatterplot with the least squares line laid on top.\n"
   ]
  },
  {
   "cell_type": "code",
   "execution_count": 47,
   "metadata": {},
   "outputs": [
    {
     "data": {
      "image/png": "[encoded data removed]",
      "text/plain": [
       "<Figure size 500x500 with 1 Axes>"
      ]
     },
     "metadata": {},
     "output_type": "display_data"
    }
   ],
   "source": [
    "sns.lmplot(x=\"at_bats\", y=\"runs\", data=mlb_df, markers=\".\", fit_reg=True)\n",
    "\n",
    "plt.show()"
   ]
  },
  {
   "cell_type": "markdown",
   "metadata": {},
   "source": [
    "This line can be used to predict y at any value of x. When predictions are made for values of x that are beyond the range of the observed data, it is referred to as _extrapolation_ and is not usually recommended. However, predictions made within the range of the data are more reliable. They’re also used to compute the residuals.\n",
    "\n",
    "### Exercise 5 - If a team manager saw the least squares regression line and not the actual data, how many runs would he or she predict for a team with 5,578 at-bats? Is this an overestimate or an underestimate, and by how much? In other words, what is the residual for this prediction?\n",
    "\n",
    "Let's plot the residuals."
   ]
  },
  {
   "cell_type": "code",
   "execution_count": 82,
   "metadata": {},
   "outputs": [
    {
     "data": {
      "image/png": "[encoded data removed]",
      "text/plain": [
       "<Figure size 640x480 with 1 Axes>"
      ]
     },
     "metadata": {},
     "output_type": "display_data"
    }
   ],
   "source": [
    "sns.residplot(\n",
    "    x=\"at_bats\", \n",
    "    y=\"runs\", \n",
    "    data=mlb_df, \n",
    "    lowess=True, \n",
    "    scatter_kws={\n",
    "        \"marker\": \".\"\n",
    "    }\n",
    ")\n",
    "\n",
    "plt.show()"
   ]
  },
  {
   "cell_type": "markdown",
   "metadata": {},
   "source": [
    "From the residual plot, we csan say we would be overestimating.\n",
    "\n",
    "## Model diagnostics\n",
    "To assess whether the linear model is reliable, we need to check for (1) linearity, (2) nearly normal residuals, and (3) constant variability.\n",
    "\n",
    "1. Linearity: You already checked if the relationship between runs and at-bats is linear using a scatterplot. We should also verify this condition with a plot of the residuals vs. at-bats.\n"
   ]
  },
  {
   "cell_type": "code",
   "execution_count": null,
   "metadata": {},
   "outputs": [],
   "source": []
  }
 ],
 "metadata": {
  "kernelspec": {
   "display_name": "ds",
   "language": "python",
   "name": "python3"
  },
  "language_info": {
   "codemirror_mode": {
    "name": "ipython",
    "version": 3
   },
   "file_extension": ".py",
   "mimetype": "text/x-python",
   "name": "python",
   "nbconvert_exporter": "python",
   "pygments_lexer": "ipython3",
   "version": "3.12.3"
  }
 },
 "nbformat": 4,
 "nbformat_minor": 2
}
