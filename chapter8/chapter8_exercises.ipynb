{
 "cells": [
  {
   "cell_type": "markdown",
   "metadata": {},
   "source": [
    "# Chapter 8: Introduction to Linear Regression"
   ]
  },
  {
   "cell_type": "markdown",
   "metadata": {},
   "source": [
    "### Exercise 8.1 - Visualize the residuals.\n",
    "\n",
    "If for observation _i_ the residual is computed as $\\epsilon_i = y_i - \\hat{y_i}$ and $\\hat{y_i} = a + bx_i$ then we would have $\\epsilon_i = y_i - a - bx_i$. A plot would look like a horizontal line, with all observation scattered around it."
   ]
  },
  {
   "cell_type": "markdown",
   "metadata": {},
   "source": [
    "### Exercise 8.2 - Trends in the residuals.\n",
    "\n",
    "For the first plot, the residuals seem to be linearly scattered around the fitting line, therefore a linear model would be legit, while for the second, given the initial slope, a linear model might not be a good fit."
   ]
  },
  {
   "cell_type": "markdown",
   "metadata": {},
   "source": [
    "### Exercise 8.3 - Identify relationships, Part I.\n",
    "\n",
    "(a) Strong relationship, but not linear.\n",
    "\n",
    "(b) Strong relationship, linear model legit.\n",
    "\n",
    "(c) Weak relationship, we can use a linear model but residuals would be very big.\n",
    "\n",
    "(d) Moderate relationship, but not linear.\n",
    "\n",
    "(e) Strong negative relationship, linear model legit.\n",
    "\n",
    "(f) Weak relationship, linear model is advised against as the residuals would still be big.\n"
   ]
  },
  {
   "cell_type": "markdown",
   "metadata": {},
   "source": [
    "### Exercise 8.4 - Identify relationships, Part II.\n",
    "\n",
    "(a) Strong relationship, but not linear.\n",
    "\n",
    "(b) Strong relationship, but not linear.\n",
    "\n",
    "(c) Strong and linear relationship.\n",
    "\n",
    "(d) Weak but linear relationship (you can visualize a trend but residuals will be big).\n",
    "\n",
    "(e) Weak but (negatively) linear relationship (you can visualize a trend but residuals will be big).\n",
    "\n",
    "(f) Moderate and negatively linear relationship."
   ]
  },
  {
   "cell_type": "markdown",
   "metadata": {},
   "source": [
    "### Exercise 8.5 - Exams and grades.\n",
    "\n",
    "(a) Visually, Exam 2 has the highest correlation with the Final exam, since the points are closer to the line than the points in Exam 1.\n",
    "(b) A reason might be that the closer the final is, the more the students prepare, and therefore the Exam 2 is a better predictor."
   ]
  },
  {
   "cell_type": "markdown",
   "metadata": {},
   "source": [
    "### Exercise 8.6 - Husbands and wives, Part I.\n",
    "\n",
    "(a) There seem to be a strong linear relationship between husbands' and wives' ages.\n",
    "\n",
    "(b) The relationship between husbands' and wives' heights is weakly linear, but still shows a trend.\n",
    "\n",
    "(c) The first plot shows the strongest correlation, being that the observations almost approximate a straight line.\n",
    "\n",
    "(d) Given that the relationship between centimeters and inches is linear, the conversion would not affect the correlation."
   ]
  },
  {
   "cell_type": "markdown",
   "metadata": {},
   "source": [
    "### Exercise 8.7 - Match the correlation, Part I.\n",
    "\n",
    "(a) Plot (4) has $R = -0.7$.\n",
    "\n",
    "(b) Plot (3) has $R = 0.45$.\n",
    "\n",
    "(c) Plot (1) has $R = 0.06$.\n",
    "\n",
    "(d) Plot (2) has $R = 0.92$."
   ]
  },
  {
   "cell_type": "markdown",
   "metadata": {},
   "source": [
    "### Exercise 8.7 - Match the correlation, Part II.\n",
    "\n",
    "(a) Plot (2) has $R = 0.49$.\n",
    "\n",
    "(b) Plot (4) has $R = -0.48$.\n",
    "\n",
    "(c) Plot (3) has $R = -0.03$.\n",
    "\n",
    "(d) Plot (1) has $R = -0.85$."
   ]
  },
  {
   "cell_type": "markdown",
   "metadata": {},
   "source": [
    "### Exercise 8.9 - Speed and height.\n",
    "\n",
    "(a) There is a weak yet positive linear relationship.\n",
    "\n",
    "(b) I think that being taller means being able to see the road better thus being more confident.\n",
    "\n",
    "(c) Females tend to be shorter than males, therefore their line is steeper than the males' one."
   ]
  },
  {
   "cell_type": "markdown",
   "metadata": {},
   "source": []
  }
 ],
 "metadata": {
  "kernelspec": {
   "display_name": "base",
   "language": "python",
   "name": "python3"
  },
  "language_info": {
   "name": "python",
   "version": "3.11.5"
  },
  "orig_nbformat": 4
 },
 "nbformat": 4,
 "nbformat_minor": 2
}
