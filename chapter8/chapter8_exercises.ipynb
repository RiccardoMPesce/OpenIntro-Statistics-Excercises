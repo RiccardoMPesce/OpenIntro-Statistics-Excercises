{
 "cells": [
  {
   "cell_type": "markdown",
   "metadata": {},
   "source": [
    "# Chapter 8: Introduction to Linear Regression"
   ]
  },
  {
   "cell_type": "markdown",
   "metadata": {},
   "source": [
    "### Exercise 8.1 - Visualize the residuals.\n",
    "\n",
    "If for observation _i_ the residual is computed as $\\epsilon_i = y_i - \\hat{y_i}$ and $\\hat{y_i} = a + bx_i$ then we would have $\\epsilon = y_i - a - bx_i$. The plot therefore would look like a line with intercept as $y_i - a$ and coefficient $-b$."
   ]
  },
  {
   "cell_type": "markdown",
   "metadata": {},
   "source": []
  }
 ],
 "metadata": {
  "kernelspec": {
   "display_name": "base",
   "language": "python",
   "name": "python3"
  },
  "language_info": {
   "name": "python",
   "version": "3.11.5"
  },
  "orig_nbformat": 4
 },
 "nbformat": 4,
 "nbformat_minor": 2
}
