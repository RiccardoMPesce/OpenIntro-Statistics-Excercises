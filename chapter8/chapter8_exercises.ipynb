{
 "cells": [
  {
   "cell_type": "markdown",
   "metadata": {},
   "source": [
    "# Chapter 8: Introduction to Linear Regression"
   ]
  },
  {
   "cell_type": "markdown",
   "metadata": {},
   "source": [
    "### Exercise 8.1 - Visualize the residuals.\n",
    "\n",
    "If for observation _i_ the residual is computed as $\\epsilon_i = y_i - \\hat{y_i}$ and $\\hat{y_i} = a + bx_i$ then we would have $\\epsilon_i = y_i - a - bx_i$. A plot would look like a horizontal line, with all observation scattered around it."
   ]
  },
  {
   "cell_type": "markdown",
   "metadata": {},
   "source": [
    "### Exercise 8.2 - Trends in the residuals.\n",
    "\n",
    "For the first plot, the residuals seem to be linearly scattered around the fitting line, therefore a linear model would be legit, while for the second, given the initial slope, a linear model might not be a good fit."
   ]
  },
  {
   "cell_type": "markdown",
   "metadata": {},
   "source": [
    "### Exercise 8.3 - Identify relationships, Part I.\n",
    "\n",
    "(a) Strong relationship, but not linear.\n",
    "\n",
    "(b) Strong relationship, linear model legit.\n",
    "\n",
    "(c) Weak relationship, we can use a linear model but residuals would be very big.\n",
    "\n",
    "(d) Moderate relationship, but not linear.\n",
    "\n",
    "(e) Strong negative relationship, linear model legit.\n",
    "\n",
    "(f) Weak relationship, linear model is advised against as the residuals would still be big.\n"
   ]
  },
  {
   "cell_type": "markdown",
   "metadata": {},
   "source": [
    "### Exercise 8.4 - Identify relationships, Part II.\n",
    "\n",
    "(a) Strong relationship, but not linear.\n",
    "\n",
    "(b) Strong relationship, but not linear.\n",
    "\n",
    "(c) Strong and linear relationship.\n",
    "\n",
    "(d) Weak but linear relationship (you can visualize a trend but residuals will be big).\n",
    "\n",
    "(e) Weak but (negatively) linear relationship (you can visualize a trend but residuals will be big).\n",
    "\n",
    "(f) Moderate and negatively linear relationship."
   ]
  },
  {
   "cell_type": "markdown",
   "metadata": {},
   "source": [
    "### Exercise 8.5 - Exams and grades.\n",
    "\n",
    "(a) Visually, Exam 2 has the highest correlation with the Final exam, since the points are closer to the line than the points in Exam 1.\n",
    "(b) A reason might be that the closer the final is, the more the students prepare, and therefore the Exam 2 is a better predictor."
   ]
  },
  {
   "cell_type": "markdown",
   "metadata": {},
   "source": [
    "### Exercise 8.6 - Husbands and wives, Part I.\n",
    "\n",
    "(a) There seem to be a strong linear relationship between husbands' and wives' ages.\n",
    "\n",
    "(b) The relationship between husbands' and wives' heights is weakly linear, but still shows a trend.\n",
    "\n",
    "(c) The first plot shows the strongest correlation, being that the observations almost approximate a straight line.\n",
    "\n",
    "(d) Given that the relationship between centimeters and inches is linear, the conversion would not affect the correlation."
   ]
  },
  {
   "cell_type": "markdown",
   "metadata": {},
   "source": [
    "### Exercise 8.7 - Match the correlation, Part I.\n",
    "\n",
    "(a) Plot (4) has $R = -0.7$.\n",
    "\n",
    "(b) Plot (3) has $R = 0.45$.\n",
    "\n",
    "(c) Plot (1) has $R = 0.06$.\n",
    "\n",
    "(d) Plot (2) has $R = 0.92$."
   ]
  },
  {
   "cell_type": "markdown",
   "metadata": {},
   "source": [
    "### Exercise 8.7 - Match the correlation, Part II.\n",
    "\n",
    "(a) Plot (2) has $R = 0.49$.\n",
    "\n",
    "(b) Plot (4) has $R = -0.48$.\n",
    "\n",
    "(c) Plot (3) has $R = -0.03$.\n",
    "\n",
    "(d) Plot (1) has $R = -0.85$."
   ]
  },
  {
   "cell_type": "markdown",
   "metadata": {},
   "source": [
    "### Exercise 8.9 - Speed and height.\n",
    "\n",
    "(a) There is a weak yet positive linear relationship.\n",
    "\n",
    "(b) I think that being taller means being able to see the road better thus being more confident.\n",
    "\n",
    "(c) Females tend to be shorter than males, therefore their line is steeper than the males' one."
   ]
  },
  {
   "cell_type": "markdown",
   "metadata": {},
   "source": [
    "### Exercise 8.10 - Guess the correlation.\n",
    "\n",
    "Being the centimeters to inches (and vice versa) conversion linear, their coefficients would be the same."
   ]
  },
  {
   "cell_type": "markdown",
   "metadata": {},
   "source": [
    "### Exercise 8.11 - The Coast Starlight, Part I.\n",
    "\n",
    "(a) There is a weak yet linear relationship.\n",
    "\n",
    "(b) The axes would scale up or down accordingly, but the relationship would stay the same.\n",
    "\n",
    "(c) Same."
   ]
  },
  {
   "cell_type": "markdown",
   "metadata": {},
   "source": [
    "### Exercise 8.12 - Crawling babies, Part I.\n",
    "\n",
    "(a) There is a weak and negatively linear relationship.\n",
    "\n",
    "(b) The relationship would still be the same as the conversion from Celsius to Fahrenheit is linear.\n",
    "\n",
    "(c) Same."
   ]
  },
  {
   "cell_type": "markdown",
   "metadata": {},
   "source": [
    "### Exercise 8.13 - Body measurements, Part I. \n",
    "\n",
    "(a) There seem to be a moderate and positive linear relationship.\n",
    "\n",
    "(b) The relationship would still be positive and linear."
   ]
  },
  {
   "cell_type": "markdown",
   "metadata": {},
   "source": [
    "### Exercise 8.14 - Body measurements, Part II.\n",
    "\n",
    "(a) There is a quite strong positive relationship.\n",
    "\n",
    "(b) The relationship would still be strongly positive and linear."
   ]
  },
  {
   "cell_type": "markdown",
   "metadata": {},
   "source": [
    "### Exercise 8.15 - Correlation, Part I.\n",
    "\n",
    "In all cases, given that the ages can be expressed with a linear relationship, they would fall on a straight line, and therefore we would have the maximum positive correlation for all, i.e. $R = 1$."
   ]
  },
  {
   "cell_type": "markdown",
   "metadata": {},
   "source": [
    "### Exercise 8.16 - Correlation, Part II.\n",
    "\n",
    "Even in these three cases, given the linear relationship between the salaries of the two groups, $R = 1$."
   ]
  },
  {
   "cell_type": "markdown",
   "metadata": {},
   "source": [
    "### Exercise 8.17 - Units of regression.\n",
    "\n",
    "The correlation coefficient won't have unit of measure. Slope will be in $\\frac{cm}{kg}$ and intercept is is $cm$."
   ]
  },
  {
   "cell_type": "markdown",
   "metadata": {},
   "source": [
    "### Exercise 8.18 - Which is higher?\n",
    "\n",
    "For a regression line, the uncertainty associated with the slope estimate, b1, is higher when there is a lot of scatter around the regression line. This is due to the fact that the $R^2$ will be lower as the least square line will explain less variance than when the points are closer to it."
   ]
  },
  {
   "cell_type": "markdown",
   "metadata": {},
   "source": [
    "### Exercise 8.19 - Over-under, Part I.\n",
    "\n",
    "We slightly under-estimated the shelf-life of such apple."
   ]
  },
  {
   "cell_type": "markdown",
   "metadata": {},
   "source": [
    "### Exercise 8.20 - Over-under, Part II.\n",
    "\n",
    "We slightly over-estimated the incidence of skin cancer."
   ]
  },
  {
   "cell_type": "markdown",
   "metadata": {},
   "source": [
    "### Exercise 8.21 - Tourism spending.\n",
    "\n",
    "(a) Clearly, the more tourists there are, the more the tourism spending grows, as depicted from the first plot.\n",
    "(b) The x-axis contains the explanatory variable (number of tourists in such case), while the y-axis contains the response variable.\n",
    "(c) We can see that the relationship is well described by a straight line, so the linear regression model would be a good fit for this problem.\n",
    "(d) Yes, since the residuals are nearly normally distributed."
   ]
  },
  {
   "cell_type": "markdown",
   "metadata": {},
   "source": [
    "### Exercise 8.22 - Nutrition at Starbucks, Part I.\n",
    "\n",
    "(a) The more is the number of calories, the higher the carbs.\n",
    "(b) Calories and carbs, respectively.\n",
    "(c) The relationship is approximately linear.\n",
    "(d) Even here, residuals are normally distributed.\n"
   ]
  },
  {
   "cell_type": "markdown",
   "metadata": {},
   "source": [
    "### Exercise 8.23 - The Coast Starlight, Part II.\n",
    "\n",
    "Let's remember that the slope is $b_1 = \\frac{s_y}{s_x} R$ and the point-slope equation is $y - \\bar{y} = b_1 (x - \\bar{x})$ which translates to $b_0 = \\bar{y} - b_1\\bar{x}$.\n",
    "\n",
    "(a) Regressions line is $time = 0.726 * distance + 128.274$.\n",
    "\n",
    "(b) Slope is the mean variation of time in minutes that happens when the distance increases by one mile. Intercept is the mean travel time is zero (which does not make sense for the purpose of the problem).\n",
    "\n",
    "(c) $R^2 = 0.404$ which means that the regression line explains the 40.4% of variance of the data.\n",
    "\n",
    "(d) $y_{SBLA} = 203.046$.\n",
    "\n",
    "(e) $e_{SBLA} = 168 - 203 = -35$, which means that we overestimated the travel time by 35 minutes.\n",
    "\n",
    "(f) I think we cannot use it as the route is totally different even if the new distance will be shorter that Seattle to Los Angeles."
   ]
  },
  {
   "cell_type": "markdown",
   "metadata": {},
   "source": [
    "### Exercise 8.24 - Body measurements, Part III.\n",
    "\n",
    "(a) Regression line is $height = 0.61 * should_grit + 170.53$.\n",
    "\n",
    "(b) The slope is the mean increase of height (in cm) that happens with a increase of 1cm of the shoulder grit.\n",
    "\n",
    "(c) $R^2 = 0.45$ which means that 45% of the variance in height is explained by the variance of the shoulder grit.\n",
    "\n",
    "(d) $y_{100} = 231.33$.\n",
    "\n",
    "(e) $e_{100} = 160 - 231.33 = -71.33$ which means that we over estimated the height based on the shoulder grit by -71.33 cm.\n",
    "\n",
    "(f) Not at all."
   ]
  },
  {
   "cell_type": "code",
   "execution_count": 11,
   "metadata": {},
   "outputs": [],
   "source": [
    "class BasicRegressorSolver:\n",
    "    def __init__(self) -> None:\n",
    "        pass\n",
    "\n",
    "    def set_r(self, r : float):\n",
    "        self.__r = r\n",
    "        return self\n",
    "\n",
    "    def set_x_stats(self, x_mean : float, x_std : float):\n",
    "        self.__x_mean = x_mean\n",
    "        self.__x_std = x_std\n",
    "        return self\n",
    "\n",
    "    def set_y_stats(self, y_mean : float, y_std : float):\n",
    "        self.__y_mean = y_mean\n",
    "        self.__y_std = y_std\n",
    "        return self\n",
    "    \n",
    "    def solve(self):\n",
    "        self.__slope = (self.__y_std / self.__x_std) * self.__r\n",
    "        self.__intercept = self.__y_mean - (self.__slope)\n",
    "        return self \n",
    "    \n",
    "    def predict(self, x_hat : float) -> float:\n",
    "        return self.__slope * x_hat + self.__intercept \n",
    "    \n",
    "    def __str__(self):\n",
    "        return f\"\"\"\n",
    "        Regression equation: y = {self.__slope}x {'-' if self.__intercept < 0 else '+'} {abs(self.__intercept)}\n",
    "        R {self.__r} and R-squared {self.__r ** 2}\n",
    "        \"\"\"\n",
    "    \n",
    "    def __repr__(self):\n",
    "        return f\"\"\"\n",
    "        Regression equation: y = {self.__slope} * x {'-' if self.__intercept < 0 else '+'} {abs(self.__intercept)}\n",
    "        R {self.__r} and R-squared {self.__r ** 2}\n",
    "        \"\"\".strip()\n"
   ]
  },
  {
   "cell_type": "markdown",
   "metadata": {},
   "source": [
    "### Exercise 8.25 - Murders and poverty, Part I.\n",
    "\n",
    "(a) $annual\\_murders\\_per\\_million = 2.559 * poverty\\% - 29.901$.\n",
    "\n",
    "(b) When $poverty% = 0$, the intercept is the response, i.e. how many millions of murders.\n",
    "\n",
    "(c) The slope represent the increase in million of murders when the poverty percentage increases by one unit.\n",
    "\n",
    "(d) The $R^2$ represents the amount of variance explained by the percentage of poverty.\n",
    "\n",
    "(e) $R = 0.8398$."
   ]
  },
  {
   "cell_type": "markdown",
   "metadata": {},
   "source": [
    "### Exercise 8.26 - Cats, Part I.\n",
    "\n",
    "(a) $hw = 4.034 * bw - 0.357$.\n",
    "\n",
    "(b) Intercept represents the heart weight when body weight is zero.\n",
    "\n",
    "(c) THe slope represents the average increase of heart weight when body weight increases by one kilogram.\n",
    "\n",
    "(d) The $R^2$ represents the amount of variance in the response explained by the regression line.\n",
    "\n",
    "(e) $R = 0.8041$."
   ]
  },
  {
   "cell_type": "markdown",
   "metadata": {},
   "source": [
    "### Exercise 8.27 - Outliers, Part I.\n",
    "\n",
    "(a) Influential outlier, since it is horizontally far from the main cloud and is thus pulling the regression line.\n",
    "\n",
    "(b) Non influential outlier, since its absence would have gotten the same regression line.\n",
    "\n",
    "(c) Non influential outlier, since its presence is only slightly moving up the line."
   ]
  },
  {
   "cell_type": "markdown",
   "metadata": {},
   "source": [
    "### Exercise 8.28 - Outliers, Part II.\n",
    "\n",
    "(a) Influential outlier, since it is significantly pulling the regression line.\n",
    "\n",
    "(b) Non influential outlier (low leverage), since the line is just slightly moved.\n",
    "\n",
    "(c) Low leverage outlier, since the line still lies on the main cloud of points."
   ]
  },
  {
   "cell_type": "markdown",
   "metadata": {},
   "source": [
    "### Exercise 8.29 - Urban homeowners, Part I.\n",
    "\n",
    "(a) There is clearly a negative trend in the relationship between the two variables, which clearly states that the more people are living in urban areas, the less they are owning their home.\n",
    "\n",
    "(b) This outlier is a low leverage one as it wouldn't influence the regression line much."
   ]
  },
  {
   "cell_type": "markdown",
   "metadata": {},
   "source": [
    "### Exercise 8.30 - Crawling babies, Part II.\n",
    "\n",
    "It's high leverage but not influential."
   ]
  },
  {
   "cell_type": "markdown",
   "metadata": {},
   "source": [
    "### Exercise 8.31 - Body measurements, Part IV.\n",
    "\n",
    "(a) The relationship between height and weight seems to be positive.\n",
    "\n",
    "(b) $w = -105.0113 + 1.0176 * h$. This means that for an unitary (in cm) increase in height the weight increases by 1.0176 kg. The intercept means that for an height of -105.0113 we have a weight of 0.\n",
    "\n",
    "(c) The null hypothesis is that the slope (i.e. the height parameter) is zero, the alternative hypothesis is that the slope is not zero. The p-value is nearly 0, therefore we can reject the null hypothesis in favor of the alternative hypothesis.\n",
    "\n",
    "(d) $R^2 = 0.5184$, this is the amount of variance explained by the regression model."
   ]
  },
  {
   "cell_type": "markdown",
   "metadata": {},
   "source": [
    "### Exercise 8.32 - Beer and blood alcohol content."
   ]
  },
  {
   "cell_type": "markdown",
   "metadata": {},
   "source": []
  }
 ],
 "metadata": {
  "kernelspec": {
   "display_name": "base",
   "language": "python",
   "name": "python3"
  },
  "language_info": {
   "codemirror_mode": {
    "name": "ipython",
    "version": 3
   },
   "file_extension": ".py",
   "mimetype": "text/x-python",
   "name": "python",
   "nbconvert_exporter": "python",
   "pygments_lexer": "ipython3",
   "version": "3.1.0"
  },
  "orig_nbformat": 4
 },
 "nbformat": 4,
 "nbformat_minor": 2
}
